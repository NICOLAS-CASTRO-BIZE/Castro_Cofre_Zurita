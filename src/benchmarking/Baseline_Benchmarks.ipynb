{
 "cells": [
  {
   "cell_type": "markdown",
   "metadata": {},
   "source": [
    "# BENCHMARKING\n",
    "\n"
   ]
  },
  {
   "cell_type": "markdown",
   "metadata": {},
   "source": [
    "Carga de Variables de entorno"
   ]
  },
  {
   "cell_type": "code",
   "execution_count": 2,
   "metadata": {},
   "outputs": [
    {
     "data": {
      "text/plain": [
       "True"
      ]
     },
     "execution_count": 2,
     "metadata": {},
     "output_type": "execute_result"
    }
   ],
   "source": [
    "from dotenv import load_dotenv\n",
    "load_dotenv()"
   ]
  },
  {
   "cell_type": "markdown",
   "metadata": {},
   "source": [
    "### 1.- Pipeline RAG Baseline"
   ]
  },
  {
   "cell_type": "markdown",
   "metadata": {},
   "source": [
    "Carga de Documento"
   ]
  },
  {
   "cell_type": "code",
   "execution_count": 3,
   "metadata": {},
   "outputs": [],
   "source": [
    "from langchain_community.document_loaders import PyPDFLoader\n",
    "from dotenv import load_dotenv\n",
    "\n",
    "load_dotenv()\n",
    "\n",
    "file_path = (\n",
    "    \"../../data/biblioteca-de-alimentos.pdf\"\n",
    ")\n",
    "loader = PyPDFLoader(file_path)\n",
    "docs = loader.load()"
   ]
  },
  {
   "cell_type": "markdown",
   "metadata": {},
   "source": [
    "Chunking"
   ]
  },
  {
   "cell_type": "code",
   "execution_count": 4,
   "metadata": {},
   "outputs": [],
   "source": [
    "from langchain_text_splitters import RecursiveCharacterTextSplitter\n",
    "\n",
    "text_splitter = RecursiveCharacterTextSplitter(chunk_size=250, chunk_overlap=50)\n",
    "splits = text_splitter.split_documents(docs)"
   ]
  },
  {
   "cell_type": "markdown",
   "metadata": {},
   "source": [
    "Creación de Embeddings"
   ]
  },
  {
   "cell_type": "code",
   "execution_count": 5,
   "metadata": {},
   "outputs": [],
   "source": [
    "from langchain_ollama import OllamaEmbeddings\n",
    "from langchain_openai import OpenAIEmbeddings\n",
    "import os\n",
    "#embeddings = OllamaEmbeddings(model=\"llama3\")\n",
    "embeddings = OpenAIEmbeddings(model=\"text-embedding-3-small\",\n",
    "                            )"
   ]
  },
  {
   "cell_type": "markdown",
   "metadata": {},
   "source": [
    "Creación de Base de Datos Vectorial y Método de Retrieval"
   ]
  },
  {
   "cell_type": "code",
   "execution_count": 6,
   "metadata": {},
   "outputs": [
    {
     "name": "stderr",
     "output_type": "stream",
     "text": [
      "c:\\Users\\nicol\\AppData\\Local\\Programs\\Python\\Python312\\Lib\\site-packages\\tqdm\\auto.py:21: TqdmWarning: IProgress not found. Please update jupyter and ipywidgets. See https://ipywidgets.readthedocs.io/en/stable/user_install.html\n",
      "  from .autonotebook import tqdm as notebook_tqdm\n"
     ]
    }
   ],
   "source": [
    "from langchain_qdrant import QdrantVectorStore\n",
    "from langchain_qdrant import RetrievalMode\n",
    "\n",
    "qdrant = QdrantVectorStore.from_documents(\n",
    "    splits,\n",
    "    embedding=embeddings,\n",
    "    location=\":memory:\",\n",
    "    collection_name=\"my_documents\",\n",
    "    retrieval_mode=RetrievalMode.DENSE,\n",
    ")"
   ]
  },
  {
   "cell_type": "code",
   "execution_count": 7,
   "metadata": {},
   "outputs": [],
   "source": [
    "retriever = qdrant.as_retriever()"
   ]
  },
  {
   "cell_type": "code",
   "execution_count": 8,
   "metadata": {},
   "outputs": [],
   "source": [
    "from langchain.prompts import ChatPromptTemplate\n",
    "from langchain.schema.runnable import RunnablePassthrough\n",
    "from langchain.schema.output_parser import StrOutputParser\n",
    "from langchain_ollama import OllamaLLM\n",
    "from langchain_openai import ChatOpenAI\n",
    "\n",
    "\n",
    "#llm = ChatOpenAI(model=\"gpt-4-turbo-preview\") \n",
    "\n",
    "llm = ChatOpenAI(model=\"gpt-3.5-turbo\") \n",
    "\n",
    "# Define prompt template\n",
    "template = \"\"\"Utilize the retrieved context below to answer the question.\n",
    "If you're unsure of the answer, simply state you don't know and apologies\n",
    "Keep your response concise, limited to two sentences.\n",
    "Question: {question}\n",
    "Context: {context}\n",
    "\"\"\"\n",
    "\n",
    "prompt = ChatPromptTemplate.from_template(template)\n",
    "\n",
    "# Setup RAG pipeline\n",
    "rag_chain = (\n",
    "    {\"context\": retriever,  \"question\": RunnablePassthrough()} \n",
    "    | prompt \n",
    "    | llm\n",
    "    | StrOutputParser() \n",
    ")"
   ]
  },
  {
   "cell_type": "code",
   "execution_count": 9,
   "metadata": {},
   "outputs": [
    {
     "data": {
      "text/plain": [
       "'The purpose of the regulation is to review and revise the regulations governing the registration exemptions for certain foods.'"
      ]
     },
     "execution_count": 9,
     "metadata": {},
     "output_type": "execute_result"
    }
   ],
   "source": [
    "rag_chain.invoke(\"What is the purpose of the regulation?\")"
   ]
  },
  {
   "cell_type": "markdown",
   "metadata": {},
   "source": [
    "### 2.- Pasos previos a la Evaluación"
   ]
  },
  {
   "cell_type": "markdown",
   "metadata": {},
   "source": [
    "a) Creación del Dataset de preuntas y respuestas"
   ]
  },
  {
   "cell_type": "code",
   "execution_count": 10,
   "metadata": {},
   "outputs": [],
   "source": [
    "QA_generation_prompt = ChatPromptTemplate.from_template(\"\"\"\n",
    "Your task is to write a factoid question and an answer given a context.\n",
    "Your factoid question should be answerable with a specific, concise piece of factual information from the context.\n",
    "Your factoid question should be formulated in the same style as questions users could ask in a search engine.\n",
    "This means that your factoid question MUST NOT mention something like \"according to the passage\" or \"context\".\n",
    "\n",
    "Provide your answer as follows:\n",
    "\n",
    "Output:::\n",
    "Factoid question: (your factoid question)\n",
    "Answer: (your answer to the factoid question)\n",
    "\n",
    "Now here is the context.\n",
    "\n",
    "Context: {context}\n",
    "Output:::\"\"\")\n",
    "\n",
    "# Create a chain to create a question\n",
    "question_chain = (\n",
    "    {\"context\": RunnablePassthrough()}\n",
    "    | QA_generation_prompt\n",
    "    | llm\n",
    "    | StrOutputParser()\n",
    ")"
   ]
  },
  {
   "cell_type": "markdown",
   "metadata": {},
   "source": [
    "b) Obtener una Muestra Aleatoria de documentos"
   ]
  },
  {
   "cell_type": "code",
   "execution_count": 11,
   "metadata": {},
   "outputs": [],
   "source": [
    "import random\n",
    "from tqdm import tqdm\n",
    "\n",
    "\n",
    "# Sample 15 documents to generate questions\n",
    "\n",
    "sampled_docs = random.sample(docs, 15)\n",
    "\n",
    "# Generate questions for each document\n",
    "sampled_docs_processed = [doc.page_content for doc in sampled_docs]"
   ]
  },
  {
   "cell_type": "markdown",
   "metadata": {},
   "source": [
    "c) Generar Preguntas y respuestas"
   ]
  },
  {
   "cell_type": "code",
   "execution_count": 12,
   "metadata": {},
   "outputs": [
    {
     "name": "stderr",
     "output_type": "stream",
     "text": [
      "100%|██████████| 15/15 [00:10<00:00,  1.48it/s]\n"
     ]
    }
   ],
   "source": [
    "# Generate questions\n",
    "\n",
    "questions = [question_chain.invoke({\"context\": sampled_context}) for sampled_context in tqdm(sampled_docs_processed)]"
   ]
  },
  {
   "cell_type": "markdown",
   "metadata": {},
   "source": [
    "Visualización de preguntas y respuestas"
   ]
  },
  {
   "cell_type": "code",
   "execution_count": 13,
   "metadata": {},
   "outputs": [
    {
     "data": {
      "text/plain": [
       "['Factoid question: What is the theme of Regulatory Theme 3.5 in the 2024/2025 Regulatory Agenda?\\nAnswer: Reavaliação da autorização de uso do aditivo alimentar dióxido de titânio em alimentos.',\n",
       " 'Factoid question: What sector does the Anvisa coordinate, supervise, and control activities in?\\nAnswer: In the sector of foods',\n",
       " 'Factoid question: What is the law that mandates the iodization of salt for human consumption?\\nAnswer: Lei 6.150/1974 – Dispõe sobre a obrigatoriedade da iodação do sal, destinado ao consumo humano, seu controle pelos órgãos sanitários e dá outras providências',\n",
       " 'Factoid question: When was the Biblioteca de Alimentos last updated?\\nAnswer: Atualizada em 06.11.2024',\n",
       " 'Factoid question: What is the theme of the regulatory agenda 2024/2025 related to contaminants in food?\\nAnswer: Theme Regulatório 3.17 da Agenda Regulatória 2024/2025: Revisão da regulamentação de contaminantes em alimentos.',\n",
       " 'Factoid question: What is the regulation number that prohibits the importation, manufacturing, distribution, and commercialization of foods and beverages containing Aloe Vera in the entire national territory?\\nAnswer: RE 5052/2011',\n",
       " 'Factoid question: What law obliges products to inform about the presence of gluten as a preventive measure for celiac disease?\\nAnswer: Lei 10.674/2003',\n",
       " 'Factoid question: What is the theme of Regulatory Topic 3.33 in the 2024/2025 Regulatory Agenda?\\nAnswer: Atualização periódica da lista de LMR, IDA, DRfA para IFA de medicamentos veterinários em alimentos de origem animal.',\n",
       " 'Factoid question: What are the procedures for regularização de alimentos?\\nAnswer: Procedimentos para regularização de alimentos',\n",
       " 'Factoid question: What RDC established the requirements for the safety and health benefits of probiotics for use in food?\\nAnswer: RDC 241/2018',\n",
       " 'Factoid question: What is the document related to the restriction of the use of industrial trans fats in foods?\\n\\nAnswer: Perguntas e Respostas – Requisitos para uso de Gorduras Trans Industriais em Alimentos.',\n",
       " 'Factoid question: What is the document related to modificações na composição de alimentos padronizados para alegações nutricionais?\\n\\nAnswer: Perguntas e respostas sobre modificações na composição de alimentos padronizados para alegações nutricionais.',\n",
       " 'Factoid question: What is the document related to \"Perguntas e Respostas sobre Materiais em contato com alimentos\"?\\n\\nAnswer: RDC 91/2001 – Critérios gerais e classificação de materiais para embalagens em contato com alimentos',\n",
       " 'Factoid question: What document provides guidelines for good nutritional practices for French bread?\\nAnswer: Guia de boas práticas nutricionais para pão francês',\n",
       " 'Factoid question: What decree establishes the basic rules on food in Brazil?\\nAnswer: Decreto-Lei 986/1969']"
      ]
     },
     "execution_count": 13,
     "metadata": {},
     "output_type": "execute_result"
    }
   ],
   "source": [
    "questions"
   ]
  },
  {
   "cell_type": "markdown",
   "metadata": {},
   "source": [
    "Parsing de la Preguntas"
   ]
  },
  {
   "cell_type": "code",
   "execution_count": 14,
   "metadata": {},
   "outputs": [],
   "source": [
    "questions_processed = []\n",
    "ground_truth = []\n",
    "for question in questions:\n",
    "    questions_processed.append(question.split(\"Factoid question: \")[-1].split(\"Answer: \")[0])\n",
    "    ground_truth.append(question.split(\"Factoid question: \")[-1].split(\"Answer: \")[1])"
   ]
  },
  {
   "cell_type": "code",
   "execution_count": 15,
   "metadata": {},
   "outputs": [
    {
     "name": "stderr",
     "output_type": "stream",
     "text": [
      "C:\\Users\\nicol\\AppData\\Local\\Temp\\ipykernel_36332\\1022487351.py:6: LangChainDeprecationWarning: The method `BaseRetriever.get_relevant_documents` was deprecated in langchain-core 0.1.46 and will be removed in 1.0. Use :meth:`~invoke` instead.\n",
      "  contexts.append([docs.page_content for docs in retriever.get_relevant_documents(query)])\n"
     ]
    }
   ],
   "source": [
    "contexts = []\n",
    "answers = []\n",
    "# Inference\n",
    "for query in questions:\n",
    "    answers.append(rag_chain.invoke(query))\n",
    "    contexts.append([docs.page_content for docs in retriever.get_relevant_documents(query)])\n"
   ]
  },
  {
   "cell_type": "markdown",
   "metadata": {},
   "source": [
    "d) Generación de Diccionario"
   ]
  },
  {
   "cell_type": "code",
   "execution_count": 16,
   "metadata": {},
   "outputs": [],
   "source": [
    "data = {\n",
    "    \"question\": questions,\n",
    "    \"answer\": answers,\n",
    "    \"reference\": ground_truth,\n",
    "    \"retrieved_contexts\": contexts\n",
    "}"
   ]
  },
  {
   "cell_type": "code",
   "execution_count": 17,
   "metadata": {},
   "outputs": [],
   "source": [
    "#!pip install datasets"
   ]
  },
  {
   "cell_type": "code",
   "execution_count": 18,
   "metadata": {},
   "outputs": [],
   "source": [
    "from datasets import Dataset\n",
    "\n",
    "# Convert dict to dataset\n",
    "dataset = Dataset.from_dict(data)"
   ]
  },
  {
   "cell_type": "markdown",
   "metadata": {},
   "source": [
    "### 3. Evaluación de Métricas on RAGAS"
   ]
  },
  {
   "cell_type": "code",
   "execution_count": 19,
   "metadata": {},
   "outputs": [],
   "source": [
    "# !pip intall ragas"
   ]
  },
  {
   "cell_type": "code",
   "execution_count": 20,
   "metadata": {},
   "outputs": [],
   "source": [
    "from ragas import evaluate\n",
    "from ragas.metrics import (\n",
    "    faithfulness, # Measures how well the model generates answers that are faithful to the context\n",
    "    answer_relevancy, # Measures how well the model generates answers that are relevant to the question\n",
    "    context_recall, # Context recall measures how well the model retrieves relevant context\n",
    "    context_precision, # Context precision measures how well the model retrieves only relevant context\n",
    ")"
   ]
  },
  {
   "cell_type": "code",
   "execution_count": 21,
   "metadata": {},
   "outputs": [
    {
     "name": "stderr",
     "output_type": "stream",
     "text": [
      "Evaluating:  23%|██▎       | 14/60 [00:05<00:14,  3.09it/s]No statements were generated from the answer.\n",
      "Evaluating:  48%|████▊     | 29/60 [00:11<00:11,  2.70it/s]No statements were generated from the answer.\n",
      "Evaluating: 100%|██████████| 60/60 [00:22<00:00,  2.69it/s]\n"
     ]
    },
    {
     "data": {
      "text/html": [
       "<div>\n",
       "<style scoped>\n",
       "    .dataframe tbody tr th:only-of-type {\n",
       "        vertical-align: middle;\n",
       "    }\n",
       "\n",
       "    .dataframe tbody tr th {\n",
       "        vertical-align: top;\n",
       "    }\n",
       "\n",
       "    .dataframe thead th {\n",
       "        text-align: right;\n",
       "    }\n",
       "</style>\n",
       "<table border=\"1\" class=\"dataframe\">\n",
       "  <thead>\n",
       "    <tr style=\"text-align: right;\">\n",
       "      <th></th>\n",
       "      <th>user_input</th>\n",
       "      <th>retrieved_contexts</th>\n",
       "      <th>response</th>\n",
       "      <th>reference</th>\n",
       "      <th>context_recall</th>\n",
       "      <th>faithfulness</th>\n",
       "      <th>answer_relevancy</th>\n",
       "      <th>context_precision</th>\n",
       "    </tr>\n",
       "  </thead>\n",
       "  <tbody>\n",
       "    <tr>\n",
       "      <th>0</th>\n",
       "      <td>Factoid question: What is the theme of Regulat...</td>\n",
       "      <td>[1.5. Procedimentos para autorização de uso de...</td>\n",
       "      <td>I don't know, apologies.</td>\n",
       "      <td>Reavaliação da autorização de uso do aditivo a...</td>\n",
       "      <td>1.0</td>\n",
       "      <td>0.0</td>\n",
       "      <td>0.000000</td>\n",
       "      <td>0.833333</td>\n",
       "    </tr>\n",
       "    <tr>\n",
       "      <th>1</th>\n",
       "      <td>Factoid question: What sector does the Anvisa ...</td>\n",
       "      <td>[No setor de alimentos, a Anvisa coordena, sup...</td>\n",
       "      <td>In the sector of foods.</td>\n",
       "      <td>In the sector of foods</td>\n",
       "      <td>1.0</td>\n",
       "      <td>1.0</td>\n",
       "      <td>0.000000</td>\n",
       "      <td>0.916667</td>\n",
       "    </tr>\n",
       "    <tr>\n",
       "      <th>2</th>\n",
       "      <td>Factoid question: What is the law that mandate...</td>\n",
       "      <td>[Lei 6.150/1974 – Dispõe sobre a obrigatorieda...</td>\n",
       "      <td>Lei 6.150/1974 mandates the iodization of salt...</td>\n",
       "      <td>Lei 6.150/1974 – Dispõe sobre a obrigatoriedad...</td>\n",
       "      <td>1.0</td>\n",
       "      <td>1.0</td>\n",
       "      <td>0.553050</td>\n",
       "      <td>1.000000</td>\n",
       "    </tr>\n",
       "    <tr>\n",
       "      <th>3</th>\n",
       "      <td>Factoid question: When was the Biblioteca de A...</td>\n",
       "      <td>[BIBLIOTECA DE \\nALIMENTOS \\nAtualizada em 06....</td>\n",
       "      <td>The Biblioteca de Alimentos was last updated o...</td>\n",
       "      <td>Atualizada em 06.11.2024</td>\n",
       "      <td>1.0</td>\n",
       "      <td>1.0</td>\n",
       "      <td>0.827114</td>\n",
       "      <td>1.000000</td>\n",
       "    </tr>\n",
       "    <tr>\n",
       "      <th>4</th>\n",
       "      <td>Factoid question: What is the theme of the reg...</td>\n",
       "      <td>[IN 297/2024 \\nIN 303/2024 \\nIN 306/2024 \\n1.6...</td>\n",
       "      <td>The theme of the regulatory agenda 2024/2025 r...</td>\n",
       "      <td>Theme Regulatório 3.17 da Agenda Regulatória 2...</td>\n",
       "      <td>1.0</td>\n",
       "      <td>1.0</td>\n",
       "      <td>0.849043</td>\n",
       "      <td>1.000000</td>\n",
       "    </tr>\n",
       "    <tr>\n",
       "      <th>5</th>\n",
       "      <td>Factoid question: What is the regulation numbe...</td>\n",
       "      <td>[benzopireno, com identificação do lote e ou d...</td>\n",
       "      <td>RE 5052/2011</td>\n",
       "      <td>RE 5052/2011</td>\n",
       "      <td>1.0</td>\n",
       "      <td>NaN</td>\n",
       "      <td>0.000000</td>\n",
       "      <td>0.833333</td>\n",
       "    </tr>\n",
       "    <tr>\n",
       "      <th>6</th>\n",
       "      <td>Factoid question: What law obliges products to...</td>\n",
       "      <td>[de 2003. \\n \\nLei 10.674/2003  – Obriga a que...</td>\n",
       "      <td>Lei 10.674/2003.</td>\n",
       "      <td>Lei 10.674/2003</td>\n",
       "      <td>1.0</td>\n",
       "      <td>1.0</td>\n",
       "      <td>0.000000</td>\n",
       "      <td>1.000000</td>\n",
       "    </tr>\n",
       "    <tr>\n",
       "      <th>7</th>\n",
       "      <td>Factoid question: What is the theme of Regulat...</td>\n",
       "      <td>[1.8. Resíduos de medicamentos veterinários em...</td>\n",
       "      <td>I don't know, apologies.</td>\n",
       "      <td>Atualização periódica da lista de LMR, IDA, DR...</td>\n",
       "      <td>1.0</td>\n",
       "      <td>0.0</td>\n",
       "      <td>0.000000</td>\n",
       "      <td>1.000000</td>\n",
       "    </tr>\n",
       "    <tr>\n",
       "      <th>8</th>\n",
       "      <td>Factoid question: What are the procedures for ...</td>\n",
       "      <td>[1.1. Procedimentos para regularização de alim...</td>\n",
       "      <td>I'm sorry, I don't have the specific procedure...</td>\n",
       "      <td>Procedimentos para regularização de alimentos</td>\n",
       "      <td>1.0</td>\n",
       "      <td>0.0</td>\n",
       "      <td>0.000000</td>\n",
       "      <td>0.500000</td>\n",
       "    </tr>\n",
       "    <tr>\n",
       "      <th>9</th>\n",
       "      <td>Factoid question: What RDC established the req...</td>\n",
       "      <td>[RDC 241/2018 – Requisitos para comprovação da...</td>\n",
       "      <td>RDC 241/2018</td>\n",
       "      <td>RDC 241/2018</td>\n",
       "      <td>1.0</td>\n",
       "      <td>NaN</td>\n",
       "      <td>0.000000</td>\n",
       "      <td>1.000000</td>\n",
       "    </tr>\n",
       "    <tr>\n",
       "      <th>10</th>\n",
       "      <td>Factoid question: What is the document related...</td>\n",
       "      <td>[RDC 632/2022 - Restrição de uso de gorduras t...</td>\n",
       "      <td>Perguntas e Respostas – Requisitos para uso de...</td>\n",
       "      <td>Perguntas e Respostas – Requisitos para uso de...</td>\n",
       "      <td>1.0</td>\n",
       "      <td>1.0</td>\n",
       "      <td>0.631010</td>\n",
       "      <td>1.000000</td>\n",
       "    </tr>\n",
       "    <tr>\n",
       "      <th>11</th>\n",
       "      <td>Factoid question: What is the document related...</td>\n",
       "      <td>[Alterada por: \\nRDC 839/2023  - Comprovação d...</td>\n",
       "      <td>Perguntas e respostas sobre modificações na co...</td>\n",
       "      <td>Perguntas e respostas sobre modificações na co...</td>\n",
       "      <td>1.0</td>\n",
       "      <td>0.0</td>\n",
       "      <td>0.330013</td>\n",
       "      <td>1.000000</td>\n",
       "    </tr>\n",
       "    <tr>\n",
       "      <th>12</th>\n",
       "      <td>Factoid question: What is the document related...</td>\n",
       "      <td>[RDC 91/2001 – Critérios gerais e classificaçã...</td>\n",
       "      <td>RDC 91/2001 - General criteria and classificat...</td>\n",
       "      <td>RDC 91/2001 – Critérios gerais e classificação...</td>\n",
       "      <td>1.0</td>\n",
       "      <td>1.0</td>\n",
       "      <td>0.453896</td>\n",
       "      <td>0.750000</td>\n",
       "    </tr>\n",
       "    <tr>\n",
       "      <th>13</th>\n",
       "      <td>Factoid question: What document provides guide...</td>\n",
       "      <td>[Guia de boas práticas nutricionais para pão f...</td>\n",
       "      <td>I don't know, apologies.</td>\n",
       "      <td>Guia de boas práticas nutricionais para pão fr...</td>\n",
       "      <td>1.0</td>\n",
       "      <td>0.0</td>\n",
       "      <td>0.000000</td>\n",
       "      <td>1.000000</td>\n",
       "    </tr>\n",
       "    <tr>\n",
       "      <th>14</th>\n",
       "      <td>Factoid question: What decree establishes the ...</td>\n",
       "      <td>[Decreto 75.697/1975 – Padrões de identidade e...</td>\n",
       "      <td>I don't know, apologies.</td>\n",
       "      <td>Decreto-Lei 986/1969</td>\n",
       "      <td>1.0</td>\n",
       "      <td>0.0</td>\n",
       "      <td>0.000000</td>\n",
       "      <td>0.583333</td>\n",
       "    </tr>\n",
       "  </tbody>\n",
       "</table>\n",
       "</div>"
      ],
      "text/plain": [
       "                                           user_input  \\\n",
       "0   Factoid question: What is the theme of Regulat...   \n",
       "1   Factoid question: What sector does the Anvisa ...   \n",
       "2   Factoid question: What is the law that mandate...   \n",
       "3   Factoid question: When was the Biblioteca de A...   \n",
       "4   Factoid question: What is the theme of the reg...   \n",
       "5   Factoid question: What is the regulation numbe...   \n",
       "6   Factoid question: What law obliges products to...   \n",
       "7   Factoid question: What is the theme of Regulat...   \n",
       "8   Factoid question: What are the procedures for ...   \n",
       "9   Factoid question: What RDC established the req...   \n",
       "10  Factoid question: What is the document related...   \n",
       "11  Factoid question: What is the document related...   \n",
       "12  Factoid question: What is the document related...   \n",
       "13  Factoid question: What document provides guide...   \n",
       "14  Factoid question: What decree establishes the ...   \n",
       "\n",
       "                                   retrieved_contexts  \\\n",
       "0   [1.5. Procedimentos para autorização de uso de...   \n",
       "1   [No setor de alimentos, a Anvisa coordena, sup...   \n",
       "2   [Lei 6.150/1974 – Dispõe sobre a obrigatorieda...   \n",
       "3   [BIBLIOTECA DE \\nALIMENTOS \\nAtualizada em 06....   \n",
       "4   [IN 297/2024 \\nIN 303/2024 \\nIN 306/2024 \\n1.6...   \n",
       "5   [benzopireno, com identificação do lote e ou d...   \n",
       "6   [de 2003. \\n \\nLei 10.674/2003  – Obriga a que...   \n",
       "7   [1.8. Resíduos de medicamentos veterinários em...   \n",
       "8   [1.1. Procedimentos para regularização de alim...   \n",
       "9   [RDC 241/2018 – Requisitos para comprovação da...   \n",
       "10  [RDC 632/2022 - Restrição de uso de gorduras t...   \n",
       "11  [Alterada por: \\nRDC 839/2023  - Comprovação d...   \n",
       "12  [RDC 91/2001 – Critérios gerais e classificaçã...   \n",
       "13  [Guia de boas práticas nutricionais para pão f...   \n",
       "14  [Decreto 75.697/1975 – Padrões de identidade e...   \n",
       "\n",
       "                                             response  \\\n",
       "0                            I don't know, apologies.   \n",
       "1                             In the sector of foods.   \n",
       "2   Lei 6.150/1974 mandates the iodization of salt...   \n",
       "3   The Biblioteca de Alimentos was last updated o...   \n",
       "4   The theme of the regulatory agenda 2024/2025 r...   \n",
       "5                                        RE 5052/2011   \n",
       "6                                    Lei 10.674/2003.   \n",
       "7                            I don't know, apologies.   \n",
       "8   I'm sorry, I don't have the specific procedure...   \n",
       "9                                        RDC 241/2018   \n",
       "10  Perguntas e Respostas – Requisitos para uso de...   \n",
       "11  Perguntas e respostas sobre modificações na co...   \n",
       "12  RDC 91/2001 - General criteria and classificat...   \n",
       "13                           I don't know, apologies.   \n",
       "14                           I don't know, apologies.   \n",
       "\n",
       "                                            reference  context_recall  \\\n",
       "0   Reavaliação da autorização de uso do aditivo a...             1.0   \n",
       "1                              In the sector of foods             1.0   \n",
       "2   Lei 6.150/1974 – Dispõe sobre a obrigatoriedad...             1.0   \n",
       "3                            Atualizada em 06.11.2024             1.0   \n",
       "4   Theme Regulatório 3.17 da Agenda Regulatória 2...             1.0   \n",
       "5                                        RE 5052/2011             1.0   \n",
       "6                                     Lei 10.674/2003             1.0   \n",
       "7   Atualização periódica da lista de LMR, IDA, DR...             1.0   \n",
       "8       Procedimentos para regularização de alimentos             1.0   \n",
       "9                                        RDC 241/2018             1.0   \n",
       "10  Perguntas e Respostas – Requisitos para uso de...             1.0   \n",
       "11  Perguntas e respostas sobre modificações na co...             1.0   \n",
       "12  RDC 91/2001 – Critérios gerais e classificação...             1.0   \n",
       "13  Guia de boas práticas nutricionais para pão fr...             1.0   \n",
       "14                               Decreto-Lei 986/1969             1.0   \n",
       "\n",
       "    faithfulness  answer_relevancy  context_precision  \n",
       "0            0.0          0.000000           0.833333  \n",
       "1            1.0          0.000000           0.916667  \n",
       "2            1.0          0.553050           1.000000  \n",
       "3            1.0          0.827114           1.000000  \n",
       "4            1.0          0.849043           1.000000  \n",
       "5            NaN          0.000000           0.833333  \n",
       "6            1.0          0.000000           1.000000  \n",
       "7            0.0          0.000000           1.000000  \n",
       "8            0.0          0.000000           0.500000  \n",
       "9            NaN          0.000000           1.000000  \n",
       "10           1.0          0.631010           1.000000  \n",
       "11           0.0          0.330013           1.000000  \n",
       "12           1.0          0.453896           0.750000  \n",
       "13           0.0          0.000000           1.000000  \n",
       "14           0.0          0.000000           0.583333  "
      ]
     },
     "execution_count": 21,
     "metadata": {},
     "output_type": "execute_result"
    }
   ],
   "source": [
    "result = evaluate(\n",
    "    dataset = dataset,\n",
    "    llm=llm,\n",
    "    embeddings=embeddings,\n",
    "    metrics=[\n",
    "        context_recall,\n",
    "        faithfulness,\n",
    "        answer_relevancy,\n",
    "        context_precision,\n",
    "    ],)\n",
    "\n",
    "df = result.to_pandas()\n",
    "df"
   ]
  },
  {
   "cell_type": "markdown",
   "metadata": {},
   "source": [
    "Generación de Archivo CSV con resultados"
   ]
  },
  {
   "cell_type": "code",
   "execution_count": 22,
   "metadata": {},
   "outputs": [],
   "source": [
    "df.to_csv(\"results/baseline_ragas_results.csv\", index=False)"
   ]
  },
  {
   "cell_type": "markdown",
   "metadata": {},
   "source": [
    "Promedio de Métricas"
   ]
  },
  {
   "cell_type": "code",
   "execution_count": 23,
   "metadata": {},
   "outputs": [
    {
     "name": "stdout",
     "output_type": "stream",
     "text": [
      "Mean Faithfulness:  0.5385\n",
      "Mean Answer relevancy:  0.2429\n",
      "Mean Context recall:  1.0\n",
      "Mean Context precision:  0.8944\n"
     ]
    }
   ],
   "source": [
    "# get mean of the metrics column by column\n",
    "print(\"Mean Faithfulness: \", round(df[\"faithfulness\"].mean(), 4))\n",
    "print(\"Mean Answer relevancy: \", round(df[\"answer_relevancy\"].mean(), 4))\n",
    "print(\"Mean Context recall: \", round(df[\"context_recall\"].mean(), 4))\n",
    "print(\"Mean Context precision: \", round(df[\"context_precision\"].mean(), 4))\n"
   ]
  },
  {
   "cell_type": "markdown",
   "metadata": {},
   "source": [
    "### 4. Agregando un paso de 'Rerankeo'"
   ]
  },
  {
   "cell_type": "markdown",
   "metadata": {},
   "source": [
    "Esto permite reordenar los documentos de acuerdo a su relevancia semantica"
   ]
  },
  {
   "cell_type": "code",
   "execution_count": 24,
   "metadata": {},
   "outputs": [],
   "source": [
    "query = \"What is the purpose of the regulation?\"\n",
    "\n",
    "retrieved_docs = retriever.get_relevant_documents(query, kwargs={\"k\": 10})"
   ]
  },
  {
   "cell_type": "code",
   "execution_count": 25,
   "metadata": {},
   "outputs": [
    {
     "data": {
      "text/plain": [
       "[Document(metadata={'source': '../../data/biblioteca-de-alimentos.pdf', 'page': 4, '_id': '818add6f810445228121ec513e731d5d', '_collection_name': 'my_documents'}, page_content='Tema Regulatório 3.22 da Agenda Regulatória 2024/2025: Revisão da regulamentação sobre regularização  \\nde alimentos dispensados de registro.'),\n",
       " Document(metadata={'source': '../../data/biblioteca-de-alimentos.pdf', 'page': 17, '_id': '41923215d87b498eb6d86ed069c4ee8a', '_collection_name': 'my_documents'}, page_content='Equivalente (AREE) \\n \\nTema Regulatório 3.1 da Agenda Regulatória 2024/2025 - A regulamentar. \\n1.26. Regulamentação dos alimentos para fins médicos \\n \\nTema Regulatório 3.10 da Agenda Regulatória 2024/2025 - A regulamentar.'),\n",
       " Document(metadata={'source': '../../data/biblioteca-de-alimentos.pdf', 'page': 17, '_id': 'cee34825316546229774724634f14861', '_collection_name': 'my_documents'}, page_content='Tema Regulatório 3.16 da Agenda Regulatória 2024/2025: Revisão da regulamentação de autorização de uso \\ne de rotulagem de aditivos edulcorantes em alimentos.'),\n",
       " Document(metadata={'source': '../../data/biblioteca-de-alimentos.pdf', 'page': 6, '_id': 'b197ddd3cb544662a1cb5d70e1e6cb14', '_collection_name': 'my_documents'}, page_content='Tema Regulatório 3.16 da Agenda Regulatória 2024/2025: Revisão da regulamentação de autorização de uso \\ne de rotulagem de aditivos edulcorantes em alimentos.')]"
      ]
     },
     "execution_count": 25,
     "metadata": {},
     "output_type": "execute_result"
    }
   ],
   "source": [
    "retrieved_docs"
   ]
  },
  {
   "cell_type": "markdown",
   "metadata": {},
   "source": [
    "Mediante Cohere (no utilizado)"
   ]
  },
  {
   "cell_type": "code",
   "execution_count": 26,
   "metadata": {},
   "outputs": [],
   "source": [
    "# import cohere as co\n",
    "# cohere_client = co.Client(os.getenv(\"COHERE_API_KEY\"))\n",
    "# def rerank_docs(query, retrieved_docs):\n",
    "#     reranked_docs = cohere_client.rerank(\n",
    "#         model=\"rerank-english-v3.0\",\n",
    "#         query=query,\n",
    "#         documents=retrieved_docs,\n",
    "#         rank_fields=[\"page_content\"],\n",
    "#         return_documents=True\n",
    "#     )\n",
    "#     return reranked_docs\n"
   ]
  },
  {
   "cell_type": "markdown",
   "metadata": {},
   "source": [
    "Mediante Rerankers"
   ]
  },
  {
   "cell_type": "code",
   "execution_count": 27,
   "metadata": {},
   "outputs": [],
   "source": [
    "from rerankers import Reranker\n",
    "\n",
    "def open_source_reranker(query, retrieved_docs):\n",
    "    reranker = Reranker('cross-encoder', verbose=0,model_type='cross-encoder')\n",
    "    #reranker = Reranker(\"colbert\") # colber model used for reranking\n",
    "    retrieved_docs = [doc.page_content for doc in retrieved_docs]\n",
    "    reranked_docs = reranker.rank(query, retrieved_docs)\n",
    "    return reranked_docs\n"
   ]
  },
  {
   "cell_type": "code",
   "execution_count": 28,
   "metadata": {},
   "outputs": [
    {
     "name": "stdout",
     "output_type": "stream",
     "text": [
      "Loading default cross-encoder model for language en\n"
     ]
    }
   ],
   "source": [
    "reranked_docs = open_source_reranker(query, retrieved_docs)"
   ]
  },
  {
   "cell_type": "code",
   "execution_count": 29,
   "metadata": {},
   "outputs": [
    {
     "data": {
      "text/plain": [
       "[Result(document=Document(document_type='text', text='Tema Regulatório 3.16 da Agenda Regulatória 2024/2025: Revisão da regulamentação de autorização de uso \\ne de rotulagem de aditivos edulcorantes em alimentos.', base64=None, image_path=None, doc_id=2, metadata={}), score=-1.9532668590545654, rank=1),\n",
       " Result(document=Document(document_type='text', text='Tema Regulatório 3.16 da Agenda Regulatória 2024/2025: Revisão da regulamentação de autorização de uso \\ne de rotulagem de aditivos edulcorantes em alimentos.', base64=None, image_path=None, doc_id=3, metadata={}), score=-1.9532668590545654, rank=2),\n",
       " Result(document=Document(document_type='text', text='Tema Regulatório 3.22 da Agenda Regulatória 2024/2025: Revisão da regulamentação sobre regularização  \\nde alimentos dispensados de registro.', base64=None, image_path=None, doc_id=0, metadata={}), score=-2.389258623123169, rank=3),\n",
       " Result(document=Document(document_type='text', text='Equivalente (AREE) \\n \\nTema Regulatório 3.1 da Agenda Regulatória 2024/2025 - A regulamentar. \\n1.26. Regulamentação dos alimentos para fins médicos \\n \\nTema Regulatório 3.10 da Agenda Regulatória 2024/2025 - A regulamentar.', base64=None, image_path=None, doc_id=1, metadata={}), score=-3.1898655891418457, rank=4)]"
      ]
     },
     "execution_count": 29,
     "metadata": {},
     "output_type": "execute_result"
    }
   ],
   "source": [
    "reranked_docs.results"
   ]
  },
  {
   "cell_type": "code",
   "execution_count": 30,
   "metadata": {},
   "outputs": [
    {
     "name": "stdout",
     "output_type": "stream",
     "text": [
      "Loading default cross-encoder model for language en\n",
      "Loading default cross-encoder model for language en\n",
      "Loading default cross-encoder model for language en\n",
      "Loading default cross-encoder model for language en\n",
      "Loading default cross-encoder model for language en\n",
      "Loading default cross-encoder model for language en\n",
      "Loading default cross-encoder model for language en\n",
      "Loading default cross-encoder model for language en\n",
      "Loading default cross-encoder model for language en\n",
      "Loading default cross-encoder model for language en\n",
      "Loading default cross-encoder model for language en\n",
      "Loading default cross-encoder model for language en\n",
      "Loading default cross-encoder model for language en\n",
      "Loading default cross-encoder model for language en\n",
      "Loading default cross-encoder model for language en\n"
     ]
    }
   ],
   "source": [
    "contexts = []\n",
    "answers = []\n",
    "# Inference\n",
    "for query in questions:\n",
    "    answers.append(rag_chain.invoke(query))\n",
    "    retrieved_docs = retriever.get_relevant_documents(query)\n",
    "    reranked_docs = open_source_reranker(query, retrieved_docs)\n",
    "    if reranked_docs.results:  # Check if there are any results\n",
    "        contexts.append([reranked_docs.results[0].document.text])\n",
    "\n",
    "data = {\n",
    "    \"question\": questions,\n",
    "    \"answer\": answers,\n",
    "    \"reference\": ground_truth,\n",
    "    \"retrieved_contexts\": contexts\n",
    "}"
   ]
  },
  {
   "cell_type": "code",
   "execution_count": null,
   "metadata": {},
   "outputs": [
    {
     "name": "stderr",
     "output_type": "stream",
     "text": [
      "Evaluating:  52%|█████▏    | 31/60 [00:09<00:08,  3.51it/s]No statements were generated from the answer.\n",
      "Evaluating: 100%|██████████| 60/60 [00:19<00:00,  3.12it/s]\n"
     ]
    }
   ],
   "source": [
    "reranked_dataset = Dataset.from_dict(data)\n",
    "result = evaluate(\n",
    "    dataset = reranked_dataset,\n",
    "    llm=llm,\n",
    "    embeddings=embeddings,\n",
    "    metrics=[\n",
    "        context_recall,\n",
    "        faithfulness,\n",
    "        answer_relevancy,\n",
    "        context_precision,\n",
    "    ],)\n",
    "reranked_df = result.to_pandas()\n",
    "reranked_df.to_csv(\"results/reranked_baseline_ragas_results.csv\", index=False)\n"
   ]
  },
  {
   "cell_type": "code",
   "execution_count": 32,
   "metadata": {},
   "outputs": [
    {
     "name": "stdout",
     "output_type": "stream",
     "text": [
      "Mean Faithfulness:  0.6429\n",
      "Mean Answer relevancy:  0.3811\n",
      "Mean Context recall:  1.0\n",
      "Mean Context precision:  0.8667\n"
     ]
    }
   ],
   "source": [
    "# get mean of the metrics column by column\n",
    "print(\"Mean Faithfulness: \", round(reranked_df[\"faithfulness\"].mean(), 4))\n",
    "print(\"Mean Answer relevancy: \", round(reranked_df[\"answer_relevancy\"].mean(), 4))\n",
    "print(\"Mean Context recall: \", round(reranked_df[\"context_recall\"].mean(), 4))\n",
    "print(\"Mean Context precision: \", round(reranked_df[\"context_precision\"].mean(), 4))"
   ]
  },
  {
   "cell_type": "code",
   "execution_count": null,
   "metadata": {},
   "outputs": [],
   "source": []
  }
 ],
 "metadata": {
  "kernelspec": {
   "display_name": "Python 3",
   "language": "python",
   "name": "python3"
  },
  "language_info": {
   "codemirror_mode": {
    "name": "ipython",
    "version": 3
   },
   "file_extension": ".py",
   "mimetype": "text/x-python",
   "name": "python",
   "nbconvert_exporter": "python",
   "pygments_lexer": "ipython3",
   "version": "3.12.3"
  }
 },
 "nbformat": 4,
 "nbformat_minor": 2
}
