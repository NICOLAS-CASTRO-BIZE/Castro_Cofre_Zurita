{
 "cells": [
  {
   "cell_type": "markdown",
   "metadata": {},
   "source": [
    "# BENCHMARKING\n",
    "\n"
   ]
  },
  {
   "cell_type": "markdown",
   "metadata": {},
   "source": [
    "Carga de Variables de entorno"
   ]
  },
  {
   "cell_type": "code",
   "execution_count": 2,
   "metadata": {},
   "outputs": [
    {
     "data": {
      "text/plain": [
       "True"
      ]
     },
     "execution_count": 2,
     "metadata": {},
     "output_type": "execute_result"
    }
   ],
   "source": [
    "from dotenv import load_dotenv\n",
    "load_dotenv()"
   ]
  },
  {
   "cell_type": "markdown",
   "metadata": {},
   "source": [
    "### 1.- Pipeline RAG Baseline"
   ]
  },
  {
   "cell_type": "markdown",
   "metadata": {},
   "source": [
    "Carga de Documento"
   ]
  },
  {
   "cell_type": "code",
   "execution_count": 5,
   "metadata": {},
   "outputs": [],
   "source": [
    "from langchain_community.document_loaders import PyPDFLoader\n",
    "from dotenv import load_dotenv\n",
    "\n",
    "load_dotenv()\n",
    "\n",
    "file_path = (\n",
    "    \"../data/biblioteca-de-alimentos.pdf\"\n",
    ")\n",
    "loader = PyPDFLoader(file_path)\n",
    "docs = loader.load()"
   ]
  },
  {
   "cell_type": "markdown",
   "metadata": {},
   "source": [
    "Chunking"
   ]
  },
  {
   "cell_type": "code",
   "execution_count": 6,
   "metadata": {},
   "outputs": [],
   "source": [
    "from langchain_text_splitters import RecursiveCharacterTextSplitter\n",
    "\n",
    "text_splitter = RecursiveCharacterTextSplitter(chunk_size=250, chunk_overlap=50)\n",
    "splits = text_splitter.split_documents(docs)"
   ]
  },
  {
   "cell_type": "markdown",
   "metadata": {},
   "source": [
    "Creación de Embeddings"
   ]
  },
  {
   "cell_type": "code",
   "execution_count": 7,
   "metadata": {},
   "outputs": [],
   "source": [
    "from langchain_ollama import OllamaEmbeddings\n",
    "from langchain_openai import OpenAIEmbeddings\n",
    "import os\n",
    "#embeddings = OllamaEmbeddings(model=\"llama3\")\n",
    "embeddings = OpenAIEmbeddings(model=\"text-embedding-3-small\",\n",
    "                            )"
   ]
  },
  {
   "cell_type": "markdown",
   "metadata": {},
   "source": [
    "Creación de Base de Datos Vectorial y Método de Retrieval"
   ]
  },
  {
   "cell_type": "code",
   "execution_count": 8,
   "metadata": {},
   "outputs": [
    {
     "name": "stderr",
     "output_type": "stream",
     "text": [
      "c:\\Users\\nicol\\AppData\\Local\\Programs\\Python\\Python312\\Lib\\site-packages\\tqdm\\auto.py:21: TqdmWarning: IProgress not found. Please update jupyter and ipywidgets. See https://ipywidgets.readthedocs.io/en/stable/user_install.html\n",
      "  from .autonotebook import tqdm as notebook_tqdm\n"
     ]
    }
   ],
   "source": [
    "from langchain_qdrant import QdrantVectorStore\n",
    "from langchain_qdrant import RetrievalMode\n",
    "\n",
    "qdrant = QdrantVectorStore.from_documents(\n",
    "    splits,\n",
    "    embedding=embeddings,\n",
    "    location=\":memory:\",\n",
    "    collection_name=\"my_documents\",\n",
    "    retrieval_mode=RetrievalMode.DENSE,\n",
    ")"
   ]
  },
  {
   "cell_type": "code",
   "execution_count": 9,
   "metadata": {},
   "outputs": [],
   "source": [
    "retriever = qdrant.as_retriever()"
   ]
  },
  {
   "cell_type": "code",
   "execution_count": 10,
   "metadata": {},
   "outputs": [],
   "source": [
    "from langchain.prompts import ChatPromptTemplate\n",
    "from langchain.schema.runnable import RunnablePassthrough\n",
    "from langchain.schema.output_parser import StrOutputParser\n",
    "from langchain_ollama import OllamaLLM\n",
    "from langchain_openai import ChatOpenAI\n",
    "\n",
    "\n",
    "#llm = ChatOpenAI(model=\"gpt-4-turbo-preview\") \n",
    "\n",
    "llm = ChatOpenAI(model=\"gpt-3.5-turbo\") \n",
    "\n",
    "# Define prompt template\n",
    "template = \"\"\"Utilize the retrieved context below to answer the question.\n",
    "If you're unsure of the answer, simply state you don't know and apologies in portuguese.\n",
    "Keep your response concise, limited to two sentences.\n",
    "Question: {question}\n",
    "Context: {context}\n",
    "\"\"\"\n",
    "\n",
    "prompt = ChatPromptTemplate.from_template(template)\n",
    "\n",
    "# Setup RAG pipeline\n",
    "rag_chain = (\n",
    "    {\"context\": retriever,  \"question\": RunnablePassthrough()} \n",
    "    | prompt \n",
    "    | llm\n",
    "    | StrOutputParser() \n",
    ")"
   ]
  },
  {
   "cell_type": "code",
   "execution_count": 43,
   "metadata": {},
   "outputs": [
    {
     "data": {
      "text/plain": [
       "'The purpose of the regulation is to review and revise the regulations concerning the regularization of food products exempt from registration.'"
      ]
     },
     "execution_count": 43,
     "metadata": {},
     "output_type": "execute_result"
    }
   ],
   "source": [
    "rag_chain.invoke(\"What is the purpose of the regulation?\")"
   ]
  },
  {
   "cell_type": "markdown",
   "metadata": {},
   "source": [
    "### 2.- Pasos previos a la Evaluación"
   ]
  },
  {
   "cell_type": "markdown",
   "metadata": {},
   "source": [
    "a) Creación del Dataset de preuntas y respuestas"
   ]
  },
  {
   "cell_type": "code",
   "execution_count": 12,
   "metadata": {},
   "outputs": [],
   "source": [
    "QA_generation_prompt = ChatPromptTemplate.from_template(\"\"\"\n",
    "Your task is to write a factoid question and an answer given a context in portuguese.\n",
    "Your factoid question should be answerable with a specific, concise piece of factual information from the context.\n",
    "Your factoid question should be formulated in the same style as questions users could ask in a search engine.\n",
    "This means that your factoid question MUST NOT mention something like \"according to the passage\" or \"context\".\n",
    "\n",
    "Provide your answer as follows:\n",
    "\n",
    "Output:::\n",
    "Factoid question: (your factoid question)\n",
    "Answer: (your answer to the factoid question)\n",
    "\n",
    "Now here is the context.\n",
    "\n",
    "Context: {context}\n",
    "Output:::\"\"\")\n",
    "\n",
    "# Create a chain to create a question\n",
    "question_chain = (\n",
    "    {\"context\": RunnablePassthrough()}\n",
    "    | QA_generation_prompt\n",
    "    | llm\n",
    "    | StrOutputParser()\n",
    ")"
   ]
  },
  {
   "cell_type": "markdown",
   "metadata": {},
   "source": [
    "b) Obtener una Muestra Aleatoria de documentos"
   ]
  },
  {
   "cell_type": "code",
   "execution_count": 13,
   "metadata": {},
   "outputs": [],
   "source": [
    "import random\n",
    "from tqdm import tqdm\n",
    "\n",
    "\n",
    "# Sample 15 documents to generate questions\n",
    "\n",
    "sampled_docs = random.sample(docs, 15)\n",
    "\n",
    "# Generate questions for each document\n",
    "sampled_docs_processed = [doc.page_content for doc in sampled_docs]"
   ]
  },
  {
   "cell_type": "markdown",
   "metadata": {},
   "source": [
    "c) Generar Preguntas y respuestas"
   ]
  },
  {
   "cell_type": "code",
   "execution_count": 14,
   "metadata": {},
   "outputs": [
    {
     "name": "stderr",
     "output_type": "stream",
     "text": [
      "100%|██████████| 15/15 [00:11<00:00,  1.28it/s]\n"
     ]
    }
   ],
   "source": [
    "# Generate questions\n",
    "\n",
    "questions = [question_chain.invoke({\"context\": sampled_context}) for sampled_context in tqdm(sampled_docs_processed)]"
   ]
  },
  {
   "cell_type": "markdown",
   "metadata": {},
   "source": [
    "Visualización de preguntas y respuestas"
   ]
  },
  {
   "cell_type": "code",
   "execution_count": 15,
   "metadata": {},
   "outputs": [
    {
     "data": {
      "text/plain": [
       "['Factoid question: Quais são os limites máximos tolerados (LMT) de contaminantes em alimentos estabelecidos pela RDC 722/2022?\\nAnswer: Os limites máximos tolerados (LMT) de contaminantes em alimentos são estabelecidos pela RDC 722/2022.',\n",
       " 'Factoid question: Qual é o tema regulatório 3.30 da Agenda Regulatória 2024/2025?\\nAnswer: Atualização periódica da lista de espécies vegetais autorizadas, as designações, a composição de ácidos graxos e os valores máximos de acidez e de índice de peróxidos para óleos e gorduras vegetais.',\n",
       " 'Factoid question: Quais são os procedimentos para autorização de uso de aditivos alimentares e coadjuvantes de tecnologia?\\nAnswer: Procedimentos para autorização de uso de aditivos alimentares e coadjuvantes de tecnologia são descritos na seção 1.5.',\n",
       " 'Factoid question: Qual é o ato que estabelece os requisitos técnicos para declaração da rotulagem nutricional nos alimentos embalados?\\nAnswer: IN 75/2020',\n",
       " 'Factoid question: Quais são os documentos relacionados aos requisitos sanitários para suplementos alimentares?\\n\\nAnswer: Perguntas e Respostas sobre Suplementos Alimentares, Perguntas e Respostas sobre Substâncias Bioativas.',\n",
       " 'Factoid question: Qual é a lei que dispõe sobre o combate ao desperdício de alimentos e a doação de excedentes de alimentos para o consumo humano?\\nAnswer: Lei 14.016/2020',\n",
       " 'Factoid question: Quando foi a última atualização da Biblioteca de Alimentos?\\nAnswer: Atualizada em 06.11.2024',\n",
       " 'Factoid question: O que é o Programa de controle de alergênicos em alimentos?\\nAnswer: Um programa que visa controlar a presença de substâncias que causam alergias em alimentos.',\n",
       " 'Factoid question: Qual a lei que define o Sistema Nacional de Vigilância Sanitária e cria a Agência Nacional de Vigilância Sanitária?\\nAnswer: Lei 9.782/1999',\n",
       " 'Factoid question: Quais normas foram alteradas pela RDC 429/2020?\\nAnswer: RDC 43, 44, e 45/2011 foram alteradas pela RDC 429/2020.',\n",
       " 'Factoid question: Qual a legislação que dispõe sobre a obrigatoriedade da iodação do sal destinado ao consumo humano?\\nAnswer: Lei 6.150/1974',\n",
       " 'Factoid question: Quais são os requisitos sanitários para embalagens metálicas destinadas a entrar em contato com alimentos?\\nAnswer: RDC 854/2024 - Requisitos sanitários aplicáveis às embalagens, revestimentos, utensílios, tampas e equipamentos metálicos destinados a entrar em contato com alimentos.',\n",
       " 'Factoid question: Qual lei obriga que os produtos alimentícios comercializados informem sobre a presença de glúten?\\nAnswer: Lei 10.674/2003',\n",
       " 'Factoid question: Quais são os requisitos sanitários para alimentos para fins especiais de acordo com a RDC 839/2023?\\nAnswer: Requisitos sanitários para alimentos para fins especiais são abordados na RDC 839/2023.',\n",
       " 'Factoid question: Qual é o tema regulatório 3.20 da Agenda Regulatória 2024/2025?\\nAnswer: Revisão da regulamentação de películas de celulose regeneradas em contato com alimentos.']"
      ]
     },
     "execution_count": 15,
     "metadata": {},
     "output_type": "execute_result"
    }
   ],
   "source": [
    "questions"
   ]
  },
  {
   "cell_type": "markdown",
   "metadata": {},
   "source": [
    "Parsing de la Preguntas"
   ]
  },
  {
   "cell_type": "code",
   "execution_count": 16,
   "metadata": {},
   "outputs": [],
   "source": [
    "questions_processed = []\n",
    "ground_truth = []\n",
    "for question in questions:\n",
    "    questions_processed.append(question.split(\"Factoid question: \")[-1].split(\"Answer: \")[0])\n",
    "    ground_truth.append(question.split(\"Factoid question: \")[-1].split(\"Answer: \")[1])"
   ]
  },
  {
   "cell_type": "code",
   "execution_count": 17,
   "metadata": {},
   "outputs": [
    {
     "name": "stderr",
     "output_type": "stream",
     "text": [
      "C:\\Users\\nicol\\AppData\\Local\\Temp\\ipykernel_37312\\1022487351.py:6: LangChainDeprecationWarning: The method `BaseRetriever.get_relevant_documents` was deprecated in langchain-core 0.1.46 and will be removed in 1.0. Use :meth:`~invoke` instead.\n",
      "  contexts.append([docs.page_content for docs in retriever.get_relevant_documents(query)])\n"
     ]
    }
   ],
   "source": [
    "contexts = []\n",
    "answers = []\n",
    "# Inference\n",
    "for query in questions:\n",
    "    answers.append(rag_chain.invoke(query))\n",
    "    contexts.append([docs.page_content for docs in retriever.get_relevant_documents(query)])\n"
   ]
  },
  {
   "cell_type": "markdown",
   "metadata": {},
   "source": [
    "d) Generación de Diccionario"
   ]
  },
  {
   "cell_type": "code",
   "execution_count": 18,
   "metadata": {},
   "outputs": [],
   "source": [
    "data = {\n",
    "    \"question\": questions,\n",
    "    \"answer\": answers,\n",
    "    \"reference\": ground_truth,\n",
    "    \"retrieved_contexts\": contexts\n",
    "}"
   ]
  },
  {
   "cell_type": "code",
   "execution_count": 17,
   "metadata": {},
   "outputs": [],
   "source": [
    "#!pip install datasets"
   ]
  },
  {
   "cell_type": "code",
   "execution_count": 19,
   "metadata": {},
   "outputs": [],
   "source": [
    "from datasets import Dataset\n",
    "\n",
    "# Convert dict to dataset\n",
    "dataset = Dataset.from_dict(data)"
   ]
  },
  {
   "cell_type": "markdown",
   "metadata": {},
   "source": [
    "### 3. Evaluación de Métricas on RAGAS"
   ]
  },
  {
   "cell_type": "code",
   "execution_count": 20,
   "metadata": {},
   "outputs": [],
   "source": [
    "# !pip intall ragas"
   ]
  },
  {
   "cell_type": "code",
   "execution_count": 21,
   "metadata": {},
   "outputs": [],
   "source": [
    "from ragas import evaluate\n",
    "from ragas.metrics import (\n",
    "    faithfulness, # Measures how well the model generates answers that are faithful to the context\n",
    "    answer_relevancy, # Measures how well the model generates answers that are relevant to the question\n",
    "    context_recall, # Context recall measures how well the model retrieves relevant context\n",
    "    context_precision, # Context precision measures how well the model retrieves only relevant context\n",
    ")"
   ]
  },
  {
   "cell_type": "code",
   "execution_count": 22,
   "metadata": {},
   "outputs": [
    {
     "name": "stderr",
     "output_type": "stream",
     "text": [
      "Evaluating: 100%|██████████| 60/60 [00:24<00:00,  2.41it/s]\n"
     ]
    },
    {
     "data": {
      "text/html": [
       "<div>\n",
       "<style scoped>\n",
       "    .dataframe tbody tr th:only-of-type {\n",
       "        vertical-align: middle;\n",
       "    }\n",
       "\n",
       "    .dataframe tbody tr th {\n",
       "        vertical-align: top;\n",
       "    }\n",
       "\n",
       "    .dataframe thead th {\n",
       "        text-align: right;\n",
       "    }\n",
       "</style>\n",
       "<table border=\"1\" class=\"dataframe\">\n",
       "  <thead>\n",
       "    <tr style=\"text-align: right;\">\n",
       "      <th></th>\n",
       "      <th>user_input</th>\n",
       "      <th>retrieved_contexts</th>\n",
       "      <th>response</th>\n",
       "      <th>reference</th>\n",
       "      <th>context_recall</th>\n",
       "      <th>faithfulness</th>\n",
       "      <th>answer_relevancy</th>\n",
       "      <th>context_precision</th>\n",
       "    </tr>\n",
       "  </thead>\n",
       "  <tbody>\n",
       "    <tr>\n",
       "      <th>0</th>\n",
       "      <td>Factoid question: Quais são os limites máximos...</td>\n",
       "      <td>[Documento de Perguntas e Respostas sobre Cont...</td>\n",
       "      <td>Não sei, peço desculpas.</td>\n",
       "      <td>Os limites máximos tolerados (LMT) de contamin...</td>\n",
       "      <td>1.0</td>\n",
       "      <td>0.0</td>\n",
       "      <td>0.000000</td>\n",
       "      <td>1.000000</td>\n",
       "    </tr>\n",
       "    <tr>\n",
       "      <th>1</th>\n",
       "      <td>Factoid question: Qual é o tema regulatório 3....</td>\n",
       "      <td>[1.18. Requisitos sanitários para óleos e gord...</td>\n",
       "      <td>I don't know, apologies.</td>\n",
       "      <td>Atualização periódica da lista de espécies veg...</td>\n",
       "      <td>1.0</td>\n",
       "      <td>0.0</td>\n",
       "      <td>0.000000</td>\n",
       "      <td>1.000000</td>\n",
       "    </tr>\n",
       "    <tr>\n",
       "      <th>2</th>\n",
       "      <td>Factoid question: Quais são os procedimentos p...</td>\n",
       "      <td>[1.5. Procedimentos para autorização de uso de...</td>\n",
       "      <td>Procedimentos para autorização de uso de aditi...</td>\n",
       "      <td>Procedimentos para autorização de uso de aditi...</td>\n",
       "      <td>1.0</td>\n",
       "      <td>1.0</td>\n",
       "      <td>0.843838</td>\n",
       "      <td>1.000000</td>\n",
       "    </tr>\n",
       "    <tr>\n",
       "      <th>3</th>\n",
       "      <td>Factoid question: Qual é o ato que estabelece ...</td>\n",
       "      <td>[IN 75/2020  - Estabelece os requisitos técnic...</td>\n",
       "      <td>IN 75/2020.</td>\n",
       "      <td>IN 75/2020</td>\n",
       "      <td>1.0</td>\n",
       "      <td>1.0</td>\n",
       "      <td>0.000000</td>\n",
       "      <td>1.000000</td>\n",
       "    </tr>\n",
       "    <tr>\n",
       "      <th>4</th>\n",
       "      <td>Factoid question: Quais são os documentos rela...</td>\n",
       "      <td>[Documentos relacionados: \\nPerguntas e Respos...</td>\n",
       "      <td>Os documentos relacionados aos requisitos sani...</td>\n",
       "      <td>Perguntas e Respostas sobre Suplementos Alimen...</td>\n",
       "      <td>0.5</td>\n",
       "      <td>0.5</td>\n",
       "      <td>0.823786</td>\n",
       "      <td>1.000000</td>\n",
       "    </tr>\n",
       "    <tr>\n",
       "      <th>5</th>\n",
       "      <td>Factoid question: Qual é a lei que dispõe sobr...</td>\n",
       "      <td>[3.5. Regularização da doação de alimentos com...</td>\n",
       "      <td>Lei 14.016/2020.</td>\n",
       "      <td>Lei 14.016/2020</td>\n",
       "      <td>1.0</td>\n",
       "      <td>1.0</td>\n",
       "      <td>0.560817</td>\n",
       "      <td>1.000000</td>\n",
       "    </tr>\n",
       "    <tr>\n",
       "      <th>6</th>\n",
       "      <td>Factoid question: Quando foi a última atualiza...</td>\n",
       "      <td>[BIBLIOTECA DE \\nALIMENTOS \\nAtualizada em 06....</td>\n",
       "      <td>Atualizada em 06.11.2024.</td>\n",
       "      <td>Atualizada em 06.11.2024</td>\n",
       "      <td>1.0</td>\n",
       "      <td>1.0</td>\n",
       "      <td>0.000000</td>\n",
       "      <td>0.805556</td>\n",
       "    </tr>\n",
       "    <tr>\n",
       "      <th>7</th>\n",
       "      <td>Factoid question: O que é o Programa de contro...</td>\n",
       "      <td>[4.2. Programa de controle de alergênicos em a...</td>\n",
       "      <td>Desculpe, não sei a resposta.</td>\n",
       "      <td>Um programa que visa controlar a presença de s...</td>\n",
       "      <td>1.0</td>\n",
       "      <td>0.0</td>\n",
       "      <td>0.000000</td>\n",
       "      <td>0.416667</td>\n",
       "    </tr>\n",
       "    <tr>\n",
       "      <th>8</th>\n",
       "      <td>Factoid question: Qual a lei que define o Sist...</td>\n",
       "      <td>[1. Regularização, avaliação de risco e padrõe...</td>\n",
       "      <td>Lei 9.782/1999.</td>\n",
       "      <td>Lei 9.782/1999</td>\n",
       "      <td>1.0</td>\n",
       "      <td>1.0</td>\n",
       "      <td>0.000000</td>\n",
       "      <td>0.750000</td>\n",
       "    </tr>\n",
       "    <tr>\n",
       "      <th>9</th>\n",
       "      <td>Factoid question: Quais normas foram alteradas...</td>\n",
       "      <td>[RDC 48/2014 – Altera a RDC 45/2011. \\nRDC 241...</td>\n",
       "      <td>RDC 43, 44, and 45/2011 were altered by RDC 42...</td>\n",
       "      <td>RDC 43, 44, e 45/2011 foram alteradas pela RDC...</td>\n",
       "      <td>1.0</td>\n",
       "      <td>1.0</td>\n",
       "      <td>0.704515</td>\n",
       "      <td>1.000000</td>\n",
       "    </tr>\n",
       "    <tr>\n",
       "      <th>10</th>\n",
       "      <td>Factoid question: Qual a legislação que dispõe...</td>\n",
       "      <td>[Lei 6.150/1974 – Dispõe sobre a obrigatorieda...</td>\n",
       "      <td>Lei 6.150/1974.</td>\n",
       "      <td>Lei 6.150/1974</td>\n",
       "      <td>1.0</td>\n",
       "      <td>1.0</td>\n",
       "      <td>0.000000</td>\n",
       "      <td>1.000000</td>\n",
       "    </tr>\n",
       "    <tr>\n",
       "      <th>11</th>\n",
       "      <td>Factoid question: Quais são os requisitos sani...</td>\n",
       "      <td>[poliméricos em contato com alimentos. \\n \\nRD...</td>\n",
       "      <td>RDC 854/2024 - Sanitary requirements applicabl...</td>\n",
       "      <td>RDC 854/2024 - Requisitos sanitários aplicávei...</td>\n",
       "      <td>1.0</td>\n",
       "      <td>1.0</td>\n",
       "      <td>0.609035</td>\n",
       "      <td>1.000000</td>\n",
       "    </tr>\n",
       "    <tr>\n",
       "      <th>12</th>\n",
       "      <td>Factoid question: Qual lei obriga que os produ...</td>\n",
       "      <td>[de 2003. \\n \\nLei 10.674/2003  – Obriga a que...</td>\n",
       "      <td>Lei 10.674/2003.</td>\n",
       "      <td>Lei 10.674/2003</td>\n",
       "      <td>1.0</td>\n",
       "      <td>1.0</td>\n",
       "      <td>0.000000</td>\n",
       "      <td>1.000000</td>\n",
       "    </tr>\n",
       "    <tr>\n",
       "      <th>13</th>\n",
       "      <td>Factoid question: Quais são os requisitos sani...</td>\n",
       "      <td>[1.11. Requisitos sanitários para alimentos pa...</td>\n",
       "      <td>Requisitos sanitários para alimentos para fins...</td>\n",
       "      <td>Requisitos sanitários para alimentos para fins...</td>\n",
       "      <td>1.0</td>\n",
       "      <td>1.0</td>\n",
       "      <td>0.000000</td>\n",
       "      <td>0.638889</td>\n",
       "    </tr>\n",
       "    <tr>\n",
       "      <th>14</th>\n",
       "      <td>Factoid question: Qual é o tema regulatório 3....</td>\n",
       "      <td>[Tema Regulatório 3.20 da Agenda Regulatória 2...</td>\n",
       "      <td>Revisão da regulamentação de películas de celu...</td>\n",
       "      <td>Revisão da regulamentação de películas de celu...</td>\n",
       "      <td>1.0</td>\n",
       "      <td>1.0</td>\n",
       "      <td>0.574796</td>\n",
       "      <td>1.000000</td>\n",
       "    </tr>\n",
       "  </tbody>\n",
       "</table>\n",
       "</div>"
      ],
      "text/plain": [
       "                                           user_input  \\\n",
       "0   Factoid question: Quais são os limites máximos...   \n",
       "1   Factoid question: Qual é o tema regulatório 3....   \n",
       "2   Factoid question: Quais são os procedimentos p...   \n",
       "3   Factoid question: Qual é o ato que estabelece ...   \n",
       "4   Factoid question: Quais são os documentos rela...   \n",
       "5   Factoid question: Qual é a lei que dispõe sobr...   \n",
       "6   Factoid question: Quando foi a última atualiza...   \n",
       "7   Factoid question: O que é o Programa de contro...   \n",
       "8   Factoid question: Qual a lei que define o Sist...   \n",
       "9   Factoid question: Quais normas foram alteradas...   \n",
       "10  Factoid question: Qual a legislação que dispõe...   \n",
       "11  Factoid question: Quais são os requisitos sani...   \n",
       "12  Factoid question: Qual lei obriga que os produ...   \n",
       "13  Factoid question: Quais são os requisitos sani...   \n",
       "14  Factoid question: Qual é o tema regulatório 3....   \n",
       "\n",
       "                                   retrieved_contexts  \\\n",
       "0   [Documento de Perguntas e Respostas sobre Cont...   \n",
       "1   [1.18. Requisitos sanitários para óleos e gord...   \n",
       "2   [1.5. Procedimentos para autorização de uso de...   \n",
       "3   [IN 75/2020  - Estabelece os requisitos técnic...   \n",
       "4   [Documentos relacionados: \\nPerguntas e Respos...   \n",
       "5   [3.5. Regularização da doação de alimentos com...   \n",
       "6   [BIBLIOTECA DE \\nALIMENTOS \\nAtualizada em 06....   \n",
       "7   [4.2. Programa de controle de alergênicos em a...   \n",
       "8   [1. Regularização, avaliação de risco e padrõe...   \n",
       "9   [RDC 48/2014 – Altera a RDC 45/2011. \\nRDC 241...   \n",
       "10  [Lei 6.150/1974 – Dispõe sobre a obrigatorieda...   \n",
       "11  [poliméricos em contato com alimentos. \\n \\nRD...   \n",
       "12  [de 2003. \\n \\nLei 10.674/2003  – Obriga a que...   \n",
       "13  [1.11. Requisitos sanitários para alimentos pa...   \n",
       "14  [Tema Regulatório 3.20 da Agenda Regulatória 2...   \n",
       "\n",
       "                                             response  \\\n",
       "0                            Não sei, peço desculpas.   \n",
       "1                            I don't know, apologies.   \n",
       "2   Procedimentos para autorização de uso de aditi...   \n",
       "3                                         IN 75/2020.   \n",
       "4   Os documentos relacionados aos requisitos sani...   \n",
       "5                                    Lei 14.016/2020.   \n",
       "6                           Atualizada em 06.11.2024.   \n",
       "7                       Desculpe, não sei a resposta.   \n",
       "8                                     Lei 9.782/1999.   \n",
       "9   RDC 43, 44, and 45/2011 were altered by RDC 42...   \n",
       "10                                    Lei 6.150/1974.   \n",
       "11  RDC 854/2024 - Sanitary requirements applicabl...   \n",
       "12                                   Lei 10.674/2003.   \n",
       "13  Requisitos sanitários para alimentos para fins...   \n",
       "14  Revisão da regulamentação de películas de celu...   \n",
       "\n",
       "                                            reference  context_recall  \\\n",
       "0   Os limites máximos tolerados (LMT) de contamin...             1.0   \n",
       "1   Atualização periódica da lista de espécies veg...             1.0   \n",
       "2   Procedimentos para autorização de uso de aditi...             1.0   \n",
       "3                                          IN 75/2020             1.0   \n",
       "4   Perguntas e Respostas sobre Suplementos Alimen...             0.5   \n",
       "5                                     Lei 14.016/2020             1.0   \n",
       "6                            Atualizada em 06.11.2024             1.0   \n",
       "7   Um programa que visa controlar a presença de s...             1.0   \n",
       "8                                      Lei 9.782/1999             1.0   \n",
       "9   RDC 43, 44, e 45/2011 foram alteradas pela RDC...             1.0   \n",
       "10                                     Lei 6.150/1974             1.0   \n",
       "11  RDC 854/2024 - Requisitos sanitários aplicávei...             1.0   \n",
       "12                                    Lei 10.674/2003             1.0   \n",
       "13  Requisitos sanitários para alimentos para fins...             1.0   \n",
       "14  Revisão da regulamentação de películas de celu...             1.0   \n",
       "\n",
       "    faithfulness  answer_relevancy  context_precision  \n",
       "0            0.0          0.000000           1.000000  \n",
       "1            0.0          0.000000           1.000000  \n",
       "2            1.0          0.843838           1.000000  \n",
       "3            1.0          0.000000           1.000000  \n",
       "4            0.5          0.823786           1.000000  \n",
       "5            1.0          0.560817           1.000000  \n",
       "6            1.0          0.000000           0.805556  \n",
       "7            0.0          0.000000           0.416667  \n",
       "8            1.0          0.000000           0.750000  \n",
       "9            1.0          0.704515           1.000000  \n",
       "10           1.0          0.000000           1.000000  \n",
       "11           1.0          0.609035           1.000000  \n",
       "12           1.0          0.000000           1.000000  \n",
       "13           1.0          0.000000           0.638889  \n",
       "14           1.0          0.574796           1.000000  "
      ]
     },
     "execution_count": 22,
     "metadata": {},
     "output_type": "execute_result"
    }
   ],
   "source": [
    "result = evaluate(\n",
    "    dataset = dataset,\n",
    "    llm=llm,\n",
    "    embeddings=embeddings,\n",
    "    metrics=[\n",
    "        context_recall,\n",
    "        faithfulness,\n",
    "        answer_relevancy,\n",
    "        context_precision,\n",
    "    ],)\n",
    "\n",
    "df = result.to_pandas()\n",
    "df"
   ]
  },
  {
   "cell_type": "markdown",
   "metadata": {},
   "source": [
    "Generación de Archivo CSV con resultados"
   ]
  },
  {
   "cell_type": "code",
   "execution_count": 23,
   "metadata": {},
   "outputs": [],
   "source": [
    "df.to_csv(\"results/baseline_ragas_results.csv\", index=False)"
   ]
  },
  {
   "cell_type": "markdown",
   "metadata": {},
   "source": [
    "Promedio de Métricas"
   ]
  },
  {
   "cell_type": "code",
   "execution_count": 24,
   "metadata": {},
   "outputs": [
    {
     "name": "stdout",
     "output_type": "stream",
     "text": [
      "Mean Faithfulness:  0.7667\n",
      "Mean Answer relevancy:  0.2745\n",
      "Mean Context recall:  0.9667\n",
      "Mean Context precision:  0.9074\n"
     ]
    }
   ],
   "source": [
    "# get mean of the metrics column by column\n",
    "print(\"Mean Faithfulness: \", round(df[\"faithfulness\"].mean(), 4))\n",
    "print(\"Mean Answer relevancy: \", round(df[\"answer_relevancy\"].mean(), 4))\n",
    "print(\"Mean Context recall: \", round(df[\"context_recall\"].mean(), 4))\n",
    "print(\"Mean Context precision: \", round(df[\"context_precision\"].mean(), 4))\n"
   ]
  },
  {
   "cell_type": "markdown",
   "metadata": {},
   "source": [
    "### 4. Agregando un paso de 'Rerankeo'"
   ]
  },
  {
   "cell_type": "markdown",
   "metadata": {},
   "source": [
    "Esto permite reordenar los documentos de acuerdo a su relevancia semantica"
   ]
  },
  {
   "cell_type": "code",
   "execution_count": 25,
   "metadata": {},
   "outputs": [],
   "source": [
    "query = \"What is the purpose of the regulation?\"\n",
    "\n",
    "retrieved_docs = retriever.get_relevant_documents(query, kwargs={\"k\": 10})"
   ]
  },
  {
   "cell_type": "code",
   "execution_count": 26,
   "metadata": {},
   "outputs": [
    {
     "data": {
      "text/plain": [
       "[Document(metadata={'source': '../data/biblioteca-de-alimentos.pdf', 'page': 4, '_id': 'a2df4122737347ceb8eaf82a332a176b', '_collection_name': 'my_documents'}, page_content='Tema Regulatório 3.22 da Agenda Regulatória 2024/2025: Revisão da regulamentação sobre regularização  \\nde alimentos dispensados de registro.'),\n",
       " Document(metadata={'source': '../data/biblioteca-de-alimentos.pdf', 'page': 17, '_id': 'ee4f21b81fcd406fb20670cd62b132af', '_collection_name': 'my_documents'}, page_content='Equivalente (AREE) \\n \\nTema Regulatório 3.1 da Agenda Regulatória 2024/2025 - A regulamentar. \\n1.26. Regulamentação dos alimentos para fins médicos \\n \\nTema Regulatório 3.10 da Agenda Regulatória 2024/2025 - A regulamentar.'),\n",
       " Document(metadata={'source': '../data/biblioteca-de-alimentos.pdf', 'page': 17, '_id': '99d0e4de7a124e748db4de89ee8cb7a2', '_collection_name': 'my_documents'}, page_content='Tema Regulatório 3.16 da Agenda Regulatória 2024/2025: Revisão da regulamentação de autorização de uso \\ne de rotulagem de aditivos edulcorantes em alimentos.'),\n",
       " Document(metadata={'source': '../data/biblioteca-de-alimentos.pdf', 'page': 6, '_id': '63c3643d8ece4b7aab21c73f523ae2bb', '_collection_name': 'my_documents'}, page_content='Tema Regulatório 3.16 da Agenda Regulatória 2024/2025: Revisão da regulamentação de autorização de uso \\ne de rotulagem de aditivos edulcorantes em alimentos.')]"
      ]
     },
     "execution_count": 26,
     "metadata": {},
     "output_type": "execute_result"
    }
   ],
   "source": [
    "retrieved_docs"
   ]
  },
  {
   "cell_type": "markdown",
   "metadata": {},
   "source": [
    "Mediante Cohere (no utilizado)"
   ]
  },
  {
   "cell_type": "code",
   "execution_count": 26,
   "metadata": {},
   "outputs": [],
   "source": [
    "# import cohere as co\n",
    "# cohere_client = co.Client(os.getenv(\"COHERE_API_KEY\"))\n",
    "# def rerank_docs(query, retrieved_docs):\n",
    "#     reranked_docs = cohere_client.rerank(\n",
    "#         model=\"rerank-english-v3.0\",\n",
    "#         query=query,\n",
    "#         documents=retrieved_docs,\n",
    "#         rank_fields=[\"page_content\"],\n",
    "#         return_documents=True\n",
    "#     )\n",
    "#     return reranked_docs\n"
   ]
  },
  {
   "cell_type": "markdown",
   "metadata": {},
   "source": [
    "Mediante Rerankers"
   ]
  },
  {
   "cell_type": "code",
   "execution_count": 36,
   "metadata": {},
   "outputs": [],
   "source": [
    "from rerankers import Reranker\n",
    "\n",
    "def open_source_reranker(query, retrieved_docs):\n",
    "    reranker = Reranker('cross-encoder', verbose=0,model_type='cross-encoder',lang='pt')\t\n",
    "    #reranker = Reranker(\"colbert\") # colber model used for reranking\n",
    "    retrieved_docs = [doc.page_content for doc in retrieved_docs]\n",
    "    reranked_docs = reranker.rank(query, retrieved_docs)\n",
    "    return reranked_docs\n"
   ]
  },
  {
   "cell_type": "code",
   "execution_count": 37,
   "metadata": {},
   "outputs": [
    {
     "name": "stdout",
     "output_type": "stream",
     "text": [
      "Loading default cross-encoder model for language pt\n"
     ]
    },
    {
     "name": "stderr",
     "output_type": "stream",
     "text": [
      "c:\\Users\\nicol\\AppData\\Local\\Programs\\Python\\Python312\\Lib\\site-packages\\huggingface_hub\\file_download.py:139: UserWarning: `huggingface_hub` cache-system uses symlinks by default to efficiently store duplicated files but your machine does not support them in C:\\Users\\nicol\\.cache\\huggingface\\hub\\models--corrius--cross-encoder-mmarco-mMiniLMv2-L12-H384-v1. Caching files will still work but in a degraded version that might require more space on your disk. This warning can be disabled by setting the `HF_HUB_DISABLE_SYMLINKS_WARNING` environment variable. For more details, see https://huggingface.co/docs/huggingface_hub/how-to-cache#limitations.\n",
      "To support symlinks on Windows, you either need to activate Developer Mode or to run Python as an administrator. In order to activate developer mode, see this article: https://docs.microsoft.com/en-us/windows/apps/get-started/enable-your-device-for-development\n",
      "  warnings.warn(message)\n"
     ]
    }
   ],
   "source": [
    "reranked_docs = open_source_reranker(query, retrieved_docs)"
   ]
  },
  {
   "cell_type": "code",
   "execution_count": 38,
   "metadata": {},
   "outputs": [
    {
     "data": {
      "text/plain": [
       "[Result(document=Document(document_type='text', text='Tema Regulatório 3.6 da Agenda Regulatória 2024/2025: Regulamentação da declaração quantitativa de  \\ningredientes na rotulagem de alimentos embalados.', base64=None, image_path=None, doc_id=2, metadata={}), score=-0.21018770337104797, rank=1),\n",
       " Result(document=Document(document_type='text', text='Tema Regulatório 3.23 da Agenda Regulatória 2024/2025: Revisão da regulamentação sobre rotulagem  dos \\nprincipais alimentos alergênicos. \\nTema Regulatório 3.24 da Agenda Regulatória 2024/2025: Revisão da regulamentação sobre rotulagem geral', base64=None, image_path=None, doc_id=1, metadata={}), score=-1.5647499561309814, rank=2),\n",
       " Result(document=Document(document_type='text', text='Tema Regulatório 3.13 da Agenda Regulatória 2024/2025: Revisão da lista positiva de aditivos destinados à  \\nelaboração de materiais plásticos e revestimentos poliméricos em contato com alimentos.', base64=None, image_path=None, doc_id=3, metadata={}), score=-4.889133930206299, rank=3),\n",
       " Result(document=Document(document_type='text', text='Tema Regulatório 3.20 da Agenda Regulatória 2024/2025: Revisão da regulamentação de películas de  \\ncelulose regeneradas em contato com alimentos. \\nTema Regulatório 3.21 da Agenda Regulatória 2024/2025: Revisão da regulamentação sobre materiais,', base64=None, image_path=None, doc_id=0, metadata={}), score=-6.166851997375488, rank=4)]"
      ]
     },
     "execution_count": 38,
     "metadata": {},
     "output_type": "execute_result"
    }
   ],
   "source": [
    "reranked_docs.results"
   ]
  },
  {
   "cell_type": "code",
   "execution_count": 39,
   "metadata": {},
   "outputs": [
    {
     "name": "stdout",
     "output_type": "stream",
     "text": [
      "Loading default cross-encoder model for language pt\n",
      "Loading default cross-encoder model for language pt\n",
      "Loading default cross-encoder model for language pt\n",
      "Loading default cross-encoder model for language pt\n",
      "Loading default cross-encoder model for language pt\n",
      "Loading default cross-encoder model for language pt\n",
      "Loading default cross-encoder model for language pt\n",
      "Loading default cross-encoder model for language pt\n",
      "Loading default cross-encoder model for language pt\n",
      "Loading default cross-encoder model for language pt\n",
      "Loading default cross-encoder model for language pt\n",
      "Loading default cross-encoder model for language pt\n",
      "Loading default cross-encoder model for language pt\n",
      "Loading default cross-encoder model for language pt\n",
      "Loading default cross-encoder model for language pt\n"
     ]
    }
   ],
   "source": [
    "contexts = []\n",
    "answers = []\n",
    "# Inference\n",
    "for query in questions:\n",
    "    answers.append(rag_chain.invoke(query))\n",
    "    retrieved_docs = retriever.get_relevant_documents(query)\n",
    "    reranked_docs = open_source_reranker(query, retrieved_docs)\n",
    "    if reranked_docs.results:  # Check if there are any results\n",
    "        contexts.append([reranked_docs.results[0].document.text])\n",
    "\n",
    "data = {\n",
    "    \"question\": questions,\n",
    "    \"answer\": answers,\n",
    "    \"reference\": ground_truth,\n",
    "    \"retrieved_contexts\": contexts\n",
    "}"
   ]
  },
  {
   "cell_type": "code",
   "execution_count": 40,
   "metadata": {},
   "outputs": [
    {
     "name": "stderr",
     "output_type": "stream",
     "text": [
      "Evaluating:  15%|█▌        | 9/60 [00:03<00:14,  3.46it/s]No statements were generated from the answer.\n",
      "Evaluating: 100%|██████████| 60/60 [00:22<00:00,  2.68it/s]\n"
     ]
    }
   ],
   "source": [
    "reranked_dataset = Dataset.from_dict(data)\n",
    "result = evaluate(\n",
    "    dataset = reranked_dataset,\n",
    "    llm=llm,\n",
    "    embeddings=embeddings,\n",
    "    metrics=[\n",
    "        context_recall,\n",
    "        faithfulness,\n",
    "        answer_relevancy,\n",
    "        context_precision,\n",
    "    ],)\n",
    "reranked_df = result.to_pandas()\n",
    "reranked_df.to_csv(\"results/reranked_baseline_ragas_results.csv\", index=False)\n"
   ]
  },
  {
   "cell_type": "code",
   "execution_count": 41,
   "metadata": {},
   "outputs": [
    {
     "name": "stdout",
     "output_type": "stream",
     "text": [
      "Mean Faithfulness:  0.5714\n",
      "Mean Answer relevancy:  0.2812\n",
      "Mean Context recall:  1.0\n",
      "Mean Context precision:  0.8667\n"
     ]
    }
   ],
   "source": [
    "# get mean of the metrics column by column\n",
    "print(\"Mean Faithfulness: \", round(reranked_df[\"faithfulness\"].mean(), 4))\n",
    "print(\"Mean Answer relevancy: \", round(reranked_df[\"answer_relevancy\"].mean(), 4))\n",
    "print(\"Mean Context recall: \", round(reranked_df[\"context_recall\"].mean(), 4))\n",
    "print(\"Mean Context precision: \", round(reranked_df[\"context_precision\"].mean(), 4))"
   ]
  },
  {
   "cell_type": "code",
   "execution_count": null,
   "metadata": {},
   "outputs": [],
   "source": []
  }
 ],
 "metadata": {
  "kernelspec": {
   "display_name": "Python 3",
   "language": "python",
   "name": "python3"
  },
  "language_info": {
   "codemirror_mode": {
    "name": "ipython",
    "version": 3
   },
   "file_extension": ".py",
   "mimetype": "text/x-python",
   "name": "python",
   "nbconvert_exporter": "python",
   "pygments_lexer": "ipython3",
   "version": "3.12.3"
  }
 },
 "nbformat": 4,
 "nbformat_minor": 2
}
