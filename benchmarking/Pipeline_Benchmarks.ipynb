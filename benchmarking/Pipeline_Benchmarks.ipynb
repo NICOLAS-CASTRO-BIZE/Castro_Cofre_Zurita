{
 "cells": [
  {
   "cell_type": "markdown",
   "metadata": {},
   "source": [
    "# BENCHMARKING\n",
    "\n"
   ]
  },
  {
   "cell_type": "markdown",
   "metadata": {},
   "source": [
    "Carga de Variables de entorno"
   ]
  },
  {
   "cell_type": "code",
   "execution_count": 1,
   "metadata": {},
   "outputs": [
    {
     "data": {
      "text/plain": [
       "True"
      ]
     },
     "execution_count": 1,
     "metadata": {},
     "output_type": "execute_result"
    }
   ],
   "source": [
    "from dotenv import load_dotenv\n",
    "load_dotenv()"
   ]
  },
  {
   "cell_type": "code",
   "execution_count": 2,
   "metadata": {},
   "outputs": [],
   "source": [
    "import sys\n",
    "import os\n",
    "\n",
    "# Obtener el directorio raíz (el que contiene tanto \"src\" como \"benchmarking\")\n",
    "root_dir = os.path.abspath(os.path.join(os.path.dirname(\"Pipeline_Benchmarks.ipynb\"), '..'))\n",
    "\n",
    "# Agregar el directorio raíz al PYTHONPATH\n",
    "sys.path.append(root_dir)"
   ]
  },
  {
   "cell_type": "markdown",
   "metadata": {},
   "source": [
    "### Pipeline\n"
   ]
  },
  {
   "cell_type": "code",
   "execution_count": null,
   "metadata": {},
   "outputs": [
    {
     "name": "stderr",
     "output_type": "stream",
     "text": [
      "Fetching 29 files: 100%|██████████| 29/29 [00:00<?, ?it/s]\n"
     ]
    },
    {
     "name": "stdout",
     "output_type": "stream",
     "text": [
      "Results passed to Reranker: ['11.265, de 3 de janeiro de 2006, que regulamenta a comercialização de alimentos para lactentes e \\ncrianças de primeira infância e a de produtos de puericultura correlatos, e dá outras providências.', 'e Boas Práticas  \\n3.1. Boas Práticas de Fabricação (BPF) para estabelecimentos industrializadores de \\nalimentos \\n \\nTema Regulatório 3.26 da Agenda Regulatória 202 4/2025: Revisão das normas de Boas práticas de alimentos \\n \\nTema Regulatório 3.26 da Agenda Regulatória 202 4/2025: Revisão das normas de Boas práticas de  \\nfabricação (BPF) para estabelecimentos industrializadores de alimentos.', 'Decreto-Lei 986/1969 – Institui normas básicas sobre alimentos. \\nLei 11.265/2006 – Regulamenta a comercialização de alimentos para lactentes e crianças de primeira infância Lei 11.265/2006 – Regulamenta a comercialização de alimentos para lactentes e crianças de primeira infância \\ne também a de produtos de puericultura correlatos. \\n Alterada por: \\nLei 11.474/2007 \\nAto relacionado:', 'RDC 18/1999 - Processo de industrialização e comercialização de palmitos. \\nAlterada por: \\nRDC 7/2000 – Certificado de Boas Práticas de Fabricação e controle para fins de autorização para Alterada por: \\nRDC 7/2000 – Certificado de Boas Práticas de Fabricação e controle para fins de autorização para \\nexportação de palmito em conserva para o Brasil.', 'Lei 11.265/2006 – Regulamenta a comercialização de alimentos para lactentes e crianças de primeira infância \\ne a de produtos de puericultura correlatos. \\n Alterada por:']\n"
     ]
    }
   ],
   "source": [
    "from src.loaders.load import load_pdf\n",
    "from src.chunking.chunk import generate_chunks\n",
    "from src.chunking.semantic_chunk import generate_semantic_chunk\n",
    "from src.chunking.semantic_chunk2 import generate_semantic_chunks\n",
    "from src.embedding.embedding import generate_embeddings\n",
    "#from src.vector_store_client.qdrant import create_qdrant_vector_store\n",
    "from src.vector_store_client.qdrant_hybrid import create_qdrant_vector_store_hybrid\n",
    "from src.vector_store_client.hybrid import run_hybrid_search\n",
    "from src.retrievers.retrieve import retrieve_documents\n",
    "from src.retrievers.rank import rank_results\n",
    "from src.augmented.llm import generate_augmented_response\n",
    "\n",
    "# Cargar documentos\n",
    "file_path = \"../data/biblioteca-de-alimentos2.pdf\"\n",
    "#\"Castro_Cofre_Zurita/data/biblioteca-de-alimentos.pdf\"\n",
    "documents = load_pdf(file_path)\n",
    "\n",
    "# Dividir en chunks\n",
    "output_folder = \"..data/chunks/\"\n",
    "#chunks = generate_chunks(documents)\n",
    "chunks = generate_semantic_chunk(documents, chunk_size=215,chunk_overlap=0)\n",
    "#chunks = generate_semantic_chunks(documents, percentile=79)\n",
    "# Generar embeddings y obtener el modelo de embeddings\n",
    "\n",
    "embeddings, embedding_model = generate_embeddings(chunks)\n",
    "\n",
    "# Crear base vectorial usando el modelo de embeddings\n",
    "\n",
    "#vector_store = create_qdrant_vector_store(chunks, embedding_model)\n",
    "#vector_store = create_qdrant_vector_store(chunks, embedding_model)\n",
    "\n",
    "# Consultar la base vectorial\n",
    "query = \"Quais são as normas para lactantes no Brasil?\"\n",
    "#\"O que fala acerca do rotulagem?\"\n",
    "#\"Quais são as normas para lactantes no Brasil?\"\n",
    "\n",
    "# devuelve resultados con hybrid search\n",
    "#results = retrieve_documents(query, vector_store,2)\n",
    "results, qdrant = run_hybrid_search(chunks, embedding_model, query)\n",
    "\n",
    "#print(\"Results passed to Reranker:\", [doc.page_content for doc in results])\n"
   ]
  },
  {
   "cell_type": "markdown",
   "metadata": {},
   "source": [
    "Retriever"
   ]
  },
  {
   "cell_type": "code",
   "execution_count": 7,
   "metadata": {},
   "outputs": [],
   "source": [
    "retriever = qdrant.as_retriever()"
   ]
  },
  {
   "cell_type": "code",
   "execution_count": 8,
   "metadata": {},
   "outputs": [],
   "source": [
    "from langchain.prompts import ChatPromptTemplate\n",
    "from langchain.schema.runnable import RunnablePassthrough\n",
    "from langchain.schema.output_parser import StrOutputParser\n",
    "from langchain_ollama import OllamaLLM\n",
    "from langchain_openai import ChatOpenAI\n",
    "\n",
    "\n",
    "#llm = ChatOpenAI(model=\"gpt-4-turbo-preview\") \n",
    "\n",
    "llm = ChatOpenAI(model=\"gpt-3.5-turbo\") \n",
    "\n",
    "# Define prompt template\n",
    "template = \"\"\"Utilize the retrieved context below to answer the question.\n",
    "If you're unsure of the answer, simply state you don't know and apologies in portuguese\n",
    "Keep your response concise, limited to two sentences.\n",
    "Question: {question}\n",
    "Context: {context}\n",
    "\"\"\"\n",
    "\n",
    "prompt = ChatPromptTemplate.from_template(template)\n",
    "\n",
    "# Setup RAG pipeline\n",
    "rag_chain = (\n",
    "    {\"context\": retriever,  \"question\": RunnablePassthrough()} \n",
    "    | prompt \n",
    "    | llm\n",
    "    | StrOutputParser() \n",
    ")"
   ]
  },
  {
   "cell_type": "code",
   "execution_count": 9,
   "metadata": {},
   "outputs": [
    {
     "data": {
      "text/plain": [
       "'The purpose of the regulation is to establish standards and quality criteria for food products and to oversee registration, inspection, and risk control activities in the food sector.'"
      ]
     },
     "execution_count": 9,
     "metadata": {},
     "output_type": "execute_result"
    }
   ],
   "source": [
    "rag_chain.invoke(\"What is the purpose of the regulation?\")"
   ]
  },
  {
   "cell_type": "markdown",
   "metadata": {},
   "source": [
    "### 2.- Pasos previos a la Evaluación"
   ]
  },
  {
   "cell_type": "markdown",
   "metadata": {},
   "source": [
    "a) Creación del Dataset de preuntas y respuestas"
   ]
  },
  {
   "cell_type": "code",
   "execution_count": 10,
   "metadata": {},
   "outputs": [],
   "source": [
    "QA_generation_prompt = ChatPromptTemplate.from_template(\"\"\"\n",
    "Your task is to write a factoid question in and an answer given a context in portuguese.\n",
    "Your factoid question should be answerable with a specific, concise piece of factual information from the context.\n",
    "Your factoid question should be formulated in the same style as questions users could ask in a search engine.\n",
    "This means that your factoid question MUST NOT mention something like \"according to the passage\" or \"context\".\n",
    "\n",
    "Provide your answer as follows:\n",
    "\n",
    "Output:::\n",
    "Factoid question: (your factoid question)\n",
    "Answer: (your answer to the factoid question)\n",
    "\n",
    "Now here is the context.\n",
    "\n",
    "Context: {context}\n",
    "Output:::\"\"\")\n",
    "\n",
    "# Create a chain to create a question\n",
    "question_chain = (\n",
    "    {\"context\": RunnablePassthrough()}\n",
    "    | QA_generation_prompt\n",
    "    | llm\n",
    "    | StrOutputParser()\n",
    ")"
   ]
  },
  {
   "cell_type": "markdown",
   "metadata": {},
   "source": [
    "b) Obtener una Muestra Aleatoria de documentos"
   ]
  },
  {
   "cell_type": "code",
   "execution_count": 11,
   "metadata": {},
   "outputs": [],
   "source": [
    "import random\n",
    "from tqdm import tqdm\n",
    "\n",
    "# Sample 15 documents to generate questions\n",
    "sampled_docs = random.sample(documents, 15)\n",
    "\n",
    "# Generate questions for each document\n",
    "sampled_docs_processed = [doc.page_content for doc in sampled_docs]"
   ]
  },
  {
   "cell_type": "markdown",
   "metadata": {},
   "source": [
    "c) Generar Preguntas y respuestas"
   ]
  },
  {
   "cell_type": "code",
   "execution_count": 12,
   "metadata": {},
   "outputs": [
    {
     "name": "stderr",
     "output_type": "stream",
     "text": [
      "100%|██████████| 15/15 [00:16<00:00,  1.07s/it]\n"
     ]
    }
   ],
   "source": [
    "# Generate questions\n",
    "\n",
    "questions = [question_chain.invoke({\"context\": sampled_context}) for sampled_context in tqdm(sampled_docs_processed)]"
   ]
  },
  {
   "cell_type": "markdown",
   "metadata": {},
   "source": [
    "Visualización de preguntas y respuestas"
   ]
  },
  {
   "cell_type": "code",
   "execution_count": 13,
   "metadata": {},
   "outputs": [
    {
     "data": {
      "text/plain": [
       "['Factoid question: Qual é o número do guia que trata da doação de alimentos com segurança sanitária?\\nAnswer: Guia nº 57, versão 1, de 07/11/2022 - Guia para Doação de Alimentos com Segurança Sanitária.',\n",
       " 'Factoid question: Qual é o tema regulatório da Agenda Regulatória 2024/2025 relacionado à revisão da regulamentação de películas de celulose regeneradas em contato com alimentos?\\nAnswer: Tema Regulatório 3.20 da Agenda Regulatória 2024/2025: Revisão da regulamentação de películas de celulose regeneradas em contato com alimentos.',\n",
       " 'Factoid question: Qual é o tema regulatório 3.5 da Agenda Regulatória 2024/2025?\\nAnswer: Reavaliação da autorização de uso do aditivo alimentar dióxido de titânio em alimentos.',\n",
       " 'Factoid question: Quais são os requisitos sanitários para alimentos para fins especiais de acordo com o tema regulatório 3.27 da Agenda Regulatória 2024/2025?\\nAnswer: Requisitos sanitários para alimentos para fins especiais de acordo com o tema regulatório 3.27 da Agenda Regulatória 2024/2025 incluem a revisão e consolidação da regulamentação sobre alimentos infantis, fórmulas para nutrição enteral e fórmulas dietoterápicas para erros inatos do metabolismo.',\n",
       " 'Factoid question: Quais normas foram alteradas pela RDC 401/2020?\\nAnswer: RDC 22/2015.',\n",
       " 'Factoid question: Quais são os materiais autorizados para a elaboração de embalagens e equipamentos plásticos em contato com alimentos?\\nAnswer: Lista positiva de monômeros, outras substâncias iniciadoras e polímeros autorizados para a elaboração de embalagens e equipamentos plásticos em contato com alimentos.',\n",
       " 'Factoid question: Qual é o tema regulatório 3.29 da Agenda Regulatória 2024/2025?\\nAnswer: Atualização periódica da lista de constituintes, de limites de uso, de alegações e de rotulagem complementar dos suplementos alimentares.',\n",
       " 'Factoid question: Qual é o tema regulatório 3.8 da Agenda Regulatória 2024/2025?\\nAnswer: Regulamentação das listas de novos alimentos e novos ingredientes autorizados e suas especificações.',\n",
       " 'Factoid question: Quais são os temas regulatórios da Agenda Regulatória 2024/2025 relacionados à rotulagem de alimentos?\\nAnswer: Tema Regulatório 3.3, 3.6, 3.9 e 3.16 da Agenda Regulatória 2024/2025.',\n",
       " 'Factoid question: Qual legislação obriga que os produtos alimentícios comercializados informem sobre a presença de glúten?\\nAnswer: Lei 10.674/2003',\n",
       " 'Factoid question: Quais são os temas regulatórios relacionados aos óleos e gorduras vegetais?\\nAnswer: Tema Regulatório 3.30 da Agenda Regulatória 2024/2025: Atualização periódica da lista de espécies vegetais autorizadas, as designações, a composição de ácidos graxos e os valores máximos de acidez e de índice de peróxidos para óleos e gorduras vegetais.',\n",
       " 'Factoid question: Quais são os procedimentos exigidos para importação de alimentos contendo orujo de oliva?\\nAnswer: Apresentação do laudo de análise do produto quanto à presença de hidrocarbonetos policíclicos aromáticos, especificamente o alfa-benzopireno, com identificação do lote e/ou data de produção ou fabricação.',\n",
       " 'Factoid question: Qual a Lei que define o Sistema Nacional de Vigilância Sanitária e cria a Agência Nacional de Vigilância Sanitária?\\nAnswer: Lei 9.782/1999.',\n",
       " 'Factoid question: Qual é o ato relacionado à RDC 717/2022 sobre requisitos sanitários das águas envasadas e do gelo para consumo humano?\\nAnswer: Portaria de Consolidação GM/MS 5/2017',\n",
       " 'Factoid question: Quais são os temas regulatórios relacionados aos materiais em contato com alimentos na Agenda Regulatória 2024/2025?\\nAnswer: Tema Regulatório 3.7 (Regulamentação da reciclagem de materiais plásticos em contato com alimentos), Tema Regulatório 3.12 (Regulamentação dos requisitos sanitários para materiais de silicone em contato com alimentos), Tema Regulatório 3.13 (Revisão da lista positiva de aditivos destinados à elaboração de materiais plásticos e revestimentos poliméricos em contato com alimentos), Tema Regulatório 3.18 (Revisão da regulamentação de embalagens de PET-PCR grau alimentício destinados a entrar em contato com alimentos), Tema Regulatório 3.19 (Revisão da regulamentação de materiais metálicos em contato com alimentos).']"
      ]
     },
     "execution_count": 13,
     "metadata": {},
     "output_type": "execute_result"
    }
   ],
   "source": [
    "questions"
   ]
  },
  {
   "cell_type": "markdown",
   "metadata": {},
   "source": [
    "Parsing de la Preguntas"
   ]
  },
  {
   "cell_type": "code",
   "execution_count": 14,
   "metadata": {},
   "outputs": [],
   "source": [
    "questions_processed = []\n",
    "ground_truth = []\n",
    "for question in questions:\n",
    "    questions_processed.append(question.split(\"Factoid question: \")[-1].split(\"Answer: \")[0])\n",
    "    ground_truth.append(question.split(\"Factoid question: \")[-1].split(\"Answer: \")[1])"
   ]
  },
  {
   "cell_type": "code",
   "execution_count": 15,
   "metadata": {},
   "outputs": [
    {
     "name": "stderr",
     "output_type": "stream",
     "text": [
      "C:\\Users\\nicol\\AppData\\Local\\Temp\\ipykernel_29328\\1022487351.py:6: LangChainDeprecationWarning: The method `BaseRetriever.get_relevant_documents` was deprecated in langchain-core 0.1.46 and will be removed in 1.0. Use :meth:`~invoke` instead.\n",
      "  contexts.append([docs.page_content for docs in retriever.get_relevant_documents(query)])\n"
     ]
    }
   ],
   "source": [
    "contexts = []\n",
    "answers = []\n",
    "# Inference\n",
    "for query in questions:\n",
    "    answers.append(rag_chain.invoke(query))\n",
    "    contexts.append([docs.page_content for docs in retriever.get_relevant_documents(query)])\n"
   ]
  },
  {
   "cell_type": "markdown",
   "metadata": {},
   "source": [
    "d) Generación de Diccionario"
   ]
  },
  {
   "cell_type": "code",
   "execution_count": 16,
   "metadata": {},
   "outputs": [],
   "source": [
    "data = {\n",
    "    \"question\": questions,\n",
    "    \"answer\": answers,\n",
    "    \"reference\": ground_truth,\n",
    "    \"retrieved_contexts\": contexts\n",
    "}"
   ]
  },
  {
   "cell_type": "code",
   "execution_count": 53,
   "metadata": {},
   "outputs": [],
   "source": [
    "#!pip install datasets"
   ]
  },
  {
   "cell_type": "code",
   "execution_count": 17,
   "metadata": {},
   "outputs": [],
   "source": [
    "from datasets import Dataset\n",
    "\n",
    "# Convert dict to dataset\n",
    "dataset = Dataset.from_dict(data)"
   ]
  },
  {
   "cell_type": "markdown",
   "metadata": {},
   "source": [
    "### 3. Evaluación de Métricas on RAGAS"
   ]
  },
  {
   "cell_type": "code",
   "execution_count": 55,
   "metadata": {},
   "outputs": [],
   "source": [
    "# !pip intall ragas"
   ]
  },
  {
   "cell_type": "code",
   "execution_count": 18,
   "metadata": {},
   "outputs": [],
   "source": [
    "from ragas import evaluate\n",
    "from ragas.metrics import (\n",
    "    faithfulness, # Measures how well the model generates answers that are faithful to the context\n",
    "    answer_relevancy, # Measures how well the model generates answers that are relevant to the question\n",
    "    context_recall, # Context recall measures how well the model retrieves relevant context\n",
    "    context_precision, # Context precision measures how well the model retrieves only relevant context\n",
    ")"
   ]
  },
  {
   "cell_type": "code",
   "execution_count": 19,
   "metadata": {},
   "outputs": [
    {
     "name": "stderr",
     "output_type": "stream",
     "text": [
      "Evaluating: 100%|██████████| 60/60 [00:19<00:00,  3.15it/s]\n"
     ]
    },
    {
     "data": {
      "text/html": [
       "<div>\n",
       "<style scoped>\n",
       "    .dataframe tbody tr th:only-of-type {\n",
       "        vertical-align: middle;\n",
       "    }\n",
       "\n",
       "    .dataframe tbody tr th {\n",
       "        vertical-align: top;\n",
       "    }\n",
       "\n",
       "    .dataframe thead th {\n",
       "        text-align: right;\n",
       "    }\n",
       "</style>\n",
       "<table border=\"1\" class=\"dataframe\">\n",
       "  <thead>\n",
       "    <tr style=\"text-align: right;\">\n",
       "      <th></th>\n",
       "      <th>user_input</th>\n",
       "      <th>retrieved_contexts</th>\n",
       "      <th>response</th>\n",
       "      <th>reference</th>\n",
       "      <th>context_recall</th>\n",
       "      <th>faithfulness</th>\n",
       "      <th>answer_relevancy</th>\n",
       "      <th>context_precision</th>\n",
       "    </tr>\n",
       "  </thead>\n",
       "  <tbody>\n",
       "    <tr>\n",
       "      <th>0</th>\n",
       "      <td>Factoid question: Qual é o número do guia que ...</td>\n",
       "      <td>[para o consumo humano. \\nGuia nº 26, versão 2...</td>\n",
       "      <td>Guia nº 57, versão 1, de 07/11/2022 - Guia par...</td>\n",
       "      <td>Guia nº 57, versão 1, de 07/11/2022 - Guia par...</td>\n",
       "      <td>1.00</td>\n",
       "      <td>0.25</td>\n",
       "      <td>0.604720</td>\n",
       "      <td>0.750000</td>\n",
       "    </tr>\n",
       "    <tr>\n",
       "      <th>1</th>\n",
       "      <td>Factoid question: Qual é o tema regulatório da...</td>\n",
       "      <td>[metálicos em contato com alimentos.   \\n \\nTe...</td>\n",
       "      <td>Tema Regulatório 3.20 da Agenda Regulatória 20...</td>\n",
       "      <td>Tema Regulatório 3.20 da Agenda Regulatória 20...</td>\n",
       "      <td>1.00</td>\n",
       "      <td>1.00</td>\n",
       "      <td>0.426825</td>\n",
       "      <td>1.000000</td>\n",
       "    </tr>\n",
       "    <tr>\n",
       "      <th>2</th>\n",
       "      <td>Factoid question: Qual é o tema regulatório 3....</td>\n",
       "      <td>[de tecnologia  \\n \\nTema Regulatório 3.5 da A...</td>\n",
       "      <td>Reavaliação da autorização de uso do aditivo a...</td>\n",
       "      <td>Reavaliação da autorização de uso do aditivo a...</td>\n",
       "      <td>1.00</td>\n",
       "      <td>1.00</td>\n",
       "      <td>0.329241</td>\n",
       "      <td>0.833333</td>\n",
       "    </tr>\n",
       "    <tr>\n",
       "      <th>3</th>\n",
       "      <td>Factoid question: Quais são os requisitos sani...</td>\n",
       "      <td>[Tema Regulatório 3.27 da Agenda Regulatória 2...</td>\n",
       "      <td>Os requisitos sanitários para alimentos para f...</td>\n",
       "      <td>Requisitos sanitários para alimentos para fins...</td>\n",
       "      <td>1.00</td>\n",
       "      <td>1.00</td>\n",
       "      <td>0.706628</td>\n",
       "      <td>1.000000</td>\n",
       "    </tr>\n",
       "    <tr>\n",
       "      <th>4</th>\n",
       "      <td>Factoid question: Quais normas foram alteradas...</td>\n",
       "      <td>[para uso em alimentos. Altera a RDC 22/2015. ...</td>\n",
       "      <td>RDC 22/2015.</td>\n",
       "      <td>RDC 22/2015.</td>\n",
       "      <td>1.00</td>\n",
       "      <td>1.00</td>\n",
       "      <td>0.268661</td>\n",
       "      <td>0.916667</td>\n",
       "    </tr>\n",
       "    <tr>\n",
       "      <th>5</th>\n",
       "      <td>Factoid question: Quais são os materiais autor...</td>\n",
       "      <td>[RDC 52/2010 – Corantes em embalagens e equipa...</td>\n",
       "      <td>Lista positiva de monômeros, outras substância...</td>\n",
       "      <td>Lista positiva de monômeros, outras substância...</td>\n",
       "      <td>1.00</td>\n",
       "      <td>1.00</td>\n",
       "      <td>0.915515</td>\n",
       "      <td>1.000000</td>\n",
       "    </tr>\n",
       "    <tr>\n",
       "      <th>6</th>\n",
       "      <td>Factoid question: Qual é o tema regulatório 3....</td>\n",
       "      <td>[1.12. Requisitos sanitários para suplementos ...</td>\n",
       "      <td>Atualização periódica da lista de constituinte...</td>\n",
       "      <td>Atualização periódica da lista de constituinte...</td>\n",
       "      <td>1.00</td>\n",
       "      <td>0.50</td>\n",
       "      <td>0.244082</td>\n",
       "      <td>0.833333</td>\n",
       "    </tr>\n",
       "    <tr>\n",
       "      <th>7</th>\n",
       "      <td>Factoid question: Qual é o tema regulatório 3....</td>\n",
       "      <td>[Tema Regulatório 3.8 da Agenda Regulatória 20...</td>\n",
       "      <td>Regulamentação das listas de novos alimentos e...</td>\n",
       "      <td>Regulamentação das listas de novos alimentos e...</td>\n",
       "      <td>1.00</td>\n",
       "      <td>1.00</td>\n",
       "      <td>0.462661</td>\n",
       "      <td>1.000000</td>\n",
       "    </tr>\n",
       "    <tr>\n",
       "      <th>8</th>\n",
       "      <td>Factoid question: Quais são os temas regulatór...</td>\n",
       "      <td>[Tema Regulatório 3.9 da Agenda Regulatória 20...</td>\n",
       "      <td>Tema Regulatório 3.3, 3.6, 3.9 e 3.16 da Agend...</td>\n",
       "      <td>Tema Regulatório 3.3, 3.6, 3.9 e 3.16 da Agend...</td>\n",
       "      <td>0.75</td>\n",
       "      <td>0.50</td>\n",
       "      <td>0.000000</td>\n",
       "      <td>1.000000</td>\n",
       "    </tr>\n",
       "    <tr>\n",
       "      <th>9</th>\n",
       "      <td>Factoid question: Qual legislação obriga que o...</td>\n",
       "      <td>[de 2003. \\n \\nLei 10.674/2003  – Obriga a que...</td>\n",
       "      <td>Lei 10.674/2003.</td>\n",
       "      <td>Lei 10.674/2003</td>\n",
       "      <td>1.00</td>\n",
       "      <td>1.00</td>\n",
       "      <td>0.000000</td>\n",
       "      <td>0.833333</td>\n",
       "    </tr>\n",
       "    <tr>\n",
       "      <th>10</th>\n",
       "      <td>Factoid question: Quais são os temas regulatór...</td>\n",
       "      <td>[IN 87/2021  - Estabelece a lista de espécies ...</td>\n",
       "      <td>Tema Regulatório 3.30 da Agenda Regulatória 20...</td>\n",
       "      <td>Tema Regulatório 3.30 da Agenda Regulatória 20...</td>\n",
       "      <td>1.00</td>\n",
       "      <td>0.50</td>\n",
       "      <td>0.000000</td>\n",
       "      <td>1.000000</td>\n",
       "    </tr>\n",
       "    <tr>\n",
       "      <th>11</th>\n",
       "      <td>Factoid question: Quais são os procedimentos e...</td>\n",
       "      <td>[ou caroço de oliva, sem prejuízo da documenta...</td>\n",
       "      <td>Apresentação do laudo de análise do produto qu...</td>\n",
       "      <td>Apresentação do laudo de análise do produto qu...</td>\n",
       "      <td>1.00</td>\n",
       "      <td>1.00</td>\n",
       "      <td>0.635116</td>\n",
       "      <td>1.000000</td>\n",
       "    </tr>\n",
       "    <tr>\n",
       "      <th>12</th>\n",
       "      <td>Factoid question: Qual a Lei que define o Sist...</td>\n",
       "      <td>[1. Regularização, avaliação de risco e padrõe...</td>\n",
       "      <td>Lei 9.782/1999.</td>\n",
       "      <td>Lei 9.782/1999.</td>\n",
       "      <td>1.00</td>\n",
       "      <td>1.00</td>\n",
       "      <td>0.000000</td>\n",
       "      <td>0.833333</td>\n",
       "    </tr>\n",
       "    <tr>\n",
       "      <th>13</th>\n",
       "      <td>Factoid question: Qual é o ato relacionado à R...</td>\n",
       "      <td>[1.21. Requisitos sanitários para águas envasa...</td>\n",
       "      <td>Não sei, desculpe.</td>\n",
       "      <td>Portaria de Consolidação GM/MS 5/2017</td>\n",
       "      <td>1.00</td>\n",
       "      <td>0.00</td>\n",
       "      <td>0.000000</td>\n",
       "      <td>1.000000</td>\n",
       "    </tr>\n",
       "    <tr>\n",
       "      <th>14</th>\n",
       "      <td>Factoid question: Quais são os temas regulatór...</td>\n",
       "      <td>[plásticos em contato com alimentos. \\nTema Re...</td>\n",
       "      <td>Os temas regulatórios relacionados aos materia...</td>\n",
       "      <td>Tema Regulatório 3.7 (Regulamentação da recicl...</td>\n",
       "      <td>1.00</td>\n",
       "      <td>0.40</td>\n",
       "      <td>0.359403</td>\n",
       "      <td>1.000000</td>\n",
       "    </tr>\n",
       "  </tbody>\n",
       "</table>\n",
       "</div>"
      ],
      "text/plain": [
       "                                           user_input  \\\n",
       "0   Factoid question: Qual é o número do guia que ...   \n",
       "1   Factoid question: Qual é o tema regulatório da...   \n",
       "2   Factoid question: Qual é o tema regulatório 3....   \n",
       "3   Factoid question: Quais são os requisitos sani...   \n",
       "4   Factoid question: Quais normas foram alteradas...   \n",
       "5   Factoid question: Quais são os materiais autor...   \n",
       "6   Factoid question: Qual é o tema regulatório 3....   \n",
       "7   Factoid question: Qual é o tema regulatório 3....   \n",
       "8   Factoid question: Quais são os temas regulatór...   \n",
       "9   Factoid question: Qual legislação obriga que o...   \n",
       "10  Factoid question: Quais são os temas regulatór...   \n",
       "11  Factoid question: Quais são os procedimentos e...   \n",
       "12  Factoid question: Qual a Lei que define o Sist...   \n",
       "13  Factoid question: Qual é o ato relacionado à R...   \n",
       "14  Factoid question: Quais são os temas regulatór...   \n",
       "\n",
       "                                   retrieved_contexts  \\\n",
       "0   [para o consumo humano. \\nGuia nº 26, versão 2...   \n",
       "1   [metálicos em contato com alimentos.   \\n \\nTe...   \n",
       "2   [de tecnologia  \\n \\nTema Regulatório 3.5 da A...   \n",
       "3   [Tema Regulatório 3.27 da Agenda Regulatória 2...   \n",
       "4   [para uso em alimentos. Altera a RDC 22/2015. ...   \n",
       "5   [RDC 52/2010 – Corantes em embalagens e equipa...   \n",
       "6   [1.12. Requisitos sanitários para suplementos ...   \n",
       "7   [Tema Regulatório 3.8 da Agenda Regulatória 20...   \n",
       "8   [Tema Regulatório 3.9 da Agenda Regulatória 20...   \n",
       "9   [de 2003. \\n \\nLei 10.674/2003  – Obriga a que...   \n",
       "10  [IN 87/2021  - Estabelece a lista de espécies ...   \n",
       "11  [ou caroço de oliva, sem prejuízo da documenta...   \n",
       "12  [1. Regularização, avaliação de risco e padrõe...   \n",
       "13  [1.21. Requisitos sanitários para águas envasa...   \n",
       "14  [plásticos em contato com alimentos. \\nTema Re...   \n",
       "\n",
       "                                             response  \\\n",
       "0   Guia nº 57, versão 1, de 07/11/2022 - Guia par...   \n",
       "1   Tema Regulatório 3.20 da Agenda Regulatória 20...   \n",
       "2   Reavaliação da autorização de uso do aditivo a...   \n",
       "3   Os requisitos sanitários para alimentos para f...   \n",
       "4                                        RDC 22/2015.   \n",
       "5   Lista positiva de monômeros, outras substância...   \n",
       "6   Atualização periódica da lista de constituinte...   \n",
       "7   Regulamentação das listas de novos alimentos e...   \n",
       "8   Tema Regulatório 3.3, 3.6, 3.9 e 3.16 da Agend...   \n",
       "9                                    Lei 10.674/2003.   \n",
       "10  Tema Regulatório 3.30 da Agenda Regulatória 20...   \n",
       "11  Apresentação do laudo de análise do produto qu...   \n",
       "12                                    Lei 9.782/1999.   \n",
       "13                                 Não sei, desculpe.   \n",
       "14  Os temas regulatórios relacionados aos materia...   \n",
       "\n",
       "                                            reference  context_recall  \\\n",
       "0   Guia nº 57, versão 1, de 07/11/2022 - Guia par...            1.00   \n",
       "1   Tema Regulatório 3.20 da Agenda Regulatória 20...            1.00   \n",
       "2   Reavaliação da autorização de uso do aditivo a...            1.00   \n",
       "3   Requisitos sanitários para alimentos para fins...            1.00   \n",
       "4                                        RDC 22/2015.            1.00   \n",
       "5   Lista positiva de monômeros, outras substância...            1.00   \n",
       "6   Atualização periódica da lista de constituinte...            1.00   \n",
       "7   Regulamentação das listas de novos alimentos e...            1.00   \n",
       "8   Tema Regulatório 3.3, 3.6, 3.9 e 3.16 da Agend...            0.75   \n",
       "9                                     Lei 10.674/2003            1.00   \n",
       "10  Tema Regulatório 3.30 da Agenda Regulatória 20...            1.00   \n",
       "11  Apresentação do laudo de análise do produto qu...            1.00   \n",
       "12                                    Lei 9.782/1999.            1.00   \n",
       "13              Portaria de Consolidação GM/MS 5/2017            1.00   \n",
       "14  Tema Regulatório 3.7 (Regulamentação da recicl...            1.00   \n",
       "\n",
       "    faithfulness  answer_relevancy  context_precision  \n",
       "0           0.25          0.604720           0.750000  \n",
       "1           1.00          0.426825           1.000000  \n",
       "2           1.00          0.329241           0.833333  \n",
       "3           1.00          0.706628           1.000000  \n",
       "4           1.00          0.268661           0.916667  \n",
       "5           1.00          0.915515           1.000000  \n",
       "6           0.50          0.244082           0.833333  \n",
       "7           1.00          0.462661           1.000000  \n",
       "8           0.50          0.000000           1.000000  \n",
       "9           1.00          0.000000           0.833333  \n",
       "10          0.50          0.000000           1.000000  \n",
       "11          1.00          0.635116           1.000000  \n",
       "12          1.00          0.000000           0.833333  \n",
       "13          0.00          0.000000           1.000000  \n",
       "14          0.40          0.359403           1.000000  "
      ]
     },
     "execution_count": 19,
     "metadata": {},
     "output_type": "execute_result"
    }
   ],
   "source": [
    "result = evaluate(\n",
    "    dataset = dataset,\n",
    "    llm=llm,\n",
    "    embeddings=embedding_model,\n",
    "    metrics=[\n",
    "        context_recall,\n",
    "        faithfulness,\n",
    "        answer_relevancy,\n",
    "        context_precision,\n",
    "    ],)\n",
    "\n",
    "df = result.to_pandas()\n",
    "df"
   ]
  },
  {
   "cell_type": "markdown",
   "metadata": {},
   "source": [
    "Generación de Archivo CSV con resultados"
   ]
  },
  {
   "cell_type": "code",
   "execution_count": 20,
   "metadata": {},
   "outputs": [],
   "source": [
    "df.to_csv(\"results/pipeline_ragas_results.csv\", index=False)"
   ]
  },
  {
   "cell_type": "markdown",
   "metadata": {},
   "source": [
    "Promedio de Métricas"
   ]
  },
  {
   "cell_type": "code",
   "execution_count": 21,
   "metadata": {},
   "outputs": [
    {
     "name": "stdout",
     "output_type": "stream",
     "text": [
      "Mean Faithfulness:  0.7433\n",
      "Mean Answer relevancy:  0.3302\n",
      "Mean Context recall:  0.9833\n",
      "Mean Context precision:  0.9333\n"
     ]
    }
   ],
   "source": [
    "# get mean of the metrics column by column\n",
    "print(\"Mean Faithfulness: \", round(df[\"faithfulness\"].mean(), 4))\n",
    "print(\"Mean Answer relevancy: \", round(df[\"answer_relevancy\"].mean(), 4))\n",
    "print(\"Mean Context recall: \", round(df[\"context_recall\"].mean(), 4))\n",
    "print(\"Mean Context precision: \", round(df[\"context_precision\"].mean(), 4))\n"
   ]
  },
  {
   "cell_type": "markdown",
   "metadata": {},
   "source": [
    "### 4. Agregando un paso de 'Rerankeo'"
   ]
  },
  {
   "cell_type": "markdown",
   "metadata": {},
   "source": [
    "Esto permite reordenar los documentos de acuerdo a su relevancia semantica"
   ]
  },
  {
   "cell_type": "code",
   "execution_count": 22,
   "metadata": {},
   "outputs": [],
   "source": [
    "query = \"What is the purpose of the regulation?\"\n",
    "\n",
    "retrieved_docs = retriever.get_relevant_documents(query, kwargs={\"k\": 10})"
   ]
  },
  {
   "cell_type": "code",
   "execution_count": 23,
   "metadata": {},
   "outputs": [
    {
     "data": {
      "text/plain": [
       "[Document(metadata={'_id': 'b0c7a990bbbd48d29bfde40a85312331', '_collection_name': 'hybrid_search_collection'}, page_content='No setor de alimentos, a Anvisa coordena, supervisiona e controla as atividades de registro, inspeção, \\nfiscalização e controle de riscos, sendo responsável por estabelecer normas e padrões de qualidade e fiscalização e controle de riscos, sendo responsável por estabelecer normas e padrões de qualidade e \\nidentidade a serem observados.'),\n",
       " Document(metadata={'_id': 'a0982d91318e41da8d0d7b6332e4eb77', '_collection_name': 'hybrid_search_collection'}, page_content='(2019-nCoV). \\n1.1. Procedimentos para regularização de alimentos \\n \\nTema Regulatório 3.22 da Agenda Regulatória 2024/2025: Revisão da regulamentação sobre regularização  \\nde alimentos dispensados de registro.'),\n",
       " Document(metadata={'_id': 'e2aad1a8da8343d9a40caaf65767da4d', '_collection_name': 'hybrid_search_collection'}, page_content='1.12. Requisitos sanitários para suplementos alimentares \\n \\nTema Regulatório 3.29 da Agenda Regulatória 2024/2025: Atualização periódica da lista de constituintes, de Tema Regulatório 3.29 da Agenda Regulatória 2024/2025: Atualização periódica da lista de constituintes, de \\nlimites de uso, de alegações e de rotulagem complementar dos suplementos alimentares.'),\n",
       " Document(metadata={'_id': 'd316aef49686421b8c4c73015025e9a2', '_collection_name': 'hybrid_search_collection'}, page_content='e Boas Práticas  \\n3.1. Boas Práticas de Fabricação (BPF) para estabelecimentos industrializadores de \\nalimentos \\n \\nTema Regulatório 3.26 da Agenda Regulatória 202 4/2025: Revisão das normas de Boas práticas de alimentos \\n \\nTema Regulatório 3.26 da Agenda Regulatória 202 4/2025: Revisão das normas de Boas práticas de  \\nfabricação (BPF) para estabelecimentos industrializadores de alimentos.')]"
      ]
     },
     "execution_count": 23,
     "metadata": {},
     "output_type": "execute_result"
    }
   ],
   "source": [
    "retrieved_docs"
   ]
  },
  {
   "cell_type": "markdown",
   "metadata": {},
   "source": [
    "Mediante Cohere (no utilizado)"
   ]
  },
  {
   "cell_type": "code",
   "execution_count": 62,
   "metadata": {},
   "outputs": [],
   "source": [
    "# import cohere as co\n",
    "# cohere_client = co.Client(os.getenv(\"COHERE_API_KEY\"))\n",
    "# def rerank_docs(query, retrieved_docs):\n",
    "#     reranked_docs = cohere_client.rerank(\n",
    "#         model=\"rerank-english-v3.0\",\n",
    "#         query=query,\n",
    "#         documents=retrieved_docs,\n",
    "#         rank_fields=[\"page_content\"],\n",
    "#         return_documents=True\n",
    "#     )\n",
    "#     return reranked_docs\n"
   ]
  },
  {
   "cell_type": "markdown",
   "metadata": {},
   "source": [
    "Mediante Rerankers"
   ]
  },
  {
   "cell_type": "code",
   "execution_count": 26,
   "metadata": {},
   "outputs": [],
   "source": [
    "from rerankers import Reranker\n",
    "\n",
    "def open_source_reranker(query, retrieved_docs):\n",
    "    reranker = Reranker('cross-encoder', verbose=0,model_type='cross-encoder',lang='pt')\n",
    "    #reranker = Reranker(\"colbert\") # colber model used for reranking\n",
    "    retrieved_docs = [doc.page_content for doc in retrieved_docs]\n",
    "    reranked_docs = reranker.rank(query, retrieved_docs)\n",
    "    return reranked_docs\n"
   ]
  },
  {
   "cell_type": "code",
   "execution_count": 27,
   "metadata": {},
   "outputs": [
    {
     "name": "stdout",
     "output_type": "stream",
     "text": [
      "Loading default cross-encoder model for language pt\n"
     ]
    }
   ],
   "source": [
    "reranked_docs = open_source_reranker(query, retrieved_docs)"
   ]
  },
  {
   "cell_type": "code",
   "execution_count": 28,
   "metadata": {},
   "outputs": [
    {
     "data": {
      "text/plain": [
       "[Result(document=Document(document_type='text', text='No setor de alimentos, a Anvisa coordena, supervisiona e controla as atividades de registro, inspeção, \\nfiscalização e controle de riscos, sendo responsável por estabelecer normas e padrões de qualidade e fiscalização e controle de riscos, sendo responsável por estabelecer normas e padrões de qualidade e \\nidentidade a serem observados.', base64=None, image_path=None, doc_id=0, metadata={}), score=-4.045792102813721, rank=1),\n",
       " Result(document=Document(document_type='text', text='(2019-nCoV). \\n1.1. Procedimentos para regularização de alimentos \\n \\nTema Regulatório 3.22 da Agenda Regulatória 2024/2025: Revisão da regulamentação sobre regularização  \\nde alimentos dispensados de registro.', base64=None, image_path=None, doc_id=1, metadata={}), score=-6.328507900238037, rank=2),\n",
       " Result(document=Document(document_type='text', text='1.12. Requisitos sanitários para suplementos alimentares \\n \\nTema Regulatório 3.29 da Agenda Regulatória 2024/2025: Atualização periódica da lista de constituintes, de Tema Regulatório 3.29 da Agenda Regulatória 2024/2025: Atualização periódica da lista de constituintes, de \\nlimites de uso, de alegações e de rotulagem complementar dos suplementos alimentares.', base64=None, image_path=None, doc_id=2, metadata={}), score=-6.663944721221924, rank=3),\n",
       " Result(document=Document(document_type='text', text='e Boas Práticas  \\n3.1. Boas Práticas de Fabricação (BPF) para estabelecimentos industrializadores de \\nalimentos \\n \\nTema Regulatório 3.26 da Agenda Regulatória 202 4/2025: Revisão das normas de Boas práticas de alimentos \\n \\nTema Regulatório 3.26 da Agenda Regulatória 202 4/2025: Revisão das normas de Boas práticas de  \\nfabricação (BPF) para estabelecimentos industrializadores de alimentos.', base64=None, image_path=None, doc_id=3, metadata={}), score=-7.53059720993042, rank=4)]"
      ]
     },
     "execution_count": 28,
     "metadata": {},
     "output_type": "execute_result"
    }
   ],
   "source": [
    "reranked_docs.results"
   ]
  },
  {
   "cell_type": "code",
   "execution_count": 29,
   "metadata": {},
   "outputs": [
    {
     "name": "stdout",
     "output_type": "stream",
     "text": [
      "Loading default cross-encoder model for language pt\n",
      "Loading default cross-encoder model for language pt\n",
      "Loading default cross-encoder model for language pt\n",
      "Loading default cross-encoder model for language pt\n",
      "Loading default cross-encoder model for language pt\n",
      "Loading default cross-encoder model for language pt\n",
      "Loading default cross-encoder model for language pt\n",
      "Loading default cross-encoder model for language pt\n",
      "Loading default cross-encoder model for language pt\n",
      "Loading default cross-encoder model for language pt\n",
      "Loading default cross-encoder model for language pt\n",
      "Loading default cross-encoder model for language pt\n",
      "Loading default cross-encoder model for language pt\n",
      "Loading default cross-encoder model for language pt\n",
      "Loading default cross-encoder model for language pt\n"
     ]
    }
   ],
   "source": [
    "contexts = []\n",
    "answers = []\n",
    "# Inference\n",
    "for query in questions:\n",
    "    answers.append(rag_chain.invoke(query))\n",
    "    retrieved_docs = retriever.get_relevant_documents(query)\n",
    "    reranked_docs = open_source_reranker(query, retrieved_docs)\n",
    "    if reranked_docs.results:  # Check if there are any results\n",
    "        contexts.append([reranked_docs.results[0].document.text])\n",
    "\n",
    "data = {\n",
    "    \"question\": questions,\n",
    "    \"answer\": answers,\n",
    "    \"reference\": ground_truth,\n",
    "    \"retrieved_contexts\": contexts\n",
    "}"
   ]
  },
  {
   "cell_type": "code",
   "execution_count": 33,
   "metadata": {},
   "outputs": [
    {
     "name": "stderr",
     "output_type": "stream",
     "text": [
      "Evaluating:  50%|█████     | 30/60 [00:10<00:08,  3.34it/s]No statements were generated from the answer.\n",
      "Evaluating: 100%|██████████| 60/60 [00:20<00:00,  2.90it/s]\n"
     ]
    }
   ],
   "source": [
    "reranked_dataset = Dataset.from_dict(data)\n",
    "result = evaluate(\n",
    "    dataset = reranked_dataset,\n",
    "    llm=llm,\n",
    "    embeddings=embeddings,\n",
    "    metrics=[\n",
    "        context_recall,\n",
    "        faithfulness,\n",
    "        answer_relevancy,\n",
    "        context_precision,\n",
    "    ],)\n",
    "reranked_df = result.to_pandas()\n",
    "reranked_df.to_csv(\"results/reranked_pipeline_ragas_results.csv\", index=False)\n"
   ]
  },
  {
   "cell_type": "code",
   "execution_count": 32,
   "metadata": {},
   "outputs": [
    {
     "name": "stdout",
     "output_type": "stream",
     "text": [
      "Mean Faithfulness:  0.6429\n",
      "Mean Answer relevancy:  0.3811\n",
      "Mean Context recall:  1.0\n",
      "Mean Context precision:  0.8667\n"
     ]
    }
   ],
   "source": [
    "# get mean of the metrics column by column\n",
    "print(\"Mean Faithfulness: \", round(reranked_df[\"faithfulness\"].mean(), 4))\n",
    "print(\"Mean Answer relevancy: \", round(reranked_df[\"answer_relevancy\"].mean(), 4))\n",
    "print(\"Mean Context recall: \", round(reranked_df[\"context_recall\"].mean(), 4))\n",
    "print(\"Mean Context precision: \", round(reranked_df[\"context_precision\"].mean(), 4))"
   ]
  },
  {
   "cell_type": "code",
   "execution_count": null,
   "metadata": {},
   "outputs": [],
   "source": []
  }
 ],
 "metadata": {
  "kernelspec": {
   "display_name": "Python 3",
   "language": "python",
   "name": "python3"
  },
  "language_info": {
   "codemirror_mode": {
    "name": "ipython",
    "version": 3
   },
   "file_extension": ".py",
   "mimetype": "text/x-python",
   "name": "python",
   "nbconvert_exporter": "python",
   "pygments_lexer": "ipython3",
   "version": "3.12.3"
  }
 },
 "nbformat": 4,
 "nbformat_minor": 2
}
