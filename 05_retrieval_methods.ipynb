{
 "cells": [
  {
   "cell_type": "markdown",
   "metadata": {},
   "source": [
    "# Lesson 5: Retrieval methods\n",
    "\n",
    "**Objective**: Enhance the relevance of retrieved documents to improve the quality of generated responses.\n",
    "\n",
    "**Topics**:\n",
    "- Reranking techniques\n",
    "- Trade-offs between speed and accuracy\n",
    "\n",
    "**Practical Task**: Implement a reranking model and evaluate its impact on retrieval performance.\n",
    "\n",
    "**Resources**:\n",
    "- Cohere reranker\n",
    "- Open-source alternative\n"
   ]
  },
  {
   "cell_type": "code",
   "execution_count": 11,
   "metadata": {},
   "outputs": [],
   "source": [
    "from langchain_community.document_loaders import PyPDFLoader\n",
    "from dotenv import load_dotenv\n",
    "from langchain_huggingface import HuggingFaceEmbeddings\n",
    "from langchain_qdrant import QdrantVectorStore\n",
    "from langchain_community.vectorstores import Qdrant\n",
    "from qdrant_client.http.models import Distance, VectorParams\n",
    "from langchain_core.documents import Document\n",
    "from langchain_openai import ChatOpenAI\n",
    "\n",
    "load_dotenv()\n",
    "\n",
    "file_path = (\n",
    "    \"../CASTRO_COFRE_ZURITA/data/Regulaciones cacao y chocolate 2003.pdf\"\n",
    ")\n",
    "loader = PyPDFLoader(file_path)\n",
    "legal_docs = loader.load_and_split()\n",
    "\n",
    "for doc in legal_docs:\n",
    "    doc.page_content = doc.page_content.replace('\\n', ' ')\n"
   ]
  },
  {
   "cell_type": "code",
   "execution_count": 3,
   "metadata": {},
   "outputs": [
    {
     "name": "stdout",
     "output_type": "stream",
     "text": [
      "WARNING:tensorflow:From c:\\Users\\nicol\\AppData\\Local\\Programs\\Python\\Python312\\Lib\\site-packages\\tf_keras\\src\\losses.py:2976: The name tf.losses.sparse_softmax_cross_entropy is deprecated. Please use tf.compat.v1.losses.sparse_softmax_cross_entropy instead.\n",
      "\n"
     ]
    }
   ],
   "source": [
    "from langchain_ollama import OllamaLLM\n",
    "#!ollama pull llama3.1\n",
    "#llm = OllamaLLM(model=\"llama3.2\")\n",
    "llm = ChatOpenAI(temperature=0, model=\"gpt-4o-mini\")\n",
    "\n",
    "embedding_model = HuggingFaceEmbeddings(model_name=\"sentence-transformers/all-mpnet-base-v2\")"
   ]
  },
  {
   "cell_type": "code",
   "execution_count": 4,
   "metadata": {},
   "outputs": [
    {
     "data": {
      "text/plain": [
       "'Status:  This is the original version (as it was originally made). STATUTORY INSTRUMENTS 2003 No. 1659 FOOD, ENGLAND The Cocoa and Chocolate Products (England) Regulations 2003 Made       -      -      -      - 25th June 2003 Laid before Parliament 3rd July 2003 Coming into force       -      - 3rd August 2003 The Secretary of State, in exercise of the powers conferred by sections 16(1)(e), 17(1), 26(1) and (3) and 48(1) of the Food Safety Act 1990(1) and now vested in him(2) and of all other powers enabling him in that behalf, having had regard in accordance with section 48(4A) of that Act to relevant advice given by the Food Standards Agency, and after consultation both as required by Article 9 of Regulation (EC) No. 178/2002 of the European Parliament and of the Council laying down the general principles and requirements of food law, establishing the European Food Safety Authority and laying down procedures in matters of food safety (3) and in accordance with section 48(4) and (4B) of that Act, hereby makes the following Regulations: Title, commencement and application 1. These Regulations may be cited as the Cocoa and Chocolate Products (England) Regulations 2003, shall come into force on 3rd August 2003 and shall apply to England only. Interpretation 2.—(1)  In these Regulations— “the Act” means the Food Safety Act 1990; (1) 1990 c. 16. (2) Functions formerly exercisable by “the Ministers” (being, in relation to England and Wales and acting jointly, the Minister of Agriculture, Fisheries and Food and the Secretaries of State respectively concerned with health in England and food and health in Wales and, in relation to Scotland, the Secretary of State) are now exercisable in relation to England by the Secretary of State pursuant to paragraphs 7 and 8 of Schedule 5 to the Food Standards Act 1999 (c. 28), and paragraphs 12 and 21 of that Schedule amend sections 17(1) and 48 of the 1990 Act. Functions of “the Ministers” so far as exercisable in relation to Wales were transferred to the National Assembly for Wales by the National Assembly for Wales (Transfer of Functions) Order 1999 (S.I.1999/672), as read with section 40(3) of the 1999 Act, and those functions so far as exercisable in relation to Scotland were transferred to the Scottish Ministers by section 53 of the Scotland Act 1998 (c. 46) as read with section 40(2) of the 1999 Act. Regulation 13(4) of the Food Standards Act 1999 (Transitional and Consequential Provisions and Savings) (England and Wales) Regulations 2000 (S.I. 2000/656) expressly authorises the Secretary of State to amend or revoke existing Regulations made or having effect as if made by the Minister of Agriculture, Fisheries and Food (whether with others or not) under the 1990 Act. (3) OJ No. L31, 1.2.2002, p.1.'"
      ]
     },
     "execution_count": 4,
     "metadata": {},
     "output_type": "execute_result"
    }
   ],
   "source": [
    "legal_docs[0].page_content.replace('\\n', ' ')"
   ]
  },
  {
   "cell_type": "code",
   "execution_count": 5,
   "metadata": {},
   "outputs": [
    {
     "data": {
      "text/plain": [
       "[Document(metadata={'source': '../CASTRO_COFRE_ZURITA/data/Regulaciones cacao y chocolate 2003.pdf', 'page': 0}, page_content='Status:  This is the original version (as it was originally made). STATUTORY INSTRUMENTS 2003 No. 1659 FOOD, ENGLAND The Cocoa and Chocolate Products (England) Regulations 2003 Made       -      -      -      - 25th June 2003 Laid before Parliament 3rd July 2003 Coming into force       -      - 3rd August 2003 The Secretary of State, in exercise of the powers conferred by sections 16(1)(e), 17(1), 26(1) and (3) and 48(1) of the Food Safety Act 1990(1) and now vested in him(2) and of all other powers enabling him in that behalf, having had regard in accordance with section 48(4A) of that Act to relevant advice given by the Food Standards Agency, and after consultation both as required by Article 9 of Regulation (EC) No. 178/2002 of the European Parliament and of the Council laying down the general principles and requirements of food law, establishing the European Food Safety Authority and laying down procedures in matters of food safety (3) and in accordance with section 48(4) and (4B) of that Act, hereby makes the following Regulations: Title, commencement and application 1. These Regulations may be cited as the Cocoa and Chocolate Products (England) Regulations 2003, shall come into force on 3rd August 2003 and shall apply to England only. Interpretation 2.—(1)  In these Regulations— “the Act” means the Food Safety Act 1990; (1) 1990 c. 16. (2) Functions formerly exercisable by “the Ministers” (being, in relation to England and Wales and acting jointly, the Minister of Agriculture, Fisheries and Food and the Secretaries of State respectively concerned with health in England and food and health in Wales and, in relation to Scotland, the Secretary of State) are now exercisable in relation to England by the Secretary of State pursuant to paragraphs 7 and 8 of Schedule 5 to the Food Standards Act 1999 (c. 28), and paragraphs 12 and 21 of that Schedule amend sections 17(1) and 48 of the 1990 Act. Functions of “the Ministers” so far as exercisable in relation to Wales were transferred to the National Assembly for Wales by the National Assembly for Wales (Transfer of Functions) Order 1999 (S.I.1999/672), as read with section 40(3) of the 1999 Act, and those functions so far as exercisable in relation to Scotland were transferred to the Scottish Ministers by section 53 of the Scotland Act 1998 (c. 46) as read with section 40(2) of the 1999 Act. Regulation 13(4) of the Food Standards Act 1999 (Transitional and Consequential Provisions and Savings) (England and Wales) Regulations 2000 (S.I. 2000/656) expressly authorises the Secretary of State to amend or revoke existing Regulations made or having effect as if made by the Minister of Agriculture, Fisheries and Food (whether with others or not) under the 1990 Act. (3) OJ No. L31, 1.2.2002, p.1.'),\n",
       " Document(metadata={'source': '../CASTRO_COFRE_ZURITA/data/Regulaciones cacao y chocolate 2003.pdf', 'page': 1}, page_content='Document Generated: 2023-04-24 Status:  This is the original version (as it was originally made). “catering establishment” means a restaurant, canteen, club, public house, school, hospital or similar establishment (including a vehicle or a fixed or mobile stall) where, in the course of a business, food is prepared for delivery to the ultimate consumer and is ready for consumption without further preparation; “designated product” means any cocoa or chocolate product specified in column 2 of Schedule 1, as read with any Note to that Schedule and any provision of regulation 3 and Schedule 2 relating to that product; and “designated chocolate product” and “designated cocoa product” mean any such product which is respectively a chocolate product or a cocoa product; “EEA Agreement” means the Agreement on the European Economic Area(4) signed at Oporto on 2nd May 1992 as adjusted by the Protocol(5) signed at Brussels on 17th March 1993; “EEA State” means a State which is a Contracting Party to the EEA Agreement; “food authority” does not include— (a) the council of a district in a non-metropolitan county except where the county functions have been transferred to that council pursuant to a structural change, or (b) the appropriate Treasurer referred to in section 5(1)(c) of the Act (which deals with the Inner and the Middle Temple); “the 1996 Regulations” means the Food Labelling Regulations 1996(6); “other edible substances” does not include vegetable fats referred to in regulation 3 or the filling of any product specified in column 2 of item 7 or of item 10(a) of Schedule 1; “preparation” includes manufacture and any form of processing or treatment; “reserved description”, as respects any designated product, means any description specified in relation to that product in column 1 of Schedule 1; “sell” includes offer or expose for sale or have in possession for sale, and “sale” shall be construed accordingly; and “ultimate consumer” means any person who buys otherwise than— (a) for the purpose of resale, (b) for the purposes of a catering establishment, or (c) for the purposes of a manufacturing business. (2)  Any reference in these Regulations to a numbered regulation or Schedule shall be construed as a reference to the regulation or Schedule bearing that number in these Regulations. Vegetable fats in chocolate products 3.—(1)  Subject to paragraph (2) below, the vegetable fats, other than cocoa butter, specified in Schedule 2 may be added to those designated chocolate products specified in column 2 of items 3, 4, 5, 6, 8 and 9 of Schedule 1. (2)  An addition in accordance with paragraph 1 may not exceed 5 per cent of the finished product, after deduction of the total weight of any other edible substances used in accordance with the Note 1 to Schedule 1, without reducing the minimum content of cocoa butter or total dry cocoa solids. Scope of Regulations 4. These Regulations apply to designated products intended for human consumption and ready for delivery to the ultimate consumer or to a catering establishment. (4) OJ No. L1, 3.1.94, p.1. (5) OJ No. L1, 3.1.94, p.571. (6) S.I. 1996/1499, the relevant amending instrument is S.I. 1998/1398. 2'),\n",
       " Document(metadata={'source': '../CASTRO_COFRE_ZURITA/data/Regulaciones cacao y chocolate 2003.pdf', 'page': 2}, page_content='Document Generated: 2023-04-24 Status:  This is the original version (as it was originally made). Reserved descriptions 5. No person shall sell any food with a label, whether or not attached to or printed on the wrapper or container, which bears, comprises or includes any reserved description or any derivative thereof or any word or description substantially similar thereto unless— (a) such food is the designated product to which the reserved description relates; (b) such description, derivative or word is used in such a context as to indicate explicitly or by clear implication that the substance to which it relates is only an ingredient of that food; or (c) such description, derivative or word is used in such a context as to indicate explicitly or by clear implication that such food is not and does not contain a designated product. Labelling and description of designated products 6.—(1)  Without prejudice to the generality of Part II of the 1996 Regulations, no person shall sell any designated product unless it is marked or labelled with the following particulars— (a) subject to paragraphs (2)(a) and (3) below, a reserved description of the product; (b) subject to paragraph (2) of regulation 7, in the case of a designated chocolate product which, pursuant to regulation 3, contains vegetable fats other than cocoa butter, the conspicuous and clearly legible statement “contains vegetable fats in addition to cocoa butter”; (c) where the words “milk chocolate” are used as the reserved description or a qualification of the reserved description of a designated chocolate product, an accompanying indication of the dry milk solids content in the form “milk solids … % minimum”, provided that— (i) as regards a designated chocolate product specified in column 2 of item 4(a) of Schedule 1, the dry milk solids content indicated is not less than 14 per cent; and (ii) as regards a designated chocolate product specified in column 2 of item 5 of Schedule 1, the dry milk solids content indicated is not less than 20 per cent; (d) subject to paragraph (4) below, in the case of a designated product specified in column 2 of item 2(c), 2(d), 2(e), 3, 4, 5, 8 or 9 of Schedule 1, an indication of the total dry cocoa solids content in the form “cocoa solids … % minimum”; (e) in the case of a designated cocoa product specified in column 2 of item 2(b) or 2(e), an indication of the cocoa butter content. (2)  Where designated chocolate products specified in column 2 of items 3, 4, 5, 6, 7 and 10 of Schedule 1 are sold in an assortment— (a) the reserved description may be replaced by “assorted chocolates” or “assorted filled chocolates” or a similar name; and (b) the list of ingredients with which food is required by the 1996 Regulations to be marked or labelled may be a single list of ingredients for all the products in the assortment. (3)  The reserved descriptions “chocolate”, “milk chocolate” and “couverture chocolate” may be supplemented by information or descriptions relating to quality criteria provided that the product contains — (a) in the case of the reserved description “chocolate”, not less than 43 per cent total dry cocoa solids, including not less than 26 per cent cocoa butter; (b) in the case of the reserved description “milk chocolate”, not less than 30 per cent total dry cocoa solids and not less than 18 per cent dry milk solids obtained by partly or wholly dehydrating whole milk, semi-skimmed or skimmed milk, cream, or from partly or wholly dehydrated cream, butter or milk fat, including not less than 4.5 per cent milk fat; 3'),\n",
       " Document(metadata={'source': '../CASTRO_COFRE_ZURITA/data/Regulaciones cacao y chocolate 2003.pdf', 'page': 3}, page_content='Document Generated: 2023-04-24 Status:  This is the original version (as it was originally made). (c) in the case of the reserved description “couverture chocolate”, not less than 16 per cent dry non-fat cocoa solids. (4)  The total dry cocoa solids content with which a designated product is required by paragraph (1) (d) above to be marked or labelled shall be calculated after deduction of the weight of other edible substances provided for in Note 1 to Schedule 1 but not the weight of any ingredient specified in column 2 of Schedule 1 as an ingredient of that product or of any vegetable fat added in accordance with regulation 3. Manner of marking or labelling 7.—(1)  Regulations 35, 36(1) and (5) and 38 of the 1996 Regulations (which relate to the manner of marking or labelling of food) shall apply to the particulars with which a designated product is required to be marked or labelled by regulation 6 of these Regulations as if they were particulars with which food is required to be marked or labelled by the 1996 Regulations. (2)  The information with which a designated chocolate product is required to be marked or labelled by paragraph (1)(b) of regulation 6 shall be— (a) in the same field of vision as the list of ingredients with which the product is required by the1996 Regulations to be marked or labelled; (b) clearly separated from that list; (c) in bold lettering no less large than that of the list; and (d) located near the reserved description, which may also appear elsewhere on the marking or labelling. Penalties and enforcement 8.—(1)  If any person contravenes or fails to comply with any provision of regulation 5 or 6 he shall be guilty of an offence and shall be liable on summary conviction to a fine not exceeding level 5 on the standard scale. (2)  Each food authority shall enforce and execute these Regulations in its area. Defence in relation to exports 9. In any proceedings for an offence under these Regulations it shall be a defence for the person accused to prove— (a) that the food in respect of which the offence is alleged to have been committed was intended for export to a country which has legislation analogous to these Regulations and that the food complies with that legislation; and (b) in the case of export to an EEA State, that the legislation complies with the provisions of Directive 2000/36/EC of the European Parliament and the Council relating to cocoa and chocolate products intended for human consumption(7). Application of various provisions of the Food Safety Act 1990 10. The following provisions of the Act shall apply for the purposes of these Regulations with the modification that any reference in those provisions to the Act or Part thereof shall be construed for the purposes of these Regulations as a reference to these Regulations— (a) section 2 (extended meaning of sale etc.); (b) section 3 (presumptions that food is intended for human consumption); (7) OJ No. L197, 3.8.2000. p. 19, as adopted by EEA Joint Committee Decision 152/2001 (OJ No. L65, 7.3.2002, p. 26). 4'),\n",
       " Document(metadata={'source': '../CASTRO_COFRE_ZURITA/data/Regulaciones cacao y chocolate 2003.pdf', 'page': 4}, page_content='Document Generated: 2023-04-24 Status:  This is the original version (as it was originally made). (c) section 20 (offences due to fault of another person); (d) section 21 (defence of due diligence) as it applies for the purposes of section 8, 14 or 15 of the Act; (e) section 22 (defence of publication in the course of business); (f) section 30(8) (which relates to documentary evidence); (g) section 33(1) (obstruction etc. of officers); (h) section 33(2), with the modification that the reference to “any such requirement as is mentioned in subsection (1)(b) above”, shall be deemed to be a reference to any such requirement as is mentioned in that subsection as applied by sub-paragraph (g) above; (i) section 35(1) (punishment of offences) in so far as it relates to offences under section 33(1) as applied by sub-paragraph (g) above; (j) section 35(2) and (3) in so far as it relates to offences under section 33(2) as applied by sub-paragraph (h) above; (k) section 36 (offences by bodies corporate); and (l) section 44 (protection of officers acting in good faith). Amendments and revocations 11.—(1)  In the 1996 Regulations (in so far as they apply to England) in regulation 4(2) (scope of Part II) sub-paragraph (b) shall be omitted. (2)  The following entries relating to the Cocoa and Chocolate Products Regulations 1976(8) shall (in so far as the following Regulations apply to England), be omitted— (a) in the Food (Revision of Penalties) Regulations 1982(9), in Schedule 1; (b) in the Food (Revision of Penalties) Regulations 1985(10), in Schedule 1, Part I; (c) in the Food Safety Act 1990 (Consequential Modifications) (England and Wales) Order 1990(11), in Schedule 1, Part I, Schedule 2, Schedule 3, Part I and Schedules 6 and 12; (d) in the Food Safety (Exports) Regulations 1991(12) in Schedule 1, Part I; (e) in the Food (Forces Exemptions) (Revocations) Regulations 1992(13), in Schedule 1, Part I; (f) in the Miscellaneous Food Additives Regulations 1995(14), in Schedule 9; (g) in the 1996 Regulations, in regulation 49(4)(a) and Schedule 9; (h) in the Miscellaneous Food Additives (Amendment) Regulations 1999 (15), in regulation 14(1); (i) in the Miscellaneous Food Additives (Amendment) (England) (No. 2) Regulations 2001(16), in regulation 9(2). (8) S.I. 1976/541; relevant amending instruments S.I 1982/17 , 1982/1727, 1985/67, 1990/2486, 1991/1476, 1992/2596, 1995/3187, 1996/1499. (9) S.I. 1982/1727 to which there are amendments not relevant to these Regulations. (10) S.I. 1985/67 to which there are amendments not relevant to these Regulations. (11) S.I. 1990/2486 to which there are amendments not relevant to these Regulations. (12) S.I. 1991/1476 to which there are amendments not relevant to these Regulations. (13) S.I. 1992/2596 to which there are amendments not relevant to these Regulations. (14) S.I. 1995/3187; relevant amending instruments are S.I. 1997/1413, 1999/1136, 2000/3323, 2001/60 and 2001/3775. (15) S.I. 1999/1136. (16) S.I. 2001/3775. 5'),\n",
       " Document(metadata={'source': '../CASTRO_COFRE_ZURITA/data/Regulaciones cacao y chocolate 2003.pdf', 'page': 5}, page_content='Document Generated: 2023-04-24 Status:  This is the original version (as it was originally made). (3)  In Schedule 9 to the Miscellaneous Food Additives Regulations 1995 (in so far as they apply to England) the entry relating to the Cocoa and Chocolate Products (Amendment) Regulations 1982(17) shall be omitted. (4)  In so far as the Regulations in which they appear apply to England, there shall be substituted for the following references to Directive 73/241/EEC(18), references to Directive 2000/36/EC(19)— (a) in the Colourings in Food Regulations 1995(20), in Schedule 2; (b) in the Miscellaneous Food Additives Regulations 1995 (21), in Schedule 3 and in Schedule 7. (5)  The Cocoa and Chocolate Products Regulations 1976 and the Cocoa and Chocolate Products (Amendment) Regulations 1982 are hereby revoked (in so far as they apply to England). Transitional provision 12. In any proceedings for an offence under these Regulations it shall be a defence for the accused to prove that— (a) the food concerned was marked or labelled before 3rd August 2003, and (b) the matters constituting the alleged offence would not have constituted an offence under the Cocoa and Chocolate Products Regulations 1976 as they stood immediately before the date of coming into force of these Regulations. Signed by authority of the Secretary of State for Health 25th June 2003 Melanie Johnson Parliamentary Under-Secretary of State, Department of Health (17) S.I. 1982/17. (18) OJ No. L228, 16.8.1973, p.23, as repealed with effect from 3rd August 2003 by Directive 2000/36/EC (OJ No. L197, 3.8.2000, p.19). (19) OJ No. L197, 3.8.2000, p.19. (20) S.I. 1995/3124 to which there are amendments not relevant to these Regulations. (21) S.I. 1995/3187; the relevant amending instrument is S.I. 1999/1136. 6'),\n",
       " Document(metadata={'source': '../CASTRO_COFRE_ZURITA/data/Regulaciones cacao y chocolate 2003.pdf', 'page': 6}, page_content='Document Generated: 2023-04-24 Status:  This is the original version (as it was originally made). SCHEDULE 1 Regulations 2, 3 and 6 COCOA AND CHOCOLATE PRODUCTS AND THEIR RESERVED DESCRIPTIONS Column 1 Column 2 Reserved Descriptions Designated Products 1. Cocoa butter The fat obtained from cocoa beans or parts of cocoa beans with the following characteristics: — — not more than 1.75 per cent free fatty acid content (expressed as oleic acid); and — for press cocoa butter, not more than 0.35 per cent unsaponifiable matter (determined using petroleum ether); or — for other cocoa butter, not more than 0.5 per cent unsaponifiable matter (so determined). (a) (a)  Cocoa powder or Cocoa The product obtained by converting into powder cocoa beans which have been cleaned, shelled and roasted, and which contains not less than 20 per cent cocoa butter, calculated according to the weight of the dry matter, and not more than 9 per cent water. (b) (b)  Fat-reduced cocoa or Fat- reduced cocoa powder Cocoa powder containing less than 20 per cent cocoa butter, calculated according to the weight of the dry matter. (c) (c)  Powdered chocolate or Chocolate in powder The product consisting of a mixture of cocoa powder and sugars, containing not less than 32 per cent cocoa powder. (d) (d)  Drinking chocolate or Sweetened cocoa or Sweetened cocoa powder The product consisting of a mixture of cocoa powder and sugars, containing not less than 25 per cent cocoa powder. (e) (e)  Fat-reduced drinking chocolate or Fat-reduced sweetened cocoa or Fat-reduced sweetened cocoa powder The product consisting of a mixture of cocoa powder specified at item 2(b) and sugars, containing not less than 25 per cent of such cocoa powder. (a) (a)  Chocolate (a) The product obtained from cocoa products and sugars which, subject to item 3(b), contains not less than 35 per cent total dry cocoa solids, including not less than 18 per cent cocoa butter and not less than 14 per cent of dry non-fat cocoa solids. (b) (b)  If “Chocolate” is supplemented by (b) (b)  (i) “vermicelli” or “flakes” (i) The product presented in the form of granules or flakes containing not less than 32 per cent total dry cocoa solids, 7'),\n",
       " Document(metadata={'source': '../CASTRO_COFRE_ZURITA/data/Regulaciones cacao y chocolate 2003.pdf', 'page': 7}, page_content='Document Generated: 2023-04-24 Status:  This is the original version (as it was originally made). Column 1 Column 2 Reserved Descriptions Designated Products including not less than 12 per cent cocoa butter and not less than 14 per cent of dry non-fat cocoa solids. (ii) “couverture” (ii) The product containing not less than 35 per cent total dry cocoa solids, including not less than 31 per cent cocoa butter and not less than 2.5 per cent of dry non-fat cocoa solids. (iii) “Gianduja” or one of the derivatives of “Gianduja” (iii) The nut chocolate product obtained (1) from chocolate having a minimum total dry cocoa solids content of 32 per cent including a minimum dry non-fat cocoa solids content of 8 per cent, and (2) from finely ground hazelnuts in such quantities that 100 grams of the product contain not less than 20 grams and not more than 40 grams of hazelnuts; and to which may have been added— — milk or dry milk solids obtained by evaporation or both, in such proportion that the finished product does not contain more than 5 per cent dry milk solids; — almonds, hazelnuts and other nut varieties, either whole or broken, in such quantities that, together with the ground hazelnuts, they do not exceed 60 per cent of the total weight of the product. (a) (a)  Milk chocolate (a) The product obtained from cocoa products, sugars and milk or milk products which, subject to item 4(b), contains— — not less than 25 per cent total dry cocoa solids; — not less than 14 per cent dry milk solids obtained by partly or wholly dehydrating whole milk, semi- skimmed or skimmed milk, cream, or from partly or wholly dehydrated cream, butter or milk fat; — not less than 2.5 per cent dry non- fat cocoa solids; — not less than 3.5 per cent milk fat; — not less than 25 per cent total fat (cocoa butter and milk fat). (b) (b)  If “Milk chocolate” is supplemented by— (b) (b)  (i) “vermicelli” or “flakes” (i) The product presented in the form of granules or flakes containing not less 8'),\n",
       " Document(metadata={'source': '../CASTRO_COFRE_ZURITA/data/Regulaciones cacao y chocolate 2003.pdf', 'page': 8}, page_content='Document Generated: 2023-04-24 Status:  This is the original version (as it was originally made). Column 1 Column 2 Reserved Descriptions Designated Products than 20 per cent total dry cocoa solids, not less than 12 per cent dry milk solids obtained by partly or wholly dehydrating whole milk, semi-skimmed or skimmed milk, cream or from partly or wholly dehydrated cream, butter or milk fat and not less than 12 per cent total fat (cocoa butter and milk fat). (ii) “couverture” (ii) The product containing a minimum total fat (cocoa butter and milk fat) content of 31 per cent. (iii) “Gianduja” or one of the derivatives of “Gianduja” (iii) The nut milk chocolate product obtained (1) from milk chocolate having a minimum content of 10 per cent dry milk solids, obtained by partly or wholly dehydrating whole milk, semi-skimmed or skimmed milk, cream, or from partly or wholly dehydrated cream, butter or milk fat and (2) from finely ground hazelnuts in such quantities that 100 grams of the product contain not less than 15 grams and not more than 40 grams of hazelnuts; and to which may have been added almonds, hazelnuts and other nut varieties, either whole or broken, in such quantities that, together with the ground hazelnuts, they do not exceed 60 per cent of the total weight of the product. (c) (c)  If “Milk” is replaced by— (c) (c)  (i) “cream” (i) The product containing a minimum milk fat content of 5.5 per cent. (ii) “skimmed milk” (ii) The product containing a milk fat content not greater than 1 per cent. 5. Family milk chocolate or Milk chocolate The product obtained from cocoa products, sugars and milk or milk products which contains— — not less than 20 per cent total dry cocoa solids; — not less than 20 per cent dry milk solids obtained by partly or wholly dehydrating whole milk, semi-skimmed or skimmed milk, cream, or from partly or wholly dehydrated cream, butter or milk fat; — not less than 2.5 per cent dry non-fat cocoa solids; — not less than 5 per cent milk fat; 9'),\n",
       " Document(metadata={'source': '../CASTRO_COFRE_ZURITA/data/Regulaciones cacao y chocolate 2003.pdf', 'page': 9}, page_content='Document Generated: 2023-04-24 Status:  This is the original version (as it was originally made). Column 1 Column 2 Reserved Descriptions Designated Products — not less than 25 per cent total fat (cocoa butter and milk fat). 6. White chocolate The product obtained from cocoa butter, milk or milk products and sugars which contains not less than 20 per cent cocoa butter and not less than 14 per cent dry milk solids obtained by partly or wholly dehydrating whole milk, semi- skimmed or skimmed milk, cream, or from partly or wholly dehydrated cream, butter or milk fat, of which not less than 3.5 per cent is milk fat. 7. Filled chocolate or Chocolate with … filling or Chocolate with … centre The filled product, the outer part of which consists of a product specified in column 2 of item 3, 4, 5 or 6 of this Schedule and constitutes not less than 25 per cent of the total weight of the product, but does not include any filled product, the inside of which consists of bakery products, pastry, biscuit or edible ice. 8. Chocolate a la taza The product obtained from cocoa products, sugars, and flour or starch from wheat, rice or maize, which contains not less than 35 per cent total dry cocoa solids, including not less than 18 per cent cocoa butter and not less than 14 per cent dry non-fat cocoa solids, and not more than 8 per cent flour or starch. 9. Chocolate familiar a la taza The product obtained from cocoa products, sugars, and flour or starch from wheat, rice or maize, which contains not less than 30 per cent total dry cocoa solids, including not less than 18 per cent cocoa butter and not less than 12 per cent dry non-fat cocoa solids, and not more than 18 per cent flour or starch. 10. A chocolate or A praline The product in single mouthful size, consisting of:— (a) the product specified in column 2 of item 7 of this Schedule; or (b) a single chocolate or a combination or a mixture of chocolate within the meaning of any of the definitions specified in column 2 of items 3, 4, 5 and 6 of this Schedule and any other edible substance, provided that the chocolate constitutes not less than 25 per cent of the total weight of the product. Notes. 1. — (1) Subject to regulation 3 and paragraph (2) of this Note, other edible substances may also be added to the designated chocolate products specified in column 2 of items 3, 4, 5, 6, 8 and 9 of this Schedule: 10'),\n",
       " Document(metadata={'source': '../CASTRO_COFRE_ZURITA/data/Regulaciones cacao y chocolate 2003.pdf', 'page': 10}, page_content='Document Generated: 2023-04-24 Status:  This is the original version (as it was originally made). Provided that this paragraph does not authorise the addition— (a) of animal fats and their preparations not deriving solely from milk; or (b) of flours, granular and powdered starch other than in accordance with the definitions specified in column 2 of items 8 and 9 of this Schedule; or (c) of other edible substances in a quantity exceeding 40 per cent of the total weight of the finished product. (2) Only those flavourings which do not mimic the taste of chocolate or of milk fat may be added to the designated products specified in column 2 of items 2, 3, 4, 5, 6, 8 and 9 of this Schedule. 2. — (1) The minimum contents of the designated chocolate products specified in column 2 of items 3, 4, 5, 6, 8 and 9 of this Schedule shall be calculated after deduction of the weight of other edible substances provided for in Note 1 to this Schedule. (2) In the case of the designated chocolate products specified in column 2 of items 7 and 10 of this Schedule, the minimum contents shall be calculated after deducting the weight of other edible substances provided for in Note 1 to this Schedule, as well as the weight of the filling. (3) The chocolate contents of the designated chocolate products specified in column 2 of items 7 and 10 of this Schedule shall be calculated in relation to the total weight of the finished product, including its filling. 3. In this Schedule, “sugars” includes sugars covered by Council Directive 2001/111/EC(22) and other sugars. SCHEDULE 2 Regulations 2 and 3 AUTHORISED VEGETABLE FATS 1. Subject to the following paragraphs of this Schedule, the vegetable fats referred to in regulation 3 are, singly or in blends, cocoa butter equivalents and shall comply with the following criteria:— (a) they are non-lauric vegetable fats, which are rich in symmetrical monounsaturated triglycerides of the type POP, POSt and StOSt; (b) they are miscible in any proportion with cocoa butter, and are compatible with its physical properties (melting point and crystallisation temperatures, melting rate, need for tempering phase); (c) they are obtained only by the processes of refining or fractionation or both, which exclude enzymatic modification of the triglyceride structure. 2. In conformity with the criteria specified in paragraph 1 above, the following vegetable fats, obtained from the plants listed in the Table below, may be used:— Usual name of vegetable fat Scientific name of the plants from which the fats listed can be obtained 1. Illipe, Borneo tallow or Tengkawang Shorea spp. 2. Palm-oil Elaeis guineensis Elaeis olifera 3. Sal Shorea robusta 4. Shea Burtyrospermum parkii 5. Kokum gurgi Garcinia indica (22) OJ L10, 12.1.2002, p.53. 11'),\n",
       " Document(metadata={'source': '../CASTRO_COFRE_ZURITA/data/Regulaciones cacao y chocolate 2003.pdf', 'page': 11}, page_content='Document Generated: 2023-04-24 Status:  This is the original version (as it was originally made). Usual name of vegetable fat Scientific name of the plants from which the fats listed can be obtained 6. Mango kernel Mangifera indica 3. Coconut oil may be used in chocolate for the manufacture of ice cream and similar frozen products. 4. In this Schedule— “P” means palmitic acid; “O” means oleic acid; “St” means stearic acid. EXPLANATORY NOTE (This note is not part of the Regulations) These Regulations, which apply to England, implement Directive 2000/36/EC of the European Parliament and the Council relating to cocoa and chocolate products intended for human consumption(23). They revoke and replace the Cocoa and Chocolate Products Regulations 1976, as amended, in relation to England. The Regulations— (a) prescribe definitions and reserved descriptions for designated cocoa and chocolate products (regulation 2 and Schedule 1); (b) specify the vegetable fats, other than cocoa butter, which may be added to designated chocolate products (regulation 3 and Schedule 2); (c) apply the Regulations to designated cocoa and chocolate products intended for human consumption and ready for delivery to the ultimate consumer or to a catering establishment (regulation 4); (d) restrict the use of reserved descriptions to the designated cocoa and chocolate products to which they relate (regulation 5); (e) require reserved descriptions and specified declarations to be applied to designated cocoa and chocolate products and prescribe the manner of marking or labelling (regulations 6 and 7); (f) specify a penalty, enforcement responsibilities and, in accordance with Articles 2 and 3 of Council Directive 89/397/EEC on the official control of foodstuffs(24) and the European Economic Area Agreement, a defence in relation to exports (regulations 8 and 9); (g) apply various provisions of the Food Safety Act 1990 (regulation 10); (h) remove the exemption for cocoa and chocolate products from Part II of the Food Labelling Regulations 1996, revoke the previous Cocoa and Chocolate Products Regulations and make consequential amendments and transitional provision (regulations 11 and 12). (23) OJ No. L197, 3.8.2000, p.19. (24) OJ No. L186, 30.6.89, p. 23. 12'),\n",
       " Document(metadata={'source': '../CASTRO_COFRE_ZURITA/data/Regulaciones cacao y chocolate 2003.pdf', 'page': 12}, page_content='Document Generated: 2023-04-24 Status:  This is the original version (as it was originally made). A Regulatory Impact Assessment has been prepared and placed in the Library of each House of Parliament, together with a Transposition Note setting out how the main elements of the European legislation referred to above are transposed in these Regulations. Copies may be obtained from the Food Labelling and Standards Division of the Food Standards Agency, Aviation House, 125 Kingsway, London WC2B 6NH. 13')]"
      ]
     },
     "execution_count": 5,
     "metadata": {},
     "output_type": "execute_result"
    }
   ],
   "source": [
    "legal_docs"
   ]
  },
  {
   "cell_type": "code",
   "execution_count": 6,
   "metadata": {},
   "outputs": [],
   "source": [
    "docs = [\n",
    "    Document(\n",
    "        page_content=\"A bunch of scientists bring back dinosaurs and mayhem breaks loose\",\n",
    "        metadata={\"year\": 1993, \"rating\": 7.7, \"genre\": \"science fiction\"},\n",
    "    ),\n",
    "    Document(\n",
    "        page_content=\"Leo DiCaprio gets lost in a dream within a dream within a dream within a ...\",\n",
    "        metadata={\"year\": 2010, \"director\": \"Christopher Nolan\", \"rating\": 8.2},\n",
    "    ),\n",
    "    Document(\n",
    "        page_content=\"A psychologist / detective gets lost in a series of dreams within dreams within dreams and Inception reused the idea\",\n",
    "        metadata={\"year\": 2006, \"director\": \"Satoshi Kon\", \"rating\": 8.6},\n",
    "    ),\n",
    "    Document(\n",
    "        page_content=\"A bunch of normal-sized women are supremely wholesome and some men pine after them\",\n",
    "        metadata={\"year\": 2019, \"director\": \"Greta Gerwig\", \"rating\": 8.3},\n",
    "    ),\n",
    "    Document(\n",
    "        page_content=\"Toys come alive and have a blast doing so\",\n",
    "        metadata={\"year\": 1995, \"genre\": \"animated\"},\n",
    "    ),\n",
    "    Document(\n",
    "        page_content=\"Three men walk into the Zone, three men walk out of the Zone\",\n",
    "        metadata={\n",
    "            \"year\": 1979,\n",
    "            \"rating\": 9.9,\n",
    "            \"director\": \"Andrei Tarkovsky\",\n",
    "            \"genre\": \"science fiction\",\n",
    "        },\n",
    "    ),\n",
    "]\n",
    "vectorstore = Qdrant.from_documents(\n",
    "    docs,\n",
    "    embedding_model,\n",
    "    location=\":memory:\",  # Local mode with in-memory storage only\n",
    "    collection_name=\"my_documents\",\n",
    ")"
   ]
  },
  {
   "cell_type": "markdown",
   "metadata": {},
   "source": [
    "## Self-query retriever"
   ]
  },
  {
   "cell_type": "code",
   "execution_count": 14,
   "metadata": {},
   "outputs": [
    {
     "ename": "ImportError",
     "evalue": "Cannot import lark, please install it with 'pip install lark'.",
     "output_type": "error",
     "traceback": [
      "\u001b[1;31m---------------------------------------------------------------------------\u001b[0m",
      "\u001b[1;31mImportError\u001b[0m                               Traceback (most recent call last)",
      "Cell \u001b[1;32mIn[14], line 29\u001b[0m\n\u001b[0;32m     25\u001b[0m document_content_description \u001b[38;5;241m=\u001b[39m \u001b[38;5;124m\"\u001b[39m\u001b[38;5;124mBrief summary of a movie\u001b[39m\u001b[38;5;124m\"\u001b[39m\n\u001b[0;32m     27\u001b[0m structured_query_translator \u001b[38;5;241m=\u001b[39m QdrantTranslator(metadata_key\u001b[38;5;241m=\u001b[39m\u001b[38;5;124m\"\u001b[39m\u001b[38;5;124mmetadata\u001b[39m\u001b[38;5;124m\"\u001b[39m)\n\u001b[1;32m---> 29\u001b[0m retriever \u001b[38;5;241m=\u001b[39m \u001b[43mSelfQueryRetriever\u001b[49m\u001b[38;5;241;43m.\u001b[39;49m\u001b[43mfrom_llm\u001b[49m\u001b[43m(\u001b[49m\n\u001b[0;32m     30\u001b[0m \u001b[43m    \u001b[49m\u001b[43mllm\u001b[49m\u001b[43m,\u001b[49m\n\u001b[0;32m     31\u001b[0m \u001b[43m    \u001b[49m\u001b[43mvectorstore\u001b[49m\u001b[43m,\u001b[49m\n\u001b[0;32m     32\u001b[0m \u001b[43m    \u001b[49m\u001b[43mdocument_content_description\u001b[49m\u001b[43m,\u001b[49m\n\u001b[0;32m     33\u001b[0m \u001b[43m    \u001b[49m\u001b[43mmetadata_field_info\u001b[49m\u001b[43m,\u001b[49m\n\u001b[0;32m     34\u001b[0m \u001b[43m    \u001b[49m\u001b[43mverbose\u001b[49m\u001b[38;5;241;43m=\u001b[39;49m\u001b[38;5;28;43;01mTrue\u001b[39;49;00m\u001b[43m,\u001b[49m\n\u001b[0;32m     35\u001b[0m \u001b[43m    \u001b[49m\u001b[43mstructured_query_translator\u001b[49m\u001b[38;5;241;43m=\u001b[39;49m\u001b[43mstructured_query_translator\u001b[49m\u001b[43m,\u001b[49m\n\u001b[0;32m     36\u001b[0m \u001b[43m)\u001b[49m\n",
      "File \u001b[1;32mc:\\Users\\nicol\\AppData\\Local\\Programs\\Python\\Python312\\Lib\\site-packages\\langchain\\retrievers\\self_query\\base.py:342\u001b[0m, in \u001b[0;36mSelfQueryRetriever.from_llm\u001b[1;34m(cls, llm, vectorstore, document_contents, metadata_field_info, structured_query_translator, chain_kwargs, enable_limit, use_original_query, **kwargs)\u001b[0m\n\u001b[0;32m    335\u001b[0m \u001b[38;5;28;01mif\u001b[39;00m (\n\u001b[0;32m    336\u001b[0m     \u001b[38;5;124m\"\u001b[39m\u001b[38;5;124mallowed_operators\u001b[39m\u001b[38;5;124m\"\u001b[39m \u001b[38;5;129;01mnot\u001b[39;00m \u001b[38;5;129;01min\u001b[39;00m chain_kwargs\n\u001b[0;32m    337\u001b[0m     \u001b[38;5;129;01mand\u001b[39;00m structured_query_translator\u001b[38;5;241m.\u001b[39mallowed_operators \u001b[38;5;129;01mis\u001b[39;00m \u001b[38;5;129;01mnot\u001b[39;00m \u001b[38;5;28;01mNone\u001b[39;00m\n\u001b[0;32m    338\u001b[0m ):\n\u001b[0;32m    339\u001b[0m     chain_kwargs[\u001b[38;5;124m\"\u001b[39m\u001b[38;5;124mallowed_operators\u001b[39m\u001b[38;5;124m\"\u001b[39m] \u001b[38;5;241m=\u001b[39m (\n\u001b[0;32m    340\u001b[0m         structured_query_translator\u001b[38;5;241m.\u001b[39mallowed_operators\n\u001b[0;32m    341\u001b[0m     )\n\u001b[1;32m--> 342\u001b[0m query_constructor \u001b[38;5;241m=\u001b[39m \u001b[43mload_query_constructor_runnable\u001b[49m\u001b[43m(\u001b[49m\n\u001b[0;32m    343\u001b[0m \u001b[43m    \u001b[49m\u001b[43mllm\u001b[49m\u001b[43m,\u001b[49m\n\u001b[0;32m    344\u001b[0m \u001b[43m    \u001b[49m\u001b[43mdocument_contents\u001b[49m\u001b[43m,\u001b[49m\n\u001b[0;32m    345\u001b[0m \u001b[43m    \u001b[49m\u001b[43mmetadata_field_info\u001b[49m\u001b[43m,\u001b[49m\n\u001b[0;32m    346\u001b[0m \u001b[43m    \u001b[49m\u001b[43menable_limit\u001b[49m\u001b[38;5;241;43m=\u001b[39;49m\u001b[43menable_limit\u001b[49m\u001b[43m,\u001b[49m\n\u001b[0;32m    347\u001b[0m \u001b[43m    \u001b[49m\u001b[38;5;241;43m*\u001b[39;49m\u001b[38;5;241;43m*\u001b[39;49m\u001b[43mchain_kwargs\u001b[49m\u001b[43m,\u001b[49m\n\u001b[0;32m    348\u001b[0m \u001b[43m\u001b[49m\u001b[43m)\u001b[49m\n\u001b[0;32m    349\u001b[0m query_constructor \u001b[38;5;241m=\u001b[39m query_constructor\u001b[38;5;241m.\u001b[39mwith_config(\n\u001b[0;32m    350\u001b[0m     run_name\u001b[38;5;241m=\u001b[39mQUERY_CONSTRUCTOR_RUN_NAME\n\u001b[0;32m    351\u001b[0m )\n\u001b[0;32m    352\u001b[0m \u001b[38;5;28;01mreturn\u001b[39;00m \u001b[38;5;28mcls\u001b[39m(  \u001b[38;5;66;03m# type: ignore[call-arg]\u001b[39;00m\n\u001b[0;32m    353\u001b[0m     query_constructor\u001b[38;5;241m=\u001b[39mquery_constructor,\n\u001b[0;32m    354\u001b[0m     vectorstore\u001b[38;5;241m=\u001b[39mvectorstore,\n\u001b[1;32m   (...)\u001b[0m\n\u001b[0;32m    357\u001b[0m     \u001b[38;5;241m*\u001b[39m\u001b[38;5;241m*\u001b[39mkwargs,\n\u001b[0;32m    358\u001b[0m )\n",
      "File \u001b[1;32mc:\\Users\\nicol\\AppData\\Local\\Programs\\Python\\Python312\\Lib\\site-packages\\langchain\\chains\\query_constructor\\base.py:368\u001b[0m, in \u001b[0;36mload_query_constructor_runnable\u001b[1;34m(llm, document_contents, attribute_info, examples, allowed_comparators, allowed_operators, enable_limit, schema_prompt, fix_invalid, **kwargs)\u001b[0m\n\u001b[0;32m    364\u001b[0m \u001b[38;5;28;01mfor\u001b[39;00m ainfo \u001b[38;5;129;01min\u001b[39;00m attribute_info:\n\u001b[0;32m    365\u001b[0m     allowed_attributes\u001b[38;5;241m.\u001b[39mappend(\n\u001b[0;32m    366\u001b[0m         ainfo\u001b[38;5;241m.\u001b[39mname \u001b[38;5;28;01mif\u001b[39;00m \u001b[38;5;28misinstance\u001b[39m(ainfo, AttributeInfo) \u001b[38;5;28;01melse\u001b[39;00m ainfo[\u001b[38;5;124m\"\u001b[39m\u001b[38;5;124mname\u001b[39m\u001b[38;5;124m\"\u001b[39m]\n\u001b[0;32m    367\u001b[0m     )\n\u001b[1;32m--> 368\u001b[0m output_parser \u001b[38;5;241m=\u001b[39m \u001b[43mStructuredQueryOutputParser\u001b[49m\u001b[38;5;241;43m.\u001b[39;49m\u001b[43mfrom_components\u001b[49m\u001b[43m(\u001b[49m\n\u001b[0;32m    369\u001b[0m \u001b[43m    \u001b[49m\u001b[43mallowed_comparators\u001b[49m\u001b[38;5;241;43m=\u001b[39;49m\u001b[43mallowed_comparators\u001b[49m\u001b[43m,\u001b[49m\n\u001b[0;32m    370\u001b[0m \u001b[43m    \u001b[49m\u001b[43mallowed_operators\u001b[49m\u001b[38;5;241;43m=\u001b[39;49m\u001b[43mallowed_operators\u001b[49m\u001b[43m,\u001b[49m\n\u001b[0;32m    371\u001b[0m \u001b[43m    \u001b[49m\u001b[43mallowed_attributes\u001b[49m\u001b[38;5;241;43m=\u001b[39;49m\u001b[43mallowed_attributes\u001b[49m\u001b[43m,\u001b[49m\n\u001b[0;32m    372\u001b[0m \u001b[43m    \u001b[49m\u001b[43mfix_invalid\u001b[49m\u001b[38;5;241;43m=\u001b[39;49m\u001b[43mfix_invalid\u001b[49m\u001b[43m,\u001b[49m\n\u001b[0;32m    373\u001b[0m \u001b[43m\u001b[49m\u001b[43m)\u001b[49m\n\u001b[0;32m    374\u001b[0m \u001b[38;5;28;01mreturn\u001b[39;00m prompt \u001b[38;5;241m|\u001b[39m llm \u001b[38;5;241m|\u001b[39m output_parser\n",
      "File \u001b[1;32mc:\\Users\\nicol\\AppData\\Local\\Programs\\Python\\Python312\\Lib\\site-packages\\langchain\\chains\\query_constructor\\base.py:101\u001b[0m, in \u001b[0;36mStructuredQueryOutputParser.from_components\u001b[1;34m(cls, allowed_comparators, allowed_operators, allowed_attributes, fix_invalid)\u001b[0m\n\u001b[0;32m     98\u001b[0m         \u001b[38;5;28;01mreturn\u001b[39;00m fixed\n\u001b[0;32m    100\u001b[0m \u001b[38;5;28;01melse\u001b[39;00m:\n\u001b[1;32m--> 101\u001b[0m     ast_parse \u001b[38;5;241m=\u001b[39m \u001b[43mget_parser\u001b[49m\u001b[43m(\u001b[49m\n\u001b[0;32m    102\u001b[0m \u001b[43m        \u001b[49m\u001b[43mallowed_comparators\u001b[49m\u001b[38;5;241;43m=\u001b[39;49m\u001b[43mallowed_comparators\u001b[49m\u001b[43m,\u001b[49m\n\u001b[0;32m    103\u001b[0m \u001b[43m        \u001b[49m\u001b[43mallowed_operators\u001b[49m\u001b[38;5;241;43m=\u001b[39;49m\u001b[43mallowed_operators\u001b[49m\u001b[43m,\u001b[49m\n\u001b[0;32m    104\u001b[0m \u001b[43m        \u001b[49m\u001b[43mallowed_attributes\u001b[49m\u001b[38;5;241;43m=\u001b[39;49m\u001b[43mallowed_attributes\u001b[49m\u001b[43m,\u001b[49m\n\u001b[0;32m    105\u001b[0m \u001b[43m    \u001b[49m\u001b[43m)\u001b[49m\u001b[38;5;241m.\u001b[39mparse\n\u001b[0;32m    106\u001b[0m \u001b[38;5;28;01mreturn\u001b[39;00m \u001b[38;5;28mcls\u001b[39m(ast_parse\u001b[38;5;241m=\u001b[39mast_parse)\n",
      "File \u001b[1;32mc:\\Users\\nicol\\AppData\\Local\\Programs\\Python\\Python312\\Lib\\site-packages\\langchain\\chains\\query_constructor\\parser.py:196\u001b[0m, in \u001b[0;36mget_parser\u001b[1;34m(allowed_comparators, allowed_operators, allowed_attributes)\u001b[0m\n\u001b[0;32m    194\u001b[0m \u001b[38;5;66;03m# QueryTransformer is None when Lark cannot be imported.\u001b[39;00m\n\u001b[0;32m    195\u001b[0m \u001b[38;5;28;01mif\u001b[39;00m QueryTransformer \u001b[38;5;129;01mis\u001b[39;00m \u001b[38;5;28;01mNone\u001b[39;00m:\n\u001b[1;32m--> 196\u001b[0m     \u001b[38;5;28;01mraise\u001b[39;00m \u001b[38;5;167;01mImportError\u001b[39;00m(\n\u001b[0;32m    197\u001b[0m         \u001b[38;5;124m\"\u001b[39m\u001b[38;5;124mCannot import lark, please install it with \u001b[39m\u001b[38;5;124m'\u001b[39m\u001b[38;5;124mpip install lark\u001b[39m\u001b[38;5;124m'\u001b[39m\u001b[38;5;124m.\u001b[39m\u001b[38;5;124m\"\u001b[39m\n\u001b[0;32m    198\u001b[0m     )\n\u001b[0;32m    199\u001b[0m transformer \u001b[38;5;241m=\u001b[39m QueryTransformer(\n\u001b[0;32m    200\u001b[0m     allowed_comparators\u001b[38;5;241m=\u001b[39mallowed_comparators,\n\u001b[0;32m    201\u001b[0m     allowed_operators\u001b[38;5;241m=\u001b[39mallowed_operators,\n\u001b[0;32m    202\u001b[0m     allowed_attributes\u001b[38;5;241m=\u001b[39mallowed_attributes,\n\u001b[0;32m    203\u001b[0m )\n\u001b[0;32m    204\u001b[0m \u001b[38;5;28;01mreturn\u001b[39;00m Lark(GRAMMAR, parser\u001b[38;5;241m=\u001b[39m\u001b[38;5;124m\"\u001b[39m\u001b[38;5;124mlalr\u001b[39m\u001b[38;5;124m\"\u001b[39m, transformer\u001b[38;5;241m=\u001b[39mtransformer, start\u001b[38;5;241m=\u001b[39m\u001b[38;5;124m\"\u001b[39m\u001b[38;5;124mprogram\u001b[39m\u001b[38;5;124m\"\u001b[39m)\n",
      "\u001b[1;31mImportError\u001b[0m: Cannot import lark, please install it with 'pip install lark'."
     ]
    }
   ],
   "source": [
    "from langchain.chains.query_constructor.base import AttributeInfo\n",
    "from langchain.retrievers.self_query.base import SelfQueryRetriever\n",
    "from langchain.retrievers.self_query.qdrant import QdrantTranslator\n",
    "\n",
    "metadata_field_info = [\n",
    "    AttributeInfo(\n",
    "        name=\"genre\",\n",
    "        description=\"The genre of the movie\",\n",
    "        type=\"string or list[string]\",\n",
    "    ),\n",
    "    AttributeInfo(\n",
    "        name=\"year\",\n",
    "        description=\"The year the movie was released\",\n",
    "        type=\"integer\",\n",
    "    ),\n",
    "    AttributeInfo(\n",
    "        name=\"director\",\n",
    "        description=\"The name of the movie director\",\n",
    "        type=\"string\",\n",
    "    ),\n",
    "    AttributeInfo(\n",
    "        name=\"rating\", description=\"A 1-10 rating for the movie\", type=\"float\"\n",
    "    ),\n",
    "]\n",
    "document_content_description = \"Brief summary of a movie\"\n",
    "\n",
    "structured_query_translator = QdrantTranslator(metadata_key=\"metadata\")\n",
    "\n",
    "retriever = SelfQueryRetriever.from_llm(\n",
    "    llm,\n",
    "    vectorstore,\n",
    "    document_content_description,\n",
    "    metadata_field_info,\n",
    "    verbose=True,\n",
    "    structured_query_translator=structured_query_translator,\n",
    ")"
   ]
  },
  {
   "cell_type": "code",
   "execution_count": 15,
   "metadata": {},
   "outputs": [
    {
     "ename": "NameError",
     "evalue": "name 'retriever' is not defined",
     "output_type": "error",
     "traceback": [
      "\u001b[1;31m---------------------------------------------------------------------------\u001b[0m",
      "\u001b[1;31mNameError\u001b[0m                                 Traceback (most recent call last)",
      "Cell \u001b[1;32mIn[15], line 2\u001b[0m\n\u001b[0;32m      1\u001b[0m \u001b[38;5;66;03m# This example only specifies a relevant query\u001b[39;00m\n\u001b[1;32m----> 2\u001b[0m \u001b[43mretriever\u001b[49m\u001b[38;5;241m.\u001b[39minvoke(\u001b[38;5;124m\"\u001b[39m\u001b[38;5;124mWhat are some movies about dinosaurs\u001b[39m\u001b[38;5;124m\"\u001b[39m)\n",
      "\u001b[1;31mNameError\u001b[0m: name 'retriever' is not defined"
     ]
    }
   ],
   "source": [
    "# This example only specifies a relevant query\n",
    "retriever.invoke(\"What are some movies about dinosaurs\")"
   ]
  },
  {
   "cell_type": "code",
   "execution_count": 17,
   "metadata": {},
   "outputs": [
    {
     "data": {
      "text/plain": [
       "[Document(metadata={'year': 1979, 'rating': 9.9, 'director': 'Andrei Tarkovsky', 'genre': 'science fiction', '_id': '7eff7d2c1d314fee8d03dc92c25cad6e', '_collection_name': 'my_documents'}, page_content='Three men walk into the Zone, three men walk out of the Zone'),\n",
       " Document(metadata={'year': 2006, 'director': 'Satoshi Kon', 'rating': 8.6, '_id': '135f470a2aed4fc3b85b4b64e5454361', '_collection_name': 'my_documents'}, page_content='A psychologist / detective gets lost in a series of dreams within dreams within dreams and Inception reused the idea')]"
      ]
     },
     "execution_count": 17,
     "metadata": {},
     "output_type": "execute_result"
    }
   ],
   "source": [
    "# This example only specifies a filter\n",
    "retriever.invoke(\"I want to watch a movie rated higher than 8.5\")"
   ]
  },
  {
   "cell_type": "code",
   "execution_count": 18,
   "metadata": {},
   "outputs": [
    {
     "data": {
      "text/plain": [
       "[Document(metadata={'year': 2019, 'director': 'Greta Gerwig', 'rating': 8.3, '_id': '59d0c3df1f9541b6b13e0f8c26e281dc', '_collection_name': 'my_documents'}, page_content='A bunch of normal-sized women are supremely wholesome and some men pine after them')]"
      ]
     },
     "execution_count": 18,
     "metadata": {},
     "output_type": "execute_result"
    }
   ],
   "source": [
    "# This example specifies a query and a filter\n",
    "retriever.invoke(\"Has Greta Gerwig directed any movies about women\")"
   ]
  },
  {
   "cell_type": "code",
   "execution_count": 19,
   "metadata": {},
   "outputs": [
    {
     "data": {
      "text/plain": [
       "[Document(metadata={'year': 2006, 'director': 'Satoshi Kon', 'rating': 8.6, '_id': '135f470a2aed4fc3b85b4b64e5454361', '_collection_name': 'my_documents'}, page_content='A psychologist / detective gets lost in a series of dreams within dreams within dreams and Inception reused the idea'),\n",
       " Document(metadata={'year': 1979, 'rating': 9.9, 'director': 'Andrei Tarkovsky', 'genre': 'science fiction', '_id': '7eff7d2c1d314fee8d03dc92c25cad6e', '_collection_name': 'my_documents'}, page_content='Three men walk into the Zone, three men walk out of the Zone')]"
      ]
     },
     "execution_count": 19,
     "metadata": {},
     "output_type": "execute_result"
    }
   ],
   "source": [
    "# This example specifies a composite filter\n",
    "retriever.invoke(\"What's a highly rated (above 8.5) science fiction film?\")"
   ]
  },
  {
   "cell_type": "markdown",
   "metadata": {},
   "source": [
    "### Parent Document Retrieval"
   ]
  },
  {
   "cell_type": "code",
   "execution_count": 20,
   "metadata": {},
   "outputs": [],
   "source": [
    "from langchain.retrievers import ParentDocumentRetriever\n",
    "from langchain.storage import InMemoryStore"
   ]
  },
  {
   "cell_type": "code",
   "execution_count": 21,
   "metadata": {},
   "outputs": [],
   "source": [
    "file_path = (\n",
    "    \"../practicos-rag/data/Regulaciones cacao y chocolate 2003.pdf\"\n",
    ")\n",
    "loader = PyPDFLoader(file_path)\n",
    "docs = loader.load()"
   ]
  },
  {
   "cell_type": "code",
   "execution_count": 22,
   "metadata": {},
   "outputs": [],
   "source": [
    "from langchain_text_splitters import RecursiveCharacterTextSplitter\n",
    "\n",
    "# This text splitter is used to create the parent documents\n",
    "parent_splitter = RecursiveCharacterTextSplitter(chunk_size=1000)\n",
    "# This text splitter is used to create the child documents\n",
    "# It should create documents smaller than the parent\n",
    "child_splitter = RecursiveCharacterTextSplitter(chunk_size=200)"
   ]
  },
  {
   "cell_type": "code",
   "execution_count": 23,
   "metadata": {},
   "outputs": [],
   "source": [
    "# Create both stores\n",
    "store = InMemoryStore()  # For storing the parent documents\n",
    "byte_store = InMemoryStore()  # For storing the child document chunks\n",
    "\n",
    "parent_retriever = ParentDocumentRetriever(\n",
    "    vectorstore=vectorstore,\n",
    "    docstore=store,  # Changed from store to docstore\n",
    "    byte_store=byte_store,  # Added byte_store\n",
    "    parent_splitter=parent_splitter,\n",
    "    child_splitter=child_splitter\n",
    ")\n"
   ]
  },
  {
   "cell_type": "code",
   "execution_count": 24,
   "metadata": {},
   "outputs": [
    {
     "data": {
      "text/plain": [
       "13"
      ]
     },
     "execution_count": 24,
     "metadata": {},
     "output_type": "execute_result"
    }
   ],
   "source": [
    "len(docs)"
   ]
  },
  {
   "cell_type": "code",
   "execution_count": 25,
   "metadata": {},
   "outputs": [],
   "source": [
    "parent_retriever.add_documents(docs)"
   ]
  },
  {
   "cell_type": "code",
   "execution_count": 26,
   "metadata": {},
   "outputs": [
    {
     "data": {
      "text/plain": [
       "43"
      ]
     },
     "execution_count": 26,
     "metadata": {},
     "output_type": "execute_result"
    }
   ],
   "source": [
    "len(list(byte_store.yield_keys()))"
   ]
  },
  {
   "cell_type": "code",
   "execution_count": 27,
   "metadata": {},
   "outputs": [
    {
     "data": {
      "text/plain": [
       "[Document(metadata={'source': '../practicos-rag/data/Regulaciones cacao y chocolate 2003.pdf', 'page': 6, 'doc_id': 'f1e4802a-ff12-49cc-a089-036ac3185f93', '_id': '8eb50918ae6f4f33bf3a1156876727be', '_collection_name': 'my_documents'}, page_content='(c) (c)  Powdered chocolate or\\nChocolate in powder\\nThe product consisting of a mixture of cocoa\\npowder and sugars, containing not less than 32\\nper cent cocoa powder.\\n(d) (d)  Drinking chocolate or'),\n",
       " Document(metadata={'source': '../practicos-rag/data/Regulaciones cacao y chocolate 2003.pdf', 'page': 7, 'doc_id': '8b93dcf8-9f0f-4472-adaa-d2f9ac3658d1', '_id': 'cd735e6e1c5c4f77954d5c9f6cf5fcb8', '_collection_name': 'my_documents'}, page_content='(a) (a)  Milk chocolate (a) The product obtained from cocoa\\nproducts, sugars and milk or milk\\nproducts which, subject to item 4(b),\\ncontains—\\n— not less than 25 per cent total dry\\ncocoa solids;'),\n",
       " Document(metadata={'source': '../practicos-rag/data/Regulaciones cacao y chocolate 2003.pdf', 'page': 6, 'doc_id': 'f1e4802a-ff12-49cc-a089-036ac3185f93', '_id': '70b65362794d4cf1b9e2b474e9af1908', '_collection_name': 'my_documents'}, page_content='(d) (d)  Drinking chocolate or\\nSweetened cocoa or Sweetened cocoa\\npowder\\nThe product consisting of a mixture of cocoa\\npowder and sugars, containing not less than 25\\nper cent cocoa powder.'),\n",
       " Document(metadata={'source': '../practicos-rag/data/Regulaciones cacao y chocolate 2003.pdf', 'page': 6, 'doc_id': '54c63a6f-2c90-44a3-a423-c50ffdc4bc62', '_id': 'a6a005d5fad540fe8f8622822cb38a04', '_collection_name': 'my_documents'}, page_content='cocoa powder.\\n(a) (a)  Chocolate (a) The product obtained from cocoa\\nproducts and sugars which, subject to\\nitem 3(b), contains not less than 35 per\\ncent total dry cocoa solids, including not')]"
      ]
     },
     "execution_count": 27,
     "metadata": {},
     "output_type": "execute_result"
    }
   ],
   "source": [
    "sub_docs = vectorstore.similarity_search(\"What is chocolate?\")\n",
    "sub_docs"
   ]
  },
  {
   "cell_type": "code",
   "execution_count": 28,
   "metadata": {},
   "outputs": [
    {
     "name": "stdout",
     "output_type": "stream",
     "text": [
      "196\n"
     ]
    }
   ],
   "source": [
    "print(len(sub_docs[0].page_content))\n"
   ]
  },
  {
   "cell_type": "code",
   "execution_count": 29,
   "metadata": {},
   "outputs": [
    {
     "name": "stdout",
     "output_type": "stream",
     "text": [
      "997\n"
     ]
    }
   ],
   "source": [
    "retrieved_docs = parent_retriever.invoke(\"What is chocolate?\")\n",
    "print(len(retrieved_docs[0].page_content))"
   ]
  },
  {
   "cell_type": "markdown",
   "metadata": {},
   "source": [
    "### Hybrid Search"
   ]
  },
  {
   "cell_type": "markdown",
   "metadata": {},
   "source": [
    "#### Dense Retrieval"
   ]
  },
  {
   "cell_type": "code",
   "execution_count": 30,
   "metadata": {},
   "outputs": [],
   "source": [
    "from langchain_qdrant import RetrievalMode\n",
    "\n",
    "qdrant = QdrantVectorStore.from_documents(\n",
    "    legal_docs,\n",
    "    embedding=embedding_model,\n",
    "    location=\":memory:\",\n",
    "    collection_name=\"my_documents\",\n",
    "    retrieval_mode=RetrievalMode.DENSE,\n",
    ")\n",
    "\n",
    "query = \"What is chocolate?\"\n",
    "found_docs = qdrant.similarity_search(query)"
   ]
  },
  {
   "cell_type": "code",
   "execution_count": 31,
   "metadata": {},
   "outputs": [
    {
     "data": {
      "text/plain": [
       "[Document(metadata={'source': '../practicos-rag/data/Regulaciones cacao y chocolate 2003.pdf', 'page': 9, '_id': '89c52160d164421d85a707fc580022d9', '_collection_name': 'my_documents'}, page_content='Document Generated: 2023-04-24\\nStatus:  This is the original version (as it was originally made).\\nColumn 1 Column 2\\nReserved Descriptions Designated Products\\n— not less than 25 per cent total fat (cocoa\\nbutter and milk fat).\\n6. White chocolate The product obtained from cocoa butter, milk\\nor milk products and sugars which contains not\\nless than 20 per cent cocoa butter and not less\\nthan 14 per cent dry milk solids obtained by\\npartly or wholly dehydrating whole milk, semi-\\nskimmed or skimmed milk, cream, or from\\npartly or wholly dehydrated cream, butter or\\nmilk fat, of which not less than 3.5 per cent is\\nmilk fat.\\n7. Filled chocolate or\\nChocolate with … filling or\\nChocolate with … centre\\nThe filled product, the outer part of which\\nconsists of a product specified in column\\n2 of item 3, 4, 5 or 6 of this Schedule and\\nconstitutes not less than 25 per cent of the total\\nweight of the product, but does not include any\\nfilled product, the inside of which consists of\\nbakery products, pastry, biscuit or edible ice.\\n8. Chocolate a la taza The product obtained from cocoa products,\\nsugars, and flour or starch from wheat, rice or\\nmaize, which contains not less than 35 per cent\\ntotal dry cocoa solids, including not less than\\n18 per cent cocoa butter and not less than 14\\nper cent dry non-fat cocoa solids, and not more\\nthan 8 per cent flour or starch.\\n9. Chocolate familiar a la taza The product obtained from cocoa products,\\nsugars, and flour or starch from wheat, rice or\\nmaize, which contains not less than 30 per cent\\ntotal dry cocoa solids, including not less than\\n18 per cent cocoa butter and not less than 12\\nper cent dry non-fat cocoa solids, and not more\\nthan 18 per cent flour or starch.\\n10. A chocolate or A praline The product in single mouthful size, consisting\\nof:—\\n(a) the product specified in column 2 of item\\n7 of this Schedule; or\\n(b) a single chocolate or a combination or a\\nmixture of chocolate within the meaning\\nof any of the definitions specified in\\ncolumn 2 of items 3, 4, 5 and 6 of this\\nSchedule and any other edible substance,\\nprovided that the chocolate constitutes not\\nless than 25 per cent of the total weight of\\nthe product.\\nNotes.\\n1. —\\n(1) Subject to regulation 3 and paragraph (2) of this Note, other edible substances may\\nalso be added to the designated chocolate products specified in column 2 of items 3,\\n4, 5, 6, 8 and 9 of this Schedule:\\n10'),\n",
       " Document(metadata={'source': '../practicos-rag/data/Regulaciones cacao y chocolate 2003.pdf', 'page': 7, '_id': '4891f6de0d4141aa908117d087062ce0', '_collection_name': 'my_documents'}, page_content='Document Generated: 2023-04-24\\nStatus:  This is the original version (as it was originally made).\\nColumn 1 Column 2\\nReserved Descriptions Designated Products\\nincluding not less than 12 per cent cocoa\\nbutter and not less than 14 per cent of dry\\nnon-fat cocoa solids.\\n(ii) “couverture” (ii) The product containing not less than 35\\nper cent total dry cocoa solids, including\\nnot less than 31 per cent cocoa butter and\\nnot less than 2.5 per cent of dry non-fat\\ncocoa solids.\\n(iii) “Gianduja” or one of the derivatives of\\n“Gianduja”\\n(iii) The nut chocolate product obtained (1)\\nfrom chocolate having a minimum total\\ndry cocoa solids content of 32 per cent\\nincluding a minimum dry non-fat cocoa\\nsolids content of 8 per cent, and (2) from\\nfinely ground hazelnuts in such quantities\\nthat 100 grams of the product contain not\\nless than 20 grams and not more than 40\\ngrams of hazelnuts; and to which may\\nhave been added—\\n— milk or dry milk solids obtained by\\nevaporation or both, in such proportion\\nthat the finished product does not contain\\nmore than 5 per cent dry milk solids;\\n— almonds, hazelnuts and other nut\\nvarieties, either whole or broken, in such\\nquantities that, together with the ground\\nhazelnuts, they do not exceed 60 per cent\\nof the total weight of the product.\\n(a) (a)  Milk chocolate (a) The product obtained from cocoa\\nproducts, sugars and milk or milk\\nproducts which, subject to item 4(b),\\ncontains—\\n— not less than 25 per cent total dry\\ncocoa solids;\\n— not less than 14 per cent dry milk\\nsolids obtained by partly or wholly\\ndehydrating whole milk, semi-\\nskimmed or skimmed milk, cream,\\nor from partly or wholly dehydrated\\ncream, butter or milk fat;\\n— not less than 2.5 per cent dry non-\\nfat cocoa solids;\\n— not less than 3.5 per cent milk fat;\\n— not less than 25 per cent total fat\\n(cocoa butter and milk fat).\\n(b) (b)  If “Milk chocolate” is\\nsupplemented by—\\n(b) (b) \\n(i) “vermicelli” or “flakes” (i) The product presented in the form of\\ngranules or flakes containing not less\\n8'),\n",
       " Document(metadata={'source': '../practicos-rag/data/Regulaciones cacao y chocolate 2003.pdf', 'page': 11, '_id': '8c04a43809244cb58642a8a3f61d990e', '_collection_name': 'my_documents'}, page_content='Document Generated: 2023-04-24\\nStatus:  This is the original version (as it was originally made).\\nUsual name of vegetable fat Scientific name of the plants from which\\nthe fats listed can be obtained\\n6. Mango kernel Mangifera indica\\n3. Coconut oil may be used in chocolate for the manufacture of ice cream and similar frozen\\nproducts.\\n4. In this Schedule—\\n“P” means palmitic acid;\\n“O” means oleic acid;\\n“St” means stearic acid.\\nEXPLANATORY NOTE\\n(This note is not part of the Regulations)\\nThese Regulations, which apply to England, implement Directive 2000/36/EC of the European\\nParliament and the Council relating to cocoa and chocolate products intended for human\\nconsumption(23). They revoke and replace the Cocoa and Chocolate Products Regulations 1976, as\\namended, in relation to England.\\nThe Regulations—\\n(a) prescribe definitions and reserved descriptions for designated cocoa and chocolate\\nproducts (regulation 2 and Schedule 1);\\n(b) specify the vegetable fats, other than cocoa butter, which may be added to designated\\nchocolate products (regulation 3 and Schedule 2);\\n(c) apply the Regulations to designated cocoa and chocolate products intended for human\\nconsumption and ready for delivery to the ultimate consumer or to a catering establishment\\n(regulation 4);\\n(d) restrict the use of reserved descriptions to the designated cocoa and chocolate products to\\nwhich they relate (regulation 5);\\n(e) require reserved descriptions and specified declarations to be applied to designated cocoa\\nand chocolate products and prescribe the manner of marking or labelling (regulations 6\\nand 7);\\n(f) specify a penalty, enforcement responsibilities and, in accordance with Articles 2 and 3 of\\nCouncil Directive 89/397/EEC on the official control of foodstuffs(24) and the European\\nEconomic Area Agreement, a defence in relation to exports (regulations 8 and 9);\\n(g) apply various provisions of the Food Safety Act 1990 (regulation 10);\\n(h) remove the exemption for cocoa and chocolate products from Part II of the Food Labelling\\nRegulations 1996, revoke the previous Cocoa and Chocolate Products Regulations and\\nmake consequential amendments and transitional provision (regulations 11 and 12).\\n(23) OJ No. L197, 3.8.2000, p.19.\\n(24) OJ No. L186, 30.6.89, p. 23.\\n12'),\n",
       " Document(metadata={'source': '../practicos-rag/data/Regulaciones cacao y chocolate 2003.pdf', 'page': 6, '_id': '1657fb71bf3e4c379b575838dd1359d3', '_collection_name': 'my_documents'}, page_content='Document Generated: 2023-04-24\\nStatus:  This is the original version (as it was originally made).\\nSCHEDULE 1 Regulations 2, 3 and 6\\nCOCOA AND CHOCOLATE PRODUCTS AND THEIR RESERVED DESCRIPTIONS\\nColumn 1 Column 2\\nReserved Descriptions Designated Products\\n1. Cocoa butter The fat obtained from cocoa beans or parts of\\ncocoa beans with the following characteristics:\\n—\\n— not more than 1.75 per cent free fatty acid\\ncontent (expressed as oleic acid); and\\n— for press cocoa butter, not more than\\n0.35 per cent unsaponifiable matter\\n(determined using petroleum ether); or\\n— for other cocoa butter, not more than\\n0.5 per cent unsaponifiable matter (so\\ndetermined).\\n(a) (a)  Cocoa powder or Cocoa The product obtained by converting into\\npowder cocoa beans which have been cleaned,\\nshelled and roasted, and which contains not\\nless than 20 per cent cocoa butter, calculated\\naccording to the weight of the dry matter, and\\nnot more than 9 per cent water.\\n(b) (b)  Fat-reduced cocoa or Fat-\\nreduced cocoa powder\\nCocoa powder containing less than 20 per cent\\ncocoa butter, calculated according to the weight\\nof the dry matter.\\n(c) (c)  Powdered chocolate or\\nChocolate in powder\\nThe product consisting of a mixture of cocoa\\npowder and sugars, containing not less than 32\\nper cent cocoa powder.\\n(d) (d)  Drinking chocolate or\\nSweetened cocoa or Sweetened cocoa\\npowder\\nThe product consisting of a mixture of cocoa\\npowder and sugars, containing not less than 25\\nper cent cocoa powder.\\n(e) (e)  Fat-reduced drinking chocolate\\nor Fat-reduced sweetened cocoa or\\nFat-reduced sweetened cocoa powder\\nThe product consisting of a mixture of cocoa\\npowder specified at item 2(b) and sugars,\\ncontaining not less than 25 per cent of such\\ncocoa powder.\\n(a) (a)  Chocolate (a) The product obtained from cocoa\\nproducts and sugars which, subject to\\nitem 3(b), contains not less than 35 per\\ncent total dry cocoa solids, including not\\nless than 18 per cent cocoa butter and not\\nless than 14 per cent of dry non-fat cocoa\\nsolids.\\n(b) (b)  If “Chocolate” is supplemented\\nby\\n(b) (b) \\n(i) “vermicelli” or “flakes” (i) The product presented in the form of\\ngranules or flakes containing not less\\nthan 32 per cent total dry cocoa solids,\\n7')]"
      ]
     },
     "execution_count": 31,
     "metadata": {},
     "output_type": "execute_result"
    }
   ],
   "source": [
    "found_docs"
   ]
  },
  {
   "cell_type": "markdown",
   "metadata": {},
   "source": [
    "#### Sparse Retrieval"
   ]
  },
  {
   "cell_type": "code",
   "execution_count": 32,
   "metadata": {},
   "outputs": [
    {
     "name": "stderr",
     "output_type": "stream",
     "text": [
      "Fetching 29 files: 100%|██████████| 29/29 [00:01<00:00, 14.95it/s]\n"
     ]
    },
    {
     "data": {
      "text/plain": [
       "[Document(metadata={'source': '../practicos-rag/data/Regulaciones cacao y chocolate 2003.pdf', 'page': 11, '_id': 'aea89a744d94465bb44912f6ae18fb7a', '_collection_name': 'my_documents'}, page_content='Document Generated: 2023-04-24\\nStatus:  This is the original version (as it was originally made).\\nUsual name of vegetable fat Scientific name of the plants from which\\nthe fats listed can be obtained\\n6. Mango kernel Mangifera indica\\n3. Coconut oil may be used in chocolate for the manufacture of ice cream and similar frozen\\nproducts.\\n4. In this Schedule—\\n“P” means palmitic acid;\\n“O” means oleic acid;\\n“St” means stearic acid.\\nEXPLANATORY NOTE\\n(This note is not part of the Regulations)\\nThese Regulations, which apply to England, implement Directive 2000/36/EC of the European\\nParliament and the Council relating to cocoa and chocolate products intended for human\\nconsumption(23). They revoke and replace the Cocoa and Chocolate Products Regulations 1976, as\\namended, in relation to England.\\nThe Regulations—\\n(a) prescribe definitions and reserved descriptions for designated cocoa and chocolate\\nproducts (regulation 2 and Schedule 1);\\n(b) specify the vegetable fats, other than cocoa butter, which may be added to designated\\nchocolate products (regulation 3 and Schedule 2);\\n(c) apply the Regulations to designated cocoa and chocolate products intended for human\\nconsumption and ready for delivery to the ultimate consumer or to a catering establishment\\n(regulation 4);\\n(d) restrict the use of reserved descriptions to the designated cocoa and chocolate products to\\nwhich they relate (regulation 5);\\n(e) require reserved descriptions and specified declarations to be applied to designated cocoa\\nand chocolate products and prescribe the manner of marking or labelling (regulations 6\\nand 7);\\n(f) specify a penalty, enforcement responsibilities and, in accordance with Articles 2 and 3 of\\nCouncil Directive 89/397/EEC on the official control of foodstuffs(24) and the European\\nEconomic Area Agreement, a defence in relation to exports (regulations 8 and 9);\\n(g) apply various provisions of the Food Safety Act 1990 (regulation 10);\\n(h) remove the exemption for cocoa and chocolate products from Part II of the Food Labelling\\nRegulations 1996, revoke the previous Cocoa and Chocolate Products Regulations and\\nmake consequential amendments and transitional provision (regulations 11 and 12).\\n(23) OJ No. L197, 3.8.2000, p.19.\\n(24) OJ No. L186, 30.6.89, p. 23.\\n12'),\n",
       " Document(metadata={'source': '../practicos-rag/data/Regulaciones cacao y chocolate 2003.pdf', 'page': 9, '_id': 'a39e81ad1a8148b2bfcf86a318b7b545', '_collection_name': 'my_documents'}, page_content='Document Generated: 2023-04-24\\nStatus:  This is the original version (as it was originally made).\\nColumn 1 Column 2\\nReserved Descriptions Designated Products\\n— not less than 25 per cent total fat (cocoa\\nbutter and milk fat).\\n6. White chocolate The product obtained from cocoa butter, milk\\nor milk products and sugars which contains not\\nless than 20 per cent cocoa butter and not less\\nthan 14 per cent dry milk solids obtained by\\npartly or wholly dehydrating whole milk, semi-\\nskimmed or skimmed milk, cream, or from\\npartly or wholly dehydrated cream, butter or\\nmilk fat, of which not less than 3.5 per cent is\\nmilk fat.\\n7. Filled chocolate or\\nChocolate with … filling or\\nChocolate with … centre\\nThe filled product, the outer part of which\\nconsists of a product specified in column\\n2 of item 3, 4, 5 or 6 of this Schedule and\\nconstitutes not less than 25 per cent of the total\\nweight of the product, but does not include any\\nfilled product, the inside of which consists of\\nbakery products, pastry, biscuit or edible ice.\\n8. Chocolate a la taza The product obtained from cocoa products,\\nsugars, and flour or starch from wheat, rice or\\nmaize, which contains not less than 35 per cent\\ntotal dry cocoa solids, including not less than\\n18 per cent cocoa butter and not less than 14\\nper cent dry non-fat cocoa solids, and not more\\nthan 8 per cent flour or starch.\\n9. Chocolate familiar a la taza The product obtained from cocoa products,\\nsugars, and flour or starch from wheat, rice or\\nmaize, which contains not less than 30 per cent\\ntotal dry cocoa solids, including not less than\\n18 per cent cocoa butter and not less than 12\\nper cent dry non-fat cocoa solids, and not more\\nthan 18 per cent flour or starch.\\n10. A chocolate or A praline The product in single mouthful size, consisting\\nof:—\\n(a) the product specified in column 2 of item\\n7 of this Schedule; or\\n(b) a single chocolate or a combination or a\\nmixture of chocolate within the meaning\\nof any of the definitions specified in\\ncolumn 2 of items 3, 4, 5 and 6 of this\\nSchedule and any other edible substance,\\nprovided that the chocolate constitutes not\\nless than 25 per cent of the total weight of\\nthe product.\\nNotes.\\n1. —\\n(1) Subject to regulation 3 and paragraph (2) of this Note, other edible substances may\\nalso be added to the designated chocolate products specified in column 2 of items 3,\\n4, 5, 6, 8 and 9 of this Schedule:\\n10'),\n",
       " Document(metadata={'source': '../practicos-rag/data/Regulaciones cacao y chocolate 2003.pdf', 'page': 2, '_id': 'e4c4d44efa2948ba8d17f2a21f7b38a9', '_collection_name': 'my_documents'}, page_content='Document Generated: 2023-04-24\\nStatus:  This is the original version (as it was originally made).\\nReserved descriptions\\n5. No person shall sell any food with a label, whether or not attached to or printed on the wrapper\\nor container, which bears, comprises or includes any reserved description or any derivative thereof\\nor any word or description substantially similar thereto unless—\\n(a) such food is the designated product to which the reserved description relates;\\n(b) such description, derivative or word is used in such a context as to indicate explicitly or by\\nclear implication that the substance to which it relates is only an ingredient of that food; or\\n(c) such description, derivative or word is used in such a context as to indicate explicitly or\\nby clear implication that such food is not and does not contain a designated product.\\nLabelling and description of designated products\\n6.—(1)  Without prejudice to the generality of Part II of the 1996 Regulations, no person shall\\nsell any designated product unless it is marked or labelled with the following particulars—\\n(a) subject to paragraphs (2)(a) and (3) below, a reserved description of the product;\\n(b) subject to paragraph (2) of regulation 7, in the case of a designated chocolate product\\nwhich, pursuant to regulation 3, contains vegetable fats other than cocoa butter, the\\nconspicuous and clearly legible statement “contains vegetable fats in addition to cocoa\\nbutter”;\\n(c) where the words “milk chocolate” are used as the reserved description or a qualification\\nof the reserved description of a designated chocolate product, an accompanying indication\\nof the dry milk solids content in the form “milk solids … % minimum”, provided that—\\n(i) as regards a designated chocolate product specified in column 2 of item 4(a) of\\nSchedule 1, the dry milk solids content indicated is not less than 14 per cent; and\\n(ii) as regards a designated chocolate product specified in column 2 of item 5 of\\nSchedule 1, the dry milk solids content indicated is not less than 20 per cent;\\n(d) subject to paragraph (4) below, in the case of a designated product specified in column 2\\nof item 2(c), 2(d), 2(e), 3, 4, 5, 8 or 9 of Schedule 1, an indication of the total dry cocoa\\nsolids content in the form “cocoa solids … % minimum”;\\n(e) in the case of a designated cocoa product specified in column 2 of item 2(b) or 2(e), an\\nindication of the cocoa butter content.\\n(2)  Where designated chocolate products specified in column 2 of items 3, 4, 5, 6, 7 and 10 of\\nSchedule 1 are sold in an assortment—\\n(a) the reserved description may be replaced by “assorted chocolates” or “assorted filled\\nchocolates” or a similar name; and\\n(b) the list of ingredients with which food is required by the 1996 Regulations to be marked\\nor labelled may be a single list of ingredients for all the products in the assortment.\\n(3)  The reserved descriptions “chocolate”, “milk chocolate” and “couverture chocolate” may be\\nsupplemented by information or descriptions relating to quality criteria provided that the product\\ncontains —\\n(a) in the case of the reserved description “chocolate”, not less than 43 per cent total dry cocoa\\nsolids, including not less than 26 per cent cocoa butter;\\n(b) in the case of the reserved description “milk chocolate”, not less than 30 per cent total dry\\ncocoa solids and not less than 18 per cent dry milk solids obtained by partly or wholly\\ndehydrating whole milk, semi-skimmed or skimmed milk, cream, or from partly or wholly\\ndehydrated cream, butter or milk fat, including not less than 4.5 per cent milk fat;\\n3'),\n",
       " Document(metadata={'source': '../practicos-rag/data/Regulaciones cacao y chocolate 2003.pdf', 'page': 6, '_id': '6bbb3251182a4a23ab5e46a96246ca04', '_collection_name': 'my_documents'}, page_content='Document Generated: 2023-04-24\\nStatus:  This is the original version (as it was originally made).\\nSCHEDULE 1 Regulations 2, 3 and 6\\nCOCOA AND CHOCOLATE PRODUCTS AND THEIR RESERVED DESCRIPTIONS\\nColumn 1 Column 2\\nReserved Descriptions Designated Products\\n1. Cocoa butter The fat obtained from cocoa beans or parts of\\ncocoa beans with the following characteristics:\\n—\\n— not more than 1.75 per cent free fatty acid\\ncontent (expressed as oleic acid); and\\n— for press cocoa butter, not more than\\n0.35 per cent unsaponifiable matter\\n(determined using petroleum ether); or\\n— for other cocoa butter, not more than\\n0.5 per cent unsaponifiable matter (so\\ndetermined).\\n(a) (a)  Cocoa powder or Cocoa The product obtained by converting into\\npowder cocoa beans which have been cleaned,\\nshelled and roasted, and which contains not\\nless than 20 per cent cocoa butter, calculated\\naccording to the weight of the dry matter, and\\nnot more than 9 per cent water.\\n(b) (b)  Fat-reduced cocoa or Fat-\\nreduced cocoa powder\\nCocoa powder containing less than 20 per cent\\ncocoa butter, calculated according to the weight\\nof the dry matter.\\n(c) (c)  Powdered chocolate or\\nChocolate in powder\\nThe product consisting of a mixture of cocoa\\npowder and sugars, containing not less than 32\\nper cent cocoa powder.\\n(d) (d)  Drinking chocolate or\\nSweetened cocoa or Sweetened cocoa\\npowder\\nThe product consisting of a mixture of cocoa\\npowder and sugars, containing not less than 25\\nper cent cocoa powder.\\n(e) (e)  Fat-reduced drinking chocolate\\nor Fat-reduced sweetened cocoa or\\nFat-reduced sweetened cocoa powder\\nThe product consisting of a mixture of cocoa\\npowder specified at item 2(b) and sugars,\\ncontaining not less than 25 per cent of such\\ncocoa powder.\\n(a) (a)  Chocolate (a) The product obtained from cocoa\\nproducts and sugars which, subject to\\nitem 3(b), contains not less than 35 per\\ncent total dry cocoa solids, including not\\nless than 18 per cent cocoa butter and not\\nless than 14 per cent of dry non-fat cocoa\\nsolids.\\n(b) (b)  If “Chocolate” is supplemented\\nby\\n(b) (b) \\n(i) “vermicelli” or “flakes” (i) The product presented in the form of\\ngranules or flakes containing not less\\nthan 32 per cent total dry cocoa solids,\\n7')]"
      ]
     },
     "execution_count": 32,
     "metadata": {},
     "output_type": "execute_result"
    }
   ],
   "source": [
    "from langchain_qdrant import FastEmbedSparse, RetrievalMode\n",
    "\n",
    "sparse_embeddings = FastEmbedSparse(model_name=\"Qdrant/bm25\")\n",
    "\n",
    "qdrant = QdrantVectorStore.from_documents(\n",
    "    legal_docs,\n",
    "    embedding=embedding_model,\n",
    "    sparse_embedding=sparse_embeddings,\n",
    "    location=\":memory:\",\n",
    "    collection_name=\"my_documents\",\n",
    "    retrieval_mode=RetrievalMode.SPARSE,\n",
    ")\n",
    "\n",
    "query = \"What is chocolate?\"\n",
    "found_docs = qdrant.similarity_search(query)\n",
    "found_docs"
   ]
  },
  {
   "cell_type": "markdown",
   "metadata": {},
   "source": [
    "#### Hybrid Retrieval"
   ]
  },
  {
   "cell_type": "code",
   "execution_count": 33,
   "metadata": {},
   "outputs": [
    {
     "name": "stderr",
     "output_type": "stream",
     "text": [
      "Fetching 29 files: 100%|██████████| 29/29 [00:00<00:00, 318415.75it/s]\n"
     ]
    },
    {
     "data": {
      "text/plain": [
       "[Document(metadata={'source': '../practicos-rag/data/Regulaciones cacao y chocolate 2003.pdf', 'page': 9, '_id': '9aedf4fcadb244b6bff5ab38291961c8', '_collection_name': 'my_documents'}, page_content='Document Generated: 2023-04-24\\nStatus:  This is the original version (as it was originally made).\\nColumn 1 Column 2\\nReserved Descriptions Designated Products\\n— not less than 25 per cent total fat (cocoa\\nbutter and milk fat).\\n6. White chocolate The product obtained from cocoa butter, milk\\nor milk products and sugars which contains not\\nless than 20 per cent cocoa butter and not less\\nthan 14 per cent dry milk solids obtained by\\npartly or wholly dehydrating whole milk, semi-\\nskimmed or skimmed milk, cream, or from\\npartly or wholly dehydrated cream, butter or\\nmilk fat, of which not less than 3.5 per cent is\\nmilk fat.\\n7. Filled chocolate or\\nChocolate with … filling or\\nChocolate with … centre\\nThe filled product, the outer part of which\\nconsists of a product specified in column\\n2 of item 3, 4, 5 or 6 of this Schedule and\\nconstitutes not less than 25 per cent of the total\\nweight of the product, but does not include any\\nfilled product, the inside of which consists of\\nbakery products, pastry, biscuit or edible ice.\\n8. Chocolate a la taza The product obtained from cocoa products,\\nsugars, and flour or starch from wheat, rice or\\nmaize, which contains not less than 35 per cent\\ntotal dry cocoa solids, including not less than\\n18 per cent cocoa butter and not less than 14\\nper cent dry non-fat cocoa solids, and not more\\nthan 8 per cent flour or starch.\\n9. Chocolate familiar a la taza The product obtained from cocoa products,\\nsugars, and flour or starch from wheat, rice or\\nmaize, which contains not less than 30 per cent\\ntotal dry cocoa solids, including not less than\\n18 per cent cocoa butter and not less than 12\\nper cent dry non-fat cocoa solids, and not more\\nthan 18 per cent flour or starch.\\n10. A chocolate or A praline The product in single mouthful size, consisting\\nof:—\\n(a) the product specified in column 2 of item\\n7 of this Schedule; or\\n(b) a single chocolate or a combination or a\\nmixture of chocolate within the meaning\\nof any of the definitions specified in\\ncolumn 2 of items 3, 4, 5 and 6 of this\\nSchedule and any other edible substance,\\nprovided that the chocolate constitutes not\\nless than 25 per cent of the total weight of\\nthe product.\\nNotes.\\n1. —\\n(1) Subject to regulation 3 and paragraph (2) of this Note, other edible substances may\\nalso be added to the designated chocolate products specified in column 2 of items 3,\\n4, 5, 6, 8 and 9 of this Schedule:\\n10'),\n",
       " Document(metadata={'source': '../practicos-rag/data/Regulaciones cacao y chocolate 2003.pdf', 'page': 11, '_id': 'ef19ee754a204a2183508b273971df2c', '_collection_name': 'my_documents'}, page_content='Document Generated: 2023-04-24\\nStatus:  This is the original version (as it was originally made).\\nUsual name of vegetable fat Scientific name of the plants from which\\nthe fats listed can be obtained\\n6. Mango kernel Mangifera indica\\n3. Coconut oil may be used in chocolate for the manufacture of ice cream and similar frozen\\nproducts.\\n4. In this Schedule—\\n“P” means palmitic acid;\\n“O” means oleic acid;\\n“St” means stearic acid.\\nEXPLANATORY NOTE\\n(This note is not part of the Regulations)\\nThese Regulations, which apply to England, implement Directive 2000/36/EC of the European\\nParliament and the Council relating to cocoa and chocolate products intended for human\\nconsumption(23). They revoke and replace the Cocoa and Chocolate Products Regulations 1976, as\\namended, in relation to England.\\nThe Regulations—\\n(a) prescribe definitions and reserved descriptions for designated cocoa and chocolate\\nproducts (regulation 2 and Schedule 1);\\n(b) specify the vegetable fats, other than cocoa butter, which may be added to designated\\nchocolate products (regulation 3 and Schedule 2);\\n(c) apply the Regulations to designated cocoa and chocolate products intended for human\\nconsumption and ready for delivery to the ultimate consumer or to a catering establishment\\n(regulation 4);\\n(d) restrict the use of reserved descriptions to the designated cocoa and chocolate products to\\nwhich they relate (regulation 5);\\n(e) require reserved descriptions and specified declarations to be applied to designated cocoa\\nand chocolate products and prescribe the manner of marking or labelling (regulations 6\\nand 7);\\n(f) specify a penalty, enforcement responsibilities and, in accordance with Articles 2 and 3 of\\nCouncil Directive 89/397/EEC on the official control of foodstuffs(24) and the European\\nEconomic Area Agreement, a defence in relation to exports (regulations 8 and 9);\\n(g) apply various provisions of the Food Safety Act 1990 (regulation 10);\\n(h) remove the exemption for cocoa and chocolate products from Part II of the Food Labelling\\nRegulations 1996, revoke the previous Cocoa and Chocolate Products Regulations and\\nmake consequential amendments and transitional provision (regulations 11 and 12).\\n(23) OJ No. L197, 3.8.2000, p.19.\\n(24) OJ No. L186, 30.6.89, p. 23.\\n12'),\n",
       " Document(metadata={'source': '../practicos-rag/data/Regulaciones cacao y chocolate 2003.pdf', 'page': 6, '_id': 'a3d302e52d004402b66e9ad90906e0b1', '_collection_name': 'my_documents'}, page_content='Document Generated: 2023-04-24\\nStatus:  This is the original version (as it was originally made).\\nSCHEDULE 1 Regulations 2, 3 and 6\\nCOCOA AND CHOCOLATE PRODUCTS AND THEIR RESERVED DESCRIPTIONS\\nColumn 1 Column 2\\nReserved Descriptions Designated Products\\n1. Cocoa butter The fat obtained from cocoa beans or parts of\\ncocoa beans with the following characteristics:\\n—\\n— not more than 1.75 per cent free fatty acid\\ncontent (expressed as oleic acid); and\\n— for press cocoa butter, not more than\\n0.35 per cent unsaponifiable matter\\n(determined using petroleum ether); or\\n— for other cocoa butter, not more than\\n0.5 per cent unsaponifiable matter (so\\ndetermined).\\n(a) (a)  Cocoa powder or Cocoa The product obtained by converting into\\npowder cocoa beans which have been cleaned,\\nshelled and roasted, and which contains not\\nless than 20 per cent cocoa butter, calculated\\naccording to the weight of the dry matter, and\\nnot more than 9 per cent water.\\n(b) (b)  Fat-reduced cocoa or Fat-\\nreduced cocoa powder\\nCocoa powder containing less than 20 per cent\\ncocoa butter, calculated according to the weight\\nof the dry matter.\\n(c) (c)  Powdered chocolate or\\nChocolate in powder\\nThe product consisting of a mixture of cocoa\\npowder and sugars, containing not less than 32\\nper cent cocoa powder.\\n(d) (d)  Drinking chocolate or\\nSweetened cocoa or Sweetened cocoa\\npowder\\nThe product consisting of a mixture of cocoa\\npowder and sugars, containing not less than 25\\nper cent cocoa powder.\\n(e) (e)  Fat-reduced drinking chocolate\\nor Fat-reduced sweetened cocoa or\\nFat-reduced sweetened cocoa powder\\nThe product consisting of a mixture of cocoa\\npowder specified at item 2(b) and sugars,\\ncontaining not less than 25 per cent of such\\ncocoa powder.\\n(a) (a)  Chocolate (a) The product obtained from cocoa\\nproducts and sugars which, subject to\\nitem 3(b), contains not less than 35 per\\ncent total dry cocoa solids, including not\\nless than 18 per cent cocoa butter and not\\nless than 14 per cent of dry non-fat cocoa\\nsolids.\\n(b) (b)  If “Chocolate” is supplemented\\nby\\n(b) (b) \\n(i) “vermicelli” or “flakes” (i) The product presented in the form of\\ngranules or flakes containing not less\\nthan 32 per cent total dry cocoa solids,\\n7'),\n",
       " Document(metadata={'source': '../practicos-rag/data/Regulaciones cacao y chocolate 2003.pdf', 'page': 7, '_id': '50111156da70484a9565b1e8f4f028f0', '_collection_name': 'my_documents'}, page_content='Document Generated: 2023-04-24\\nStatus:  This is the original version (as it was originally made).\\nColumn 1 Column 2\\nReserved Descriptions Designated Products\\nincluding not less than 12 per cent cocoa\\nbutter and not less than 14 per cent of dry\\nnon-fat cocoa solids.\\n(ii) “couverture” (ii) The product containing not less than 35\\nper cent total dry cocoa solids, including\\nnot less than 31 per cent cocoa butter and\\nnot less than 2.5 per cent of dry non-fat\\ncocoa solids.\\n(iii) “Gianduja” or one of the derivatives of\\n“Gianduja”\\n(iii) The nut chocolate product obtained (1)\\nfrom chocolate having a minimum total\\ndry cocoa solids content of 32 per cent\\nincluding a minimum dry non-fat cocoa\\nsolids content of 8 per cent, and (2) from\\nfinely ground hazelnuts in such quantities\\nthat 100 grams of the product contain not\\nless than 20 grams and not more than 40\\ngrams of hazelnuts; and to which may\\nhave been added—\\n— milk or dry milk solids obtained by\\nevaporation or both, in such proportion\\nthat the finished product does not contain\\nmore than 5 per cent dry milk solids;\\n— almonds, hazelnuts and other nut\\nvarieties, either whole or broken, in such\\nquantities that, together with the ground\\nhazelnuts, they do not exceed 60 per cent\\nof the total weight of the product.\\n(a) (a)  Milk chocolate (a) The product obtained from cocoa\\nproducts, sugars and milk or milk\\nproducts which, subject to item 4(b),\\ncontains—\\n— not less than 25 per cent total dry\\ncocoa solids;\\n— not less than 14 per cent dry milk\\nsolids obtained by partly or wholly\\ndehydrating whole milk, semi-\\nskimmed or skimmed milk, cream,\\nor from partly or wholly dehydrated\\ncream, butter or milk fat;\\n— not less than 2.5 per cent dry non-\\nfat cocoa solids;\\n— not less than 3.5 per cent milk fat;\\n— not less than 25 per cent total fat\\n(cocoa butter and milk fat).\\n(b) (b)  If “Milk chocolate” is\\nsupplemented by—\\n(b) (b) \\n(i) “vermicelli” or “flakes” (i) The product presented in the form of\\ngranules or flakes containing not less\\n8')]"
      ]
     },
     "execution_count": 33,
     "metadata": {},
     "output_type": "execute_result"
    }
   ],
   "source": [
    "from langchain_qdrant import FastEmbedSparse, RetrievalMode\n",
    "\n",
    "sparse_embeddings = FastEmbedSparse(model_name=\"Qdrant/bm25\")\n",
    "\n",
    "qdrant = QdrantVectorStore.from_documents(\n",
    "    legal_docs,\n",
    "    embedding=embedding_model,\n",
    "    sparse_embedding=sparse_embeddings,\n",
    "    location=\":memory:\",\n",
    "    collection_name=\"my_documents\",\n",
    "    retrieval_mode=RetrievalMode.HYBRID,\n",
    ")\n",
    "\n",
    "query = \"What is chocolate?\"\n",
    "found_docs = qdrant.similarity_search(query)\n",
    "found_docs"
   ]
  },
  {
   "cell_type": "markdown",
   "metadata": {},
   "source": [
    "### Query Rewriting"
   ]
  },
  {
   "cell_type": "code",
   "execution_count": 34,
   "metadata": {},
   "outputs": [],
   "source": [
    "from langchain_core.prompts import ChatPromptTemplate\n",
    "template = \"\"\"Provide a better search query for \\\n",
    "web search engine to answer the given question, end \\\n",
    "the queries with ’**’. Question: \\\n",
    "{x} Answer:\"\"\"\n",
    "rewrite_prompt = ChatPromptTemplate.from_template(template)"
   ]
  },
  {
   "cell_type": "code",
   "execution_count": 35,
   "metadata": {},
   "outputs": [
    {
     "name": "stderr",
     "output_type": "stream",
     "text": [
      "/Users/josecarlos/repos/practicos-rag/.venv/lib/python3.11/site-packages/langsmith/client.py:241: LangSmithMissingAPIKeyWarning: API key must be provided when using hosted LangSmith API\n",
      "  warnings.warn(\n"
     ]
    }
   ],
   "source": [
    "from langchain import hub\n",
    "\n",
    "rewrite_prompt = hub.pull(\"langchain-ai/rewrite\")"
   ]
  },
  {
   "cell_type": "code",
   "execution_count": 36,
   "metadata": {},
   "outputs": [
    {
     "name": "stdout",
     "output_type": "stream",
     "text": [
      "Provide a better search query for web search engine to answer the given question, end the queries with ’**’.  Question {x} Answer:\n"
     ]
    }
   ],
   "source": [
    "print(rewrite_prompt.template)"
   ]
  },
  {
   "cell_type": "code",
   "execution_count": 45,
   "metadata": {},
   "outputs": [],
   "source": [
    "from langchain_qdrant import RetrievalMode\n",
    "\n",
    "qdrant = QdrantVectorStore.from_documents(\n",
    "    docs,\n",
    "    embedding=embedding_model,\n",
    "    location=\":memory:\",\n",
    "    collection_name=\"my_documents\",\n",
    "    retrieval_mode=RetrievalMode.DENSE,\n",
    ")\n",
    "\n",
    "query = \"What is chocolate?\"\n",
    "found_docs = qdrant.similarity_search(query)"
   ]
  },
  {
   "cell_type": "code",
   "execution_count": 46,
   "metadata": {},
   "outputs": [
    {
     "data": {
      "text/plain": [
       "[Document(metadata={'source': '../practicos-rag/data/Regulaciones cacao y chocolate 2003.pdf', 'page': 9, '_id': '9b08b82a650a4a80a3453afbf7202845', '_collection_name': 'my_documents'}, page_content='Document Generated: 2023-04-24\\nStatus:  This is the original version (as it was originally made).\\nColumn 1 Column 2\\nReserved Descriptions Designated Products\\n— not less than 25 per cent total fat (cocoa\\nbutter and milk fat).\\n6. White chocolate The product obtained from cocoa butter, milk\\nor milk products and sugars which contains not\\nless than 20 per cent cocoa butter and not less\\nthan 14 per cent dry milk solids obtained by\\npartly or wholly dehydrating whole milk, semi-\\nskimmed or skimmed milk, cream, or from\\npartly or wholly dehydrated cream, butter or\\nmilk fat, of which not less than 3.5 per cent is\\nmilk fat.\\n7. Filled chocolate or\\nChocolate with … filling or\\nChocolate with … centre\\nThe filled product, the outer part of which\\nconsists of a product specified in column\\n2 of item 3, 4, 5 or 6 of this Schedule and\\nconstitutes not less than 25 per cent of the total\\nweight of the product, but does not include any\\nfilled product, the inside of which consists of\\nbakery products, pastry, biscuit or edible ice.\\n8. Chocolate a la taza The product obtained from cocoa products,\\nsugars, and flour or starch from wheat, rice or\\nmaize, which contains not less than 35 per cent\\ntotal dry cocoa solids, including not less than\\n18 per cent cocoa butter and not less than 14\\nper cent dry non-fat cocoa solids, and not more\\nthan 8 per cent flour or starch.\\n9. Chocolate familiar a la taza The product obtained from cocoa products,\\nsugars, and flour or starch from wheat, rice or\\nmaize, which contains not less than 30 per cent\\ntotal dry cocoa solids, including not less than\\n18 per cent cocoa butter and not less than 12\\nper cent dry non-fat cocoa solids, and not more\\nthan 18 per cent flour or starch.\\n10. A chocolate or A praline The product in single mouthful size, consisting\\nof:—\\n(a) the product specified in column 2 of item\\n7 of this Schedule; or\\n(b) a single chocolate or a combination or a\\nmixture of chocolate within the meaning\\nof any of the definitions specified in\\ncolumn 2 of items 3, 4, 5 and 6 of this\\nSchedule and any other edible substance,\\nprovided that the chocolate constitutes not\\nless than 25 per cent of the total weight of\\nthe product.\\nNotes.\\n1. —\\n(1) Subject to regulation 3 and paragraph (2) of this Note, other edible substances may\\nalso be added to the designated chocolate products specified in column 2 of items 3,\\n4, 5, 6, 8 and 9 of this Schedule:\\n10'),\n",
       " Document(metadata={'source': '../practicos-rag/data/Regulaciones cacao y chocolate 2003.pdf', 'page': 7, '_id': '1e37a705b9a84ac594183faab4da064c', '_collection_name': 'my_documents'}, page_content='Document Generated: 2023-04-24\\nStatus:  This is the original version (as it was originally made).\\nColumn 1 Column 2\\nReserved Descriptions Designated Products\\nincluding not less than 12 per cent cocoa\\nbutter and not less than 14 per cent of dry\\nnon-fat cocoa solids.\\n(ii) “couverture” (ii) The product containing not less than 35\\nper cent total dry cocoa solids, including\\nnot less than 31 per cent cocoa butter and\\nnot less than 2.5 per cent of dry non-fat\\ncocoa solids.\\n(iii) “Gianduja” or one of the derivatives of\\n“Gianduja”\\n(iii) The nut chocolate product obtained (1)\\nfrom chocolate having a minimum total\\ndry cocoa solids content of 32 per cent\\nincluding a minimum dry non-fat cocoa\\nsolids content of 8 per cent, and (2) from\\nfinely ground hazelnuts in such quantities\\nthat 100 grams of the product contain not\\nless than 20 grams and not more than 40\\ngrams of hazelnuts; and to which may\\nhave been added—\\n— milk or dry milk solids obtained by\\nevaporation or both, in such proportion\\nthat the finished product does not contain\\nmore than 5 per cent dry milk solids;\\n— almonds, hazelnuts and other nut\\nvarieties, either whole or broken, in such\\nquantities that, together with the ground\\nhazelnuts, they do not exceed 60 per cent\\nof the total weight of the product.\\n(a) (a)  Milk chocolate (a) The product obtained from cocoa\\nproducts, sugars and milk or milk\\nproducts which, subject to item 4(b),\\ncontains—\\n— not less than 25 per cent total dry\\ncocoa solids;\\n— not less than 14 per cent dry milk\\nsolids obtained by partly or wholly\\ndehydrating whole milk, semi-\\nskimmed or skimmed milk, cream,\\nor from partly or wholly dehydrated\\ncream, butter or milk fat;\\n— not less than 2.5 per cent dry non-\\nfat cocoa solids;\\n— not less than 3.5 per cent milk fat;\\n— not less than 25 per cent total fat\\n(cocoa butter and milk fat).\\n(b) (b)  If “Milk chocolate” is\\nsupplemented by—\\n(b) (b) \\n(i) “vermicelli” or “flakes” (i) The product presented in the form of\\ngranules or flakes containing not less\\n8'),\n",
       " Document(metadata={'source': '../practicos-rag/data/Regulaciones cacao y chocolate 2003.pdf', 'page': 11, '_id': '0ce9768f92aa45aaaac590a3e88a5034', '_collection_name': 'my_documents'}, page_content='Document Generated: 2023-04-24\\nStatus:  This is the original version (as it was originally made).\\nUsual name of vegetable fat Scientific name of the plants from which\\nthe fats listed can be obtained\\n6. Mango kernel Mangifera indica\\n3. Coconut oil may be used in chocolate for the manufacture of ice cream and similar frozen\\nproducts.\\n4. In this Schedule—\\n“P” means palmitic acid;\\n“O” means oleic acid;\\n“St” means stearic acid.\\nEXPLANATORY NOTE\\n(This note is not part of the Regulations)\\nThese Regulations, which apply to England, implement Directive 2000/36/EC of the European\\nParliament and the Council relating to cocoa and chocolate products intended for human\\nconsumption(23). They revoke and replace the Cocoa and Chocolate Products Regulations 1976, as\\namended, in relation to England.\\nThe Regulations—\\n(a) prescribe definitions and reserved descriptions for designated cocoa and chocolate\\nproducts (regulation 2 and Schedule 1);\\n(b) specify the vegetable fats, other than cocoa butter, which may be added to designated\\nchocolate products (regulation 3 and Schedule 2);\\n(c) apply the Regulations to designated cocoa and chocolate products intended for human\\nconsumption and ready for delivery to the ultimate consumer or to a catering establishment\\n(regulation 4);\\n(d) restrict the use of reserved descriptions to the designated cocoa and chocolate products to\\nwhich they relate (regulation 5);\\n(e) require reserved descriptions and specified declarations to be applied to designated cocoa\\nand chocolate products and prescribe the manner of marking or labelling (regulations 6\\nand 7);\\n(f) specify a penalty, enforcement responsibilities and, in accordance with Articles 2 and 3 of\\nCouncil Directive 89/397/EEC on the official control of foodstuffs(24) and the European\\nEconomic Area Agreement, a defence in relation to exports (regulations 8 and 9);\\n(g) apply various provisions of the Food Safety Act 1990 (regulation 10);\\n(h) remove the exemption for cocoa and chocolate products from Part II of the Food Labelling\\nRegulations 1996, revoke the previous Cocoa and Chocolate Products Regulations and\\nmake consequential amendments and transitional provision (regulations 11 and 12).\\n(23) OJ No. L197, 3.8.2000, p.19.\\n(24) OJ No. L186, 30.6.89, p. 23.\\n12'),\n",
       " Document(metadata={'source': '../practicos-rag/data/Regulaciones cacao y chocolate 2003.pdf', 'page': 6, '_id': 'ba411da0d4ca420aa455cd4b49182466', '_collection_name': 'my_documents'}, page_content='Document Generated: 2023-04-24\\nStatus:  This is the original version (as it was originally made).\\nSCHEDULE 1 Regulations 2, 3 and 6\\nCOCOA AND CHOCOLATE PRODUCTS AND THEIR RESERVED DESCRIPTIONS\\nColumn 1 Column 2\\nReserved Descriptions Designated Products\\n1. Cocoa butter The fat obtained from cocoa beans or parts of\\ncocoa beans with the following characteristics:\\n—\\n— not more than 1.75 per cent free fatty acid\\ncontent (expressed as oleic acid); and\\n— for press cocoa butter, not more than\\n0.35 per cent unsaponifiable matter\\n(determined using petroleum ether); or\\n— for other cocoa butter, not more than\\n0.5 per cent unsaponifiable matter (so\\ndetermined).\\n(a) (a)  Cocoa powder or Cocoa The product obtained by converting into\\npowder cocoa beans which have been cleaned,\\nshelled and roasted, and which contains not\\nless than 20 per cent cocoa butter, calculated\\naccording to the weight of the dry matter, and\\nnot more than 9 per cent water.\\n(b) (b)  Fat-reduced cocoa or Fat-\\nreduced cocoa powder\\nCocoa powder containing less than 20 per cent\\ncocoa butter, calculated according to the weight\\nof the dry matter.\\n(c) (c)  Powdered chocolate or\\nChocolate in powder\\nThe product consisting of a mixture of cocoa\\npowder and sugars, containing not less than 32\\nper cent cocoa powder.\\n(d) (d)  Drinking chocolate or\\nSweetened cocoa or Sweetened cocoa\\npowder\\nThe product consisting of a mixture of cocoa\\npowder and sugars, containing not less than 25\\nper cent cocoa powder.\\n(e) (e)  Fat-reduced drinking chocolate\\nor Fat-reduced sweetened cocoa or\\nFat-reduced sweetened cocoa powder\\nThe product consisting of a mixture of cocoa\\npowder specified at item 2(b) and sugars,\\ncontaining not less than 25 per cent of such\\ncocoa powder.\\n(a) (a)  Chocolate (a) The product obtained from cocoa\\nproducts and sugars which, subject to\\nitem 3(b), contains not less than 35 per\\ncent total dry cocoa solids, including not\\nless than 18 per cent cocoa butter and not\\nless than 14 per cent of dry non-fat cocoa\\nsolids.\\n(b) (b)  If “Chocolate” is supplemented\\nby\\n(b) (b) \\n(i) “vermicelli” or “flakes” (i) The product presented in the form of\\ngranules or flakes containing not less\\nthan 32 per cent total dry cocoa solids,\\n7')]"
      ]
     },
     "execution_count": 46,
     "metadata": {},
     "output_type": "execute_result"
    }
   ],
   "source": [
    "found_docs"
   ]
  },
  {
   "cell_type": "markdown",
   "metadata": {},
   "source": [
    "### Hypothetical Document Embedding"
   ]
  },
  {
   "cell_type": "code",
   "execution_count": 40,
   "metadata": {},
   "outputs": [],
   "source": [
    "from langchain_core.output_parsers import StrOutputParser\n",
    "from langchain_core.prompts import ChatPromptTemplate\n",
    "from langchain_openai import ChatOpenAI\n",
    "\n",
    "system = \"\"\"You are an expert about a set of software for building LLM-powered applications called LangChain, LangGraph, LangServe, and LangSmith.\n",
    "\n",
    "LangChain is a Python framework that provides a large set of integrations that can easily be composed to build LLM applications.\n",
    "LangGraph is a Python package built on top of LangChain that makes it easy to build stateful, multi-actor LLM applications.\n",
    "LangServe is a Python package built on top of LangChain that makes it easy to deploy a LangChain application as a REST API.\n",
    "LangSmith is a platform that makes it easy to trace and test LLM applications.\n",
    "\n",
    "Answer the user question as best you can. Answer as though you were writing a tutorial that addressed the user question.\"\"\"\n",
    "prompt = ChatPromptTemplate.from_messages(\n",
    "    [\n",
    "        (\"system\", system),\n",
    "        (\"human\", \"{question}\"),\n",
    "    ]\n",
    ")\n",
    "llm = ChatOpenAI(model=\"gpt-4o-mini\", temperature=0)\n",
    "qa_no_context = prompt | llm | StrOutputParser()"
   ]
  },
  {
   "cell_type": "code",
   "execution_count": 41,
   "metadata": {},
   "outputs": [
    {
     "name": "stdout",
     "output_type": "stream",
     "text": [
      "To use multi-modal models in a chain and turn that chain into a REST API, you can leverage the capabilities of LangChain and LangServe. Below is a step-by-step tutorial that will guide you through the process.\n",
      "\n",
      "### Step 1: Set Up Your Environment\n",
      "\n",
      "First, ensure you have Python installed on your machine. Then, install the necessary packages:\n",
      "\n",
      "```bash\n",
      "pip install langchain langserve\n",
      "```\n",
      "\n",
      "### Step 2: Create a Multi-Modal Chain\n",
      "\n",
      "In this example, we will create a simple multi-modal chain that can handle both text and image inputs. For demonstration purposes, let's assume we are using a hypothetical multi-modal model that can process both types of data.\n",
      "\n",
      "```python\n",
      "from langchain import Chain\n",
      "from langchain.models import MultiModalModel\n",
      "\n",
      "# Initialize your multi-modal model\n",
      "model = MultiModalModel()\n",
      "\n",
      "# Create a chain that processes both text and image inputs\n",
      "class MultiModalChain(Chain):\n",
      "    def __init__(self, model):\n",
      "        super().__init__()\n",
      "        self.model = model\n",
      "\n",
      "    def run(self, text_input, image_input):\n",
      "        # Process the text and image inputs\n",
      "        response = self.model.process(text=text_input, image=image_input)\n",
      "        return response\n",
      "\n",
      "# Instantiate the chain\n",
      "multi_modal_chain = MultiModalChain(model)\n",
      "```\n",
      "\n",
      "### Step 3: Create a REST API with LangServe\n",
      "\n",
      "Now that we have our multi-modal chain, we can expose it as a REST API using LangServe. Below is an example of how to set up a simple API.\n",
      "\n",
      "```python\n",
      "from langserve import LangServe\n",
      "\n",
      "# Create a LangServe app\n",
      "app = LangServe()\n",
      "\n",
      "# Define an endpoint for the multi-modal chain\n",
      "@app.route('/process', methods=['POST'])\n",
      "def process():\n",
      "    # Get the JSON data from the request\n",
      "    data = request.json\n",
      "    text_input = data.get('text')\n",
      "    image_input = data.get('image')  # Assume image is base64 encoded or a URL\n",
      "\n",
      "    # Run the multi-modal chain\n",
      "    response = multi_modal_chain.run(text_input, image_input)\n",
      "\n",
      "    return jsonify(response)\n",
      "\n",
      "# Run the server\n",
      "if __name__ == '__main__':\n",
      "    app.run(port=5000)\n",
      "```\n",
      "\n",
      "### Step 4: Test Your API\n",
      "\n",
      "You can test your API using tools like Postman or curl. Here’s an example of how to send a POST request using curl:\n",
      "\n",
      "```bash\n",
      "curl -X POST http://localhost:5000/process \\\n",
      "-H \"Content-Type: application/json\" \\\n",
      "-d '{\"text\": \"What is this image?\", \"image\": \"base64_encoded_image_here\"}'\n",
      "```\n",
      "\n",
      "### Step 5: Handle Responses\n",
      "\n",
      "Make sure to handle the responses appropriately in your API. You can customize the response format based on your requirements.\n",
      "\n",
      "### Conclusion\n",
      "\n",
      "You have now created a multi-modal chain using LangChain and exposed it as a REST API using LangServe. This setup allows you to process both text and image inputs seamlessly. You can further enhance your application by adding error handling, logging, and more complex processing logic as needed.\n",
      "\n",
      "Feel free to explore the documentation of LangChain and LangServe for more advanced features and integrations!\n"
     ]
    }
   ],
   "source": [
    "answer = qa_no_context.invoke(\n",
    "    {\n",
    "        \"question\": \"how to use multi-modal models in a chain and turn chain into a rest api\"\n",
    "    }\n",
    ")\n",
    "print(answer)"
   ]
  },
  {
   "cell_type": "code",
   "execution_count": 42,
   "metadata": {},
   "outputs": [
    {
     "data": {
      "text/plain": [
       "{'question': 'how to use multi-modal models in a chain and turn chain into a rest api',\n",
       " 'hypothetical_document': 'To use multi-modal models in a chain and turn that chain into a REST API, you can leverage the capabilities of LangChain and LangServe. Below is a step-by-step tutorial that guides you through the process.\\n\\n### Step 1: Set Up Your Environment\\n\\nFirst, ensure you have Python installed on your machine. Then, install the necessary packages:\\n\\n```bash\\npip install langchain langserve\\n```\\n\\n### Step 2: Create a Multi-Modal Chain\\n\\nMulti-modal models can process different types of data, such as text, images, and audio. In this example, we will create a simple chain that takes both text and image inputs.\\n\\n```python\\nfrom langchain import Chain\\nfrom langchain.prompts import PromptTemplate\\nfrom langchain.llms import OpenAI\\nfrom langchain.chains import SimpleSequentialChain\\n\\n# Define your multi-modal model (for example, OpenAI\\'s CLIP model for images and text)\\ntext_model = OpenAI(model_name=\"text-davinci-003\")\\nimage_model = OpenAI(model_name=\"image-alpha-001\")  # Hypothetical model for images\\n\\n# Create a prompt template for text input\\ntext_prompt = PromptTemplate(template=\"Analyze the following text: {text}\")\\n\\n# Create a chain that processes text and image\\nclass MultiModalChain(Chain):\\n    def _call(self, inputs):\\n        text_input = inputs.get(\"text\")\\n        image_input = inputs.get(\"image\")\\n\\n        # Process text\\n        text_response = text_model(text_prompt.format(text=text_input))\\n\\n        # Process image (assuming image_input is a path or URL)\\n        image_response = image_model(image_input)\\n\\n        return {\\n            \"text_response\": text_response,\\n            \"image_response\": image_response\\n        }\\n\\n# Instantiate the multi-modal chain\\nmulti_modal_chain = MultiModalChain()\\n```\\n\\n### Step 3: Test Your Chain\\n\\nBefore deploying your chain as a REST API, it’s a good idea to test it locally.\\n\\n```python\\n# Test the chain with sample inputs\\ntest_inputs = {\\n    \"text\": \"What is the significance of the Eiffel Tower?\",\\n    \"image\": \"path/to/eiffel_tower_image.jpg\"  # Replace with actual image path or URL\\n}\\n\\noutput = multi_modal_chain(test_inputs)\\nprint(output)\\n```\\n\\n### Step 4: Deploy the Chain as a REST API\\n\\nNow that you have a working multi-modal chain, you can deploy it as a REST API using LangServe.\\n\\n```python\\nfrom langserve import LangServe\\n\\n# Create a LangServe app\\napp = LangServe()\\n\\n# Define an endpoint for your multi-modal chain\\n@app.route(\"/multi-modal\", methods=[\"POST\"])\\ndef multi_modal_endpoint():\\n    data = request.json\\n    response = multi_modal_chain(data)\\n    return jsonify(response)\\n\\n# Run the app\\nif __name__ == \"__main__\":\\n    app.run(port=5000)\\n```\\n\\n### Step 5: Test the REST API\\n\\nYou can test your REST API using tools like Postman or curl. Here’s an example using curl:\\n\\n```bash\\ncurl -X POST http://localhost:5000/multi-modal \\\\\\n-H \"Content-Type: application/json\" \\\\\\n-d \\'{\"text\": \"What is the significance of the Eiffel Tower?\", \"image\": \"path/to/eiffel_tower_image.jpg\"}\\'\\n```\\n\\n### Conclusion\\n\\nYou have successfully created a multi-modal chain using LangChain and deployed it as a REST API using LangServe. You can now extend this setup by adding more complex logic, integrating additional models, or enhancing the API with more endpoints as needed. Happy coding!'}"
      ]
     },
     "execution_count": 42,
     "metadata": {},
     "output_type": "execute_result"
    }
   ],
   "source": [
    "from langchain_core.runnables import RunnablePassthrough\n",
    "\n",
    "hyde_chain = RunnablePassthrough.assign(hypothetical_document=qa_no_context)\n",
    "\n",
    "hyde_chain.invoke(\n",
    "    {\n",
    "        \"question\": \"how to use multi-modal models in a chain and turn chain into a rest api\"\n",
    "    }\n",
    ")"
   ]
  },
  {
   "cell_type": "markdown",
   "metadata": {},
   "source": [
    "### Reranking"
   ]
  },
  {
   "cell_type": "code",
   "execution_count": 43,
   "metadata": {},
   "outputs": [
    {
     "data": {
      "text/plain": [
       "True"
      ]
     },
     "execution_count": 43,
     "metadata": {},
     "output_type": "execute_result"
    }
   ],
   "source": [
    "from dotenv import load_dotenv\n",
    "\n",
    "load_dotenv()"
   ]
  },
  {
   "cell_type": "code",
   "execution_count": 44,
   "metadata": {},
   "outputs": [],
   "source": [
    "def pretty_print_docs(docs):\n",
    "    print(\n",
    "        f\"\\n{'-' * 100}\\n\".join(\n",
    "            [f\"Document {i+1}:\\n\\n\" + d.page_content for i, d in enumerate(docs)]\n",
    "        )\n",
    "    )"
   ]
  },
  {
   "cell_type": "code",
   "execution_count": 47,
   "metadata": {},
   "outputs": [
    {
     "name": "stdout",
     "output_type": "stream",
     "text": [
      "Document 1:\n",
      "\n",
      "Document Generated: 2023-04-24\n",
      "Status:  This is the original version (as it was originally made).\n",
      "Column 1 Column 2\n",
      "Reserved Descriptions Designated Products\n",
      "— not less than 25 per cent total fat (cocoa\n",
      "butter and milk fat).\n",
      "6. White chocolate The product obtained from cocoa butter, milk\n",
      "or milk products and sugars which contains not\n",
      "less than 20 per cent cocoa butter and not less\n",
      "than 14 per cent dry milk solids obtained by\n",
      "partly or wholly dehydrating whole milk, semi-\n",
      "skimmed or skimmed milk, cream, or from\n",
      "partly or wholly dehydrated cream, butter or\n",
      "milk fat, of which not less than 3.5 per cent is\n",
      "milk fat.\n",
      "7. Filled chocolate or\n",
      "Chocolate with … filling or\n",
      "Chocolate with … centre\n",
      "The filled product, the outer part of which\n",
      "consists of a product specified in column\n",
      "2 of item 3, 4, 5 or 6 of this Schedule and\n",
      "constitutes not less than 25 per cent of the total\n",
      "weight of the product, but does not include any\n",
      "filled product, the inside of which consists of\n",
      "bakery products, pastry, biscuit or edible ice.\n",
      "8. Chocolate a la taza The product obtained from cocoa products,\n",
      "sugars, and flour or starch from wheat, rice or\n",
      "maize, which contains not less than 35 per cent\n",
      "total dry cocoa solids, including not less than\n",
      "18 per cent cocoa butter and not less than 14\n",
      "per cent dry non-fat cocoa solids, and not more\n",
      "than 8 per cent flour or starch.\n",
      "9. Chocolate familiar a la taza The product obtained from cocoa products,\n",
      "sugars, and flour or starch from wheat, rice or\n",
      "maize, which contains not less than 30 per cent\n",
      "total dry cocoa solids, including not less than\n",
      "18 per cent cocoa butter and not less than 12\n",
      "per cent dry non-fat cocoa solids, and not more\n",
      "than 18 per cent flour or starch.\n",
      "10. A chocolate or A praline The product in single mouthful size, consisting\n",
      "of:—\n",
      "(a) the product specified in column 2 of item\n",
      "7 of this Schedule; or\n",
      "(b) a single chocolate or a combination or a\n",
      "mixture of chocolate within the meaning\n",
      "of any of the definitions specified in\n",
      "column 2 of items 3, 4, 5 and 6 of this\n",
      "Schedule and any other edible substance,\n",
      "provided that the chocolate constitutes not\n",
      "less than 25 per cent of the total weight of\n",
      "the product.\n",
      "Notes.\n",
      "1. —\n",
      "(1) Subject to regulation 3 and paragraph (2) of this Note, other edible substances may\n",
      "also be added to the designated chocolate products specified in column 2 of items 3,\n",
      "4, 5, 6, 8 and 9 of this Schedule:\n",
      "10\n",
      "----------------------------------------------------------------------------------------------------\n",
      "Document 2:\n",
      "\n",
      "Document Generated: 2023-04-24\n",
      "Status:  This is the original version (as it was originally made).\n",
      "Column 1 Column 2\n",
      "Reserved Descriptions Designated Products\n",
      "including not less than 12 per cent cocoa\n",
      "butter and not less than 14 per cent of dry\n",
      "non-fat cocoa solids.\n",
      "(ii) “couverture” (ii) The product containing not less than 35\n",
      "per cent total dry cocoa solids, including\n",
      "not less than 31 per cent cocoa butter and\n",
      "not less than 2.5 per cent of dry non-fat\n",
      "cocoa solids.\n",
      "(iii) “Gianduja” or one of the derivatives of\n",
      "“Gianduja”\n",
      "(iii) The nut chocolate product obtained (1)\n",
      "from chocolate having a minimum total\n",
      "dry cocoa solids content of 32 per cent\n",
      "including a minimum dry non-fat cocoa\n",
      "solids content of 8 per cent, and (2) from\n",
      "finely ground hazelnuts in such quantities\n",
      "that 100 grams of the product contain not\n",
      "less than 20 grams and not more than 40\n",
      "grams of hazelnuts; and to which may\n",
      "have been added—\n",
      "— milk or dry milk solids obtained by\n",
      "evaporation or both, in such proportion\n",
      "that the finished product does not contain\n",
      "more than 5 per cent dry milk solids;\n",
      "— almonds, hazelnuts and other nut\n",
      "varieties, either whole or broken, in such\n",
      "quantities that, together with the ground\n",
      "hazelnuts, they do not exceed 60 per cent\n",
      "of the total weight of the product.\n",
      "(a) (a)  Milk chocolate (a) The product obtained from cocoa\n",
      "products, sugars and milk or milk\n",
      "products which, subject to item 4(b),\n",
      "contains—\n",
      "— not less than 25 per cent total dry\n",
      "cocoa solids;\n",
      "— not less than 14 per cent dry milk\n",
      "solids obtained by partly or wholly\n",
      "dehydrating whole milk, semi-\n",
      "skimmed or skimmed milk, cream,\n",
      "or from partly or wholly dehydrated\n",
      "cream, butter or milk fat;\n",
      "— not less than 2.5 per cent dry non-\n",
      "fat cocoa solids;\n",
      "— not less than 3.5 per cent milk fat;\n",
      "— not less than 25 per cent total fat\n",
      "(cocoa butter and milk fat).\n",
      "(b) (b)  If “Milk chocolate” is\n",
      "supplemented by—\n",
      "(b) (b) \n",
      "(i) “vermicelli” or “flakes” (i) The product presented in the form of\n",
      "granules or flakes containing not less\n",
      "8\n",
      "----------------------------------------------------------------------------------------------------\n",
      "Document 3:\n",
      "\n",
      "Document Generated: 2023-04-24\n",
      "Status:  This is the original version (as it was originally made).\n",
      "Usual name of vegetable fat Scientific name of the plants from which\n",
      "the fats listed can be obtained\n",
      "6. Mango kernel Mangifera indica\n",
      "3. Coconut oil may be used in chocolate for the manufacture of ice cream and similar frozen\n",
      "products.\n",
      "4. In this Schedule—\n",
      "“P” means palmitic acid;\n",
      "“O” means oleic acid;\n",
      "“St” means stearic acid.\n",
      "EXPLANATORY NOTE\n",
      "(This note is not part of the Regulations)\n",
      "These Regulations, which apply to England, implement Directive 2000/36/EC of the European\n",
      "Parliament and the Council relating to cocoa and chocolate products intended for human\n",
      "consumption(23). They revoke and replace the Cocoa and Chocolate Products Regulations 1976, as\n",
      "amended, in relation to England.\n",
      "The Regulations—\n",
      "(a) prescribe definitions and reserved descriptions for designated cocoa and chocolate\n",
      "products (regulation 2 and Schedule 1);\n",
      "(b) specify the vegetable fats, other than cocoa butter, which may be added to designated\n",
      "chocolate products (regulation 3 and Schedule 2);\n",
      "(c) apply the Regulations to designated cocoa and chocolate products intended for human\n",
      "consumption and ready for delivery to the ultimate consumer or to a catering establishment\n",
      "(regulation 4);\n",
      "(d) restrict the use of reserved descriptions to the designated cocoa and chocolate products to\n",
      "which they relate (regulation 5);\n",
      "(e) require reserved descriptions and specified declarations to be applied to designated cocoa\n",
      "and chocolate products and prescribe the manner of marking or labelling (regulations 6\n",
      "and 7);\n",
      "(f) specify a penalty, enforcement responsibilities and, in accordance with Articles 2 and 3 of\n",
      "Council Directive 89/397/EEC on the official control of foodstuffs(24) and the European\n",
      "Economic Area Agreement, a defence in relation to exports (regulations 8 and 9);\n",
      "(g) apply various provisions of the Food Safety Act 1990 (regulation 10);\n",
      "(h) remove the exemption for cocoa and chocolate products from Part II of the Food Labelling\n",
      "Regulations 1996, revoke the previous Cocoa and Chocolate Products Regulations and\n",
      "make consequential amendments and transitional provision (regulations 11 and 12).\n",
      "(23) OJ No. L197, 3.8.2000, p.19.\n",
      "(24) OJ No. L186, 30.6.89, p. 23.\n",
      "12\n",
      "----------------------------------------------------------------------------------------------------\n",
      "Document 4:\n",
      "\n",
      "Document Generated: 2023-04-24\n",
      "Status:  This is the original version (as it was originally made).\n",
      "SCHEDULE 1 Regulations 2, 3 and 6\n",
      "COCOA AND CHOCOLATE PRODUCTS AND THEIR RESERVED DESCRIPTIONS\n",
      "Column 1 Column 2\n",
      "Reserved Descriptions Designated Products\n",
      "1. Cocoa butter The fat obtained from cocoa beans or parts of\n",
      "cocoa beans with the following characteristics:\n",
      "—\n",
      "— not more than 1.75 per cent free fatty acid\n",
      "content (expressed as oleic acid); and\n",
      "— for press cocoa butter, not more than\n",
      "0.35 per cent unsaponifiable matter\n",
      "(determined using petroleum ether); or\n",
      "— for other cocoa butter, not more than\n",
      "0.5 per cent unsaponifiable matter (so\n",
      "determined).\n",
      "(a) (a)  Cocoa powder or Cocoa The product obtained by converting into\n",
      "powder cocoa beans which have been cleaned,\n",
      "shelled and roasted, and which contains not\n",
      "less than 20 per cent cocoa butter, calculated\n",
      "according to the weight of the dry matter, and\n",
      "not more than 9 per cent water.\n",
      "(b) (b)  Fat-reduced cocoa or Fat-\n",
      "reduced cocoa powder\n",
      "Cocoa powder containing less than 20 per cent\n",
      "cocoa butter, calculated according to the weight\n",
      "of the dry matter.\n",
      "(c) (c)  Powdered chocolate or\n",
      "Chocolate in powder\n",
      "The product consisting of a mixture of cocoa\n",
      "powder and sugars, containing not less than 32\n",
      "per cent cocoa powder.\n",
      "(d) (d)  Drinking chocolate or\n",
      "Sweetened cocoa or Sweetened cocoa\n",
      "powder\n",
      "The product consisting of a mixture of cocoa\n",
      "powder and sugars, containing not less than 25\n",
      "per cent cocoa powder.\n",
      "(e) (e)  Fat-reduced drinking chocolate\n",
      "or Fat-reduced sweetened cocoa or\n",
      "Fat-reduced sweetened cocoa powder\n",
      "The product consisting of a mixture of cocoa\n",
      "powder specified at item 2(b) and sugars,\n",
      "containing not less than 25 per cent of such\n",
      "cocoa powder.\n",
      "(a) (a)  Chocolate (a) The product obtained from cocoa\n",
      "products and sugars which, subject to\n",
      "item 3(b), contains not less than 35 per\n",
      "cent total dry cocoa solids, including not\n",
      "less than 18 per cent cocoa butter and not\n",
      "less than 14 per cent of dry non-fat cocoa\n",
      "solids.\n",
      "(b) (b)  If “Chocolate” is supplemented\n",
      "by\n",
      "(b) (b) \n",
      "(i) “vermicelli” or “flakes” (i) The product presented in the form of\n",
      "granules or flakes containing not less\n",
      "than 32 per cent total dry cocoa solids,\n",
      "7\n"
     ]
    }
   ],
   "source": [
    "pretty_print_docs(found_docs)"
   ]
  },
  {
   "cell_type": "code",
   "execution_count": 58,
   "metadata": {},
   "outputs": [
    {
     "name": "stderr",
     "output_type": "stream",
     "text": [
      "/var/folders/p9/dtzw1bk549g0ft33yw9bnbpc0000gq/T/ipykernel_1661/2282730921.py:5: LangChainDeprecationWarning: The class `Cohere` was deprecated in LangChain 0.1.14 and will be removed in 1.0. An updated version of the class exists in the :class:`~langchain-cohere package and should be used instead. To use it run `pip install -U :class:`~langchain-cohere` and import as `from :class:`~langchain_cohere import Cohere``.\n",
      "  llm = Cohere(temperature=0)\n"
     ]
    },
    {
     "name": "stdout",
     "output_type": "stream",
     "text": [
      "Document 1:\n",
      "\n",
      "Signed by authority of the Secretary of State for Health\n",
      "25th June 2003\n",
      "Melanie Johnson\n",
      "Parliamentary Under-Secretary of State,\n",
      "Department of Health\n",
      "(17) S.I. 1982/17.\n",
      "----------------------------------------------------------------------------------------------------\n",
      "Document 2:\n",
      "\n",
      "(19) OJ No. L197, 3.8.2000, p.19.\n",
      "(20) S.I. 1995/3124 to which there are amendments not relevant to these Regulations.\n",
      "(21) S.I. 1995/3187; the relevant amending instrument is S.I. 1999/1136.\n",
      "6\n",
      "----------------------------------------------------------------------------------------------------\n",
      "Document 3:\n",
      "\n",
      "(4) OJ No. L1, 3.1.94, p.1.\n",
      "(5) OJ No. L1, 3.1.94, p.571.\n",
      "(6) S.I. 1996/1499, the relevant amending instrument is S.I. 1998/1398.\n",
      "2\n"
     ]
    }
   ],
   "source": [
    "from langchain.retrievers.contextual_compression import ContextualCompressionRetriever\n",
    "from langchain_cohere import CohereRerank\n",
    "from langchain_community.llms import Cohere\n",
    "\n",
    "llm = Cohere(temperature=0)\n",
    "compressor = CohereRerank(model=\"rerank-english-v3.0\")\n",
    "compression_retriever = ContextualCompressionRetriever(\n",
    "    base_compressor=compressor, base_retriever=retriever\n",
    ")\n",
    "\n",
    "compressed_docs = compression_retriever.invoke(\n",
    "    \"What did the president say about Ketanji Jackson Brown\"\n",
    ")\n",
    "pretty_print_docs(compressed_docs)"
   ]
  },
  {
   "cell_type": "code",
   "execution_count": 59,
   "metadata": {},
   "outputs": [
    {
     "data": {
      "text/plain": [
       "[Document(metadata={'source': '../practicos-rag/data/Regulaciones cacao y chocolate 2003.pdf', 'page': 5, 'doc_id': '8d8f68c0-7044-48b7-94e0-ff127af075be', '_id': '1e22df4c997a4608b7c85963aec920b7', '_collection_name': 'my_documents', 'relevance_score': 7.4112795e-06}, page_content='Signed by authority of the Secretary of State for Health\\n25th June 2003\\nMelanie Johnson\\nParliamentary Under-Secretary of State,\\nDepartment of Health\\n(17) S.I. 1982/17.'),\n",
       " Document(metadata={'source': '../practicos-rag/data/Regulaciones cacao y chocolate 2003.pdf', 'page': 5, 'doc_id': '8d8f68c0-7044-48b7-94e0-ff127af075be', '_id': '62b2ceab16a04ff89669b5c6d4f05cf9', '_collection_name': 'my_documents', 'relevance_score': 1.059394e-06}, page_content='(19) OJ No. L197, 3.8.2000, p.19.\\n(20) S.I. 1995/3124 to which there are amendments not relevant to these Regulations.\\n(21) S.I. 1995/3187; the relevant amending instrument is S.I. 1999/1136.\\n6'),\n",
       " Document(metadata={'source': '../practicos-rag/data/Regulaciones cacao y chocolate 2003.pdf', 'page': 1, 'doc_id': 'e6149369-d685-47d3-817a-3d605b3e5f92', '_id': 'bdbf905814824f0db44b931d818b87fd', '_collection_name': 'my_documents', 'relevance_score': 6.8936106e-07}, page_content='(4) OJ No. L1, 3.1.94, p.1.\\n(5) OJ No. L1, 3.1.94, p.571.\\n(6) S.I. 1996/1499, the relevant amending instrument is S.I. 1998/1398.\\n2')]"
      ]
     },
     "execution_count": 59,
     "metadata": {},
     "output_type": "execute_result"
    }
   ],
   "source": [
    "compressed_docs"
   ]
  },
  {
   "cell_type": "markdown",
   "metadata": {},
   "source": []
  },
  {
   "cell_type": "code",
   "execution_count": 14,
   "metadata": {},
   "outputs": [],
   "source": [
    "# pip install cohere\n",
    "\n",
    "import cohere\n",
    "\n",
    "chat_staging_key = \"gTX6tIbGbIBF6nE0BVQgIslodKGyR0PwelqcPKu5\"\n",
    "chat_prod_key = \"shbsKockh9p6yDxGVjtZED0phMcr0NhyYhFpb4HK\"\n",
    "\n",
    "co = cohere.ClientV2(api_key=\"XGdAggfJSWbHO6SWLvYVe1EiT3DKyaFEs6mJvpml\") # Get your free API key: https://dashboard.cohere.com/api-keys\n"
   ]
  },
  {
   "cell_type": "code",
   "execution_count": 15,
   "metadata": {},
   "outputs": [],
   "source": [
    "faqs_short = [\n",
    "    {\"text\": \"Reimbursing Travel Expenses: Easily manage your travel expenses by submitting them through our finance tool. Approvals are prompt and straightforward.\"},\n",
    "    {\"text\": \"Working from Abroad: Working remotely from another country is possible. Simply coordinate with your manager and ensure your availability during core hours.\"},\n",
    "    {\"text\": \"Health and Wellness Benefits: We care about your well-being and offer gym memberships, on-site yoga classes, and comprehensive health insurance.\"},\n",
    "    {\"text\": \"Performance Reviews Frequency: We conduct informal check-ins every quarter and formal performance reviews twice a year.\"}\n",
    "]"
   ]
  },
  {
   "cell_type": "code",
   "execution_count": 16,
   "metadata": {},
   "outputs": [
    {
     "ename": "UnauthorizedError",
     "evalue": "status_code: 401, body: {'message': 'invalid api token'}",
     "output_type": "error",
     "traceback": [
      "\u001b[0;31m---------------------------------------------------------------------------\u001b[0m",
      "\u001b[0;31mUnauthorizedError\u001b[0m                         Traceback (most recent call last)",
      "Cell \u001b[0;32mIn[16], line 3\u001b[0m\n\u001b[1;32m      1\u001b[0m query \u001b[38;5;241m=\u001b[39m \u001b[38;5;124m\"\u001b[39m\u001b[38;5;124mAre there fitness-related perks?\u001b[39m\u001b[38;5;124m\"\u001b[39m\n\u001b[1;32m      2\u001b[0m \u001b[38;5;66;03m# Rerank the documents\u001b[39;00m\n\u001b[0;32m----> 3\u001b[0m results \u001b[38;5;241m=\u001b[39m \u001b[43mco\u001b[49m\u001b[38;5;241;43m.\u001b[39;49m\u001b[43mrerank\u001b[49m\u001b[43m(\u001b[49m\u001b[43mquery\u001b[49m\u001b[38;5;241;43m=\u001b[39;49m\u001b[43mquery\u001b[49m\u001b[43m,\u001b[49m\n\u001b[1;32m      4\u001b[0m \u001b[43m                    \u001b[49m\u001b[43mdocuments\u001b[49m\u001b[38;5;241;43m=\u001b[39;49m\u001b[43mfaqs_short\u001b[49m\u001b[43m,\u001b[49m\n\u001b[1;32m      5\u001b[0m \u001b[43m                    \u001b[49m\u001b[43mtop_n\u001b[49m\u001b[38;5;241;43m=\u001b[39;49m\u001b[38;5;241;43m2\u001b[39;49m\u001b[43m,\u001b[49m\n\u001b[1;32m      6\u001b[0m \u001b[43m                    \u001b[49m\u001b[43mmodel\u001b[49m\u001b[38;5;241;43m=\u001b[39;49m\u001b[38;5;124;43m'\u001b[39;49m\u001b[38;5;124;43mrerank-v3.5\u001b[39;49m\u001b[38;5;124;43m'\u001b[39;49m\u001b[43m)\u001b[49m\n\u001b[1;32m      7\u001b[0m \u001b[38;5;28mprint\u001b[39m(results)\n",
      "File \u001b[0;32m~/repos/practicos-rag/.venv/lib/python3.11/site-packages/cohere/v2/client.py:1009\u001b[0m, in \u001b[0;36mV2Client.rerank\u001b[0;34m(self, model, query, documents, top_n, rank_fields, return_documents, max_chunks_per_doc, request_options)\u001b[0m\n\u001b[1;32m    999\u001b[0m     \u001b[38;5;28;01mraise\u001b[39;00m BadRequestError(\n\u001b[1;32m   1000\u001b[0m         typing\u001b[38;5;241m.\u001b[39mcast(\n\u001b[1;32m   1001\u001b[0m             typing\u001b[38;5;241m.\u001b[39mOptional[typing\u001b[38;5;241m.\u001b[39mAny],\n\u001b[0;32m   (...)\u001b[0m\n\u001b[1;32m   1006\u001b[0m         )\n\u001b[1;32m   1007\u001b[0m     )\n\u001b[1;32m   1008\u001b[0m \u001b[38;5;28;01mif\u001b[39;00m _response\u001b[38;5;241m.\u001b[39mstatus_code \u001b[38;5;241m==\u001b[39m \u001b[38;5;241m401\u001b[39m:\n\u001b[0;32m-> 1009\u001b[0m     \u001b[38;5;28;01mraise\u001b[39;00m UnauthorizedError(\n\u001b[1;32m   1010\u001b[0m         typing\u001b[38;5;241m.\u001b[39mcast(\n\u001b[1;32m   1011\u001b[0m             typing\u001b[38;5;241m.\u001b[39mOptional[typing\u001b[38;5;241m.\u001b[39mAny],\n\u001b[1;32m   1012\u001b[0m             construct_type(\n\u001b[1;32m   1013\u001b[0m                 type_\u001b[38;5;241m=\u001b[39mtyping\u001b[38;5;241m.\u001b[39mOptional[typing\u001b[38;5;241m.\u001b[39mAny],  \u001b[38;5;66;03m# type: ignore\u001b[39;00m\n\u001b[1;32m   1014\u001b[0m                 object_\u001b[38;5;241m=\u001b[39m_response\u001b[38;5;241m.\u001b[39mjson(),\n\u001b[1;32m   1015\u001b[0m             ),\n\u001b[1;32m   1016\u001b[0m         )\n\u001b[1;32m   1017\u001b[0m     )\n\u001b[1;32m   1018\u001b[0m \u001b[38;5;28;01mif\u001b[39;00m _response\u001b[38;5;241m.\u001b[39mstatus_code \u001b[38;5;241m==\u001b[39m \u001b[38;5;241m403\u001b[39m:\n\u001b[1;32m   1019\u001b[0m     \u001b[38;5;28;01mraise\u001b[39;00m ForbiddenError(\n\u001b[1;32m   1020\u001b[0m         typing\u001b[38;5;241m.\u001b[39mcast(\n\u001b[1;32m   1021\u001b[0m             typing\u001b[38;5;241m.\u001b[39mOptional[typing\u001b[38;5;241m.\u001b[39mAny],\n\u001b[0;32m   (...)\u001b[0m\n\u001b[1;32m   1026\u001b[0m         )\n\u001b[1;32m   1027\u001b[0m     )\n",
      "\u001b[0;31mUnauthorizedError\u001b[0m: status_code: 401, body: {'message': 'invalid api token'}"
     ]
    }
   ],
   "source": [
    "query = \"Are there fitness-related perks?\"\n",
    "# Rerank the documents\n",
    "results = co.rerank(query=query,\n",
    "                    documents=faqs_short,\n",
    "                    top_n=2,\n",
    "                    model='rerank-v3.5')\n",
    "print(results)"
   ]
  },
  {
   "cell_type": "code",
   "execution_count": null,
   "metadata": {},
   "outputs": [],
   "source": []
  }
 ],
 "metadata": {
  "kernelspec": {
   "display_name": "Python 3",
   "language": "python",
   "name": "python3"
  },
  "language_info": {
   "codemirror_mode": {
    "name": "ipython",
    "version": 3
   },
   "file_extension": ".py",
   "mimetype": "text/x-python",
   "name": "python",
   "nbconvert_exporter": "python",
   "pygments_lexer": "ipython3",
   "version": "3.12.3"
  }
 },
 "nbformat": 4,
 "nbformat_minor": 2
}
