{
 "cells": [
  {
   "cell_type": "markdown",
   "metadata": {},
   "source": [
    "# GOAL\n",
    "\n",
    "- Evaluar el rendimiento del pipeline RAG **baseline**\n",
    "- Evaluar el rendimiento del pipeline RAG **con reranker**\n",
    "\n",
    "Utilizaremos la librería [`ragas`](https://docs.ragas.io/en/latest/getstarted/) para evaluar el rendimiento del pipeline RAG.\n",
    "y la librería [`Reranker`](https://github.com/AnswerDotAI/rerankers) para reordenar los documentos relevantes.\n"
   ]
  },
  {
   "cell_type": "code",
   "execution_count": 2,
   "metadata": {},
   "outputs": [
    {
     "data": {
      "text/plain": [
       "True"
      ]
     },
     "execution_count": 2,
     "metadata": {},
     "output_type": "execute_result"
    }
   ],
   "source": [
    "from dotenv import load_dotenv\n",
    "load_dotenv()"
   ]
  },
  {
   "cell_type": "code",
   "execution_count": 3,
   "metadata": {},
   "outputs": [],
   "source": [
    "from langchain_community.document_loaders import PyPDFLoader\n",
    "from dotenv import load_dotenv\n",
    "\n",
    "load_dotenv()\n",
    "\n",
    "file_path = (\n",
    "    \"data/biblioteca-de-alimentos.pdf\"\n",
    ")\n",
    "loader = PyPDFLoader(file_path)\n",
    "docs = loader.load()"
   ]
  },
  {
   "cell_type": "code",
   "execution_count": 4,
   "metadata": {},
   "outputs": [],
   "source": [
    "from langchain_text_splitters import RecursiveCharacterTextSplitter\n",
    "\n",
    "text_splitter = RecursiveCharacterTextSplitter(chunk_size=250, chunk_overlap=50)\n",
    "splits = text_splitter.split_documents(docs)"
   ]
  },
  {
   "cell_type": "code",
   "execution_count": 5,
   "metadata": {},
   "outputs": [],
   "source": [
    "from langchain_ollama import OllamaEmbeddings\n",
    "from langchain_openai import OpenAIEmbeddings\n",
    "import os\n",
    "#embeddings = OllamaEmbeddings(model=\"llama3\")\n",
    "embeddings = OpenAIEmbeddings(model=\"text-embedding-3-small\")"
   ]
  },
  {
   "cell_type": "code",
   "execution_count": 6,
   "metadata": {},
   "outputs": [],
   "source": [
    "from langchain_qdrant import QdrantVectorStore\n",
    "from langchain_qdrant import RetrievalMode\n",
    "\n",
    "qdrant = QdrantVectorStore.from_documents(\n",
    "    splits,\n",
    "    embedding=embeddings,\n",
    "    location=\":memory:\",\n",
    "    collection_name=\"my_documents\",\n",
    "    retrieval_mode=RetrievalMode.DENSE,\n",
    ")"
   ]
  },
  {
   "cell_type": "code",
   "execution_count": 7,
   "metadata": {},
   "outputs": [],
   "source": [
    "retriever = qdrant.as_retriever()"
   ]
  },
  {
   "cell_type": "code",
   "execution_count": 9,
   "metadata": {},
   "outputs": [],
   "source": [
    "from langchain.prompts import ChatPromptTemplate\n",
    "from langchain.schema.runnable import RunnablePassthrough\n",
    "from langchain.schema.output_parser import StrOutputParser\n",
    "from langchain_ollama import OllamaLLM\n",
    "from langchain_openai import ChatOpenAI\n",
    "\n",
    "\n",
    "llm = ChatOpenAI(model=\"gpt-3.5-turbo\") \n",
    "\n",
    "# Define prompt template\n",
    "template = \"\"\"Utilize the retrieved context below to answer the question.\n",
    "If you're unsure of the answer, simply state you don't know and apologies\n",
    "Keep your response concise, limited to two sentences.\n",
    "Question: {question}\n",
    "Context: {context}\n",
    "\"\"\"\n",
    "\n",
    "prompt = ChatPromptTemplate.from_template(template)\n",
    "\n",
    "# Setup RAG pipeline\n",
    "rag_chain = (\n",
    "    {\"context\": retriever,  \"question\": RunnablePassthrough()} \n",
    "    | prompt \n",
    "    | llm\n",
    "    | StrOutputParser() \n",
    ")"
   ]
  },
  {
   "cell_type": "code",
   "execution_count": 10,
   "metadata": {},
   "outputs": [
    {
     "data": {
      "text/plain": [
       "'The purpose of the regulation is to review and revise the regulations regarding the regularization of food exempt from registration.'"
      ]
     },
     "execution_count": 10,
     "metadata": {},
     "output_type": "execute_result"
    }
   ],
   "source": [
    "rag_chain.invoke(\"What is the purpose of the regulation?\")"
   ]
  },
  {
   "cell_type": "markdown",
   "metadata": {},
   "source": [
    "## Creación del dataset de preguntas y respuestas"
   ]
  },
  {
   "cell_type": "code",
   "execution_count": 18,
   "metadata": {},
   "outputs": [],
   "source": [
    "QA_generation_prompt = ChatPromptTemplate.from_template(\"\"\"\n",
    "Your task is to write a factoid question and an answer given a context.\n",
    "Your factoid question should be answerable with a specific, concise piece of factual information from the context.\n",
    "Your factoid question should be formulated in the same style as questions users could ask in a search engine.\n",
    "This means that your factoid question MUST NOT mention something like \"according to the passage\" or \"context\".\n",
    "\n",
    "Provide your answer as follows:\n",
    "\n",
    "Output:::\n",
    "Factoid question: (your factoid question)\n",
    "Answer: (your answer to the factoid question)\n",
    "\n",
    "Now here is the context.\n",
    "\n",
    "Context: {context}\n",
    "Output:::\"\"\")\n",
    "\n",
    "# Crear una cadena para crear una pregunta\n",
    "question_chain = (\n",
    "    {\"context\": RunnablePassthrough()}\n",
    "    | QA_generation_prompt\n",
    "    | llm\n",
    "    | StrOutputParser()\n",
    ")"
   ]
  },
  {
   "cell_type": "markdown",
   "metadata": {},
   "source": [
    "### Obtener una muestra aleatoria de documentos"
   ]
  },
  {
   "cell_type": "code",
   "execution_count": 19,
   "metadata": {},
   "outputs": [],
   "source": [
    "import random\n",
    "from tqdm import tqdm\n",
    "\n",
    "sampled_docs = random.sample(docs, 15)\n",
    "sampled_docs_processed = [doc.page_content for doc in sampled_docs]"
   ]
  },
  {
   "cell_type": "markdown",
   "metadata": {},
   "source": [
    "#### Generar preguntas y respuestas"
   ]
  },
  {
   "cell_type": "code",
   "execution_count": 20,
   "metadata": {},
   "outputs": [
    {
     "name": "stderr",
     "output_type": "stream",
     "text": [
      "\n",
      "\u001b[A\n",
      "\u001b[A\n",
      "\u001b[A\n",
      "\u001b[A\n",
      "\u001b[A\n",
      "\u001b[A\n",
      "\u001b[A\n",
      "\u001b[A\n",
      "\u001b[A\n",
      "\u001b[A\n",
      "\u001b[A\n",
      "\u001b[A\n",
      "\u001b[A\n",
      "\u001b[A\n",
      "\u001b[A\n",
      "100%|██████████| 15/15 [00:13<00:00,  1.11it/s]\n"
     ]
    }
   ],
   "source": [
    "\n",
    "questions = [question_chain.invoke({\"context\": sampled_context}) for sampled_context in tqdm(sampled_docs_processed)]"
   ]
  },
  {
   "cell_type": "code",
   "execution_count": 21,
   "metadata": {},
   "outputs": [
    {
     "data": {
      "text/plain": [
       "['Factoid question: What is the purpose of RDC 604/2022?\\nAnswer: Enriquecimento obrigatório do sal com iodo e das farinhas de trigo e de milho com ferro e ácido fólico destinados ao consumo humano.',\n",
       " 'Factoid question: What is the theme of Regulatory Theme 3.5 in the 2024/2025 Regulatory Agenda?\\nAnswer: Reavaliação da autorização de uso do aditivo alimentar dióxido de titânio em alimentos.',\n",
       " 'Factoid question: What does Lei 10.674/2003 require products to inform consumers about?\\nAnswer: The presence of gluten.',\n",
       " 'Factoid question: What is the document related to the procedures for Requests for Inclusion and Extension of Use of Food Additives and Manufacturing Technology Co-Adjuvants in Brazilian Legislation?\\nAnswer: Guia nº 43, versão 1, de 14/12/2020 - Procedimentos para Pedidos de Inclusão e Extensão de Uso de Aditivos Alimentares e Coadjuvantes de Tecnologia de Fabricação na Legislação Brasileira.',\n",
       " 'Factoid question: What is the theme of Regulatory Agenda 3.31 in the context provided?\\nAnswer: Atualização periódica da lista de padrões microbiológicos para alimentos.',\n",
       " 'Factoid question: What is the document related to \"Critérios gerais e classificação de materiais para embalagens em contato com alimentos\"?\\n\\nAnswer: RDC 91/2001',\n",
       " 'Factoid question: What are the procedures for regularização de alimentos?\\nAnswer: Procedimentos para regularização de alimentos',\n",
       " 'Factoid question: What is the regulation number for the prohibition of importing, manufacturing, distributing, and commercializing foods and beverages based on Aloe Vera in Brazil?\\n\\nAnswer: RE 5052/2011',\n",
       " 'Factoid question: What are the requirements for enriching wheat and corn flour with iron and folic acid?\\nAnswer: RDC 714/2022 - Requisitos sanitários para enriquecimento e restauração de alimentos.',\n",
       " 'Factoid question: What is the theme of Regulatory Agenda 2024/2025 related to the regularization of certain foods?\\nAnswer: Theme Regulatório 3.22 da Agenda Regulatória 2024/2025: Revisão da regulamentação sobre regularização de alimentos dispensados de registro.',\n",
       " 'Factoid question: When was the Biblioteca de Alimentos last updated?\\nAnswer: Atualizada em 06.11.2024',\n",
       " 'Factoid question: What law prohibits the presence of ethanol in certain products?\\nAnswer: RE 1/2002',\n",
       " 'Factoid question: What are the procedures for importing foods?\\nAnswer: 23',\n",
       " 'Factoid question: What sector does Anvisa coordinate, supervise, and control activities in?\\nAnswer: In the sector of foods.',\n",
       " 'Factoid question: What document establishes the technical requirements for declaring nutritional labeling on packaged foods?\\nAnswer: IN 75/2020']"
      ]
     },
     "execution_count": 21,
     "metadata": {},
     "output_type": "execute_result"
    }
   ],
   "source": [
    "questions"
   ]
  },
  {
   "cell_type": "code",
   "execution_count": 22,
   "metadata": {},
   "outputs": [],
   "source": [
    "questions_processed = []\n",
    "ground_truth = []\n",
    "for question in questions:\n",
    "    questions_processed.append(question.split(\"Factoid question: \")[-1].split(\"Answer: \")[0])\n",
    "    ground_truth.append(question.split(\"Factoid question: \")[-1].split(\"Answer: \")[1])"
   ]
  },
  {
   "cell_type": "code",
   "execution_count": 23,
   "metadata": {},
   "outputs": [
    {
     "data": {
      "text/plain": [
       "['What is the purpose of RDC 604/2022?\\n',\n",
       " 'What is the theme of Regulatory Theme 3.5 in the 2024/2025 Regulatory Agenda?\\n',\n",
       " 'What does Lei 10.674/2003 require products to inform consumers about?\\n',\n",
       " 'What is the document related to the procedures for Requests for Inclusion and Extension of Use of Food Additives and Manufacturing Technology Co-Adjuvants in Brazilian Legislation?\\n',\n",
       " 'What is the theme of Regulatory Agenda 3.31 in the context provided?\\n',\n",
       " 'What is the document related to \"Critérios gerais e classificação de materiais para embalagens em contato com alimentos\"?\\n\\n',\n",
       " 'What are the procedures for regularização de alimentos?\\n',\n",
       " 'What is the regulation number for the prohibition of importing, manufacturing, distributing, and commercializing foods and beverages based on Aloe Vera in Brazil?\\n\\n',\n",
       " 'What are the requirements for enriching wheat and corn flour with iron and folic acid?\\n',\n",
       " 'What is the theme of Regulatory Agenda 2024/2025 related to the regularization of certain foods?\\n',\n",
       " 'When was the Biblioteca de Alimentos last updated?\\n',\n",
       " 'What law prohibits the presence of ethanol in certain products?\\n',\n",
       " 'What are the procedures for importing foods?\\n',\n",
       " 'What sector does Anvisa coordinate, supervise, and control activities in?\\n',\n",
       " 'What document establishes the technical requirements for declaring nutritional labeling on packaged foods?\\n']"
      ]
     },
     "execution_count": 23,
     "metadata": {},
     "output_type": "execute_result"
    }
   ],
   "source": [
    "questions_processed"
   ]
  },
  {
   "cell_type": "code",
   "execution_count": 24,
   "metadata": {},
   "outputs": [
    {
     "data": {
      "text/plain": [
       "['Enriquecimento obrigatório do sal com iodo e das farinhas de trigo e de milho com ferro e ácido fólico destinados ao consumo humano.',\n",
       " 'Reavaliação da autorização de uso do aditivo alimentar dióxido de titânio em alimentos.',\n",
       " 'The presence of gluten.',\n",
       " 'Guia nº 43, versão 1, de 14/12/2020 - Procedimentos para Pedidos de Inclusão e Extensão de Uso de Aditivos Alimentares e Coadjuvantes de Tecnologia de Fabricação na Legislação Brasileira.',\n",
       " 'Atualização periódica da lista de padrões microbiológicos para alimentos.',\n",
       " 'RDC 91/2001',\n",
       " 'Procedimentos para regularização de alimentos',\n",
       " 'RE 5052/2011',\n",
       " 'RDC 714/2022 - Requisitos sanitários para enriquecimento e restauração de alimentos.',\n",
       " 'Theme Regulatório 3.22 da Agenda Regulatória 2024/2025: Revisão da regulamentação sobre regularização de alimentos dispensados de registro.',\n",
       " 'Atualizada em 06.11.2024',\n",
       " 'RE 1/2002',\n",
       " '23',\n",
       " 'In the sector of foods.',\n",
       " 'IN 75/2020']"
      ]
     },
     "execution_count": 24,
     "metadata": {},
     "output_type": "execute_result"
    }
   ],
   "source": [
    "ground_truth"
   ]
  },
  {
   "cell_type": "code",
   "execution_count": 25,
   "metadata": {},
   "outputs": [
    {
     "name": "stderr",
     "output_type": "stream",
     "text": [
      "/var/folders/2y/w7q6dzmn0xvd8k73mz2tz8f40000gn/T/ipykernel_10494/2952356377.py:7: LangChainDeprecationWarning: The method `BaseRetriever.get_relevant_documents` was deprecated in langchain-core 0.1.46 and will be removed in 1.0. Use :meth:`~invoke` instead.\n",
      "  contexts.append([docs.page_content for docs in retriever.get_relevant_documents(query)])\n"
     ]
    }
   ],
   "source": [
    "# Parsear preguntas y respuestas\n",
    "contexts = []\n",
    "answers = []\n",
    "# Inferencia\n",
    "for query in questions_processed:\n",
    "    answers.append(rag_chain.invoke(query))\n",
    "    contexts.append([docs.page_content for docs in retriever.get_relevant_documents(query)])\n"
   ]
  },
  {
   "cell_type": "code",
   "execution_count": 26,
   "metadata": {},
   "outputs": [],
   "source": [
    "data = {\n",
    "    \"question\": questions,\n",
    "    \"answer\": answers,\n",
    "    \"reference\": ground_truth,\n",
    "    \"retrieved_contexts\": contexts\n",
    "}"
   ]
  },
  {
   "cell_type": "code",
   "execution_count": 27,
   "metadata": {},
   "outputs": [
    {
     "name": "stderr",
     "output_type": "stream",
     "text": [
      "  0%|          | 0/15 [01:18<?, ?it/s]\n"
     ]
    }
   ],
   "source": [
    "from datasets import Dataset\n",
    "\n",
    "# Convert dict to dataset\n",
    "dataset = Dataset.from_dict(data)"
   ]
  },
  {
   "cell_type": "code",
   "execution_count": 28,
   "metadata": {},
   "outputs": [],
   "source": [
    "from ragas import evaluate\n",
    "from ragas.metrics import (\n",
    "    faithfulness,\n",
    "    answer_relevancy,\n",
    "    context_recall,\n",
    "    context_precision,\n",
    ")"
   ]
  },
  {
   "cell_type": "code",
   "execution_count": 29,
   "metadata": {},
   "outputs": [
    {
     "name": "stderr",
     "output_type": "stream",
     "text": [
      "Evaluating:   0%|          | 0/60 [00:00<?, ?it/s]No statements were generated from the answer.\n",
      "Evaluating: 100%|██████████| 60/60 [00:29<00:00,  2.05it/s]\n"
     ]
    },
    {
     "data": {
      "text/html": [
       "<div>\n",
       "<style scoped>\n",
       "    .dataframe tbody tr th:only-of-type {\n",
       "        vertical-align: middle;\n",
       "    }\n",
       "\n",
       "    .dataframe tbody tr th {\n",
       "        vertical-align: top;\n",
       "    }\n",
       "\n",
       "    .dataframe thead th {\n",
       "        text-align: right;\n",
       "    }\n",
       "</style>\n",
       "<table border=\"1\" class=\"dataframe\">\n",
       "  <thead>\n",
       "    <tr style=\"text-align: right;\">\n",
       "      <th></th>\n",
       "      <th>user_input</th>\n",
       "      <th>retrieved_contexts</th>\n",
       "      <th>response</th>\n",
       "      <th>reference</th>\n",
       "      <th>context_recall</th>\n",
       "      <th>faithfulness</th>\n",
       "      <th>answer_relevancy</th>\n",
       "      <th>context_precision</th>\n",
       "    </tr>\n",
       "  </thead>\n",
       "  <tbody>\n",
       "    <tr>\n",
       "      <th>0</th>\n",
       "      <td>Factoid question: What is the purpose of RDC 6...</td>\n",
       "      <td>[Alterada por: \\nRDC 612/2022 \\nDocumento rela...</td>\n",
       "      <td>I don't have enough information to determine t...</td>\n",
       "      <td>Enriquecimento obrigatório do sal com iodo e d...</td>\n",
       "      <td>1.0</td>\n",
       "      <td>0.333333</td>\n",
       "      <td>0.000000</td>\n",
       "      <td>0.000000</td>\n",
       "    </tr>\n",
       "    <tr>\n",
       "      <th>1</th>\n",
       "      <td>Factoid question: What is the theme of Regulat...</td>\n",
       "      <td>[Equivalente (AREE) \\n \\nTema Regulatório 3.1 ...</td>\n",
       "      <td>I don't have enough information to determine t...</td>\n",
       "      <td>Reavaliação da autorização de uso do aditivo a...</td>\n",
       "      <td>1.0</td>\n",
       "      <td>1.000000</td>\n",
       "      <td>0.000000</td>\n",
       "      <td>0.500000</td>\n",
       "    </tr>\n",
       "    <tr>\n",
       "      <th>2</th>\n",
       "      <td>Factoid question: What does Lei 10.674/2003 re...</td>\n",
       "      <td>[de 2003. \\n \\nLei 10.674/2003  – Obriga a que...</td>\n",
       "      <td>Lei 10.674/2003 requires food products to info...</td>\n",
       "      <td>The presence of gluten.</td>\n",
       "      <td>1.0</td>\n",
       "      <td>1.000000</td>\n",
       "      <td>0.805121</td>\n",
       "      <td>1.000000</td>\n",
       "    </tr>\n",
       "    <tr>\n",
       "      <th>3</th>\n",
       "      <td>Factoid question: What is the document related...</td>\n",
       "      <td>[Aditivos Alimentares e Coadjuvantes de Tecnol...</td>\n",
       "      <td>The document related to the procedures for Req...</td>\n",
       "      <td>Guia nº 43, versão 1, de 14/12/2020 - Procedim...</td>\n",
       "      <td>1.0</td>\n",
       "      <td>NaN</td>\n",
       "      <td>0.858942</td>\n",
       "      <td>1.000000</td>\n",
       "    </tr>\n",
       "    <tr>\n",
       "      <th>4</th>\n",
       "      <td>Factoid question: What is the theme of Regulat...</td>\n",
       "      <td>[Equivalente (AREE) \\n \\nTema Regulatório 3.1 ...</td>\n",
       "      <td>The theme of Regulatory Agenda 3.31 in the pro...</td>\n",
       "      <td>Atualização periódica da lista de padrões micr...</td>\n",
       "      <td>0.0</td>\n",
       "      <td>0.000000</td>\n",
       "      <td>0.000000</td>\n",
       "      <td>0.000000</td>\n",
       "    </tr>\n",
       "    <tr>\n",
       "      <th>5</th>\n",
       "      <td>Factoid question: What is the document related...</td>\n",
       "      <td>[RDC 91/2001 – Critérios gerais e classificaçã...</td>\n",
       "      <td>The document \"Critérios gerais e classificação...</td>\n",
       "      <td>RDC 91/2001</td>\n",
       "      <td>1.0</td>\n",
       "      <td>0.500000</td>\n",
       "      <td>0.797576</td>\n",
       "      <td>1.000000</td>\n",
       "    </tr>\n",
       "    <tr>\n",
       "      <th>6</th>\n",
       "      <td>Factoid question: What are the procedures for ...</td>\n",
       "      <td>[1.1. Procedimentos para regularização de alim...</td>\n",
       "      <td>The procedures for regularização de alimentos ...</td>\n",
       "      <td>Procedimentos para regularização de alimentos</td>\n",
       "      <td>1.0</td>\n",
       "      <td>0.666667</td>\n",
       "      <td>0.738733</td>\n",
       "      <td>0.000000</td>\n",
       "    </tr>\n",
       "    <tr>\n",
       "      <th>7</th>\n",
       "      <td>Factoid question: What is the regulation numbe...</td>\n",
       "      <td>[benzopireno, com identificação do lote e ou d...</td>\n",
       "      <td>The regulation number for the prohibition of i...</td>\n",
       "      <td>RE 5052/2011</td>\n",
       "      <td>1.0</td>\n",
       "      <td>1.000000</td>\n",
       "      <td>0.885096</td>\n",
       "      <td>0.833333</td>\n",
       "    </tr>\n",
       "    <tr>\n",
       "      <th>8</th>\n",
       "      <td>Factoid question: What are the requirements fo...</td>\n",
       "      <td>[Perguntas e Respostas sobre Enriquecimento de...</td>\n",
       "      <td>The requirements for enriching wheat and corn ...</td>\n",
       "      <td>RDC 714/2022 - Requisitos sanitários para enri...</td>\n",
       "      <td>1.0</td>\n",
       "      <td>1.000000</td>\n",
       "      <td>0.645704</td>\n",
       "      <td>1.000000</td>\n",
       "    </tr>\n",
       "    <tr>\n",
       "      <th>9</th>\n",
       "      <td>Factoid question: What is the theme of Regulat...</td>\n",
       "      <td>[Tema Regulatório 3.22 da Agenda Regulatória 2...</td>\n",
       "      <td>The theme of the Regulatory Agenda 2024/2025 r...</td>\n",
       "      <td>Theme Regulatório 3.22 da Agenda Regulatória 2...</td>\n",
       "      <td>1.0</td>\n",
       "      <td>1.000000</td>\n",
       "      <td>0.664575</td>\n",
       "      <td>1.000000</td>\n",
       "    </tr>\n",
       "    <tr>\n",
       "      <th>10</th>\n",
       "      <td>Factoid question: When was the Biblioteca de A...</td>\n",
       "      <td>[BIBLIOTECA DE \\nALIMENTOS \\nAtualizada em 06....</td>\n",
       "      <td>The Biblioteca de Alimentos was last updated o...</td>\n",
       "      <td>Atualizada em 06.11.2024</td>\n",
       "      <td>1.0</td>\n",
       "      <td>1.000000</td>\n",
       "      <td>0.827087</td>\n",
       "      <td>1.000000</td>\n",
       "    </tr>\n",
       "    <tr>\n",
       "      <th>11</th>\n",
       "      <td>Factoid question: What law prohibits the prese...</td>\n",
       "      <td>[delitos considerados hediondos crimes contra ...</td>\n",
       "      <td>The law that prohibits the presence of ethanol...</td>\n",
       "      <td>RE 1/2002</td>\n",
       "      <td>1.0</td>\n",
       "      <td>1.000000</td>\n",
       "      <td>0.760858</td>\n",
       "      <td>1.000000</td>\n",
       "    </tr>\n",
       "    <tr>\n",
       "      <th>12</th>\n",
       "      <td>Factoid question: What are the procedures for ...</td>\n",
       "      <td>[23 \\n5.1. Procedimentos para importação de al...</td>\n",
       "      <td>The procedures for importing foods include fol...</td>\n",
       "      <td>23</td>\n",
       "      <td>1.0</td>\n",
       "      <td>0.500000</td>\n",
       "      <td>0.788881</td>\n",
       "      <td>0.833333</td>\n",
       "    </tr>\n",
       "    <tr>\n",
       "      <th>13</th>\n",
       "      <td>Factoid question: What sector does Anvisa coor...</td>\n",
       "      <td>[No setor de alimentos, a Anvisa coordena, sup...</td>\n",
       "      <td>Anvisa coordinates, supervises, and controls a...</td>\n",
       "      <td>In the sector of foods.</td>\n",
       "      <td>1.0</td>\n",
       "      <td>1.000000</td>\n",
       "      <td>0.779908</td>\n",
       "      <td>1.000000</td>\n",
       "    </tr>\n",
       "    <tr>\n",
       "      <th>14</th>\n",
       "      <td>Factoid question: What document establishes th...</td>\n",
       "      <td>[RDC 819/2023 \\nAto relacionado: \\nIN 75/2020 ...</td>\n",
       "      <td>The document that establishes the technical re...</td>\n",
       "      <td>IN 75/2020</td>\n",
       "      <td>1.0</td>\n",
       "      <td>1.000000</td>\n",
       "      <td>0.778369</td>\n",
       "      <td>1.000000</td>\n",
       "    </tr>\n",
       "  </tbody>\n",
       "</table>\n",
       "</div>"
      ],
      "text/plain": [
       "                                           user_input  \\\n",
       "0   Factoid question: What is the purpose of RDC 6...   \n",
       "1   Factoid question: What is the theme of Regulat...   \n",
       "2   Factoid question: What does Lei 10.674/2003 re...   \n",
       "3   Factoid question: What is the document related...   \n",
       "4   Factoid question: What is the theme of Regulat...   \n",
       "5   Factoid question: What is the document related...   \n",
       "6   Factoid question: What are the procedures for ...   \n",
       "7   Factoid question: What is the regulation numbe...   \n",
       "8   Factoid question: What are the requirements fo...   \n",
       "9   Factoid question: What is the theme of Regulat...   \n",
       "10  Factoid question: When was the Biblioteca de A...   \n",
       "11  Factoid question: What law prohibits the prese...   \n",
       "12  Factoid question: What are the procedures for ...   \n",
       "13  Factoid question: What sector does Anvisa coor...   \n",
       "14  Factoid question: What document establishes th...   \n",
       "\n",
       "                                   retrieved_contexts  \\\n",
       "0   [Alterada por: \\nRDC 612/2022 \\nDocumento rela...   \n",
       "1   [Equivalente (AREE) \\n \\nTema Regulatório 3.1 ...   \n",
       "2   [de 2003. \\n \\nLei 10.674/2003  – Obriga a que...   \n",
       "3   [Aditivos Alimentares e Coadjuvantes de Tecnol...   \n",
       "4   [Equivalente (AREE) \\n \\nTema Regulatório 3.1 ...   \n",
       "5   [RDC 91/2001 – Critérios gerais e classificaçã...   \n",
       "6   [1.1. Procedimentos para regularização de alim...   \n",
       "7   [benzopireno, com identificação do lote e ou d...   \n",
       "8   [Perguntas e Respostas sobre Enriquecimento de...   \n",
       "9   [Tema Regulatório 3.22 da Agenda Regulatória 2...   \n",
       "10  [BIBLIOTECA DE \\nALIMENTOS \\nAtualizada em 06....   \n",
       "11  [delitos considerados hediondos crimes contra ...   \n",
       "12  [23 \\n5.1. Procedimentos para importação de al...   \n",
       "13  [No setor de alimentos, a Anvisa coordena, sup...   \n",
       "14  [RDC 819/2023 \\nAto relacionado: \\nIN 75/2020 ...   \n",
       "\n",
       "                                             response  \\\n",
       "0   I don't have enough information to determine t...   \n",
       "1   I don't have enough information to determine t...   \n",
       "2   Lei 10.674/2003 requires food products to info...   \n",
       "3   The document related to the procedures for Req...   \n",
       "4   The theme of Regulatory Agenda 3.31 in the pro...   \n",
       "5   The document \"Critérios gerais e classificação...   \n",
       "6   The procedures for regularização de alimentos ...   \n",
       "7   The regulation number for the prohibition of i...   \n",
       "8   The requirements for enriching wheat and corn ...   \n",
       "9   The theme of the Regulatory Agenda 2024/2025 r...   \n",
       "10  The Biblioteca de Alimentos was last updated o...   \n",
       "11  The law that prohibits the presence of ethanol...   \n",
       "12  The procedures for importing foods include fol...   \n",
       "13  Anvisa coordinates, supervises, and controls a...   \n",
       "14  The document that establishes the technical re...   \n",
       "\n",
       "                                            reference  context_recall  \\\n",
       "0   Enriquecimento obrigatório do sal com iodo e d...             1.0   \n",
       "1   Reavaliação da autorização de uso do aditivo a...             1.0   \n",
       "2                             The presence of gluten.             1.0   \n",
       "3   Guia nº 43, versão 1, de 14/12/2020 - Procedim...             1.0   \n",
       "4   Atualização periódica da lista de padrões micr...             0.0   \n",
       "5                                         RDC 91/2001             1.0   \n",
       "6       Procedimentos para regularização de alimentos             1.0   \n",
       "7                                        RE 5052/2011             1.0   \n",
       "8   RDC 714/2022 - Requisitos sanitários para enri...             1.0   \n",
       "9   Theme Regulatório 3.22 da Agenda Regulatória 2...             1.0   \n",
       "10                           Atualizada em 06.11.2024             1.0   \n",
       "11                                          RE 1/2002             1.0   \n",
       "12                                                 23             1.0   \n",
       "13                            In the sector of foods.             1.0   \n",
       "14                                         IN 75/2020             1.0   \n",
       "\n",
       "    faithfulness  answer_relevancy  context_precision  \n",
       "0       0.333333          0.000000           0.000000  \n",
       "1       1.000000          0.000000           0.500000  \n",
       "2       1.000000          0.805121           1.000000  \n",
       "3            NaN          0.858942           1.000000  \n",
       "4       0.000000          0.000000           0.000000  \n",
       "5       0.500000          0.797576           1.000000  \n",
       "6       0.666667          0.738733           0.000000  \n",
       "7       1.000000          0.885096           0.833333  \n",
       "8       1.000000          0.645704           1.000000  \n",
       "9       1.000000          0.664575           1.000000  \n",
       "10      1.000000          0.827087           1.000000  \n",
       "11      1.000000          0.760858           1.000000  \n",
       "12      0.500000          0.788881           0.833333  \n",
       "13      1.000000          0.779908           1.000000  \n",
       "14      1.000000          0.778369           1.000000  "
      ]
     },
     "execution_count": 29,
     "metadata": {},
     "output_type": "execute_result"
    }
   ],
   "source": [
    "result = evaluate(\n",
    "    dataset = dataset,\n",
    "    llm=llm,\n",
    "    embeddings=embeddings,\n",
    "    metrics=[\n",
    "        context_recall,\n",
    "        faithfulness,\n",
    "        answer_relevancy,\n",
    "        context_precision,\n",
    "    ],)\n",
    "\n",
    "df = result.to_pandas()\n",
    "df"
   ]
  },
  {
   "cell_type": "code",
   "execution_count": 30,
   "metadata": {},
   "outputs": [],
   "source": [
    "df.to_csv(\"baseline_ragas_results.csv\", index=False)"
   ]
  },
  {
   "cell_type": "code",
   "execution_count": 31,
   "metadata": {},
   "outputs": [
    {
     "name": "stdout",
     "output_type": "stream",
     "text": [
      "Mean Faithfulness:  0.7857\n",
      "Mean Answer relevancy:  0.6221\n",
      "Mean Context recall:  0.9333\n",
      "Mean Context precision:  0.7444\n"
     ]
    }
   ],
   "source": [
    "# get mean of the metrics column by column\n",
    "print(\"Mean Faithfulness: \", round(df[\"faithfulness\"].mean(), 4))\n",
    "print(\"Mean Answer relevancy: \", round(df[\"answer_relevancy\"].mean(), 4))\n",
    "print(\"Mean Context recall: \", round(df[\"context_recall\"].mean(), 4))\n",
    "print(\"Mean Context precision: \", round(df[\"context_precision\"].mean(), 4))\n"
   ]
  },
  {
   "cell_type": "markdown",
   "metadata": {},
   "source": [
    "# EVALUACION DEL RAG AVANZADO"
   ]
  },
  {
   "cell_type": "code",
   "execution_count": 32,
   "metadata": {},
   "outputs": [
    {
     "name": "stderr",
     "output_type": "stream",
     "text": [
      "/Users/carloszurita/Documents/czurita_fork/Castro_Cofre_Zurita/src/embedding/embedding.py:20: LangChainDeprecationWarning: The class `HuggingFaceEmbeddings` was deprecated in LangChain 0.2.2 and will be removed in 1.0. An updated version of the class exists in the :class:`~langchain-huggingface package and should be used instead. To use it run `pip install -U :class:`~langchain-huggingface` and import as `from :class:`~langchain_huggingface import HuggingFaceEmbeddings``.\n",
      "  embedding_model = HuggingFaceEmbeddings(model_name=model_name)\n"
     ]
    },
    {
     "name": "stdout",
     "output_type": "stream",
     "text": [
      "Base de datos vectorial 'demo_collection' creada y 348 documentos añadidos.\n"
     ]
    },
    {
     "name": "stderr",
     "output_type": "stream",
     "text": [
      "/Users/carloszurita/Documents/czurita_fork/Castro_Cofre_Zurita/src/augmented/llm.py:22: LangChainDeprecationWarning: The class `ChatOpenAI` was deprecated in LangChain 0.0.10 and will be removed in 1.0. An updated version of the class exists in the :class:`~langchain-openai package and should be used instead. To use it run `pip install -U :class:`~langchain-openai` and import as `from :class:`~langchain_openai import ChatOpenAI``.\n",
      "  llm = ChatOpenAI(\n",
      "/Users/carloszurita/Documents/czurita_fork/Castro_Cofre_Zurita/src/augmented/llm.py:41: LangChainDeprecationWarning: The method `BaseChatModel.__call__` was deprecated in langchain-core 0.1.7 and will be removed in 1.0. Use :meth:`~invoke` instead.\n",
      "  response = llm(messages)\n"
     ]
    }
   ],
   "source": [
    "\n",
    "from ragas import evaluate\n",
    "from ragas.metrics import (\n",
    "    faithfulness,\n",
    "    answer_relevancy,\n",
    "    context_recall,\n",
    "    context_precision,\n",
    ")\n",
    "from datasets import Dataset\n",
    "from main_app_v3_hybrid import main_query  # RAG avanzado\n",
    "from basic_rag import basic_rag_pipeline  # RAG básico\n",
    "from main_app_v2 import main_basic  # RAG básico\n",
    "# from intermediate_rag import intermediate_rag_pipeline  # RAG intermedio (desactivado)"
   ]
  },
  {
   "cell_type": "code",
   "execution_count": 33,
   "metadata": {},
   "outputs": [
    {
     "name": "stderr",
     "output_type": "stream",
     "text": [
      "Fetching 29 files: 100%|██████████| 29/29 [00:00<00:00, 116508.44it/s]\n"
     ]
    },
    {
     "name": "stdout",
     "output_type": "stream",
     "text": [
      "Results passed to Reranker: ['Sanitários para enriquecimento e restauração de alimentos RDC 604/2022 Enriquecimento obrigatório do sal com iodo e das farinhas de trigo e de milho com ferro e ácido fólico destinados ao consumo com ferro e ácido fólico destinados ao consumo humano. Alterada por: RDC 612/2022 Documento relacionado: Perguntas e Respostas sobre Enriquecimento de Farinhas de Trigo e de Milho com Ferro e Ácido de Farinhas de Trigo e de Milho com Ferro e Ácido Fólico. RDC 714/2022 Requisitos sanitários para enriquecimento e restauração de alimentos. Alterada por: RDC 839/2023 Comprovação de segurança e', 'farinhas integrais, massas alimentícias e pães RDC 604/2022 Enriquecimento obrigatório do sal com iodo e das farinhas de trigo e de milho com ferro e ácido fólico destinados ao consumo humano. e ácido fólico destinados ao consumo humano. Alterada por: RDC 612/2022 Documento relacionado: Perguntas e Respostas sobre Enriquecimento de Farinhas de Trigo e de Milho com Ferro e Ácido Fólico RDC de Trigo e de Milho com Ferro e Ácido Fólico RDC 711/2022 Requisitos sanitários dos amidos, biscoitos, cereais integrais, cereais processados, farelos, farinhas, farinhas integrais, massas', 'em estabelecimentos beneficiadores de sal destinado ao consumo humano. IN 82/2020 Boas Práticas de Fabricação de fórmulas dietoterápicas para erros inatos do metabolismo. Alterada por: RDC 666/2022 inatos do metabolismo. Alterada por: RDC 666/2022 3.2. Boas Práticas para Serviços de Alimentação Tema Regulatório 3.2 da Agenda Regulatória 2024/2025. RDC 216/2004 – Regulamento técnico de boas', '– Dispõe sobre a obrigatoriedade da iodação do sal, destinado ao consumo humano, seu controle pelos órgãos sanitários e dá outras providências Decreto 75.697/1975 – Padrões de identidade e qualidade 75.697/1975 – Padrões de identidade e qualidade para o sal destinado ao consumo humano. RDC 604/2022 Enriquecimento obrigatório do sal com iodo e das farinhas de trigo e de milho com ferro e ácido farinhas de trigo e de milho com ferro e ácido fólico destinados ao consumo humano. Alterada por: RDC 612/2022 1.24. Requisitos Sanitários dos alimentos nutricionalmente modificados RDC 720/2022 nutricionalmente modificados RDC 720/2022 Requisitos sanitários dos alimentos nutricionalmente modificados. Alterada por: RDC 839/2023 Comprovação de segurança e autorização de uso de novos alimentos', 'RDC 241/2018 – Requisitos para comprovação da segurança e dos benefícios à saúde dos probióticos para uso em alimentos. Altera a RDC 22/2015. RDC 401/2020 Altera a RDC 22/2015 para atualizar as']\n",
      "Loading default cross-encoder model for language pt\n",
      "Rank 1: farinhas integrais, massas alimentícias e pães RDC 604/2022 Enriquecimento obrigatório do sal com iodo e das farinhas de trigo e de milho com ferro e ácido fólico destinados ao consumo humano. e ácido fólico destinados ao consumo humano. Alterada por: RDC 612/2022 Documento relacionado: Perguntas e Respostas sobre Enriquecimento de Farinhas de Trigo e de Milho com Ferro e Ácido Fólico RDC de Trigo e de Milho com Ferro e Ácido Fólico RDC 711/2022 Requisitos sanitários dos amidos, biscoitos, cereais integrais, cereais processados, farelos, farinhas, farinhas integrais, massas | Score: 3.858039617538452\n",
      "Rank 2: Sanitários para enriquecimento e restauração de alimentos RDC 604/2022 Enriquecimento obrigatório do sal com iodo e das farinhas de trigo e de milho com ferro e ácido fólico destinados ao consumo com ferro e ácido fólico destinados ao consumo humano. Alterada por: RDC 612/2022 Documento relacionado: Perguntas e Respostas sobre Enriquecimento de Farinhas de Trigo e de Milho com Ferro e Ácido de Farinhas de Trigo e de Milho com Ferro e Ácido Fólico. RDC 714/2022 Requisitos sanitários para enriquecimento e restauração de alimentos. Alterada por: RDC 839/2023 Comprovação de segurança e | Score: 3.2400314807891846\n",
      "Rank 3: – Dispõe sobre a obrigatoriedade da iodação do sal, destinado ao consumo humano, seu controle pelos órgãos sanitários e dá outras providências Decreto 75.697/1975 – Padrões de identidade e qualidade 75.697/1975 – Padrões de identidade e qualidade para o sal destinado ao consumo humano. RDC 604/2022 Enriquecimento obrigatório do sal com iodo e das farinhas de trigo e de milho com ferro e ácido farinhas de trigo e de milho com ferro e ácido fólico destinados ao consumo humano. Alterada por: RDC 612/2022 1.24. Requisitos Sanitários dos alimentos nutricionalmente modificados RDC 720/2022 nutricionalmente modificados RDC 720/2022 Requisitos sanitários dos alimentos nutricionalmente modificados. Alterada por: RDC 839/2023 Comprovação de segurança e autorização de uso de novos alimentos | Score: 1.5760090351104736\n",
      "Rank 4: em estabelecimentos beneficiadores de sal destinado ao consumo humano. IN 82/2020 Boas Práticas de Fabricação de fórmulas dietoterápicas para erros inatos do metabolismo. Alterada por: RDC 666/2022 inatos do metabolismo. Alterada por: RDC 666/2022 3.2. Boas Práticas para Serviços de Alimentação Tema Regulatório 3.2 da Agenda Regulatória 2024/2025. RDC 216/2004 – Regulamento técnico de boas | Score: -0.15858957171440125\n",
      "Rank 5: RDC 241/2018 – Requisitos para comprovação da segurança e dos benefícios à saúde dos probióticos para uso em alimentos. Altera a RDC 22/2015. RDC 401/2020 Altera a RDC 22/2015 para atualizar as | Score: -3.1261184215545654\n"
     ]
    },
    {
     "name": "stderr",
     "output_type": "stream",
     "text": [
      "Fetching 29 files: 100%|██████████| 29/29 [00:00<00:00, 132355.62it/s]\n"
     ]
    },
    {
     "name": "stdout",
     "output_type": "stream",
     "text": [
      "Results passed to Reranker: ['alimentares e coadjuvantes de tecnologia Tema Regulatório 3.5 da Agenda Regulatória 2024/2025: Reavaliação da autorização de uso do aditivo alimentar dióxido de titânio em alimentos. Tema Regulatório dióxido de titânio em alimentos. Tema Regulatório 3.9 da Agenda Regulatória 2024/2025: Regulamentação dos aditivos corantes formulados e da rotulagem de corantes e aromatizantes em alimentos de corantes e aromatizantes em alimentos embalados. Tema Regulatório 3.14 da Agenda Regulatória 2024/2025: Revisão da regulamentação de aditivos alimentares e coadjuvantes de tecnologia autorizados', 'Regulatório 3.28 da Agenda Regulatória 2024/2025: Atualização periódica da lista das partes de vegetais autorizadas para o preparo de chás e para uso como especiarias. RDC 716/2022 Requisitos', 'de Alimentos Tema Regulatório 3.3 da Agenda Regulatória 2024/2025: Identificação de estratégias para promover o acesso a informações necessárias ao consumo seguro de alimentos por pessoas com', 'de aditivos alimentares e coadjuvantes de tecnologia em alimentos. Tema Regulatório 3.16 da Agenda Regulatória 2024/2025: Revisão da regulamentação de autorização de uso e de rotulagem de aditivos de autorização de uso e de rotulagem de aditivos edulcorantes em alimentos. Tema Regulatório 3.34 da Agenda Regulatória 2024/2025: Atualização periódica das listas de aditivos alimentares e periódica das listas de aditivos alimentares e coadjuvantes de tecnologia autorizados para uso em alimentos. Guia nº 43, versão 1, de 14/12/2020 Procedimentos para Pedidos de Inclusão e Extensão de para Pedidos de Inclusão e Extensão de Uso de Aditivos Alimentares e Coadjuvantes de Tecnologia de Fabricação na Legislação Brasileira. RDC 725/2022 Aditivos alimentares aromatizantes. Documento Aditivos alimentares aromatizantes. Documento relacionado: Perguntas e Respostas sobre Aditivos Aromatizantes de Espécies Botânicas Regionais RDC 728/2022 Enzimas e as preparações enzimáticas para', 'ao consumo seguro de alimentos por pessoas com deficiência visual. Tema Regulatório 3.6 da Agenda Regulatória 2024/2025: Regulamentação da declaração quantitativa de ingredientes na rotulagem de quantitativa de ingredientes na rotulagem de alimentos embalados. Tema Regulatório 3.9 da Agenda Regulatória 2024/2025: Regulamentação dos aditivos corantes formulados e da rotulagem de corantes e corantes formulados e da rotulagem de corantes e aromatizantes em alimentos embalados. Tema Regulatório 3.16 da Agenda Regulatória 2024/2025: Revisão da regulamentação de autorização de uso e de da regulamentação de autorização de uso e de rotulagem de aditivos edulcorantes em alimentos. Tema Regulatório 3.23 da Agenda Regulatória 2024/2025: Revisão da regulamentação sobre rotulagem dos Revisão da regulamentação sobre rotulagem dos principais alimentos alergênicos. Tema Regulatório 3.24 da Agenda Regulatória 2024/2025: Revisão da regulamentação sobre rotulagem geral de alimentos regulamentação sobre rotulagem geral de alimentos embalados. Tema 3.25 da Agenda Regulatória 2024/2025: Revisão da regulamentação sobre rotulagem nutricional dos alimentos embalados. Decreto-Lei nutricional dos alimentos embalados. Decreto-Lei 986/1969 – Institui normas básicas sobre alimentos. Alterado por: Lei 13.305/2016 – Altera Decreto-Lei 986/1969 para dispor sobre rotulagem de']\n",
      "Loading default cross-encoder model for language pt\n",
      "Rank 1: alimentares e coadjuvantes de tecnologia Tema Regulatório 3.5 da Agenda Regulatória 2024/2025: Reavaliação da autorização de uso do aditivo alimentar dióxido de titânio em alimentos. Tema Regulatório dióxido de titânio em alimentos. Tema Regulatório 3.9 da Agenda Regulatória 2024/2025: Regulamentação dos aditivos corantes formulados e da rotulagem de corantes e aromatizantes em alimentos de corantes e aromatizantes em alimentos embalados. Tema Regulatório 3.14 da Agenda Regulatória 2024/2025: Revisão da regulamentação de aditivos alimentares e coadjuvantes de tecnologia autorizados | Score: 8.8546724319458\n",
      "Rank 2: de aditivos alimentares e coadjuvantes de tecnologia em alimentos. Tema Regulatório 3.16 da Agenda Regulatória 2024/2025: Revisão da regulamentação de autorização de uso e de rotulagem de aditivos de autorização de uso e de rotulagem de aditivos edulcorantes em alimentos. Tema Regulatório 3.34 da Agenda Regulatória 2024/2025: Atualização periódica das listas de aditivos alimentares e periódica das listas de aditivos alimentares e coadjuvantes de tecnologia autorizados para uso em alimentos. Guia nº 43, versão 1, de 14/12/2020 Procedimentos para Pedidos de Inclusão e Extensão de para Pedidos de Inclusão e Extensão de Uso de Aditivos Alimentares e Coadjuvantes de Tecnologia de Fabricação na Legislação Brasileira. RDC 725/2022 Aditivos alimentares aromatizantes. Documento Aditivos alimentares aromatizantes. Documento relacionado: Perguntas e Respostas sobre Aditivos Aromatizantes de Espécies Botânicas Regionais RDC 728/2022 Enzimas e as preparações enzimáticas para | Score: 8.251931190490723\n",
      "Rank 3: ao consumo seguro de alimentos por pessoas com deficiência visual. Tema Regulatório 3.6 da Agenda Regulatória 2024/2025: Regulamentação da declaração quantitativa de ingredientes na rotulagem de quantitativa de ingredientes na rotulagem de alimentos embalados. Tema Regulatório 3.9 da Agenda Regulatória 2024/2025: Regulamentação dos aditivos corantes formulados e da rotulagem de corantes e corantes formulados e da rotulagem de corantes e aromatizantes em alimentos embalados. Tema Regulatório 3.16 da Agenda Regulatória 2024/2025: Revisão da regulamentação de autorização de uso e de da regulamentação de autorização de uso e de rotulagem de aditivos edulcorantes em alimentos. Tema Regulatório 3.23 da Agenda Regulatória 2024/2025: Revisão da regulamentação sobre rotulagem dos Revisão da regulamentação sobre rotulagem dos principais alimentos alergênicos. Tema Regulatório 3.24 da Agenda Regulatória 2024/2025: Revisão da regulamentação sobre rotulagem geral de alimentos regulamentação sobre rotulagem geral de alimentos embalados. Tema 3.25 da Agenda Regulatória 2024/2025: Revisão da regulamentação sobre rotulagem nutricional dos alimentos embalados. Decreto-Lei nutricional dos alimentos embalados. Decreto-Lei 986/1969 – Institui normas básicas sobre alimentos. Alterado por: Lei 13.305/2016 – Altera Decreto-Lei 986/1969 para dispor sobre rotulagem de | Score: 7.702398777008057\n",
      "Rank 4: de Alimentos Tema Regulatório 3.3 da Agenda Regulatória 2024/2025: Identificação de estratégias para promover o acesso a informações necessárias ao consumo seguro de alimentos por pessoas com | Score: 7.069268703460693\n",
      "Rank 5: Regulatório 3.28 da Agenda Regulatória 2024/2025: Atualização periódica da lista das partes de vegetais autorizadas para o preparo de chás e para uso como especiarias. RDC 716/2022 Requisitos | Score: 1.5407533645629883\n"
     ]
    },
    {
     "name": "stderr",
     "output_type": "stream",
     "text": [
      "Fetching 29 files: 100%|██████████| 29/29 [00:00<00:00, 122246.05it/s]\n"
     ]
    },
    {
     "name": "stdout",
     "output_type": "stream",
     "text": [
      "Results passed to Reranker: ['os produtos alimentícios comercializados informem sobre a presença de glúten, como medida preventiva e de controle da doença celíaca. Lei 11.265/2006 – Regulamenta a comercialização de alimentos para', 'Portaria MJ 2.658/2003 – Define o símbolo de que trata o art. 2º, § 1º, do Decreto 4.680, de 24 de abril de 2003. Lei 10.674/2003 – Obriga a que os produtos alimentícios comercializados informem', 'dos alimentos embalados. Atos relacionados: Lei 12.849/2013 – Obrigatoriedade de as fábricas de produtos que contenham látex natural gravarem em suas embalagens advertência sobre a presença dessa', 'Lei 11.474/2007 – Altera a Lei no 10.188, de 12 de fevereiro de 2001, que cria o Programa de Arrendamento Residencial, institui o arrendamento residencial com opção de compra, e a Lei no 11.265, de 3', 'fábricas de produtos que contenham látex natural gravarem em suas embalagens advertência sobre a presença dessa substância. RDC 902/2024 Inclusão de declaração sobre nova fórmula na rotulagem de']\n",
      "Loading default cross-encoder model for language pt\n",
      "Rank 1: Portaria MJ 2.658/2003 – Define o símbolo de que trata o art. 2º, § 1º, do Decreto 4.680, de 24 de abril de 2003. Lei 10.674/2003 – Obriga a que os produtos alimentícios comercializados informem | Score: 3.7335028648376465\n",
      "Rank 2: os produtos alimentícios comercializados informem sobre a presença de glúten, como medida preventiva e de controle da doença celíaca. Lei 11.265/2006 – Regulamenta a comercialização de alimentos para | Score: 1.6603045463562012\n",
      "Rank 3: dos alimentos embalados. Atos relacionados: Lei 12.849/2013 – Obrigatoriedade de as fábricas de produtos que contenham látex natural gravarem em suas embalagens advertência sobre a presença dessa | Score: -3.601874589920044\n",
      "Rank 4: fábricas de produtos que contenham látex natural gravarem em suas embalagens advertência sobre a presença dessa substância. RDC 902/2024 Inclusão de declaração sobre nova fórmula na rotulagem de | Score: -3.8321173191070557\n",
      "Rank 5: Lei 11.474/2007 – Altera a Lei no 10.188, de 12 de fevereiro de 2001, que cria o Programa de Arrendamento Residencial, institui o arrendamento residencial com opção de compra, e a Lei no 11.265, de 3 | Score: -6.790184497833252\n"
     ]
    },
    {
     "name": "stderr",
     "output_type": "stream",
     "text": [
      "Fetching 29 files: 100%|██████████| 29/29 [00:00<00:00, 97307.85it/s]\n"
     ]
    },
    {
     "name": "stdout",
     "output_type": "stream",
     "text": [
      "Results passed to Reranker: ['para uso em alimentos. Guia nº 23, versão 1, de 23/07/2019 Guia para Comprovação da Segurança de Alimentos e Ingredientes. Documento relacionado: Perguntas e Respostas sobre Solicitações Pós', 'de aditivos alimentares e coadjuvantes de tecnologia em alimentos. Tema Regulatório 3.16 da Agenda Regulatória 2024/2025: Revisão da regulamentação de autorização de uso e de rotulagem de aditivos de autorização de uso e de rotulagem de aditivos edulcorantes em alimentos. Tema Regulatório 3.34 da Agenda Regulatória 2024/2025: Atualização periódica das listas de aditivos alimentares e periódica das listas de aditivos alimentares e coadjuvantes de tecnologia autorizados para uso em alimentos. Guia nº 43, versão 1, de 14/12/2020 Procedimentos para Pedidos de Inclusão e Extensão de para Pedidos de Inclusão e Extensão de Uso de Aditivos Alimentares e Coadjuvantes de Tecnologia de Fabricação na Legislação Brasileira. RDC 725/2022 Aditivos alimentares aromatizantes. Documento Aditivos alimentares aromatizantes. Documento relacionado: Perguntas e Respostas sobre Aditivos Aromatizantes de Espécies Botânicas Regionais RDC 728/2022 Enzimas e as preparações enzimáticas para', 'e identificação como integral e para destaque da presença de ingredientes integrais. Documento relacionado: Perguntas e Respostas sobre Cereais Integrais RDC 839/2023 Comprovação de segurança e', 'Princípios gerais, as funções tecnológicas e as condições de uso de aditivos alimentares e coadjuvantes de tecnologia em alimentos. Alterada por: RDC 826/2023 RDC 849/2024 Atos relacionados: IN RDC 826/2023 RDC 849/2024 Atos relacionados: IN 211/2023 Guia nº 43, versão 1, de 14/12/2020 Procedimentos para Pedidos de Inclusão e Extensão de Uso de Aditivos Alimentares e Coadjuvantes de', 'e identidade a serem observados. O objetivo é garantir a segurança e a qualidade de alimentos, incluindo bebidas, águas envasadas, ingredientes, matérias-primas, aditivos alimentares e coadjuvantes']\n",
      "Loading default cross-encoder model for language pt\n",
      "Rank 1: para uso em alimentos. Guia nº 23, versão 1, de 23/07/2019 Guia para Comprovação da Segurança de Alimentos e Ingredientes. Documento relacionado: Perguntas e Respostas sobre Solicitações Pós | Score: 4.089262008666992\n",
      "Rank 2: Princípios gerais, as funções tecnológicas e as condições de uso de aditivos alimentares e coadjuvantes de tecnologia em alimentos. Alterada por: RDC 826/2023 RDC 849/2024 Atos relacionados: IN RDC 826/2023 RDC 849/2024 Atos relacionados: IN 211/2023 Guia nº 43, versão 1, de 14/12/2020 Procedimentos para Pedidos de Inclusão e Extensão de Uso de Aditivos Alimentares e Coadjuvantes de | Score: 3.6647846698760986\n",
      "Rank 3: e identificação como integral e para destaque da presença de ingredientes integrais. Documento relacionado: Perguntas e Respostas sobre Cereais Integrais RDC 839/2023 Comprovação de segurança e | Score: 3.4231319427490234\n",
      "Rank 4: e identidade a serem observados. O objetivo é garantir a segurança e a qualidade de alimentos, incluindo bebidas, águas envasadas, ingredientes, matérias-primas, aditivos alimentares e coadjuvantes | Score: 3.2427384853363037\n",
      "Rank 5: de aditivos alimentares e coadjuvantes de tecnologia em alimentos. Tema Regulatório 3.16 da Agenda Regulatória 2024/2025: Revisão da regulamentação de autorização de uso e de rotulagem de aditivos de autorização de uso e de rotulagem de aditivos edulcorantes em alimentos. Tema Regulatório 3.34 da Agenda Regulatória 2024/2025: Atualização periódica das listas de aditivos alimentares e periódica das listas de aditivos alimentares e coadjuvantes de tecnologia autorizados para uso em alimentos. Guia nº 43, versão 1, de 14/12/2020 Procedimentos para Pedidos de Inclusão e Extensão de para Pedidos de Inclusão e Extensão de Uso de Aditivos Alimentares e Coadjuvantes de Tecnologia de Fabricação na Legislação Brasileira. RDC 725/2022 Aditivos alimentares aromatizantes. Documento Aditivos alimentares aromatizantes. Documento relacionado: Perguntas e Respostas sobre Aditivos Aromatizantes de Espécies Botânicas Regionais RDC 728/2022 Enzimas e as preparações enzimáticas para | Score: 2.2393481731414795\n"
     ]
    },
    {
     "name": "stderr",
     "output_type": "stream",
     "text": [
      "Fetching 29 files: 100%|██████████| 29/29 [00:00<00:00, 143437.28it/s]\n"
     ]
    },
    {
     "name": "stdout",
     "output_type": "stream",
     "text": [
      "Results passed to Reranker: ['Perguntas e Respostas sobre Solicitações Pós -Publicação de Petições de Avaliação da Área de Alimentos. 1.3. Padrões microbiológicos para alimentos Tema Regulatório 3.31 da Agenda Regulatória Tema Regulatório 3.31 da Agenda Regulatória 2024/2025: Atualização periódica da lista de padrões microbiológicos para alimentos. RDC 724/2022 Padrões microbiológicos dos alimentos e sua aplicação. microbiológicos dos alimentos e sua aplicação. Ato relacionado: IN 161/2022 Padrões microbiológicos dos alimentos. Documento relacionado: Perguntas e Respostas sobre Padrões Microbiológicos IN e Respostas sobre Padrões Microbiológicos IN 161/2022 Padrões microbiológicos dos alimentos. (Atualização Periódica) Alterada por: IN 313/2024 1.4. Irradiação de alimentos RDC 21/2001 – Regulamento', 'documentação que deve ser apresentada. 1.2. Procedimentos para avaliação de risco, segurança e eficácia de alimentos Tema Regulatório 3.8 da Agenda Regulatória 2024/2025: Regulamentação das listas de', 'de aditivos alimentares e coadjuvantes de tecnologia em alimentos. Tema Regulatório 3.16 da Agenda Regulatória 2024/2025: Revisão da regulamentação de autorização de uso e de rotulagem de aditivos de autorização de uso e de rotulagem de aditivos edulcorantes em alimentos. Tema Regulatório 3.34 da Agenda Regulatória 2024/2025: Atualização periódica das listas de aditivos alimentares e periódica das listas de aditivos alimentares e coadjuvantes de tecnologia autorizados para uso em alimentos. Guia nº 43, versão 1, de 14/12/2020 Procedimentos para Pedidos de Inclusão e Extensão de para Pedidos de Inclusão e Extensão de Uso de Aditivos Alimentares e Coadjuvantes de Tecnologia de Fabricação na Legislação Brasileira. RDC 725/2022 Aditivos alimentares aromatizantes. Documento Aditivos alimentares aromatizantes. Documento relacionado: Perguntas e Respostas sobre Aditivos Aromatizantes de Espécies Botânicas Regionais RDC 728/2022 Enzimas e as preparações enzimáticas para', 'Regulatório 3.28 da Agenda Regulatória 2024/2025: Atualização periódica da lista das partes de vegetais autorizadas para o preparo de chás e para uso como especiarias. RDC 716/2022 Requisitos', 'de novos alimentos e novos ingredientes. 1.12. Requisitos sanitários para suplementos alimentares Tema Regulatório 3.29 da Agenda Regulatória 2024/2025: Atualização periódica da lista de']\n",
      "Loading default cross-encoder model for language pt\n",
      "Rank 1: Perguntas e Respostas sobre Solicitações Pós -Publicação de Petições de Avaliação da Área de Alimentos. 1.3. Padrões microbiológicos para alimentos Tema Regulatório 3.31 da Agenda Regulatória Tema Regulatório 3.31 da Agenda Regulatória 2024/2025: Atualização periódica da lista de padrões microbiológicos para alimentos. RDC 724/2022 Padrões microbiológicos dos alimentos e sua aplicação. microbiológicos dos alimentos e sua aplicação. Ato relacionado: IN 161/2022 Padrões microbiológicos dos alimentos. Documento relacionado: Perguntas e Respostas sobre Padrões Microbiológicos IN e Respostas sobre Padrões Microbiológicos IN 161/2022 Padrões microbiológicos dos alimentos. (Atualização Periódica) Alterada por: IN 313/2024 1.4. Irradiação de alimentos RDC 21/2001 – Regulamento | Score: 8.0999116897583\n",
      "Rank 2: de aditivos alimentares e coadjuvantes de tecnologia em alimentos. Tema Regulatório 3.16 da Agenda Regulatória 2024/2025: Revisão da regulamentação de autorização de uso e de rotulagem de aditivos de autorização de uso e de rotulagem de aditivos edulcorantes em alimentos. Tema Regulatório 3.34 da Agenda Regulatória 2024/2025: Atualização periódica das listas de aditivos alimentares e periódica das listas de aditivos alimentares e coadjuvantes de tecnologia autorizados para uso em alimentos. Guia nº 43, versão 1, de 14/12/2020 Procedimentos para Pedidos de Inclusão e Extensão de para Pedidos de Inclusão e Extensão de Uso de Aditivos Alimentares e Coadjuvantes de Tecnologia de Fabricação na Legislação Brasileira. RDC 725/2022 Aditivos alimentares aromatizantes. Documento Aditivos alimentares aromatizantes. Documento relacionado: Perguntas e Respostas sobre Aditivos Aromatizantes de Espécies Botânicas Regionais RDC 728/2022 Enzimas e as preparações enzimáticas para | Score: 4.096064567565918\n",
      "Rank 3: de novos alimentos e novos ingredientes. 1.12. Requisitos sanitários para suplementos alimentares Tema Regulatório 3.29 da Agenda Regulatória 2024/2025: Atualização periódica da lista de | Score: 3.3249175548553467\n",
      "Rank 4: documentação que deve ser apresentada. 1.2. Procedimentos para avaliação de risco, segurança e eficácia de alimentos Tema Regulatório 3.8 da Agenda Regulatória 2024/2025: Regulamentação das listas de | Score: 1.36448335647583\n",
      "Rank 5: Regulatório 3.28 da Agenda Regulatória 2024/2025: Atualização periódica da lista das partes de vegetais autorizadas para o preparo de chás e para uso como especiarias. RDC 716/2022 Requisitos | Score: -0.2836405634880066\n"
     ]
    },
    {
     "name": "stderr",
     "output_type": "stream",
     "text": [
      "Fetching 29 files: 100%|██████████| 29/29 [00:00<00:00, 63850.30it/s]\n"
     ]
    },
    {
     "name": "stdout",
     "output_type": "stream",
     "text": [
      "Results passed to Reranker: ['(SNVS) destinados à oferta no território nacional. RDC 91/2001 – Critérios gerais e classificação de materiais para embalagens em contato com alimentos Documento relacionado: Perguntas e Respostas Documento relacionado: Perguntas e Respostas sobre Materiais em contato com alimentos RDC 122/2001 – Ceras e parafinas em contato com alimentos. RDC 123/2001 – Embalagens e equipamentos elastoméricos – Embalagens e equipamentos elastoméricos em contato com alimentos. RDC 124/2001 – Preparados formadores de películas a base de polímeros e/ou resinas destinados ao revestimento de Alimentos. RDC', 'Portaria MJ 2.658/2003 – Define o símbolo de que trata o art. 2º, § 1º, do Decreto 4.680, de 24 de abril de 2003. Lei 10.674/2003 – Obriga a que os produtos alimentícios comercializados informem', 'para embalagens e equipamentos plásticos em contato com alimentos. Alterada por: RDC 51/2010 – Critérios de migração para materiais, embalagens e equipamentos plásticos destinados a entrar em contato plásticos destinados a entrar em contato com alimentos. RDC 52/2010 – Corantes em embalagens e equipamentos plásticos destinados a estar em contato com alimentos. RDC 56/2012 – Lista positiva de com alimentos. RDC 56/2012 – Lista positiva de monômeros, outras substâncias iniciadoras e polímeros autorizados para a elaboração de embalagens e equipamentos plásticos em contato com alimentos. RDC', '(SNVS) destinados à oferta no território nacional. IN 281/2024 Forma de regularização das diferentes categorias de alimentos e embalagens, e a respectiva documentação que deve ser apresentada. 1.2.', 'autorizados para a elaboração de embalagens e equipamentos plásticos em contato com alimentos. Alterada por: RDC 326/2019 RDC 589/2021 RDC 88/2016 – Materiais, embalagens e equipamentos celulósicos Materiais, embalagens e equipamentos celulósicos destinados a entrar em contato com alimentos. Alterada por: RDC 589/2021 RDC 798/2023 RDC 89/2016 – Materiais celulósicos para cocção e filtração a – Materiais celulósicos para cocção e filtração a quente. RDC 90/2016 – Materiais, embalagens e equipamentos celulósicos destinados a entrar em contato com alimentos durante a cocção ou aquecimento']\n",
      "Loading default cross-encoder model for language pt\n",
      "Rank 1: (SNVS) destinados à oferta no território nacional. RDC 91/2001 – Critérios gerais e classificação de materiais para embalagens em contato com alimentos Documento relacionado: Perguntas e Respostas Documento relacionado: Perguntas e Respostas sobre Materiais em contato com alimentos RDC 122/2001 – Ceras e parafinas em contato com alimentos. RDC 123/2001 – Embalagens e equipamentos elastoméricos – Embalagens e equipamentos elastoméricos em contato com alimentos. RDC 124/2001 – Preparados formadores de películas a base de polímeros e/ou resinas destinados ao revestimento de Alimentos. RDC | Score: 9.779314994812012\n",
      "Rank 2: para embalagens e equipamentos plásticos em contato com alimentos. Alterada por: RDC 51/2010 – Critérios de migração para materiais, embalagens e equipamentos plásticos destinados a entrar em contato plásticos destinados a entrar em contato com alimentos. RDC 52/2010 – Corantes em embalagens e equipamentos plásticos destinados a estar em contato com alimentos. RDC 56/2012 – Lista positiva de com alimentos. RDC 56/2012 – Lista positiva de monômeros, outras substâncias iniciadoras e polímeros autorizados para a elaboração de embalagens e equipamentos plásticos em contato com alimentos. RDC | Score: 2.0673954486846924\n",
      "Rank 3: autorizados para a elaboração de embalagens e equipamentos plásticos em contato com alimentos. Alterada por: RDC 326/2019 RDC 589/2021 RDC 88/2016 – Materiais, embalagens e equipamentos celulósicos Materiais, embalagens e equipamentos celulósicos destinados a entrar em contato com alimentos. Alterada por: RDC 589/2021 RDC 798/2023 RDC 89/2016 – Materiais celulósicos para cocção e filtração a – Materiais celulósicos para cocção e filtração a quente. RDC 90/2016 – Materiais, embalagens e equipamentos celulósicos destinados a entrar em contato com alimentos durante a cocção ou aquecimento | Score: 0.9122506976127625\n",
      "Rank 4: (SNVS) destinados à oferta no território nacional. IN 281/2024 Forma de regularização das diferentes categorias de alimentos e embalagens, e a respectiva documentação que deve ser apresentada. 1.2. | Score: -2.6942782402038574\n",
      "Rank 5: Portaria MJ 2.658/2003 – Define o símbolo de que trata o art. 2º, § 1º, do Decreto 4.680, de 24 de abril de 2003. Lei 10.674/2003 – Obriga a que os produtos alimentícios comercializados informem | Score: -6.161247730255127\n"
     ]
    },
    {
     "name": "stderr",
     "output_type": "stream",
     "text": [
      "Fetching 29 files: 100%|██████████| 29/29 [00:00<00:00, 141435.83it/s]\n"
     ]
    },
    {
     "name": "stdout",
     "output_type": "stream",
     "text": [
      "Results passed to Reranker: ['e inovações tecnológicas em produtos da área de alimentos. Sumário 1. Regularização, avaliação de risco e padrões de alimentos ................................ ................................ ................................ ......................... 4 1.1. Procedimentos para regularização de alimentos ................................ ................................ ................................ ............................ 4 1.2. Procedimentos para avaliação de risco, segurança e eficácia de alimentos ................................ .................... 5', 'Guia nº 16, versão 1, de 05/10/2018 Guia para Determinação de Prazos de Validade de Alimentos. Documentos relacionados: Perguntas e respostas sobre rotulagem de alimentos alergênicos Perguntas e', '1.1. Procedimentos para regularização de alimentos Tema Regulatório 3.22 da Agenda Regulatória 2024/2025: Revisão da regulamentação sobre regularização de alimentos dispensados de registro. RDC', '5.1. Procedimentos para importação de alimentos ................................ ................................ .............................. 23 5.2. Certidão de Venda Livre para Exportação de 5.2. Certidão de Venda Livre para Exportação de Alimentos (CVLEA) ................................ ................................ ...23 1. Regularização, avaliação de risco e padrões de alimentos', 'para uso em alimentos. Guia nº 23, versão 1, de 23/07/2019 Guia para Comprovação da Segurança de Alimentos e Ingredientes. Documento relacionado: Perguntas e Respostas sobre Solicitações Pós']\n",
      "Loading default cross-encoder model for language pt\n",
      "Rank 1: 1.1. Procedimentos para regularização de alimentos Tema Regulatório 3.22 da Agenda Regulatória 2024/2025: Revisão da regulamentação sobre regularização de alimentos dispensados de registro. RDC | Score: 2.916367769241333\n",
      "Rank 2: e inovações tecnológicas em produtos da área de alimentos. Sumário 1. Regularização, avaliação de risco e padrões de alimentos ................................ ................................ ................................ ......................... 4 1.1. Procedimentos para regularização de alimentos ................................ ................................ ................................ ............................ 4 1.2. Procedimentos para avaliação de risco, segurança e eficácia de alimentos ................................ .................... 5 | Score: 0.8531184792518616\n",
      "Rank 3: 5.1. Procedimentos para importação de alimentos ................................ ................................ .............................. 23 5.2. Certidão de Venda Livre para Exportação de 5.2. Certidão de Venda Livre para Exportação de Alimentos (CVLEA) ................................ ................................ ...23 1. Regularização, avaliação de risco e padrões de alimentos | Score: 0.24717643857002258\n",
      "Rank 4: para uso em alimentos. Guia nº 23, versão 1, de 23/07/2019 Guia para Comprovação da Segurança de Alimentos e Ingredientes. Documento relacionado: Perguntas e Respostas sobre Solicitações Pós | Score: -4.398426532745361\n",
      "Rank 5: Guia nº 16, versão 1, de 05/10/2018 Guia para Determinação de Prazos de Validade de Alimentos. Documentos relacionados: Perguntas e respostas sobre rotulagem de alimentos alergênicos Perguntas e | Score: -5.528336048126221\n"
     ]
    },
    {
     "name": "stderr",
     "output_type": "stream",
     "text": [
      "Fetching 29 files: 100%|██████████| 29/29 [00:00<00:00, 156544.16it/s]\n"
     ]
    },
    {
     "name": "stdout",
     "output_type": "stream",
     "text": [
      "Results passed to Reranker: ['RE 5052/2011 – Proibir a importação, a fabricação, a distribuição e a comercialização, em todo território nacional, de alimentos e bebidas à base de Aloe Vera RDC 635/2022 Proibição, em todo o de Aloe Vera RDC 635/2022 Proibição, em todo o território nacional, da produção, importação, comercialização, propaganda e distribuição de alimentos com forma de apresentação semelhante a cigarro,', '5052/2011 – Proibir a importação, a fabricação, a distribuição e a comercialização, em todo território nacional, de alimentos e bebidas à base de Aloe Vera. RDC 635/2022 Proibição, em todo o de Aloe Vera. RDC 635/2022 Proibição, em todo o território nacional, da produção, importação, comercialização, propaganda e distribuição de alimentos com forma de apresentação semelhante a cigarro,', 'A regulamentar. 1.26. Regulamentação dos alimentos para fins médicos Tema Regulatório 3.10 da Agenda Regulatória 2024/2025 A regulamentar. 1.27. Regulamentação dos alimentos plant-based Tema Regulamentação dos alimentos plant-based Tema Regulatório 3.11 da Agenda Regulatória 2024/2025 A regulamentar. 2. Informações ao consumidor 2.1. Rotulagem de Alimentos Tema Regulatório 3.3 da Agenda', '(SNVS) destinados à oferta no território nacional. Portaria SVS/MS 36/1998 – Alimentos à base de cereais para alimentação infantil. Alterada por: RDC 42/2011 – Compostos de nutrientes para alimentos 42/2011 – Compostos de nutrientes para alimentos destinados a lactentes e crianças de primeira infância. RDC 241/2018 – Requisitos para comprovação da segurança e dos benefícios à saúde dos', 'de ingestão controlada de açúcares. Alterada por: RDC 818/2023 Requisitos sanitários dos adoçantes de mesa e dos adoçantes dietéticos. RDC 839/2023 Comprovação de segurança e autorização de uso de']\n",
      "Loading default cross-encoder model for language pt\n",
      "Rank 1: 5052/2011 – Proibir a importação, a fabricação, a distribuição e a comercialização, em todo território nacional, de alimentos e bebidas à base de Aloe Vera. RDC 635/2022 Proibição, em todo o de Aloe Vera. RDC 635/2022 Proibição, em todo o território nacional, da produção, importação, comercialização, propaganda e distribuição de alimentos com forma de apresentação semelhante a cigarro, | Score: 6.588984966278076\n",
      "Rank 2: RE 5052/2011 – Proibir a importação, a fabricação, a distribuição e a comercialização, em todo território nacional, de alimentos e bebidas à base de Aloe Vera RDC 635/2022 Proibição, em todo o de Aloe Vera RDC 635/2022 Proibição, em todo o território nacional, da produção, importação, comercialização, propaganda e distribuição de alimentos com forma de apresentação semelhante a cigarro, | Score: 5.80136775970459\n",
      "Rank 3: (SNVS) destinados à oferta no território nacional. Portaria SVS/MS 36/1998 – Alimentos à base de cereais para alimentação infantil. Alterada por: RDC 42/2011 – Compostos de nutrientes para alimentos 42/2011 – Compostos de nutrientes para alimentos destinados a lactentes e crianças de primeira infância. RDC 241/2018 – Requisitos para comprovação da segurança e dos benefícios à saúde dos | Score: -2.815002202987671\n",
      "Rank 4: de ingestão controlada de açúcares. Alterada por: RDC 818/2023 Requisitos sanitários dos adoçantes de mesa e dos adoçantes dietéticos. RDC 839/2023 Comprovação de segurança e autorização de uso de | Score: -3.3951733112335205\n",
      "Rank 5: A regulamentar. 1.26. Regulamentação dos alimentos para fins médicos Tema Regulatório 3.10 da Agenda Regulatória 2024/2025 A regulamentar. 1.27. Regulamentação dos alimentos plant-based Tema Regulamentação dos alimentos plant-based Tema Regulatório 3.11 da Agenda Regulatória 2024/2025 A regulamentar. 2. Informações ao consumidor 2.1. Rotulagem de Alimentos Tema Regulatório 3.3 da Agenda | Score: -4.130692958831787\n"
     ]
    },
    {
     "name": "stderr",
     "output_type": "stream",
     "text": [
      "Fetching 29 files: 100%|██████████| 29/29 [00:00<00:00, 139489.47it/s]\n"
     ]
    },
    {
     "name": "stdout",
     "output_type": "stream",
     "text": [
      "Results passed to Reranker: ['Sanitários para enriquecimento e restauração de alimentos RDC 604/2022 Enriquecimento obrigatório do sal com iodo e das farinhas de trigo e de milho com ferro e ácido fólico destinados ao consumo com ferro e ácido fólico destinados ao consumo humano. Alterada por: RDC 612/2022 Documento relacionado: Perguntas e Respostas sobre Enriquecimento de Farinhas de Trigo e de Milho com Ferro e Ácido de Farinhas de Trigo e de Milho com Ferro e Ácido Fólico. RDC 714/2022 Requisitos sanitários para enriquecimento e restauração de alimentos. Alterada por: RDC 839/2023 Comprovação de segurança e', '– Dispõe sobre a obrigatoriedade da iodação do sal, destinado ao consumo humano, seu controle pelos órgãos sanitários e dá outras providências Decreto 75.697/1975 – Padrões de identidade e qualidade 75.697/1975 – Padrões de identidade e qualidade para o sal destinado ao consumo humano. RDC 604/2022 Enriquecimento obrigatório do sal com iodo e das farinhas de trigo e de milho com ferro e ácido farinhas de trigo e de milho com ferro e ácido fólico destinados ao consumo humano. Alterada por: RDC 612/2022 1.24. Requisitos Sanitários dos alimentos nutricionalmente modificados RDC 720/2022 nutricionalmente modificados RDC 720/2022 Requisitos sanitários dos alimentos nutricionalmente modificados. Alterada por: RDC 839/2023 Comprovação de segurança e autorização de uso de novos alimentos', 'farinhas integrais, massas alimentícias e pães RDC 604/2022 Enriquecimento obrigatório do sal com iodo e das farinhas de trigo e de milho com ferro e ácido fólico destinados ao consumo humano. e ácido fólico destinados ao consumo humano. Alterada por: RDC 612/2022 Documento relacionado: Perguntas e Respostas sobre Enriquecimento de Farinhas de Trigo e de Milho com Ferro e Ácido Fólico RDC de Trigo e de Milho com Ferro e Ácido Fólico RDC 711/2022 Requisitos sanitários dos amidos, biscoitos, cereais integrais, cereais processados, farelos, farinhas, farinhas integrais, massas', '– Fórmulas para nutrição enteral. RDC 22/2015 – Compostos de nutrientes e de outras substâncias para fórmulas para nutrição enteral. Alteradas por: RDC 241/2018 – Requisitos para comprovação da', 'com alimentos ................................ ................................ ................................ ............. 8 1.10. Requisitos Sanitários para enriquecimento e restauração de Sanitários para enriquecimento e restauração de alimentos ................................ .................... 10 1.11. Requisitos sanitários para alimentos para fins especiais sanitários para alimentos para fins especiais ................................ ................................ ............11 1.12. Requisitos sanitários para suplementos alimentares sanitários para suplementos alimentares ................................ ................................ ................. 13 1.13. Requisitos para uso de gordura trans industrial em para uso de gordura trans industrial em alimentos................................ ................................ ...13 1.14. Requisitos sanitários para amidos, biscoitos, cereais integrais, cereais amidos, biscoitos, cereais integrais, cereais processados, farelos, farinhas, farinhas integrais, massas alimentícias e pães ................................ ................................']\n",
      "Loading default cross-encoder model for language pt\n",
      "Rank 1: Sanitários para enriquecimento e restauração de alimentos RDC 604/2022 Enriquecimento obrigatório do sal com iodo e das farinhas de trigo e de milho com ferro e ácido fólico destinados ao consumo com ferro e ácido fólico destinados ao consumo humano. Alterada por: RDC 612/2022 Documento relacionado: Perguntas e Respostas sobre Enriquecimento de Farinhas de Trigo e de Milho com Ferro e Ácido de Farinhas de Trigo e de Milho com Ferro e Ácido Fólico. RDC 714/2022 Requisitos sanitários para enriquecimento e restauração de alimentos. Alterada por: RDC 839/2023 Comprovação de segurança e | Score: 5.351658821105957\n",
      "Rank 2: farinhas integrais, massas alimentícias e pães RDC 604/2022 Enriquecimento obrigatório do sal com iodo e das farinhas de trigo e de milho com ferro e ácido fólico destinados ao consumo humano. e ácido fólico destinados ao consumo humano. Alterada por: RDC 612/2022 Documento relacionado: Perguntas e Respostas sobre Enriquecimento de Farinhas de Trigo e de Milho com Ferro e Ácido Fólico RDC de Trigo e de Milho com Ferro e Ácido Fólico RDC 711/2022 Requisitos sanitários dos amidos, biscoitos, cereais integrais, cereais processados, farelos, farinhas, farinhas integrais, massas | Score: 4.851383209228516\n",
      "Rank 3: – Dispõe sobre a obrigatoriedade da iodação do sal, destinado ao consumo humano, seu controle pelos órgãos sanitários e dá outras providências Decreto 75.697/1975 – Padrões de identidade e qualidade 75.697/1975 – Padrões de identidade e qualidade para o sal destinado ao consumo humano. RDC 604/2022 Enriquecimento obrigatório do sal com iodo e das farinhas de trigo e de milho com ferro e ácido farinhas de trigo e de milho com ferro e ácido fólico destinados ao consumo humano. Alterada por: RDC 612/2022 1.24. Requisitos Sanitários dos alimentos nutricionalmente modificados RDC 720/2022 nutricionalmente modificados RDC 720/2022 Requisitos sanitários dos alimentos nutricionalmente modificados. Alterada por: RDC 839/2023 Comprovação de segurança e autorização de uso de novos alimentos | Score: 1.2782360315322876\n",
      "Rank 4: com alimentos ................................ ................................ ................................ ............. 8 1.10. Requisitos Sanitários para enriquecimento e restauração de Sanitários para enriquecimento e restauração de alimentos ................................ .................... 10 1.11. Requisitos sanitários para alimentos para fins especiais sanitários para alimentos para fins especiais ................................ ................................ ............11 1.12. Requisitos sanitários para suplementos alimentares sanitários para suplementos alimentares ................................ ................................ ................. 13 1.13. Requisitos para uso de gordura trans industrial em para uso de gordura trans industrial em alimentos................................ ................................ ...13 1.14. Requisitos sanitários para amidos, biscoitos, cereais integrais, cereais amidos, biscoitos, cereais integrais, cereais processados, farelos, farinhas, farinhas integrais, massas alimentícias e pães ................................ ................................ | Score: -2.4414594173431396\n",
      "Rank 5: – Fórmulas para nutrição enteral. RDC 22/2015 – Compostos de nutrientes e de outras substâncias para fórmulas para nutrição enteral. Alteradas por: RDC 241/2018 – Requisitos para comprovação da | Score: -3.3562095165252686\n"
     ]
    },
    {
     "name": "stderr",
     "output_type": "stream",
     "text": [
      "Fetching 29 files: 100%|██████████| 29/29 [00:00<00:00, 141435.83it/s]\n"
     ]
    },
    {
     "name": "stdout",
     "output_type": "stream",
     "text": [
      "Results passed to Reranker: ['1.1. Procedimentos para regularização de alimentos Tema Regulatório 3.22 da Agenda Regulatória 2024/2025: Revisão da regulamentação sobre regularização de alimentos dispensados de registro. RDC', 'Regulatório 3.28 da Agenda Regulatória 2024/2025: Atualização periódica da lista das partes de vegetais autorizadas para o preparo de chás e para uso como especiarias. RDC 716/2022 Requisitos', 'ao consumo seguro de alimentos por pessoas com deficiência visual. Tema Regulatório 3.6 da Agenda Regulatória 2024/2025: Regulamentação da declaração quantitativa de ingredientes na rotulagem de quantitativa de ingredientes na rotulagem de alimentos embalados. Tema Regulatório 3.9 da Agenda Regulatória 2024/2025: Regulamentação dos aditivos corantes formulados e da rotulagem de corantes e corantes formulados e da rotulagem de corantes e aromatizantes em alimentos embalados. Tema Regulatório 3.16 da Agenda Regulatória 2024/2025: Revisão da regulamentação de autorização de uso e de da regulamentação de autorização de uso e de rotulagem de aditivos edulcorantes em alimentos. Tema Regulatório 3.23 da Agenda Regulatória 2024/2025: Revisão da regulamentação sobre rotulagem dos Revisão da regulamentação sobre rotulagem dos principais alimentos alergênicos. Tema Regulatório 3.24 da Agenda Regulatória 2024/2025: Revisão da regulamentação sobre rotulagem geral de alimentos regulamentação sobre rotulagem geral de alimentos embalados. Tema 3.25 da Agenda Regulatória 2024/2025: Revisão da regulamentação sobre rotulagem nutricional dos alimentos embalados. Decreto-Lei nutricional dos alimentos embalados. Decreto-Lei 986/1969 – Institui normas básicas sobre alimentos. Alterado por: Lei 13.305/2016 – Altera Decreto-Lei 986/1969 para dispor sobre rotulagem de', 'de Alimentos Tema Regulatório 3.3 da Agenda Regulatória 2024/2025: Identificação de estratégias para promover o acesso a informações necessárias ao consumo seguro de alimentos por pessoas com', 'IN 317/2024 1.9. Materiais em contato com alimentos Tema Regulatório 3.7 da Agenda Regulatória 2024/2025: Regulamentação da reciclagem de materiais plásticos em contato com alimentos. Tema plásticos em contato com alimentos. Tema Regulatório 3.12 da Agenda Regulatória 2024/2025: Regulamentação dos requisitos sanitários para materiais de silicone em contato com alimentos A regulamentar. silicone em contato com alimentos A regulamentar. Tema Regulatório 3.13 da Agenda Regulatória 2024/2025: Revisão da lista positiva de aditivos destinados à elaboração de materiais plásticos e destinados à elaboração de materiais plásticos e revestimentos poliméricos em contato com alimentos. Tema Regulatório 3.18 da Agenda Regulatória 2024/2025: Revisão da regulamentação de embalagens de']\n",
      "Loading default cross-encoder model for language pt\n",
      "Rank 1: 1.1. Procedimentos para regularização de alimentos Tema Regulatório 3.22 da Agenda Regulatória 2024/2025: Revisão da regulamentação sobre regularização de alimentos dispensados de registro. RDC | Score: 9.51114559173584\n",
      "Rank 2: de Alimentos Tema Regulatório 3.3 da Agenda Regulatória 2024/2025: Identificação de estratégias para promover o acesso a informações necessárias ao consumo seguro de alimentos por pessoas com | Score: 9.481406211853027\n",
      "Rank 3: ao consumo seguro de alimentos por pessoas com deficiência visual. Tema Regulatório 3.6 da Agenda Regulatória 2024/2025: Regulamentação da declaração quantitativa de ingredientes na rotulagem de quantitativa de ingredientes na rotulagem de alimentos embalados. Tema Regulatório 3.9 da Agenda Regulatória 2024/2025: Regulamentação dos aditivos corantes formulados e da rotulagem de corantes e corantes formulados e da rotulagem de corantes e aromatizantes em alimentos embalados. Tema Regulatório 3.16 da Agenda Regulatória 2024/2025: Revisão da regulamentação de autorização de uso e de da regulamentação de autorização de uso e de rotulagem de aditivos edulcorantes em alimentos. Tema Regulatório 3.23 da Agenda Regulatória 2024/2025: Revisão da regulamentação sobre rotulagem dos Revisão da regulamentação sobre rotulagem dos principais alimentos alergênicos. Tema Regulatório 3.24 da Agenda Regulatória 2024/2025: Revisão da regulamentação sobre rotulagem geral de alimentos regulamentação sobre rotulagem geral de alimentos embalados. Tema 3.25 da Agenda Regulatória 2024/2025: Revisão da regulamentação sobre rotulagem nutricional dos alimentos embalados. Decreto-Lei nutricional dos alimentos embalados. Decreto-Lei 986/1969 – Institui normas básicas sobre alimentos. Alterado por: Lei 13.305/2016 – Altera Decreto-Lei 986/1969 para dispor sobre rotulagem de | Score: 9.293201446533203\n",
      "Rank 4: IN 317/2024 1.9. Materiais em contato com alimentos Tema Regulatório 3.7 da Agenda Regulatória 2024/2025: Regulamentação da reciclagem de materiais plásticos em contato com alimentos. Tema plásticos em contato com alimentos. Tema Regulatório 3.12 da Agenda Regulatória 2024/2025: Regulamentação dos requisitos sanitários para materiais de silicone em contato com alimentos A regulamentar. silicone em contato com alimentos A regulamentar. Tema Regulatório 3.13 da Agenda Regulatória 2024/2025: Revisão da lista positiva de aditivos destinados à elaboração de materiais plásticos e destinados à elaboração de materiais plásticos e revestimentos poliméricos em contato com alimentos. Tema Regulatório 3.18 da Agenda Regulatória 2024/2025: Revisão da regulamentação de embalagens de | Score: 9.107061386108398\n",
      "Rank 5: Regulatório 3.28 da Agenda Regulatória 2024/2025: Atualização periódica da lista das partes de vegetais autorizadas para o preparo de chás e para uso como especiarias. RDC 716/2022 Requisitos | Score: 8.679133415222168\n"
     ]
    },
    {
     "name": "stderr",
     "output_type": "stream",
     "text": [
      "Fetching 29 files: 100%|██████████| 29/29 [00:00<00:00, 163928.32it/s]\n"
     ]
    },
    {
     "name": "stdout",
     "output_type": "stream",
     "text": [
      "Results passed to Reranker: ['17 2. Informações ao consumidor................................ ................................ ................................ ............................. 17 2.1. Rotulagem de Alimentos 17 2.1. Rotulagem de Alimentos ................................ ................................ ................................ ............................... 17 2.2. Informações sobre 17 2.2. Informações sobre fenilalanina em alimentos ................................ ................................ ............................... 19 2.3. Promoção comercial e publicidade em 19 2.3. Promoção comercial e publicidade em alimentos ................................ ................................ ......................... 19 3. Regularização de serviços e estabelecimentos', 'BIBLIOTECA DE ALIMENTOS Atualizada em 06.11.2024 Coordenação de Processos Regulatórios – CPROR Assessoria de Melhoria da Qualidade Regulatória – ASREG Gabinete do Diretor-Presidente AGENDA REGULATÓRIA', 'da pertinência temática de alimentos em observância ao que prevê a Portaria nº 488/GADIP -DP/ANVISA, de 23 de setembro de 2021 e o Decreto nº 10.139, de 28 de novembro de 2019. RDC 726/2022', 'IN 317/2024 1.9. Materiais em contato com alimentos Tema Regulatório 3.7 da Agenda Regulatória 2024/2025: Regulamentação da reciclagem de materiais plásticos em contato com alimentos. Tema plásticos em contato com alimentos. Tema Regulatório 3.12 da Agenda Regulatória 2024/2025: Regulamentação dos requisitos sanitários para materiais de silicone em contato com alimentos A regulamentar. silicone em contato com alimentos A regulamentar. Tema Regulatório 3.13 da Agenda Regulatória 2024/2025: Revisão da lista positiva de aditivos destinados à elaboração de materiais plásticos e destinados à elaboração de materiais plásticos e revestimentos poliméricos em contato com alimentos. Tema Regulatório 3.18 da Agenda Regulatória 2024/2025: Revisão da regulamentação de embalagens de', '-DP/ANVISA, de 23 de setembro de 2021 e o Decreto nº 10.139, de 28 de novembro de 2019. Altera as RDC´s 43, 44, 45/2011. RDC 839/2023 Comprovação de segurança e autorização de uso de novos alimentos']\n",
      "Loading default cross-encoder model for language pt\n",
      "Rank 1: BIBLIOTECA DE ALIMENTOS Atualizada em 06.11.2024 Coordenação de Processos Regulatórios – CPROR Assessoria de Melhoria da Qualidade Regulatória – ASREG Gabinete do Diretor-Presidente AGENDA REGULATÓRIA | Score: 7.307775497436523\n",
      "Rank 2: da pertinência temática de alimentos em observância ao que prevê a Portaria nº 488/GADIP -DP/ANVISA, de 23 de setembro de 2021 e o Decreto nº 10.139, de 28 de novembro de 2019. RDC 726/2022 | Score: -4.761497974395752\n",
      "Rank 3: -DP/ANVISA, de 23 de setembro de 2021 e o Decreto nº 10.139, de 28 de novembro de 2019. Altera as RDC´s 43, 44, 45/2011. RDC 839/2023 Comprovação de segurança e autorização de uso de novos alimentos | Score: -5.934805870056152\n",
      "Rank 4: 17 2. Informações ao consumidor................................ ................................ ................................ ............................. 17 2.1. Rotulagem de Alimentos 17 2.1. Rotulagem de Alimentos ................................ ................................ ................................ ............................... 17 2.2. Informações sobre 17 2.2. Informações sobre fenilalanina em alimentos ................................ ................................ ............................... 19 2.3. Promoção comercial e publicidade em 19 2.3. Promoção comercial e publicidade em alimentos ................................ ................................ ......................... 19 3. Regularização de serviços e estabelecimentos | Score: -6.630950450897217\n",
      "Rank 5: IN 317/2024 1.9. Materiais em contato com alimentos Tema Regulatório 3.7 da Agenda Regulatória 2024/2025: Regulamentação da reciclagem de materiais plásticos em contato com alimentos. Tema plásticos em contato com alimentos. Tema Regulatório 3.12 da Agenda Regulatória 2024/2025: Regulamentação dos requisitos sanitários para materiais de silicone em contato com alimentos A regulamentar. silicone em contato com alimentos A regulamentar. Tema Regulatório 3.13 da Agenda Regulatória 2024/2025: Revisão da lista positiva de aditivos destinados à elaboração de materiais plásticos e destinados à elaboração de materiais plásticos e revestimentos poliméricos em contato com alimentos. Tema Regulatório 3.18 da Agenda Regulatória 2024/2025: Revisão da regulamentação de embalagens de | Score: -8.69892406463623\n"
     ]
    },
    {
     "name": "stderr",
     "output_type": "stream",
     "text": [
      "Fetching 29 files: 100%|██████████| 29/29 [00:00<00:00, 136056.84it/s]\n"
     ]
    },
    {
     "name": "stdout",
     "output_type": "stream",
     "text": [
      "Results passed to Reranker: ['2024/2025: Atualização periódica da lista de limites máximos tolerados (LMT) de contaminantes em alimentos. RDC 281/2003 – Benzo(a)pireno em alimentos. RDC 722/2022 Limites máximos tolerados (LMT) de RDC 722/2022 Limites máximos tolerados (LMT) de contaminantes em alimentos, os princípios gerais para o seu estabelecimento e os métodos de análise para fins de avaliação de conformidade. Ato para fins de avaliação de conformidade. Ato relacionado: IN 160/2022 Documento relacionado: Documento de Perguntas e Respostas sobre Contaminantes em Alimentos. IN 160/2022 Limites máximos tolerados', 'na classificação dos delitos considerados hediondos crimes contra a saúde pública, e dá outras providências. RE 1/2002 – Proibição da presença de etanol em todos os produtos fortificantes,', '2024/2025: Regulamentação das listas de novos alimentos e novos ingredientes autorizados e suas especificações. RES 18/1999 – Análise e comprovação de propriedades funcionais e ou de saúde alegadas', 'e inovações tecnológicas em produtos da área de alimentos. Sumário 1. Regularização, avaliação de risco e padrões de alimentos ................................ ................................ ................................ ......................... 4 1.1. Procedimentos para regularização de alimentos ................................ ................................ ................................ ............................ 4 1.2. Procedimentos para avaliação de risco, segurança e eficácia de alimentos ................................ .................... 5', 'A regulamentar. 1.26. Regulamentação dos alimentos para fins médicos Tema Regulatório 3.10 da Agenda Regulatória 2024/2025 A regulamentar. 1.27. Regulamentação dos alimentos plant-based Tema Regulamentação dos alimentos plant-based Tema Regulatório 3.11 da Agenda Regulatória 2024/2025 A regulamentar. 2. Informações ao consumidor 2.1. Rotulagem de Alimentos Tema Regulatório 3.3 da Agenda']\n",
      "Loading default cross-encoder model for language pt\n",
      "Rank 1: na classificação dos delitos considerados hediondos crimes contra a saúde pública, e dá outras providências. RE 1/2002 – Proibição da presença de etanol em todos os produtos fortificantes, | Score: 6.46658182144165\n",
      "Rank 2: 2024/2025: Regulamentação das listas de novos alimentos e novos ingredientes autorizados e suas especificações. RES 18/1999 – Análise e comprovação de propriedades funcionais e ou de saúde alegadas | Score: -5.165820121765137\n",
      "Rank 3: A regulamentar. 1.26. Regulamentação dos alimentos para fins médicos Tema Regulatório 3.10 da Agenda Regulatória 2024/2025 A regulamentar. 1.27. Regulamentação dos alimentos plant-based Tema Regulamentação dos alimentos plant-based Tema Regulatório 3.11 da Agenda Regulatória 2024/2025 A regulamentar. 2. Informações ao consumidor 2.1. Rotulagem de Alimentos Tema Regulatório 3.3 da Agenda | Score: -5.3917365074157715\n",
      "Rank 4: e inovações tecnológicas em produtos da área de alimentos. Sumário 1. Regularização, avaliação de risco e padrões de alimentos ................................ ................................ ................................ ......................... 4 1.1. Procedimentos para regularização de alimentos ................................ ................................ ................................ ............................ 4 1.2. Procedimentos para avaliação de risco, segurança e eficácia de alimentos ................................ .................... 5 | Score: -5.498508930206299\n",
      "Rank 5: 2024/2025: Atualização periódica da lista de limites máximos tolerados (LMT) de contaminantes em alimentos. RDC 281/2003 – Benzo(a)pireno em alimentos. RDC 722/2022 Limites máximos tolerados (LMT) de RDC 722/2022 Limites máximos tolerados (LMT) de contaminantes em alimentos, os princípios gerais para o seu estabelecimento e os métodos de análise para fins de avaliação de conformidade. Ato para fins de avaliação de conformidade. Ato relacionado: IN 160/2022 Documento relacionado: Documento de Perguntas e Respostas sobre Contaminantes em Alimentos. IN 160/2022 Limites máximos tolerados | Score: -6.446719169616699\n"
     ]
    },
    {
     "name": "stderr",
     "output_type": "stream",
     "text": [
      "Fetching 29 files: 100%|██████████| 29/29 [00:00<00:00, 134850.13it/s]\n"
     ]
    },
    {
     "name": "stdout",
     "output_type": "stream",
     "text": [
      "Results passed to Reranker: ['Sanitária RDC 172/2017 Procedimentos para a importação e a exportação de bens e produtos destinados à pesquisa científica ou tecnológica e à pesquisa envolvendo seres humanos. 5.1. Procedimentos para envolvendo seres humanos. 5.1. Procedimentos para importação de alimentos RDC 281/2003 – Exigir como procedimento de importação para “aceite de orujo de oliva” ou óleo de bagaço e ou caroço de oliva,', '............... 23 5. Controle sanitário em comércio exterior e ambientes de portos, aeroportos, fronteiras e recintos alfandegados 23 5.1. Procedimentos para importação de alimentos', 'e identificação como integral e para destaque da presença de ingredientes integrais. Documento relacionado: Perguntas e Respostas sobre Cereais Integrais RDC 839/2023 Comprovação de segurança e', 'para uso em alimentos. Guia nº 23, versão 1, de 23/07/2019 Guia para Comprovação da Segurança de Alimentos e Ingredientes. Documento relacionado: Perguntas e Respostas sobre Solicitações Pós', 'segurança e autorização de uso de novos alimentos e novos ingredientes. Documento relacionado: Perguntas e respostas sobre modificações na composição de alimentos padronizados para alegações de alimentos padronizados para alegações nutricionais. RDC 839/2023 Comprovação de segurança e autorização de uso de novos alimentos e novos ingredientes. 1.25. Admissibilidade de análise realizada']\n",
      "Loading default cross-encoder model for language pt\n",
      "Rank 1: ............... 23 5. Controle sanitário em comércio exterior e ambientes de portos, aeroportos, fronteiras e recintos alfandegados 23 5.1. Procedimentos para importação de alimentos | Score: 1.6387784481048584\n",
      "Rank 2: Sanitária RDC 172/2017 Procedimentos para a importação e a exportação de bens e produtos destinados à pesquisa científica ou tecnológica e à pesquisa envolvendo seres humanos. 5.1. Procedimentos para envolvendo seres humanos. 5.1. Procedimentos para importação de alimentos RDC 281/2003 – Exigir como procedimento de importação para “aceite de orujo de oliva” ou óleo de bagaço e ou caroço de oliva, | Score: -0.35925084352493286\n",
      "Rank 3: para uso em alimentos. Guia nº 23, versão 1, de 23/07/2019 Guia para Comprovação da Segurança de Alimentos e Ingredientes. Documento relacionado: Perguntas e Respostas sobre Solicitações Pós | Score: -4.978747844696045\n",
      "Rank 4: segurança e autorização de uso de novos alimentos e novos ingredientes. Documento relacionado: Perguntas e respostas sobre modificações na composição de alimentos padronizados para alegações de alimentos padronizados para alegações nutricionais. RDC 839/2023 Comprovação de segurança e autorização de uso de novos alimentos e novos ingredientes. 1.25. Admissibilidade de análise realizada | Score: -7.006248950958252\n",
      "Rank 5: e identificação como integral e para destaque da presença de ingredientes integrais. Documento relacionado: Perguntas e Respostas sobre Cereais Integrais RDC 839/2023 Comprovação de segurança e | Score: -7.8876214027404785\n"
     ]
    },
    {
     "name": "stderr",
     "output_type": "stream",
     "text": [
      "Fetching 29 files: 100%|██████████| 29/29 [00:00<00:00, 156948.15it/s]\n"
     ]
    },
    {
     "name": "stdout",
     "output_type": "stream",
     "text": [
      "Results passed to Reranker: ['BIBLIOTECA DE ALIMENTOS Atualizada em 06.11.2024 Coordenação de Processos Regulatórios – CPROR Assessoria de Melhoria da Qualidade Regulatória – ASREG Gabinete do Diretor-Presidente AGENDA REGULATÓRIA', 'à análise pelos setores técnicos da Anvisa Alterada por: RDC 23/2015 RDC 208/2018 RDC 25/2011 – Procedimentos gerais para utilização dos serviços de protocolo de documentos no âmbito da Anvisa de protocolo de documentos no âmbito da Anvisa Alterada por: RDC 50/2013 Atos relacionados: RDC 470/2021 Procedimentos para o recebimento de documentos em suporte eletrônico. IN 50/2019 Lista de', 'de ingestão controlada de açúcares. Alterada por: RDC 818/2023 Requisitos sanitários dos adoçantes de mesa e dos adoçantes dietéticos. RDC 839/2023 Comprovação de segurança e autorização de uso de', 'sanitária ................................ ................................ ...22 4. Controle, fiscalização e monitoramento de produtos e serviços ................................ e serviços ................................ ................................ .......22 4.1. Controle, fiscalização e monitoramento de alimentos ................................', 'e Boas Práticas 3.1. Boas Práticas de Fabricação (BPF) para estabelecimentos industrializadores de alimentos Tema Regulatório 3.26 da Agenda Regulatória 202 4/2025: Revisão das normas de Boas 202 4/2025: Revisão das normas de Boas práticas de fabricação (BPF) para estabelecimentos industrializadores de alimentos. Portaria MS 1.428/1993 – Regulamento técnico para inspeção sanitária de']\n",
      "Loading default cross-encoder model for language pt\n",
      "Rank 1: sanitária ................................ ................................ ...22 4. Controle, fiscalização e monitoramento de produtos e serviços ................................ e serviços ................................ ................................ .......22 4.1. Controle, fiscalização e monitoramento de alimentos ................................ | Score: 0.2606459856033325\n",
      "Rank 2: à análise pelos setores técnicos da Anvisa Alterada por: RDC 23/2015 RDC 208/2018 RDC 25/2011 – Procedimentos gerais para utilização dos serviços de protocolo de documentos no âmbito da Anvisa de protocolo de documentos no âmbito da Anvisa Alterada por: RDC 50/2013 Atos relacionados: RDC 470/2021 Procedimentos para o recebimento de documentos em suporte eletrônico. IN 50/2019 Lista de | Score: -3.9995315074920654\n",
      "Rank 3: BIBLIOTECA DE ALIMENTOS Atualizada em 06.11.2024 Coordenação de Processos Regulatórios – CPROR Assessoria de Melhoria da Qualidade Regulatória – ASREG Gabinete do Diretor-Presidente AGENDA REGULATÓRIA | Score: -4.284245491027832\n",
      "Rank 4: de ingestão controlada de açúcares. Alterada por: RDC 818/2023 Requisitos sanitários dos adoçantes de mesa e dos adoçantes dietéticos. RDC 839/2023 Comprovação de segurança e autorização de uso de | Score: -4.965963840484619\n",
      "Rank 5: e Boas Práticas 3.1. Boas Práticas de Fabricação (BPF) para estabelecimentos industrializadores de alimentos Tema Regulatório 3.26 da Agenda Regulatória 202 4/2025: Revisão das normas de Boas 202 4/2025: Revisão das normas de Boas práticas de fabricação (BPF) para estabelecimentos industrializadores de alimentos. Portaria MS 1.428/1993 – Regulamento técnico para inspeção sanitária de | Score: -6.359642028808594\n"
     ]
    },
    {
     "name": "stderr",
     "output_type": "stream",
     "text": [
      "Fetching 29 files: 100%|██████████| 29/29 [00:00<00:00, 150352.06it/s]\n"
     ]
    },
    {
     "name": "stdout",
     "output_type": "stream",
     "text": [
      "Results passed to Reranker: ['401/2020 Altera a RDC 22/2015 para atualizar as referências de especificações para compostos fontes de nutrientes e outras substâncias para uso em fórmulas para nutrição enteral. RDC 429/2020 em fórmulas para nutrição enteral. RDC 429/2020 Rotulagem nutricional dos alimentos embalados. Altera a RDC 21/2015. RDC 839/2023 Comprovação de segurança e autorização de uso de novos alimentos e e autorização de uso de novos alimentos e novos ingredientes. Altera a RDC 22/2015. Documento relacionado: Perguntas e Respostas sobre Fórmulas para Nutrição Enteral. RDC 460/2020 Requisitos para Nutrição Enteral. RDC 460/2020 Requisitos sanitários das fórmulas dietoterápicas para erros inatos do metabolismo. Alterada por: RDC 429/2020 Rotulagem nutricional dos alimentos embalados. RDC', 'da rotulagem nutricional nos alimentos embalados. Documentos relacionados: Perguntas e Respostas sobre Rotulagem Nutricional de Alimentos embalados Perguntas e Respostas sobre Alegações Nutricionais e Respostas sobre Alegações Nutricionais IN 75/2020 Estabelece os requisitos técnicos para declaração da rotulagem nutricional nos alimentos embalados. Alterada por: RDC 460/2020 Requisitos', 'RDC 429/2020 Rotulagem nutricional dos alimentos embalados. Alterada por: RDC 460/2020 Requisitos sanitários das fórmulas dietoterápicas para erros inatos do metabolismo. RDC 729/2022 Melhora da', 'segurança e autorização de uso de novos alimentos e novos ingredientes. Documento relacionado: Perguntas e respostas sobre modificações na composição de alimentos padronizados para alegações de alimentos padronizados para alegações nutricionais. RDC 839/2023 Comprovação de segurança e autorização de uso de novos alimentos e novos ingredientes. 1.25. Admissibilidade de análise realizada', 'e o Decreto nº 10.139, de 28 de novembro de 2019. RDC 819/2023 Ato relacionado: IN 75/2020 Estabelece os requisitos técnicos para declaração da rotulagem nutricional nos alimentos embalados.']\n",
      "Loading default cross-encoder model for language pt\n",
      "Rank 1: da rotulagem nutricional nos alimentos embalados. Documentos relacionados: Perguntas e Respostas sobre Rotulagem Nutricional de Alimentos embalados Perguntas e Respostas sobre Alegações Nutricionais e Respostas sobre Alegações Nutricionais IN 75/2020 Estabelece os requisitos técnicos para declaração da rotulagem nutricional nos alimentos embalados. Alterada por: RDC 460/2020 Requisitos | Score: 10.033539772033691\n",
      "Rank 2: e o Decreto nº 10.139, de 28 de novembro de 2019. RDC 819/2023 Ato relacionado: IN 75/2020 Estabelece os requisitos técnicos para declaração da rotulagem nutricional nos alimentos embalados. | Score: 9.912263870239258\n",
      "Rank 3: 401/2020 Altera a RDC 22/2015 para atualizar as referências de especificações para compostos fontes de nutrientes e outras substâncias para uso em fórmulas para nutrição enteral. RDC 429/2020 em fórmulas para nutrição enteral. RDC 429/2020 Rotulagem nutricional dos alimentos embalados. Altera a RDC 21/2015. RDC 839/2023 Comprovação de segurança e autorização de uso de novos alimentos e e autorização de uso de novos alimentos e novos ingredientes. Altera a RDC 22/2015. Documento relacionado: Perguntas e Respostas sobre Fórmulas para Nutrição Enteral. RDC 460/2020 Requisitos para Nutrição Enteral. RDC 460/2020 Requisitos sanitários das fórmulas dietoterápicas para erros inatos do metabolismo. Alterada por: RDC 429/2020 Rotulagem nutricional dos alimentos embalados. RDC | Score: 3.006408452987671\n",
      "Rank 4: RDC 429/2020 Rotulagem nutricional dos alimentos embalados. Alterada por: RDC 460/2020 Requisitos sanitários das fórmulas dietoterápicas para erros inatos do metabolismo. RDC 729/2022 Melhora da | Score: 2.5421111583709717\n",
      "Rank 5: segurança e autorização de uso de novos alimentos e novos ingredientes. Documento relacionado: Perguntas e respostas sobre modificações na composição de alimentos padronizados para alegações de alimentos padronizados para alegações nutricionais. RDC 839/2023 Comprovação de segurança e autorização de uso de novos alimentos e novos ingredientes. 1.25. Admissibilidade de análise realizada | Score: 0.46152669191360474\n"
     ]
    }
   ],
   "source": [
    "\n",
    "# Inicialización de resultados para los tres pipelines\n",
    "contexts_basic = []\n",
    "answers_basic = []\n",
    "\n",
    "contexts_advanced = []\n",
    "answers_advanced = []\n",
    "\n",
    "file_path = \"data/biblioteca-de-alimentos.pdf\"\n",
    "\n",
    "for query in questions:\n",
    "    # RAG Básico\n",
    "    #response_basic, context_basic = basic_rag_pipeline(query, file_path=file_path)\n",
    "        # RAG Avanzado\n",
    "    response_advanced, ranked_docs_advanced = main_query(query)\n",
    "    answers_advanced.append(response_advanced if response_advanced else \"Não sei.\")\n",
    "    contexts_advanced.append(\n",
    "        [doc.page_content for doc in ranked_docs_advanced] if ranked_docs_advanced else [\"Nenhum contexto recuperado.\"]\n",
    "    )"
   ]
  },
  {
   "cell_type": "code",
   "execution_count": 34,
   "metadata": {},
   "outputs": [],
   "source": [
    "data_advanced = {\n",
    "    \"question\": questions,\n",
    "    \"answer\": answers_advanced,\n",
    "    \"reference\": ground_truth,\n",
    "    \"retrieved_contexts\": contexts_advanced,\n",
    "}\n",
    "\n",
    "\n",
    "dataset_advanced = Dataset.from_dict(data_advanced)"
   ]
  },
  {
   "cell_type": "code",
   "execution_count": 35,
   "metadata": {},
   "outputs": [
    {
     "name": "stderr",
     "output_type": "stream",
     "text": [
      "Evaluating: 100%|██████████| 60/60 [00:31<00:00,  1.90it/s]\n"
     ]
    }
   ],
   "source": [
    "result_advanced = evaluate(\n",
    "    dataset=dataset_advanced,\n",
    "    llm=None,\n",
    "    embeddings=None,\n",
    "    metrics=[\n",
    "        faithfulness,\n",
    "        answer_relevancy,\n",
    "        context_recall,\n",
    "        context_precision,\n",
    "    ],\n",
    ")"
   ]
  },
  {
   "cell_type": "code",
   "execution_count": 36,
   "metadata": {},
   "outputs": [
    {
     "data": {
      "text/html": [
       "<div>\n",
       "<style scoped>\n",
       "    .dataframe tbody tr th:only-of-type {\n",
       "        vertical-align: middle;\n",
       "    }\n",
       "\n",
       "    .dataframe tbody tr th {\n",
       "        vertical-align: top;\n",
       "    }\n",
       "\n",
       "    .dataframe thead th {\n",
       "        text-align: right;\n",
       "    }\n",
       "</style>\n",
       "<table border=\"1\" class=\"dataframe\">\n",
       "  <thead>\n",
       "    <tr style=\"text-align: right;\">\n",
       "      <th></th>\n",
       "      <th>user_input</th>\n",
       "      <th>retrieved_contexts</th>\n",
       "      <th>response</th>\n",
       "      <th>reference</th>\n",
       "      <th>faithfulness</th>\n",
       "      <th>answer_relevancy</th>\n",
       "      <th>context_recall</th>\n",
       "      <th>context_precision</th>\n",
       "    </tr>\n",
       "  </thead>\n",
       "  <tbody>\n",
       "    <tr>\n",
       "      <th>0</th>\n",
       "      <td>Factoid question: What is the purpose of RDC 6...</td>\n",
       "      <td>[farinhas integrais, massas alimentícias e pãe...</td>\n",
       "      <td>Enriquecimiento obligatorio de la sal con yodo...</td>\n",
       "      <td>Enriquecimento obrigatório do sal com iodo e d...</td>\n",
       "      <td>1.000000</td>\n",
       "      <td>0.843394</td>\n",
       "      <td>1.0</td>\n",
       "      <td>1.00</td>\n",
       "    </tr>\n",
       "    <tr>\n",
       "      <th>1</th>\n",
       "      <td>Factoid question: What is the theme of Regulat...</td>\n",
       "      <td>[alimentares e coadjuvantes de tecnologia Tema...</td>\n",
       "      <td>Reevaluación de la autorización de uso del adi...</td>\n",
       "      <td>Reavaliação da autorização de uso do aditivo a...</td>\n",
       "      <td>1.000000</td>\n",
       "      <td>0.852076</td>\n",
       "      <td>1.0</td>\n",
       "      <td>1.00</td>\n",
       "    </tr>\n",
       "    <tr>\n",
       "      <th>2</th>\n",
       "      <td>Factoid question: What does Lei 10.674/2003 re...</td>\n",
       "      <td>[Portaria MJ 2.658/2003 – Define o símbolo de ...</td>\n",
       "      <td>La presencia de gluten.</td>\n",
       "      <td>The presence of gluten.</td>\n",
       "      <td>1.000000</td>\n",
       "      <td>0.879255</td>\n",
       "      <td>1.0</td>\n",
       "      <td>1.00</td>\n",
       "    </tr>\n",
       "    <tr>\n",
       "      <th>3</th>\n",
       "      <td>Factoid question: What is the document related...</td>\n",
       "      <td>[para uso em alimentos. Guia nº 23, versão 1, ...</td>\n",
       "      <td>Guía n.º 43, versión 1, del 14/12/2020 - Proce...</td>\n",
       "      <td>Guia nº 43, versão 1, de 14/12/2020 - Procedim...</td>\n",
       "      <td>0.833333</td>\n",
       "      <td>0.818737</td>\n",
       "      <td>1.0</td>\n",
       "      <td>0.45</td>\n",
       "    </tr>\n",
       "    <tr>\n",
       "      <th>4</th>\n",
       "      <td>Factoid question: What is the theme of Regulat...</td>\n",
       "      <td>[Perguntas e Respostas sobre Solicitações Pós ...</td>\n",
       "      <td>Actualización periódica de la lista de estánda...</td>\n",
       "      <td>Atualização periódica da lista de padrões micr...</td>\n",
       "      <td>1.000000</td>\n",
       "      <td>0.867015</td>\n",
       "      <td>1.0</td>\n",
       "      <td>1.00</td>\n",
       "    </tr>\n",
       "  </tbody>\n",
       "</table>\n",
       "</div>"
      ],
      "text/plain": [
       "                                          user_input  \\\n",
       "0  Factoid question: What is the purpose of RDC 6...   \n",
       "1  Factoid question: What is the theme of Regulat...   \n",
       "2  Factoid question: What does Lei 10.674/2003 re...   \n",
       "3  Factoid question: What is the document related...   \n",
       "4  Factoid question: What is the theme of Regulat...   \n",
       "\n",
       "                                  retrieved_contexts  \\\n",
       "0  [farinhas integrais, massas alimentícias e pãe...   \n",
       "1  [alimentares e coadjuvantes de tecnologia Tema...   \n",
       "2  [Portaria MJ 2.658/2003 – Define o símbolo de ...   \n",
       "3  [para uso em alimentos. Guia nº 23, versão 1, ...   \n",
       "4  [Perguntas e Respostas sobre Solicitações Pós ...   \n",
       "\n",
       "                                            response  \\\n",
       "0  Enriquecimiento obligatorio de la sal con yodo...   \n",
       "1  Reevaluación de la autorización de uso del adi...   \n",
       "2                            La presencia de gluten.   \n",
       "3  Guía n.º 43, versión 1, del 14/12/2020 - Proce...   \n",
       "4  Actualización periódica de la lista de estánda...   \n",
       "\n",
       "                                           reference  faithfulness  \\\n",
       "0  Enriquecimento obrigatório do sal com iodo e d...      1.000000   \n",
       "1  Reavaliação da autorização de uso do aditivo a...      1.000000   \n",
       "2                            The presence of gluten.      1.000000   \n",
       "3  Guia nº 43, versão 1, de 14/12/2020 - Procedim...      0.833333   \n",
       "4  Atualização periódica da lista de padrões micr...      1.000000   \n",
       "\n",
       "   answer_relevancy  context_recall  context_precision  \n",
       "0          0.843394             1.0               1.00  \n",
       "1          0.852076             1.0               1.00  \n",
       "2          0.879255             1.0               1.00  \n",
       "3          0.818737             1.0               0.45  \n",
       "4          0.867015             1.0               1.00  "
      ]
     },
     "execution_count": 36,
     "metadata": {},
     "output_type": "execute_result"
    }
   ],
   "source": [
    "df_advanced = result_advanced.to_pandas()\n",
    "\n",
    "df_advanced.to_csv(\"advanced_ragas_results.csv\", index=False)\n",
    "df_advanced.head()"
   ]
  },
  {
   "cell_type": "code",
   "execution_count": 37,
   "metadata": {},
   "outputs": [
    {
     "name": "stdout",
     "output_type": "stream",
     "text": [
      "\n",
      "RAG Avançado:\n",
      "Mean Faithfulness:  0.8333\n",
      "Mean Answer Relevancy:  0.7186\n",
      "Mean Context Recall:  0.9333\n",
      "Mean Context Precision:  0.9267\n"
     ]
    }
   ],
   "source": [
    "print(\"\\nRAG Avançado:\")\n",
    "print(\"Mean Faithfulness: \", round(df_advanced[\"faithfulness\"].mean(), 4))\n",
    "print(\"Mean Answer Relevancy: \", round(df_advanced[\"answer_relevancy\"].mean(), 4))\n",
    "print(\"Mean Context Recall: \", round(df_advanced[\"context_recall\"].mean(), 4))\n",
    "print(\"Mean Context Precision: \", round(df_advanced[\"context_precision\"].mean(), 4))"
   ]
  },
  {
   "cell_type": "markdown",
   "metadata": {},
   "source": [
    "## Adding a reranker step"
   ]
  },
  {
   "cell_type": "code",
   "execution_count": null,
   "metadata": {},
   "outputs": [],
   "source": [
    "query = \"What is the purpose of the regulation?\"\n",
    "\n",
    "retrieved_docs = retriever.get_relevant_documents(query, kwargs={\"k\": 10})\n"
   ]
  },
  {
   "cell_type": "code",
   "execution_count": 34,
   "metadata": {},
   "outputs": [
    {
     "data": {
      "text/plain": [
       "[(Document(metadata={'source': '../practicos-rag/data/benchmark_data/Reglamento 1333 2008.pdf', 'page': 3, '_id': 'da42de520e5e4c6ba84f2f9795589abd', '_collection_name': 'my_documents'}, page_content='Regulation and to adopt appropriate transitional measures. Since those measures are\\nof general scope and are designed to amend non-essential elements of this Regulation,'),\n",
       "  0.46665629111211765),\n",
       " (Document(metadata={'source': '../practicos-rag/data/benchmark_data/Reglamento 1333 2008.pdf', 'page': 5, '_id': '67b487e0039d4aaa8e56eda9d6dbb2a5', '_collection_name': 'my_documents'}, page_content='HAVE ADOPTED THIS REGULATION:\\nCHAPTER I\\nSUBJECT MATTER, SCOPE AND DEFINITIONS\\nArticle 1\\nSubject matter\\nThis Regulation lays down rules on food additives used in foods with a view to ensuring'),\n",
       "  0.4592167729175051),\n",
       " (Document(metadata={'source': '../practicos-rag/data/benchmark_data/Reglamento 1333 2008.pdf', 'page': 6, '_id': 'b01e219628454a078aa6a971839b0aae', '_collection_name': 'my_documents'}, page_content='Regulation (EC) No 1333/2008 of the European Parliament and of the Council of...\\nCHAPTER I\\nDocument Generated: 2023-12-07\\n7\\nChanges to legislation: There are outstanding changes not yet made to Regulation (EC) No 1333/2008 of the'),\n",
       "  0.44824345395499465),\n",
       " (Document(metadata={'source': '../practicos-rag/data/benchmark_data/Reglamento 1333 2008.pdf', 'page': 86, '_id': '6962b1e15ef4424e8f28aa0a6fb0d4cb', '_collection_name': 'my_documents'}, page_content='Regulation (EC) No 1333/2008 of the European Parliament and of the Council of...\\nDocument Generated: 2023-12-07\\n87\\nChanges to legislation: \\nThere are outstanding changes not yet made to Regulation (EC) No 1333/2008 of the European'),\n",
       "  0.4455815082650022),\n",
       " (Document(metadata={'source': '../practicos-rag/data/benchmark_data/Reglamento 1333 2008.pdf', 'page': 2, '_id': '508b5fc724d343eeaee27f091d5dc506', '_collection_name': 'my_documents'}, page_content='Regulation (EC) No 1333/2008 of the European Parliament and of the Council of...\\nDocument Generated: 2023-12-07\\n3\\nChanges to legislation: There are outstanding changes not yet made to Regulation (EC) No 1333/2008 of the'),\n",
       "  0.43997158213412935),\n",
       " (Document(metadata={'source': '../practicos-rag/data/benchmark_data/Reglamento 1333 2008.pdf', 'page': 84, '_id': '86ef443232814576b38dbec91f7886c5', '_collection_name': 'my_documents'}, page_content='Regulation (EC) No 1333/2008 of the European Parliament and of the Council of...\\nDocument Generated: 2023-12-07\\n85\\nChanges to legislation: There are outstanding changes not yet made to Regulation (EC) No 1333/2008 of the'),\n",
       "  0.43618690682780487),\n",
       " (Document(metadata={'source': '../practicos-rag/data/benchmark_data/Reglamento 1333 2008.pdf', 'page': 18, '_id': 'db5f85e204a640268980b02677de851b', '_collection_name': 'my_documents'}, page_content='Regulation (EC) No 1333/2008 of the European Parliament and of the Council of...\\nCHAPTER IV\\nDocument Generated: 2023-12-07\\n19\\nChanges to legislation: There are outstanding changes not yet made to Regulation (EC) No 1333/2008 of the'),\n",
       "  0.4351314150434276),\n",
       " (Document(metadata={'source': '../practicos-rag/data/benchmark_data/Reglamento 1333 2008.pdf', 'page': 80, '_id': 'e5e925cb8495437b8de57279dbf6b18d', '_collection_name': 'my_documents'}, page_content='Regulation (EC) No 1333/2008 of the European Parliament and of the Council of...\\nANNEX III PART 3\\nDocument Generated: 2023-12-07\\n81\\nChanges to legislation: There are outstanding changes not yet made to Regulation (EC) No 1333/2008 of the'),\n",
       "  0.4339647949827283),\n",
       " (Document(metadata={'source': '../practicos-rag/data/benchmark_data/Reglamento 1333 2008.pdf', 'page': 4, '_id': '71f12cf2f61f40a6b3d980f029dc3e8c', '_collection_name': 'my_documents'}, page_content='Regulation (EC) No 1333/2008 of the European Parliament and of the Council of...\\nDocument Generated: 2023-12-07\\n5\\nChanges to legislation: There are outstanding changes not yet made to Regulation (EC) No 1333/2008 of the'),\n",
       "  0.4337921775740438),\n",
       " (Document(metadata={'source': '../practicos-rag/data/benchmark_data/Reglamento 1333 2008.pdf', 'page': 82, '_id': 'f80cb3abae43482a8189125668995e42', '_collection_name': 'my_documents'}, page_content='Regulation (EC) No 1333/2008 of the European Parliament and of the Council of...\\nANNEX III PART 3\\nDocument Generated: 2023-12-07\\n83\\nChanges to legislation: There are outstanding changes not yet made to Regulation (EC) No 1333/2008 of the'),\n",
       "  0.43370756410044903)]"
      ]
     },
     "execution_count": 34,
     "metadata": {},
     "output_type": "execute_result"
    }
   ],
   "source": [
    "qdrant.similarity_search_with_score(query, k=10)"
   ]
  },
  {
   "cell_type": "code",
   "execution_count": 25,
   "metadata": {},
   "outputs": [
    {
     "data": {
      "text/plain": [
       "[Document(metadata={'source': '../practicos-rag/data/benchmark_data/Reglamento 1333 2008.pdf', 'page': 3, '_id': 'da42de520e5e4c6ba84f2f9795589abd', '_collection_name': 'my_documents'}, page_content='Regulation and to adopt appropriate transitional measures. Since those measures are\\nof general scope and are designed to amend non-essential elements of this Regulation,'),\n",
       " Document(metadata={'source': '../practicos-rag/data/benchmark_data/Reglamento 1333 2008.pdf', 'page': 5, '_id': '67b487e0039d4aaa8e56eda9d6dbb2a5', '_collection_name': 'my_documents'}, page_content='HAVE ADOPTED THIS REGULATION:\\nCHAPTER I\\nSUBJECT MATTER, SCOPE AND DEFINITIONS\\nArticle 1\\nSubject matter\\nThis Regulation lays down rules on food additives used in foods with a view to ensuring'),\n",
       " Document(metadata={'source': '../practicos-rag/data/benchmark_data/Reglamento 1333 2008.pdf', 'page': 6, '_id': 'b01e219628454a078aa6a971839b0aae', '_collection_name': 'my_documents'}, page_content='Regulation (EC) No 1333/2008 of the European Parliament and of the Council of...\\nCHAPTER I\\nDocument Generated: 2023-12-07\\n7\\nChanges to legislation: There are outstanding changes not yet made to Regulation (EC) No 1333/2008 of the'),\n",
       " Document(metadata={'source': '../practicos-rag/data/benchmark_data/Reglamento 1333 2008.pdf', 'page': 86, '_id': '6962b1e15ef4424e8f28aa0a6fb0d4cb', '_collection_name': 'my_documents'}, page_content='Regulation (EC) No 1333/2008 of the European Parliament and of the Council of...\\nDocument Generated: 2023-12-07\\n87\\nChanges to legislation: \\nThere are outstanding changes not yet made to Regulation (EC) No 1333/2008 of the European')]"
      ]
     },
     "execution_count": 25,
     "metadata": {},
     "output_type": "execute_result"
    }
   ],
   "source": [
    "retrieved_docs"
   ]
  },
  {
   "cell_type": "code",
   "execution_count": 26,
   "metadata": {},
   "outputs": [],
   "source": [
    "import cohere as co\n",
    "cohere_client = co.Client(os.getenv(\"COHERE_API_KEY\"))\n",
    "def rerank_docs(query, retrieved_docs):\n",
    "    reranked_docs = cohere_client.rerank(\n",
    "        model=\"rerank-english-v3.0\",\n",
    "        query=query,\n",
    "        documents=retrieved_docs,\n",
    "        rank_fields=[\"page_content\"],\n",
    "        return_documents=True\n",
    "    )\n",
    "    return reranked_docs\n",
    "\n",
    "from rerankers import Reranker\n",
    "\n",
    "def open_source_reranker(query, retrieved_docs):\n",
    "    #reranker = Reranker('cross-encoder', verbose=0,model_type='cross-encoder')\n",
    "    reranker = Reranker(\"colbert\", verbose=0)\n",
    "    retrieved_docs = [doc.page_content for doc in retrieved_docs]\n",
    "    reranked_docs = reranker.rank(query, retrieved_docs)\n",
    "    return reranked_docs\n"
   ]
  },
  {
   "cell_type": "code",
   "execution_count": 27,
   "metadata": {},
   "outputs": [
    {
     "name": "stdout",
     "output_type": "stream",
     "text": [
      "Loading default colbert model for language en\n",
      "Default Model: colbert-ir/colbertv2.0\n",
      "Loading ColBERTRanker model colbert-ir/colbertv2.0 (this message can be suppressed by setting verbose=0)\n",
      "No device set\n",
      "Using device mps\n",
      "No dtype set\n",
      "Using dtype torch.float32\n",
      "Loading model colbert-ir/colbertv2.0, this might take a while...\n",
      "Linear Dim set to: 128 for downcasting\n"
     ]
    }
   ],
   "source": [
    "reranked_docs = open_source_reranker(query, retrieved_docs)"
   ]
  },
  {
   "cell_type": "code",
   "execution_count": 28,
   "metadata": {},
   "outputs": [
    {
     "data": {
      "text/plain": [
       "[Result(document=Document(document_type='text', text='Regulation and to adopt appropriate transitional measures. Since those measures are\\nof general scope and are designed to amend non-essential elements of this Regulation,', base64=None, image_path=None, doc_id=0, metadata={}), score=0.9069003462791443, rank=1),\n",
       " Result(document=Document(document_type='text', text='HAVE ADOPTED THIS REGULATION:\\nCHAPTER I\\nSUBJECT MATTER, SCOPE AND DEFINITIONS\\nArticle 1\\nSubject matter\\nThis Regulation lays down rules on food additives used in foods with a view to ensuring', base64=None, image_path=None, doc_id=1, metadata={}), score=0.7887976169586182, rank=2),\n",
       " Result(document=Document(document_type='text', text='Regulation (EC) No 1333/2008 of the European Parliament and of the Council of...\\nDocument Generated: 2023-12-07\\n87\\nChanges to legislation: \\nThere are outstanding changes not yet made to Regulation (EC) No 1333/2008 of the European', base64=None, image_path=None, doc_id=3, metadata={}), score=0.6367447972297668, rank=3),\n",
       " Result(document=Document(document_type='text', text='Regulation (EC) No 1333/2008 of the European Parliament and of the Council of...\\nCHAPTER I\\nDocument Generated: 2023-12-07\\n7\\nChanges to legislation: There are outstanding changes not yet made to Regulation (EC) No 1333/2008 of the', base64=None, image_path=None, doc_id=2, metadata={}), score=0.6317080855369568, rank=4)]"
      ]
     },
     "execution_count": 28,
     "metadata": {},
     "output_type": "execute_result"
    }
   ],
   "source": [
    "reranked_docs.results"
   ]
  },
  {
   "cell_type": "code",
   "execution_count": 29,
   "metadata": {},
   "outputs": [
    {
     "name": "stdout",
     "output_type": "stream",
     "text": [
      "Loading default colbert model for language en\n",
      "Default Model: colbert-ir/colbertv2.0\n",
      "Loading ColBERTRanker model colbert-ir/colbertv2.0 (this message can be suppressed by setting verbose=0)\n",
      "No device set\n",
      "Using device mps\n",
      "No dtype set\n",
      "Using dtype torch.float32\n",
      "Loading model colbert-ir/colbertv2.0, this might take a while...\n",
      "Linear Dim set to: 128 for downcasting\n",
      "Loading default colbert model for language en\n",
      "Default Model: colbert-ir/colbertv2.0\n",
      "Loading ColBERTRanker model colbert-ir/colbertv2.0 (this message can be suppressed by setting verbose=0)\n",
      "No device set\n",
      "Using device mps\n",
      "No dtype set\n",
      "Using dtype torch.float32\n",
      "Loading model colbert-ir/colbertv2.0, this might take a while...\n",
      "Linear Dim set to: 128 for downcasting\n",
      "Loading default colbert model for language en\n",
      "Default Model: colbert-ir/colbertv2.0\n",
      "Loading ColBERTRanker model colbert-ir/colbertv2.0 (this message can be suppressed by setting verbose=0)\n",
      "No device set\n",
      "Using device mps\n",
      "No dtype set\n",
      "Using dtype torch.float32\n",
      "Loading model colbert-ir/colbertv2.0, this might take a while...\n",
      "Linear Dim set to: 128 for downcasting\n",
      "Loading default colbert model for language en\n",
      "Default Model: colbert-ir/colbertv2.0\n",
      "Loading ColBERTRanker model colbert-ir/colbertv2.0 (this message can be suppressed by setting verbose=0)\n",
      "No device set\n",
      "Using device mps\n",
      "No dtype set\n",
      "Using dtype torch.float32\n",
      "Loading model colbert-ir/colbertv2.0, this might take a while...\n",
      "Linear Dim set to: 128 for downcasting\n",
      "Loading default colbert model for language en\n",
      "Default Model: colbert-ir/colbertv2.0\n",
      "Loading ColBERTRanker model colbert-ir/colbertv2.0 (this message can be suppressed by setting verbose=0)\n",
      "No device set\n",
      "Using device mps\n",
      "No dtype set\n",
      "Using dtype torch.float32\n",
      "Loading model colbert-ir/colbertv2.0, this might take a while...\n",
      "Linear Dim set to: 128 for downcasting\n",
      "Loading default colbert model for language en\n",
      "Default Model: colbert-ir/colbertv2.0\n",
      "Loading ColBERTRanker model colbert-ir/colbertv2.0 (this message can be suppressed by setting verbose=0)\n",
      "No device set\n",
      "Using device mps\n",
      "No dtype set\n",
      "Using dtype torch.float32\n",
      "Loading model colbert-ir/colbertv2.0, this might take a while...\n",
      "Linear Dim set to: 128 for downcasting\n",
      "Loading default colbert model for language en\n",
      "Default Model: colbert-ir/colbertv2.0\n",
      "Loading ColBERTRanker model colbert-ir/colbertv2.0 (this message can be suppressed by setting verbose=0)\n",
      "No device set\n",
      "Using device mps\n",
      "No dtype set\n",
      "Using dtype torch.float32\n",
      "Loading model colbert-ir/colbertv2.0, this might take a while...\n",
      "Linear Dim set to: 128 for downcasting\n",
      "Loading default colbert model for language en\n",
      "Default Model: colbert-ir/colbertv2.0\n",
      "Loading ColBERTRanker model colbert-ir/colbertv2.0 (this message can be suppressed by setting verbose=0)\n",
      "No device set\n",
      "Using device mps\n",
      "No dtype set\n",
      "Using dtype torch.float32\n",
      "Loading model colbert-ir/colbertv2.0, this might take a while...\n",
      "Linear Dim set to: 128 for downcasting\n",
      "Loading default colbert model for language en\n",
      "Default Model: colbert-ir/colbertv2.0\n",
      "Loading ColBERTRanker model colbert-ir/colbertv2.0 (this message can be suppressed by setting verbose=0)\n",
      "No device set\n",
      "Using device mps\n",
      "No dtype set\n",
      "Using dtype torch.float32\n",
      "Loading model colbert-ir/colbertv2.0, this might take a while...\n",
      "Linear Dim set to: 128 for downcasting\n",
      "Loading default colbert model for language en\n",
      "Default Model: colbert-ir/colbertv2.0\n",
      "Loading ColBERTRanker model colbert-ir/colbertv2.0 (this message can be suppressed by setting verbose=0)\n",
      "No device set\n",
      "Using device mps\n",
      "No dtype set\n",
      "Using dtype torch.float32\n",
      "Loading model colbert-ir/colbertv2.0, this might take a while...\n",
      "Linear Dim set to: 128 for downcasting\n",
      "Loading default colbert model for language en\n",
      "Default Model: colbert-ir/colbertv2.0\n",
      "Loading ColBERTRanker model colbert-ir/colbertv2.0 (this message can be suppressed by setting verbose=0)\n",
      "No device set\n",
      "Using device mps\n",
      "No dtype set\n",
      "Using dtype torch.float32\n",
      "Loading model colbert-ir/colbertv2.0, this might take a while...\n",
      "Linear Dim set to: 128 for downcasting\n",
      "Loading default colbert model for language en\n",
      "Default Model: colbert-ir/colbertv2.0\n",
      "Loading ColBERTRanker model colbert-ir/colbertv2.0 (this message can be suppressed by setting verbose=0)\n",
      "No device set\n",
      "Using device mps\n",
      "No dtype set\n",
      "Using dtype torch.float32\n",
      "Loading model colbert-ir/colbertv2.0, this might take a while...\n",
      "Linear Dim set to: 128 for downcasting\n",
      "Loading default colbert model for language en\n",
      "Default Model: colbert-ir/colbertv2.0\n",
      "Loading ColBERTRanker model colbert-ir/colbertv2.0 (this message can be suppressed by setting verbose=0)\n",
      "No device set\n",
      "Using device mps\n",
      "No dtype set\n",
      "Using dtype torch.float32\n",
      "Loading model colbert-ir/colbertv2.0, this might take a while...\n",
      "Linear Dim set to: 128 for downcasting\n",
      "Loading default colbert model for language en\n",
      "Default Model: colbert-ir/colbertv2.0\n",
      "Loading ColBERTRanker model colbert-ir/colbertv2.0 (this message can be suppressed by setting verbose=0)\n",
      "No device set\n",
      "Using device mps\n",
      "No dtype set\n",
      "Using dtype torch.float32\n",
      "Loading model colbert-ir/colbertv2.0, this might take a while...\n",
      "Linear Dim set to: 128 for downcasting\n",
      "Loading default colbert model for language en\n",
      "Default Model: colbert-ir/colbertv2.0\n",
      "Loading ColBERTRanker model colbert-ir/colbertv2.0 (this message can be suppressed by setting verbose=0)\n",
      "No device set\n",
      "Using device mps\n",
      "No dtype set\n",
      "Using dtype torch.float32\n",
      "Loading model colbert-ir/colbertv2.0, this might take a while...\n",
      "Linear Dim set to: 128 for downcasting\n"
     ]
    }
   ],
   "source": [
    "contexts = []\n",
    "answers = []\n",
    "# Inference\n",
    "for query in questions:\n",
    "    answers.append(rag_chain.invoke(query))\n",
    "    retrieved_docs = retriever.get_relevant_documents(query)\n",
    "    reranked_docs = open_source_reranker(query, retrieved_docs)\n",
    "    if reranked_docs.results:  # Check if there are any results\n",
    "        contexts.append([reranked_docs.results[0].document.text])\n",
    "\n",
    "data = {\n",
    "    \"question\": questions,\n",
    "    \"answer\": answers,\n",
    "    \"reference\": ground_truth,\n",
    "    \"retrieved_contexts\": contexts\n",
    "}"
   ]
  },
  {
   "cell_type": "code",
   "execution_count": 30,
   "metadata": {},
   "outputs": [
    {
     "data": {
      "application/vnd.jupyter.widget-view+json": {
       "model_id": "3007d1ef11164768be6010a281998f5a",
       "version_major": 2,
       "version_minor": 0
      },
      "text/plain": [
       "Evaluating:   0%|          | 0/60 [00:00<?, ?it/s]"
      ]
     },
     "metadata": {},
     "output_type": "display_data"
    }
   ],
   "source": [
    "reranked_dataset = Dataset.from_dict(data)\n",
    "result = evaluate(\n",
    "    dataset = reranked_dataset,\n",
    "    llm=llm,\n",
    "    embeddings=embeddings,\n",
    "    metrics=[\n",
    "        context_recall,\n",
    "        faithfulness,\n",
    "        answer_relevancy,\n",
    "        context_precision,\n",
    "    ],)\n",
    "reranked_df = result.to_pandas()\n",
    "reranked_df.to_csv(\"reranked_ragas_results.csv\", index=False)\n"
   ]
  },
  {
   "cell_type": "code",
   "execution_count": 31,
   "metadata": {},
   "outputs": [
    {
     "name": "stdout",
     "output_type": "stream",
     "text": [
      "Mean Faithfulness:  0.66\n",
      "Mean Answer relevancy:  0.6593\n",
      "Mean Context recall:  0.8667\n",
      "Mean Context precision:  0.8667\n"
     ]
    }
   ],
   "source": [
    "# get mean of the metrics column by column\n",
    "print(\"Mean Faithfulness: \", round(reranked_df[\"faithfulness\"].mean(), 4))\n",
    "print(\"Mean Answer relevancy: \", round(reranked_df[\"answer_relevancy\"].mean(), 4))\n",
    "print(\"Mean Context recall: \", round(reranked_df[\"context_recall\"].mean(), 4))\n",
    "print(\"Mean Context precision: \", round(reranked_df[\"context_precision\"].mean(), 4))"
   ]
  }
 ],
 "metadata": {
  "kernelspec": {
   "display_name": ".venv",
   "language": "python",
   "name": "python3"
  },
  "language_info": {
   "codemirror_mode": {
    "name": "ipython",
    "version": 3
   },
   "file_extension": ".py",
   "mimetype": "text/x-python",
   "name": "python",
   "nbconvert_exporter": "python",
   "pygments_lexer": "ipython3",
   "version": "3.9.6"
  }
 },
 "nbformat": 4,
 "nbformat_minor": 2
}
