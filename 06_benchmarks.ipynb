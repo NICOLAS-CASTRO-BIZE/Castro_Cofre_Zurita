{
 "cells": [
  {
   "cell_type": "markdown",
   "metadata": {},
   "source": [
    "# GOAL\n",
    "\n"
   ]
  },
  {
   "cell_type": "code",
   "execution_count": 1,
   "metadata": {},
   "outputs": [
    {
     "data": {
      "text/plain": [
       "True"
      ]
     },
     "execution_count": 1,
     "metadata": {},
     "output_type": "execute_result"
    }
   ],
   "source": [
    "from dotenv import load_dotenv\n",
    "load_dotenv()"
   ]
  },
  {
   "cell_type": "code",
   "execution_count": 2,
   "metadata": {},
   "outputs": [],
   "source": [
    "from langchain_community.document_loaders import PyPDFLoader\n",
    "from dotenv import load_dotenv\n",
    "\n",
    "load_dotenv()\n",
    "\n",
    "file_path = (\n",
    "    \"../practicos-rag/data/benchmark_data/Reglamento 1333 2008.pdf\"\n",
    ")\n",
    "loader = PyPDFLoader(file_path)\n",
    "docs = loader.load()"
   ]
  },
  {
   "cell_type": "code",
   "execution_count": 3,
   "metadata": {},
   "outputs": [],
   "source": [
    "from langchain_text_splitters import RecursiveCharacterTextSplitter\n",
    "\n",
    "text_splitter = RecursiveCharacterTextSplitter(chunk_size=250, chunk_overlap=50)\n",
    "splits = text_splitter.split_documents(docs)"
   ]
  },
  {
   "cell_type": "code",
   "execution_count": 4,
   "metadata": {},
   "outputs": [],
   "source": [
    "from langchain_ollama import OllamaEmbeddings\n",
    "from langchain_openai import OpenAIEmbeddings\n",
    "import os\n",
    "#embeddings = OllamaEmbeddings(model=\"llama3\")\n",
    "embeddings = OpenAIEmbeddings(model=\"text-embedding-3-small\",\n",
    "                            )"
   ]
  },
  {
   "cell_type": "code",
   "execution_count": 5,
   "metadata": {},
   "outputs": [],
   "source": [
    "from langchain_qdrant import QdrantVectorStore\n",
    "from langchain_qdrant import RetrievalMode\n",
    "\n",
    "qdrant = QdrantVectorStore.from_documents(\n",
    "    splits,\n",
    "    embedding=embeddings,\n",
    "    location=\":memory:\",\n",
    "    collection_name=\"my_documents\",\n",
    "    retrieval_mode=RetrievalMode.DENSE,\n",
    ")"
   ]
  },
  {
   "cell_type": "code",
   "execution_count": 6,
   "metadata": {},
   "outputs": [],
   "source": [
    "retriever = qdrant.as_retriever()"
   ]
  },
  {
   "cell_type": "code",
   "execution_count": 7,
   "metadata": {},
   "outputs": [],
   "source": [
    "from langchain.prompts import ChatPromptTemplate\n",
    "from langchain.schema.runnable import RunnablePassthrough\n",
    "from langchain.schema.output_parser import StrOutputParser\n",
    "from langchain_ollama import OllamaLLM\n",
    "from langchain_openai import ChatOpenAI\n",
    "\n",
    "\n",
    "llm = ChatOpenAI(model=\"gpt-4-turbo-preview\") \n",
    "\n",
    "# Define prompt template\n",
    "template = \"\"\"Utilize the retrieved context below to answer the question.\n",
    "If you're unsure of the answer, simply state you don't know and apologies\n",
    "Keep your response concise, limited to two sentences.\n",
    "Question: {question}\n",
    "Context: {context}\n",
    "\"\"\"\n",
    "\n",
    "prompt = ChatPromptTemplate.from_template(template)\n",
    "\n",
    "# Setup RAG pipeline\n",
    "rag_chain = (\n",
    "    {\"context\": retriever,  \"question\": RunnablePassthrough()} \n",
    "    | prompt \n",
    "    | llm\n",
    "    | StrOutputParser() \n",
    ")"
   ]
  },
  {
   "cell_type": "code",
   "execution_count": 8,
   "metadata": {},
   "outputs": [
    {
     "data": {
      "text/plain": [
       "'The purpose of Regulation (EC) No 1333/2008 is to lay down rules on food additives used in foods, aiming to ensure food safety and protect public health.'"
      ]
     },
     "execution_count": 8,
     "metadata": {},
     "output_type": "execute_result"
    }
   ],
   "source": [
    "rag_chain.invoke(\"What is the purpose of the regulation?\")"
   ]
  },
  {
   "cell_type": "code",
   "execution_count": 9,
   "metadata": {},
   "outputs": [],
   "source": [
    "QA_generation_prompt = ChatPromptTemplate.from_template(\"\"\"\n",
    "Your task is to write a factoid question and an answer given a context.\n",
    "Your factoid question should be answerable with a specific, concise piece of factual information from the context.\n",
    "Your factoid question should be formulated in the same style as questions users could ask in a search engine.\n",
    "This means that your factoid question MUST NOT mention something like \"according to the passage\" or \"context\".\n",
    "\n",
    "Provide your answer as follows:\n",
    "\n",
    "Output:::\n",
    "Factoid question: (your factoid question)\n",
    "Answer: (your answer to the factoid question)\n",
    "\n",
    "Now here is the context.\n",
    "\n",
    "Context: {context}\n",
    "Output:::\"\"\")\n",
    "\n",
    "# Create a chain to create a question\n",
    "question_chain = (\n",
    "    {\"context\": RunnablePassthrough()}\n",
    "    | QA_generation_prompt\n",
    "    | llm\n",
    "    | StrOutputParser()\n",
    ")"
   ]
  },
  {
   "cell_type": "code",
   "execution_count": 10,
   "metadata": {},
   "outputs": [],
   "source": [
    "import random\n",
    "from tqdm import tqdm\n",
    "\n",
    "sampled_docs = random.sample(docs, 15)\n",
    "sampled_docs_processed = [doc.page_content for doc in sampled_docs]"
   ]
  },
  {
   "cell_type": "code",
   "execution_count": 11,
   "metadata": {},
   "outputs": [
    {
     "name": "stderr",
     "output_type": "stream",
     "text": [
      "100%|██████████| 15/15 [00:21<00:00,  1.46s/it]\n"
     ]
    }
   ],
   "source": [
    "questions = [question_chain.invoke({\"context\": sampled_context}) for sampled_context in tqdm(sampled_docs_processed)]"
   ]
  },
  {
   "cell_type": "code",
   "execution_count": 12,
   "metadata": {},
   "outputs": [],
   "source": [
    "questions_processed = []\n",
    "ground_truth = []\n",
    "for question in questions:\n",
    "    questions_processed.append(question.split(\"Factoid question: \")[-1].split(\"Answer: \")[0])\n",
    "    ground_truth.append(question.split(\"Factoid question: \")[-1].split(\"Answer: \")[1])"
   ]
  },
  {
   "cell_type": "code",
   "execution_count": 13,
   "metadata": {},
   "outputs": [
    {
     "name": "stderr",
     "output_type": "stream",
     "text": [
      "/var/folders/p9/dtzw1bk549g0ft33yw9bnbpc0000gq/T/ipykernel_54260/1022487351.py:6: LangChainDeprecationWarning: The method `BaseRetriever.get_relevant_documents` was deprecated in langchain-core 0.1.46 and will be removed in 1.0. Use :meth:`~invoke` instead.\n",
      "  contexts.append([docs.page_content for docs in retriever.get_relevant_documents(query)])\n"
     ]
    }
   ],
   "source": [
    "contexts = []\n",
    "answers = []\n",
    "# Inference\n",
    "for query in questions:\n",
    "    answers.append(rag_chain.invoke(query))\n",
    "    contexts.append([docs.page_content for docs in retriever.get_relevant_documents(query)])\n"
   ]
  },
  {
   "cell_type": "code",
   "execution_count": 14,
   "metadata": {},
   "outputs": [],
   "source": [
    "data = {\n",
    "    \"question\": questions,\n",
    "    \"answer\": answers,\n",
    "    \"reference\": ground_truth,\n",
    "    \"retrieved_contexts\": contexts\n",
    "}"
   ]
  },
  {
   "cell_type": "code",
   "execution_count": 15,
   "metadata": {},
   "outputs": [],
   "source": [
    "from datasets import Dataset\n",
    "\n",
    "# Convert dict to dataset\n",
    "dataset = Dataset.from_dict(data)"
   ]
  },
  {
   "cell_type": "code",
   "execution_count": 16,
   "metadata": {},
   "outputs": [],
   "source": [
    "from ragas import evaluate\n",
    "from ragas.metrics import (\n",
    "    faithfulness,\n",
    "    answer_relevancy,\n",
    "    context_recall,\n",
    "    context_precision,\n",
    ")"
   ]
  },
  {
   "cell_type": "code",
   "execution_count": 17,
   "metadata": {},
   "outputs": [
    {
     "data": {
      "application/vnd.jupyter.widget-view+json": {
       "model_id": "849dd75ab3e54134a5a0e15529a0ed67",
       "version_major": 2,
       "version_minor": 0
      },
      "text/plain": [
       "Evaluating:   0%|          | 0/60 [00:00<?, ?it/s]"
      ]
     },
     "metadata": {},
     "output_type": "display_data"
    },
    {
     "name": "stderr",
     "output_type": "stream",
     "text": [
      "Exception raised in Job[33]: RateLimitError(Error code: 429 - {'error': {'message': 'Rate limit reached for gpt-4-turbo-preview in organization org-1IccE2reLGyjkhxuj0CwkN90 on tokens per min (TPM): Limit 30000, Used 29410, Requested 1162. Please try again in 1.144s. Visit https://platform.openai.com/account/rate-limits to learn more.', 'type': 'tokens', 'param': None, 'code': 'rate_limit_exceeded'}})\n",
      "Exception raised in Job[25]: TimeoutError()\n",
      "Exception raised in Job[28]: TimeoutError()\n"
     ]
    },
    {
     "data": {
      "text/html": [
       "<div>\n",
       "<style scoped>\n",
       "    .dataframe tbody tr th:only-of-type {\n",
       "        vertical-align: middle;\n",
       "    }\n",
       "\n",
       "    .dataframe tbody tr th {\n",
       "        vertical-align: top;\n",
       "    }\n",
       "\n",
       "    .dataframe thead th {\n",
       "        text-align: right;\n",
       "    }\n",
       "</style>\n",
       "<table border=\"1\" class=\"dataframe\">\n",
       "  <thead>\n",
       "    <tr style=\"text-align: right;\">\n",
       "      <th></th>\n",
       "      <th>user_input</th>\n",
       "      <th>retrieved_contexts</th>\n",
       "      <th>response</th>\n",
       "      <th>reference</th>\n",
       "      <th>context_recall</th>\n",
       "      <th>faithfulness</th>\n",
       "      <th>answer_relevancy</th>\n",
       "      <th>context_precision</th>\n",
       "    </tr>\n",
       "  </thead>\n",
       "  <tbody>\n",
       "    <tr>\n",
       "      <th>0</th>\n",
       "      <td>Factoid question: What is the document number ...</td>\n",
       "      <td>[Regulation (EC) No 1333/2008 of the European ...</td>\n",
       "      <td>The document number of the regulation mentione...</td>\n",
       "      <td>Regulation (EC) No 1333/2008</td>\n",
       "      <td>1.0</td>\n",
       "      <td>1.00</td>\n",
       "      <td>0.668864</td>\n",
       "      <td>1.000000</td>\n",
       "    </tr>\n",
       "    <tr>\n",
       "      <th>1</th>\n",
       "      <td>Factoid question: What is the E number for Asc...</td>\n",
       "      <td>[E 290 Carbon dioxide\\nE 296 Malic acid\\nE 300...</td>\n",
       "      <td>The E number for Ascorbic acid according to Re...</td>\n",
       "      <td>E 300</td>\n",
       "      <td>1.0</td>\n",
       "      <td>1.00</td>\n",
       "      <td>0.874058</td>\n",
       "      <td>0.805556</td>\n",
       "    </tr>\n",
       "    <tr>\n",
       "      <th>2</th>\n",
       "      <td>Factoid question: What is the E number assigne...</td>\n",
       "      <td>[E 529 Calcium oxide\\nE 530 Magnesium oxide\\n[...</td>\n",
       "      <td>The E number assigned to Calcium oxide accordi...</td>\n",
       "      <td>E 529</td>\n",
       "      <td>1.0</td>\n",
       "      <td>0.50</td>\n",
       "      <td>0.897507</td>\n",
       "      <td>1.000000</td>\n",
       "    </tr>\n",
       "    <tr>\n",
       "      <th>3</th>\n",
       "      <td>Factoid question: What regulation covers food ...</td>\n",
       "      <td>[are covered by Regulation (EC) No 1332/2008 o...</td>\n",
       "      <td>Regulation (EC) No 1332/2008 covers food enzym...</td>\n",
       "      <td>Regulation (EC) No 1332/2008</td>\n",
       "      <td>1.0</td>\n",
       "      <td>1.00</td>\n",
       "      <td>0.629246</td>\n",
       "      <td>1.000000</td>\n",
       "    </tr>\n",
       "    <tr>\n",
       "      <th>4</th>\n",
       "      <td>Factoid question: What is the E number for iso...</td>\n",
       "      <td>[E 943b Isobutane\\nE 944 Propane\\nE 948 Oxygen...</td>\n",
       "      <td>The E number for isobutane is E 943b.</td>\n",
       "      <td>E 943b</td>\n",
       "      <td>1.0</td>\n",
       "      <td>1.00</td>\n",
       "      <td>0.860928</td>\n",
       "      <td>0.750000</td>\n",
       "    </tr>\n",
       "    <tr>\n",
       "      <th>5</th>\n",
       "      <td>Factoid question: What is the E-number for Tit...</td>\n",
       "      <td>[E 172 Iron oxides and hydroxides\\n(3) Group I...</td>\n",
       "      <td>The E-number for Titanium dioxide as per Regul...</td>\n",
       "      <td>E 171</td>\n",
       "      <td>1.0</td>\n",
       "      <td>1.00</td>\n",
       "      <td>0.874524</td>\n",
       "      <td>0.583333</td>\n",
       "    </tr>\n",
       "    <tr>\n",
       "      <th>6</th>\n",
       "      <td>Factoid question: What is the E-number assigne...</td>\n",
       "      <td>[[F79(k)\\nE 310–320: PROPYL GALLATE, TBHQ AND ...</td>\n",
       "      <td>The E-number assigned to Butylated hydroxyanis...</td>\n",
       "      <td>E 320</td>\n",
       "      <td>1.0</td>\n",
       "      <td>NaN</td>\n",
       "      <td>0.872277</td>\n",
       "      <td>1.000000</td>\n",
       "    </tr>\n",
       "    <tr>\n",
       "      <th>7</th>\n",
       "      <td>Factoid question: What is the regulation numbe...</td>\n",
       "      <td>[REGULATION (EC) No 1333/2008 OF THE\\nEUROPEAN...</td>\n",
       "      <td>The regulation number is Regulation (EC) No 13...</td>\n",
       "      <td>Regulation (EC) No 1333/2008</td>\n",
       "      <td>NaN</td>\n",
       "      <td>1.00</td>\n",
       "      <td>0.483636</td>\n",
       "      <td>1.000000</td>\n",
       "    </tr>\n",
       "    <tr>\n",
       "      <th>8</th>\n",
       "      <td>Factoid question: What is the maximum level of...</td>\n",
       "      <td>[nutrientsInfant formulae and follow-on formul...</td>\n",
       "      <td>The maximum level of silicon dioxide (E 551) a...</td>\n",
       "      <td>10 000 mg/kg</td>\n",
       "      <td>1.0</td>\n",
       "      <td>NaN</td>\n",
       "      <td>0.888573</td>\n",
       "      <td>0.833333</td>\n",
       "    </tr>\n",
       "    <tr>\n",
       "      <th>9</th>\n",
       "      <td>Factoid question: What is the obligation of a ...</td>\n",
       "      <td>[any new scientific or technical information w...</td>\n",
       "      <td>They must immediately inform the Authority of ...</td>\n",
       "      <td>They must immediately inform the Authority of ...</td>\n",
       "      <td>1.0</td>\n",
       "      <td>1.00</td>\n",
       "      <td>0.727461</td>\n",
       "      <td>1.000000</td>\n",
       "    </tr>\n",
       "    <tr>\n",
       "      <th>10</th>\n",
       "      <td>Factoid question: What does \"quantum satis\" me...</td>\n",
       "      <td>[(quantum satis). In that case, the food addit...</td>\n",
       "      <td>Quantum satis means that no maximum numerical ...</td>\n",
       "      <td>Quantum satis means that no maximum numerical ...</td>\n",
       "      <td>1.0</td>\n",
       "      <td>0.75</td>\n",
       "      <td>0.710337</td>\n",
       "      <td>1.000000</td>\n",
       "    </tr>\n",
       "    <tr>\n",
       "      <th>11</th>\n",
       "      <td>Factoid question: What is the E-number for Pol...</td>\n",
       "      <td>[(n)\\nE 432–436: POLYSORBATES\\nE-number Name\\n...</td>\n",
       "      <td>The E-number for Polyoxyethylene sorbitan mono...</td>\n",
       "      <td>E 435</td>\n",
       "      <td>1.0</td>\n",
       "      <td>1.00</td>\n",
       "      <td>0.873966</td>\n",
       "      <td>0.638889</td>\n",
       "    </tr>\n",
       "    <tr>\n",
       "      <th>12</th>\n",
       "      <td>Factoid question: What is the E-number for Cur...</td>\n",
       "      <td>[E 172 Iron oxides and hydroxides\\n(3) Group I...</td>\n",
       "      <td>The E-number for Curcumin is E 100.</td>\n",
       "      <td>E 100</td>\n",
       "      <td>1.0</td>\n",
       "      <td>1.00</td>\n",
       "      <td>0.841078</td>\n",
       "      <td>1.000000</td>\n",
       "    </tr>\n",
       "    <tr>\n",
       "      <th>13</th>\n",
       "      <td>Factoid question: What is the main objective o...</td>\n",
       "      <td>[Regulation (EC) No 1333/2008 of the European ...</td>\n",
       "      <td>The main objective of Regulation (EC) No 1333/...</td>\n",
       "      <td>To lay down Community rules on food additives.</td>\n",
       "      <td>1.0</td>\n",
       "      <td>1.00</td>\n",
       "      <td>0.674662</td>\n",
       "      <td>1.000000</td>\n",
       "    </tr>\n",
       "    <tr>\n",
       "      <th>14</th>\n",
       "      <td>Factoid question: What is the E-number for Cal...</td>\n",
       "      <td>[1 000 mg/l from all sources.E number of the f...</td>\n",
       "      <td>The E-number for Calcium carbonate according t...</td>\n",
       "      <td>E 170</td>\n",
       "      <td>1.0</td>\n",
       "      <td>1.00</td>\n",
       "      <td>0.877039</td>\n",
       "      <td>0.805556</td>\n",
       "    </tr>\n",
       "  </tbody>\n",
       "</table>\n",
       "</div>"
      ],
      "text/plain": [
       "                                           user_input  \\\n",
       "0   Factoid question: What is the document number ...   \n",
       "1   Factoid question: What is the E number for Asc...   \n",
       "2   Factoid question: What is the E number assigne...   \n",
       "3   Factoid question: What regulation covers food ...   \n",
       "4   Factoid question: What is the E number for iso...   \n",
       "5   Factoid question: What is the E-number for Tit...   \n",
       "6   Factoid question: What is the E-number assigne...   \n",
       "7   Factoid question: What is the regulation numbe...   \n",
       "8   Factoid question: What is the maximum level of...   \n",
       "9   Factoid question: What is the obligation of a ...   \n",
       "10  Factoid question: What does \"quantum satis\" me...   \n",
       "11  Factoid question: What is the E-number for Pol...   \n",
       "12  Factoid question: What is the E-number for Cur...   \n",
       "13  Factoid question: What is the main objective o...   \n",
       "14  Factoid question: What is the E-number for Cal...   \n",
       "\n",
       "                                   retrieved_contexts  \\\n",
       "0   [Regulation (EC) No 1333/2008 of the European ...   \n",
       "1   [E 290 Carbon dioxide\\nE 296 Malic acid\\nE 300...   \n",
       "2   [E 529 Calcium oxide\\nE 530 Magnesium oxide\\n[...   \n",
       "3   [are covered by Regulation (EC) No 1332/2008 o...   \n",
       "4   [E 943b Isobutane\\nE 944 Propane\\nE 948 Oxygen...   \n",
       "5   [E 172 Iron oxides and hydroxides\\n(3) Group I...   \n",
       "6   [[F79(k)\\nE 310–320: PROPYL GALLATE, TBHQ AND ...   \n",
       "7   [REGULATION (EC) No 1333/2008 OF THE\\nEUROPEAN...   \n",
       "8   [nutrientsInfant formulae and follow-on formul...   \n",
       "9   [any new scientific or technical information w...   \n",
       "10  [(quantum satis). In that case, the food addit...   \n",
       "11  [(n)\\nE 432–436: POLYSORBATES\\nE-number Name\\n...   \n",
       "12  [E 172 Iron oxides and hydroxides\\n(3) Group I...   \n",
       "13  [Regulation (EC) No 1333/2008 of the European ...   \n",
       "14  [1 000 mg/l from all sources.E number of the f...   \n",
       "\n",
       "                                             response  \\\n",
       "0   The document number of the regulation mentione...   \n",
       "1   The E number for Ascorbic acid according to Re...   \n",
       "2   The E number assigned to Calcium oxide accordi...   \n",
       "3   Regulation (EC) No 1332/2008 covers food enzym...   \n",
       "4               The E number for isobutane is E 943b.   \n",
       "5   The E-number for Titanium dioxide as per Regul...   \n",
       "6   The E-number assigned to Butylated hydroxyanis...   \n",
       "7   The regulation number is Regulation (EC) No 13...   \n",
       "8   The maximum level of silicon dioxide (E 551) a...   \n",
       "9   They must immediately inform the Authority of ...   \n",
       "10  Quantum satis means that no maximum numerical ...   \n",
       "11  The E-number for Polyoxyethylene sorbitan mono...   \n",
       "12                The E-number for Curcumin is E 100.   \n",
       "13  The main objective of Regulation (EC) No 1333/...   \n",
       "14  The E-number for Calcium carbonate according t...   \n",
       "\n",
       "                                            reference  context_recall  \\\n",
       "0                        Regulation (EC) No 1333/2008             1.0   \n",
       "1                                               E 300             1.0   \n",
       "2                                               E 529             1.0   \n",
       "3                        Regulation (EC) No 1332/2008             1.0   \n",
       "4                                              E 943b             1.0   \n",
       "5                                               E 171             1.0   \n",
       "6                                               E 320             1.0   \n",
       "7                        Regulation (EC) No 1333/2008             NaN   \n",
       "8                                        10 000 mg/kg             1.0   \n",
       "9   They must immediately inform the Authority of ...             1.0   \n",
       "10  Quantum satis means that no maximum numerical ...             1.0   \n",
       "11                                              E 435             1.0   \n",
       "12                                              E 100             1.0   \n",
       "13     To lay down Community rules on food additives.             1.0   \n",
       "14                                              E 170             1.0   \n",
       "\n",
       "    faithfulness  answer_relevancy  context_precision  \n",
       "0           1.00          0.668864           1.000000  \n",
       "1           1.00          0.874058           0.805556  \n",
       "2           0.50          0.897507           1.000000  \n",
       "3           1.00          0.629246           1.000000  \n",
       "4           1.00          0.860928           0.750000  \n",
       "5           1.00          0.874524           0.583333  \n",
       "6            NaN          0.872277           1.000000  \n",
       "7           1.00          0.483636           1.000000  \n",
       "8            NaN          0.888573           0.833333  \n",
       "9           1.00          0.727461           1.000000  \n",
       "10          0.75          0.710337           1.000000  \n",
       "11          1.00          0.873966           0.638889  \n",
       "12          1.00          0.841078           1.000000  \n",
       "13          1.00          0.674662           1.000000  \n",
       "14          1.00          0.877039           0.805556  "
      ]
     },
     "execution_count": 17,
     "metadata": {},
     "output_type": "execute_result"
    }
   ],
   "source": [
    "result = evaluate(\n",
    "    dataset = dataset,\n",
    "    llm=llm,\n",
    "    embeddings=embeddings,\n",
    "    metrics=[\n",
    "        context_recall,\n",
    "        faithfulness,\n",
    "        answer_relevancy,\n",
    "        context_precision,\n",
    "    ],)\n",
    "\n",
    "df = result.to_pandas()\n",
    "df"
   ]
  },
  {
   "cell_type": "code",
   "execution_count": 22,
   "metadata": {},
   "outputs": [],
   "source": [
    "df.to_csv(\"baseline_ragas_results.csv\", index=False)"
   ]
  },
  {
   "cell_type": "code",
   "execution_count": 29,
   "metadata": {},
   "outputs": [
    {
     "name": "stdout",
     "output_type": "stream",
     "text": [
      "Mean Faithfulness:  0.9423\n",
      "Mean Answer relevancy:  0.7836\n",
      "Mean Context recall:  1.0\n",
      "Mean Context precision:  0.8944\n"
     ]
    }
   ],
   "source": [
    "# get mean of the metrics column by column\n",
    "print(\"Mean Faithfulness: \", round(df[\"faithfulness\"].mean(), 4))\n",
    "print(\"Mean Answer relevancy: \", round(df[\"answer_relevancy\"].mean(), 4))\n",
    "print(\"Mean Context recall: \", round(df[\"context_recall\"].mean(), 4))\n",
    "print(\"Mean Context precision: \", round(df[\"context_precision\"].mean(), 4))\n"
   ]
  },
  {
   "cell_type": "markdown",
   "metadata": {},
   "source": [
    "## Adding a reranker step"
   ]
  },
  {
   "cell_type": "code",
   "execution_count": 18,
   "metadata": {},
   "outputs": [],
   "source": [
    "query = \"What is the purpose of the regulation?\"\n",
    "\n",
    "retrieved_docs = retriever.get_relevant_documents(query, kwargs={\"k\": 10})"
   ]
  },
  {
   "cell_type": "code",
   "execution_count": 19,
   "metadata": {},
   "outputs": [
    {
     "data": {
      "text/plain": [
       "[Document(metadata={'source': '../practicos-rag/data/benchmark_data/Reglamento 1333 2008.pdf', 'page': 3, '_id': '009810801d8a4da28d42c752624e9e3e', '_collection_name': 'my_documents'}, page_content='Regulation and to adopt appropriate transitional measures. Since those measures are\\nof general scope and are designed to amend non-essential elements of this Regulation,'),\n",
       " Document(metadata={'source': '../practicos-rag/data/benchmark_data/Reglamento 1333 2008.pdf', 'page': 5, '_id': '8abb64a3aa7f4e768e993b256ed47a3d', '_collection_name': 'my_documents'}, page_content='HAVE ADOPTED THIS REGULATION:\\nCHAPTER I\\nSUBJECT MATTER, SCOPE AND DEFINITIONS\\nArticle 1\\nSubject matter\\nThis Regulation lays down rules on food additives used in foods with a view to ensuring'),\n",
       " Document(metadata={'source': '../practicos-rag/data/benchmark_data/Reglamento 1333 2008.pdf', 'page': 6, '_id': '12467865f29c4033b63bcca25e844817', '_collection_name': 'my_documents'}, page_content='Regulation (EC) No 1333/2008 of the European Parliament and of the Council of...\\nCHAPTER I\\nDocument Generated: 2023-12-07\\n7\\nChanges to legislation: There are outstanding changes not yet made to Regulation (EC) No 1333/2008 of the'),\n",
       " Document(metadata={'source': '../practicos-rag/data/benchmark_data/Reglamento 1333 2008.pdf', 'page': 86, '_id': 'a58d817c68384c56adfcd839ca30c68a', '_collection_name': 'my_documents'}, page_content='Regulation (EC) No 1333/2008 of the European Parliament and of the Council of...\\nDocument Generated: 2023-12-07\\n87\\nChanges to legislation: \\nThere are outstanding changes not yet made to Regulation (EC) No 1333/2008 of the European')]"
      ]
     },
     "execution_count": 19,
     "metadata": {},
     "output_type": "execute_result"
    }
   ],
   "source": [
    "retrieved_docs"
   ]
  },
  {
   "cell_type": "code",
   "execution_count": 99,
   "metadata": {},
   "outputs": [],
   "source": [
    "import cohere as co\n",
    "cohere_client = co.Client(os.getenv(\"COHERE_API_KEY\"))\n",
    "def rerank_docs(query, retrieved_docs):\n",
    "    reranked_docs = cohere_client.rerank(\n",
    "        model=\"rerank-english-v3.0\",\n",
    "        query=query,\n",
    "        documents=retrieved_docs,\n",
    "        rank_fields=[\"page_content\"],\n",
    "        return_documents=True\n",
    "    )\n",
    "    return reranked_docs\n",
    "\n",
    "from rerankers import Reranker\n",
    "\n",
    "def open_source_reranker(query, retrieved_docs):\n",
    "    #reranker = Reranker('cross-encoder', verbose=0,model_type='cross-encoder')\n",
    "    reranker = Reranker(\"colbert\")\n",
    "    retrieved_docs = [doc.page_content for doc in retrieved_docs]\n",
    "    reranked_docs = reranker.rank(query, retrieved_docs)\n",
    "    return reranked_docs\n"
   ]
  },
  {
   "cell_type": "code",
   "execution_count": 100,
   "metadata": {},
   "outputs": [
    {
     "name": "stdout",
     "output_type": "stream",
     "text": [
      "Loading default colbert model for language en\n",
      "Default Model: colbert-ir/colbertv2.0\n",
      "Loading ColBERTRanker model colbert-ir/colbertv2.0 (this message can be suppressed by setting verbose=0)\n",
      "No device set\n",
      "Using device mps\n",
      "No dtype set\n",
      "Using dtype torch.float32\n",
      "Loading model colbert-ir/colbertv2.0, this might take a while...\n",
      "Linear Dim set to: 128 for downcasting\n"
     ]
    }
   ],
   "source": [
    "reranked_docs = open_source_reranker(query, retrieved_docs)"
   ]
  },
  {
   "cell_type": "code",
   "execution_count": 101,
   "metadata": {},
   "outputs": [
    {
     "data": {
      "text/plain": [
       "[Result(document=Document(document_type='text', text='E 170 Calcium carbonate\\nE 260 Acetic acid\\n[F64E 261 Potassium acetates]\\nE 262 Sodium acetates\\nE 263 Calcium acetate\\nE 270 Lactic acid', base64=None, image_path=None, doc_id=2, metadata={}), score=0.8182083368301392, rank=1),\n",
       " Result(document=Document(document_type='text', text='E 968 Erythritol\\n[F60E 969 Advantame]\\n3. Additives other than colours and sweeteners\\nE-number Name\\nE 170 Calcium carbonate\\n[F45E 172 Iron oxides and hydroxides]\\nE 200 Sorbic acid\\nE 202 Potassium sorbate\\nF62\\nE 210 Benzoic acid \\na', base64=None, image_path=None, doc_id=3, metadata={}), score=0.8180067539215088, rank=2),\n",
       " Result(document=Document(document_type='text', text='E 529 Calcium oxide\\nE 530 Magnesium oxide\\n[F70E 534 Iron tartrate]\\nE 535 Sodium ferrocyanide\\nE 536 Potassium ferrocyanide\\nE 538 Calcium ferrocyanide\\nE 541 Sodium aluminium phosphate acidic\\nE 551 Silicon dioxide\\nE 552 Calcium silicate', base64=None, image_path=None, doc_id=1, metadata={}), score=0.6549476385116577, rank=3),\n",
       " Result(document=Document(document_type='text', text='1 000 mg/l from all sources.E number of the food additiveName of the food\\nadditiveMaximum levelNutrient to which the food additive may be addedCan be\\nused as a carrier?E 170Calcium carbonatequantum satisAll nutrientsYesE 260Acetic', base64=None, image_path=None, doc_id=0, metadata={}), score=0.6536102294921875, rank=4)]"
      ]
     },
     "execution_count": 101,
     "metadata": {},
     "output_type": "execute_result"
    }
   ],
   "source": [
    "reranked_docs.results"
   ]
  },
  {
   "cell_type": "code",
   "execution_count": 102,
   "metadata": {},
   "outputs": [
    {
     "name": "stdout",
     "output_type": "stream",
     "text": [
      "Loading default colbert model for language en\n",
      "Default Model: colbert-ir/colbertv2.0\n",
      "Loading ColBERTRanker model colbert-ir/colbertv2.0 (this message can be suppressed by setting verbose=0)\n",
      "No device set\n",
      "Using device mps\n",
      "No dtype set\n",
      "Using dtype torch.float32\n",
      "Loading model colbert-ir/colbertv2.0, this might take a while...\n",
      "Linear Dim set to: 128 for downcasting\n",
      "Loading default colbert model for language en\n",
      "Default Model: colbert-ir/colbertv2.0\n",
      "Loading ColBERTRanker model colbert-ir/colbertv2.0 (this message can be suppressed by setting verbose=0)\n",
      "No device set\n",
      "Using device mps\n",
      "No dtype set\n",
      "Using dtype torch.float32\n",
      "Loading model colbert-ir/colbertv2.0, this might take a while...\n",
      "Linear Dim set to: 128 for downcasting\n",
      "Loading default colbert model for language en\n",
      "Default Model: colbert-ir/colbertv2.0\n",
      "Loading ColBERTRanker model colbert-ir/colbertv2.0 (this message can be suppressed by setting verbose=0)\n",
      "No device set\n",
      "Using device mps\n",
      "No dtype set\n",
      "Using dtype torch.float32\n",
      "Loading model colbert-ir/colbertv2.0, this might take a while...\n",
      "Linear Dim set to: 128 for downcasting\n",
      "Loading default colbert model for language en\n",
      "Default Model: colbert-ir/colbertv2.0\n",
      "Loading ColBERTRanker model colbert-ir/colbertv2.0 (this message can be suppressed by setting verbose=0)\n",
      "No device set\n",
      "Using device mps\n",
      "No dtype set\n",
      "Using dtype torch.float32\n",
      "Loading model colbert-ir/colbertv2.0, this might take a while...\n",
      "Linear Dim set to: 128 for downcasting\n",
      "Loading default colbert model for language en\n",
      "Default Model: colbert-ir/colbertv2.0\n",
      "Loading ColBERTRanker model colbert-ir/colbertv2.0 (this message can be suppressed by setting verbose=0)\n",
      "No device set\n",
      "Using device mps\n",
      "No dtype set\n",
      "Using dtype torch.float32\n",
      "Loading model colbert-ir/colbertv2.0, this might take a while...\n",
      "Linear Dim set to: 128 for downcasting\n",
      "Loading default colbert model for language en\n",
      "Default Model: colbert-ir/colbertv2.0\n",
      "Loading ColBERTRanker model colbert-ir/colbertv2.0 (this message can be suppressed by setting verbose=0)\n",
      "No device set\n",
      "Using device mps\n",
      "No dtype set\n",
      "Using dtype torch.float32\n",
      "Loading model colbert-ir/colbertv2.0, this might take a while...\n",
      "Linear Dim set to: 128 for downcasting\n",
      "Loading default colbert model for language en\n",
      "Default Model: colbert-ir/colbertv2.0\n",
      "Loading ColBERTRanker model colbert-ir/colbertv2.0 (this message can be suppressed by setting verbose=0)\n",
      "No device set\n",
      "Using device mps\n",
      "No dtype set\n",
      "Using dtype torch.float32\n",
      "Loading model colbert-ir/colbertv2.0, this might take a while...\n",
      "Linear Dim set to: 128 for downcasting\n",
      "Loading default colbert model for language en\n",
      "Default Model: colbert-ir/colbertv2.0\n",
      "Loading ColBERTRanker model colbert-ir/colbertv2.0 (this message can be suppressed by setting verbose=0)\n",
      "No device set\n",
      "Using device mps\n",
      "No dtype set\n",
      "Using dtype torch.float32\n",
      "Loading model colbert-ir/colbertv2.0, this might take a while...\n",
      "Linear Dim set to: 128 for downcasting\n",
      "Loading default colbert model for language en\n",
      "Default Model: colbert-ir/colbertv2.0\n",
      "Loading ColBERTRanker model colbert-ir/colbertv2.0 (this message can be suppressed by setting verbose=0)\n",
      "No device set\n",
      "Using device mps\n",
      "No dtype set\n",
      "Using dtype torch.float32\n",
      "Loading model colbert-ir/colbertv2.0, this might take a while...\n",
      "Linear Dim set to: 128 for downcasting\n",
      "Loading default colbert model for language en\n",
      "Default Model: colbert-ir/colbertv2.0\n",
      "Loading ColBERTRanker model colbert-ir/colbertv2.0 (this message can be suppressed by setting verbose=0)\n",
      "No device set\n",
      "Using device mps\n",
      "No dtype set\n",
      "Using dtype torch.float32\n",
      "Loading model colbert-ir/colbertv2.0, this might take a while...\n",
      "Linear Dim set to: 128 for downcasting\n",
      "Loading default colbert model for language en\n",
      "Default Model: colbert-ir/colbertv2.0\n",
      "Loading ColBERTRanker model colbert-ir/colbertv2.0 (this message can be suppressed by setting verbose=0)\n",
      "No device set\n",
      "Using device mps\n",
      "No dtype set\n",
      "Using dtype torch.float32\n",
      "Loading model colbert-ir/colbertv2.0, this might take a while...\n",
      "Linear Dim set to: 128 for downcasting\n",
      "Loading default colbert model for language en\n",
      "Default Model: colbert-ir/colbertv2.0\n",
      "Loading ColBERTRanker model colbert-ir/colbertv2.0 (this message can be suppressed by setting verbose=0)\n",
      "No device set\n",
      "Using device mps\n",
      "No dtype set\n",
      "Using dtype torch.float32\n",
      "Loading model colbert-ir/colbertv2.0, this might take a while...\n",
      "Linear Dim set to: 128 for downcasting\n",
      "Loading default colbert model for language en\n",
      "Default Model: colbert-ir/colbertv2.0\n",
      "Loading ColBERTRanker model colbert-ir/colbertv2.0 (this message can be suppressed by setting verbose=0)\n",
      "No device set\n",
      "Using device mps\n",
      "No dtype set\n",
      "Using dtype torch.float32\n",
      "Loading model colbert-ir/colbertv2.0, this might take a while...\n",
      "Linear Dim set to: 128 for downcasting\n",
      "Loading default colbert model for language en\n",
      "Default Model: colbert-ir/colbertv2.0\n",
      "Loading ColBERTRanker model colbert-ir/colbertv2.0 (this message can be suppressed by setting verbose=0)\n",
      "No device set\n",
      "Using device mps\n",
      "No dtype set\n",
      "Using dtype torch.float32\n",
      "Loading model colbert-ir/colbertv2.0, this might take a while...\n",
      "Linear Dim set to: 128 for downcasting\n",
      "Loading default colbert model for language en\n",
      "Default Model: colbert-ir/colbertv2.0\n",
      "Loading ColBERTRanker model colbert-ir/colbertv2.0 (this message can be suppressed by setting verbose=0)\n",
      "No device set\n",
      "Using device mps\n",
      "No dtype set\n",
      "Using dtype torch.float32\n",
      "Loading model colbert-ir/colbertv2.0, this might take a while...\n",
      "Linear Dim set to: 128 for downcasting\n"
     ]
    }
   ],
   "source": [
    "contexts = []\n",
    "answers = []\n",
    "# Inference\n",
    "for query in questions:\n",
    "    answers.append(rag_chain.invoke(query))\n",
    "    retrieved_docs = retriever.get_relevant_documents(query)\n",
    "    reranked_docs = open_source_reranker(query, retrieved_docs)\n",
    "    if reranked_docs.results:  # Check if there are any results\n",
    "        contexts.append([reranked_docs.results[0].document.text])\n",
    "\n",
    "data = {\n",
    "    \"question\": questions,\n",
    "    \"answer\": answers,\n",
    "    \"reference\": ground_truth,\n",
    "    \"retrieved_contexts\": contexts\n",
    "}"
   ]
  },
  {
   "cell_type": "code",
   "execution_count": 103,
   "metadata": {},
   "outputs": [
    {
     "data": {
      "application/vnd.jupyter.widget-view+json": {
       "model_id": "3249058d25aa4d3d844c9e2f9bc22739",
       "version_major": 2,
       "version_minor": 0
      },
      "text/plain": [
       "Evaluating:   0%|          | 0/60 [00:00<?, ?it/s]"
      ]
     },
     "metadata": {},
     "output_type": "display_data"
    }
   ],
   "source": [
    "reranked_dataset = Dataset.from_dict(data)\n",
    "result = evaluate(\n",
    "    dataset = reranked_dataset,\n",
    "    llm=llm,\n",
    "    embeddings=embeddings,\n",
    "    metrics=[\n",
    "        context_recall,\n",
    "        faithfulness,\n",
    "        answer_relevancy,\n",
    "        context_precision,\n",
    "    ],)\n",
    "reranked_df = result.to_pandas()\n",
    "reranked_df.to_csv(\"reranked_ragas_results.csv\", index=False)\n"
   ]
  },
  {
   "cell_type": "code",
   "execution_count": 104,
   "metadata": {},
   "outputs": [
    {
     "name": "stdout",
     "output_type": "stream",
     "text": [
      "Mean Faithfulness:  0.75\n",
      "Mean Answer relevancy:  0.8118\n",
      "Mean Context recall:  0.9333\n",
      "Mean Context precision:  1.0\n"
     ]
    }
   ],
   "source": [
    "# get mean of the metrics column by column\n",
    "print(\"Mean Faithfulness: \", round(reranked_df[\"faithfulness\"].mean(), 4))\n",
    "print(\"Mean Answer relevancy: \", round(reranked_df[\"answer_relevancy\"].mean(), 4))\n",
    "print(\"Mean Context recall: \", round(reranked_df[\"context_recall\"].mean(), 4))\n",
    "print(\"Mean Context precision: \", round(reranked_df[\"context_precision\"].mean(), 4))"
   ]
  },
  {
   "cell_type": "code",
   "execution_count": null,
   "metadata": {},
   "outputs": [],
   "source": []
  }
 ],
 "metadata": {
  "kernelspec": {
   "display_name": ".venv",
   "language": "python",
   "name": "python3"
  },
  "language_info": {
   "codemirror_mode": {
    "name": "ipython",
    "version": 3
   },
   "file_extension": ".py",
   "mimetype": "text/x-python",
   "name": "python",
   "nbconvert_exporter": "python",
   "pygments_lexer": "ipython3",
   "version": "3.11.6"
  }
 },
 "nbformat": 4,
 "nbformat_minor": 2
}
