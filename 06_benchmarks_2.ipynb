{
 "cells": [
  {
   "cell_type": "markdown",
   "metadata": {},
   "source": [
    "# BENCHMARKING\n",
    "\n"
   ]
  },
  {
   "cell_type": "markdown",
   "metadata": {},
   "source": [
    "Carga de Variables de entorno"
   ]
  },
  {
   "cell_type": "code",
   "execution_count": 60,
   "metadata": {},
   "outputs": [
    {
     "data": {
      "text/plain": [
       "True"
      ]
     },
     "execution_count": 60,
     "metadata": {},
     "output_type": "execute_result"
    }
   ],
   "source": [
    "from dotenv import load_dotenv\n",
    "load_dotenv()"
   ]
  },
  {
   "cell_type": "markdown",
   "metadata": {},
   "source": [
    "### 1.- Pipeline RAG Baseline"
   ]
  },
  {
   "cell_type": "markdown",
   "metadata": {},
   "source": [
    "Carga de Documento"
   ]
  },
  {
   "cell_type": "code",
   "execution_count": 22,
   "metadata": {},
   "outputs": [],
   "source": [
    "from langchain_community.document_loaders import PyPDFLoader\n",
    "from dotenv import load_dotenv\n",
    "\n",
    "load_dotenv()\n",
    "\n",
    "file_path = (\n",
    "    \"data/biblioteca-de-alimentos.pdf\"\n",
    ")\n",
    "loader = PyPDFLoader(file_path)\n",
    "docs = loader.load()"
   ]
  },
  {
   "cell_type": "markdown",
   "metadata": {},
   "source": [
    "Chunking"
   ]
  },
  {
   "cell_type": "code",
   "execution_count": 23,
   "metadata": {},
   "outputs": [],
   "source": [
    "from langchain_text_splitters import RecursiveCharacterTextSplitter\n",
    "\n",
    "text_splitter = RecursiveCharacterTextSplitter(chunk_size=250, chunk_overlap=50)\n",
    "splits = text_splitter.split_documents(docs)"
   ]
  },
  {
   "cell_type": "markdown",
   "metadata": {},
   "source": [
    "Creación de Embeddings"
   ]
  },
  {
   "cell_type": "code",
   "execution_count": 24,
   "metadata": {},
   "outputs": [],
   "source": [
    "from langchain_ollama import OllamaEmbeddings\n",
    "from langchain_openai import OpenAIEmbeddings\n",
    "import os\n",
    "#embeddings = OllamaEmbeddings(model=\"llama3\")\n",
    "embeddings = OpenAIEmbeddings(model=\"text-embedding-3-small\",\n",
    "                            )"
   ]
  },
  {
   "cell_type": "markdown",
   "metadata": {},
   "source": [
    "Creación de Base de Datos Vectorial y Método de Retrieval"
   ]
  },
  {
   "cell_type": "code",
   "execution_count": 25,
   "metadata": {},
   "outputs": [
    {
     "name": "stderr",
     "output_type": "stream",
     "text": [
      "c:\\Users\\nicol\\AppData\\Local\\Programs\\Python\\Python312\\Lib\\site-packages\\tqdm\\auto.py:21: TqdmWarning: IProgress not found. Please update jupyter and ipywidgets. See https://ipywidgets.readthedocs.io/en/stable/user_install.html\n",
      "  from .autonotebook import tqdm as notebook_tqdm\n"
     ]
    }
   ],
   "source": [
    "from langchain_qdrant import QdrantVectorStore\n",
    "from langchain_qdrant import RetrievalMode\n",
    "\n",
    "qdrant = QdrantVectorStore.from_documents(\n",
    "    splits,\n",
    "    embedding=embeddings,\n",
    "    location=\":memory:\",\n",
    "    collection_name=\"my_documents\",\n",
    "    retrieval_mode=RetrievalMode.DENSE,\n",
    ")"
   ]
  },
  {
   "cell_type": "code",
   "execution_count": 26,
   "metadata": {},
   "outputs": [],
   "source": [
    "retriever = qdrant.as_retriever()"
   ]
  },
  {
   "cell_type": "code",
   "execution_count": 47,
   "metadata": {},
   "outputs": [],
   "source": [
    "from langchain.prompts import ChatPromptTemplate\n",
    "from langchain.schema.runnable import RunnablePassthrough\n",
    "from langchain.schema.output_parser import StrOutputParser\n",
    "from langchain_ollama import OllamaLLM\n",
    "from langchain_openai import ChatOpenAI\n",
    "\n",
    "\n",
    "#llm = ChatOpenAI(model=\"gpt-4-turbo-preview\") \n",
    "\n",
    "llm = ChatOpenAI(model=\"gpt-3.5-turbo\") \n",
    "\n",
    "# Define prompt template\n",
    "template = \"\"\"Utilize the retrieved context below to answer the question.\n",
    "If you're unsure of the answer, simply state you don't know and apologies\n",
    "Keep your response concise, limited to two sentences.\n",
    "Question: {question}\n",
    "Context: {context}\n",
    "\"\"\"\n",
    "\n",
    "prompt = ChatPromptTemplate.from_template(template)\n",
    "\n",
    "# Setup RAG pipeline\n",
    "rag_chain = (\n",
    "    {\"context\": retriever,  \"question\": RunnablePassthrough()} \n",
    "    | prompt \n",
    "    | llm\n",
    "    | StrOutputParser() \n",
    ")"
   ]
  },
  {
   "cell_type": "code",
   "execution_count": 48,
   "metadata": {},
   "outputs": [
    {
     "data": {
      "text/plain": [
       "'The purpose of the regulation is to review and update the regulations concerning the registration exemption for certain food products.'"
      ]
     },
     "execution_count": 48,
     "metadata": {},
     "output_type": "execute_result"
    }
   ],
   "source": [
    "rag_chain.invoke(\"What is the purpose of the regulation?\")"
   ]
  },
  {
   "cell_type": "markdown",
   "metadata": {},
   "source": [
    "### 2.- Pasos previos a la Evaluación"
   ]
  },
  {
   "cell_type": "markdown",
   "metadata": {},
   "source": [
    "a) Creación del Dataset de preuntas y respuestas"
   ]
  },
  {
   "cell_type": "code",
   "execution_count": 49,
   "metadata": {},
   "outputs": [],
   "source": [
    "QA_generation_prompt = ChatPromptTemplate.from_template(\"\"\"\n",
    "Your task is to write a factoid question and an answer given a context.\n",
    "Your factoid question should be answerable with a specific, concise piece of factual information from the context.\n",
    "Your factoid question should be formulated in the same style as questions users could ask in a search engine.\n",
    "This means that your factoid question MUST NOT mention something like \"according to the passage\" or \"context\".\n",
    "\n",
    "Provide your answer as follows:\n",
    "\n",
    "Output:::\n",
    "Factoid question: (your factoid question)\n",
    "Answer: (your answer to the factoid question)\n",
    "\n",
    "Now here is the context.\n",
    "\n",
    "Context: {context}\n",
    "Output:::\"\"\")\n",
    "\n",
    "# Create a chain to create a question\n",
    "question_chain = (\n",
    "    {\"context\": RunnablePassthrough()}\n",
    "    | QA_generation_prompt\n",
    "    | llm\n",
    "    | StrOutputParser()\n",
    ")"
   ]
  },
  {
   "cell_type": "markdown",
   "metadata": {},
   "source": [
    "b) Obtener una Muestra Aleatoria de documentos"
   ]
  },
  {
   "cell_type": "code",
   "execution_count": 50,
   "metadata": {},
   "outputs": [],
   "source": [
    "import random\n",
    "from tqdm import tqdm\n",
    "\n",
    "\n",
    "# Sample 15 documents to generate questions\n",
    "\n",
    "sampled_docs = random.sample(docs, 15)\n",
    "\n",
    "# Generate questions for each document\n",
    "sampled_docs_processed = [doc.page_content for doc in sampled_docs]"
   ]
  },
  {
   "cell_type": "markdown",
   "metadata": {},
   "source": [
    "c) Generar Preguntas y respuestas"
   ]
  },
  {
   "cell_type": "code",
   "execution_count": 51,
   "metadata": {},
   "outputs": [
    {
     "name": "stderr",
     "output_type": "stream",
     "text": [
      "100%|██████████| 15/15 [00:09<00:00,  1.52it/s]\n"
     ]
    }
   ],
   "source": [
    "# Generate questions\n",
    "\n",
    "questions = [question_chain.invoke({\"context\": sampled_context}) for sampled_context in tqdm(sampled_docs_processed)]"
   ]
  },
  {
   "cell_type": "markdown",
   "metadata": {},
   "source": [
    "Visualización de preguntas y respuestas"
   ]
  },
  {
   "cell_type": "code",
   "execution_count": 52,
   "metadata": {},
   "outputs": [
    {
     "data": {
      "text/plain": [
       "['Factoid question: What RDC altered the RDCs 43, 44, and 45 from 2011 and improved legislative techniques?\\nAnswer: RDC 729/2022',\n",
       " 'Factoid question: What is the document related to the restriction of use of industrial trans fats in foods?\\nAnswer: Perguntas e Respostas – Requisitos para uso de Gorduras Trans Industriais em Alimentos.',\n",
       " 'Factoid question: What is the document related to the conservation of food in the phases of transportation, commercialization, and consumption of perishable foods?\\nAnswer: Resolução CISA/MA/MS nº 10, de 31/07/1984',\n",
       " 'Factoid question: When was the Biblioteca de Alimentos last updated?\\nAnswer: Atualizada em 06.11.2024',\n",
       " 'Factoid question: What document establishes the requirements for nutritional labeling on packaged foods?\\nAnswer: IN 75/2020 - Estabelece os requisitos técnicos para declaração da rotulagem nutricional nos alimentos embalados.',\n",
       " 'Factoid question: What is the section number for Boas Práticas de Fabricação (BPF) para estabelecimentos industrializadores de alimentos?\\nAnswer: 3.1.',\n",
       " 'Factoid question: What is the document related to modifications in the composition of standardized foods for nutritional claims?\\nAnswer: Perguntas e respostas sobre modificações na composição de alimentos padronizados para alegações nutricionais.',\n",
       " 'Factoid question: What does RDC 352/2002 regulate?\\nAnswer: Boas Práticas de Fabricação para estabelecimentos produtores/industrializadores de frutas e ou hortaliças em conserva.',\n",
       " 'Factoid question: What is the purpose of RDC 481/2021?\\nAnswer: Requisitos sanitários para óleos e gorduras vegetais.',\n",
       " 'Factoid question: What is the document related to \"Critérios gerais e classificação de materiais para embalagens em contato com alimentos\"?\\n\\nAnswer: RDC 91/2001',\n",
       " 'Factoid question: What regulation prohibits the industrial use of metal packaging with lead and tin alloy for food storage?\\nAnswer: Lei 9.832/1999',\n",
       " 'Factoid question: What is the theme of Regulatory Topic 3.22 in the Regulatory Agenda 2024/2025?\\nAnswer: Revisão da regulamentação sobre regularização de alimentos dispensados de registro.',\n",
       " 'Factoid question: What legislation governs the iodation of salt intended for human consumption?\\nAnswer: Lei 6.150/1974',\n",
       " 'Factoid question: What is the regulation number that prohibits the importation, manufacturing, distribution, and commercialization of foods and beverages based on Aloe Vera in Brazil?\\nAnswer: RE 5052/2011',\n",
       " 'Factoid question: What are the requirements for safety and authorization of new foods and ingredients according to RDC 839/2023?\\nAnswer: Comprovação de segurança e autorização de uso de novos alimentos e novos ingredientes.']"
      ]
     },
     "execution_count": 52,
     "metadata": {},
     "output_type": "execute_result"
    }
   ],
   "source": [
    "questions"
   ]
  },
  {
   "cell_type": "markdown",
   "metadata": {},
   "source": [
    "Parsing de la Preguntas"
   ]
  },
  {
   "cell_type": "code",
   "execution_count": 53,
   "metadata": {},
   "outputs": [],
   "source": [
    "questions_processed = []\n",
    "ground_truth = []\n",
    "for question in questions:\n",
    "    questions_processed.append(question.split(\"Factoid question: \")[-1].split(\"Answer: \")[0])\n",
    "    ground_truth.append(question.split(\"Factoid question: \")[-1].split(\"Answer: \")[1])"
   ]
  },
  {
   "cell_type": "code",
   "execution_count": 54,
   "metadata": {},
   "outputs": [],
   "source": [
    "contexts = []\n",
    "answers = []\n",
    "# Inference\n",
    "for query in questions:\n",
    "    answers.append(rag_chain.invoke(query))\n",
    "    contexts.append([docs.page_content for docs in retriever.get_relevant_documents(query)])\n"
   ]
  },
  {
   "cell_type": "markdown",
   "metadata": {},
   "source": [
    "d) Generación de Diccionario"
   ]
  },
  {
   "cell_type": "code",
   "execution_count": 39,
   "metadata": {},
   "outputs": [],
   "source": [
    "data = {\n",
    "    \"question\": questions,\n",
    "    \"answer\": answers,\n",
    "    \"reference\": ground_truth,\n",
    "    \"retrieved_contexts\": contexts\n",
    "}"
   ]
  },
  {
   "cell_type": "code",
   "execution_count": null,
   "metadata": {},
   "outputs": [],
   "source": [
    "#!pip install datasets"
   ]
  },
  {
   "cell_type": "code",
   "execution_count": 55,
   "metadata": {},
   "outputs": [],
   "source": [
    "from datasets import Dataset\n",
    "\n",
    "# Convert dict to dataset\n",
    "dataset = Dataset.from_dict(data)"
   ]
  },
  {
   "cell_type": "markdown",
   "metadata": {},
   "source": [
    "### 3. Evaluación de Métricas on RAGAS"
   ]
  },
  {
   "cell_type": "code",
   "execution_count": null,
   "metadata": {},
   "outputs": [],
   "source": [
    "# !pip intall ragas"
   ]
  },
  {
   "cell_type": "code",
   "execution_count": 56,
   "metadata": {},
   "outputs": [],
   "source": [
    "from ragas import evaluate\n",
    "from ragas.metrics import (\n",
    "    faithfulness, # Measures how well the model generates answers that are faithful to the context\n",
    "    answer_relevancy, # Measures how well the model generates answers that are relevant to the question\n",
    "    context_recall, # Context recall measures how well the model retrieves relevant context\n",
    "    context_precision, # Context precision measures how well the model retrieves only relevant context\n",
    ")"
   ]
  },
  {
   "cell_type": "code",
   "execution_count": 57,
   "metadata": {},
   "outputs": [
    {
     "name": "stderr",
     "output_type": "stream",
     "text": [
      "Evaluating:   0%|          | 0/60 [00:00<?, ?it/s]No statements were generated from the answer.\n",
      "Evaluating: 100%|██████████| 60/60 [00:22<00:00,  2.67it/s]\n"
     ]
    },
    {
     "data": {
      "text/html": [
       "<div>\n",
       "<style scoped>\n",
       "    .dataframe tbody tr th:only-of-type {\n",
       "        vertical-align: middle;\n",
       "    }\n",
       "\n",
       "    .dataframe tbody tr th {\n",
       "        vertical-align: top;\n",
       "    }\n",
       "\n",
       "    .dataframe thead th {\n",
       "        text-align: right;\n",
       "    }\n",
       "</style>\n",
       "<table border=\"1\" class=\"dataframe\">\n",
       "  <thead>\n",
       "    <tr style=\"text-align: right;\">\n",
       "      <th></th>\n",
       "      <th>user_input</th>\n",
       "      <th>retrieved_contexts</th>\n",
       "      <th>response</th>\n",
       "      <th>reference</th>\n",
       "      <th>context_recall</th>\n",
       "      <th>faithfulness</th>\n",
       "      <th>answer_relevancy</th>\n",
       "      <th>context_precision</th>\n",
       "    </tr>\n",
       "  </thead>\n",
       "  <tbody>\n",
       "    <tr>\n",
       "      <th>0</th>\n",
       "      <td>Factoid question: What is the purpose of RDC 6...</td>\n",
       "      <td>[RDC 604/2022 - Enriquecimento obrigatório do ...</td>\n",
       "      <td>The purpose of RDC 604/2022 regulation is to m...</td>\n",
       "      <td>Enriquecimento obrigatório do sal com iodo e d...</td>\n",
       "      <td>1.0</td>\n",
       "      <td>0.5</td>\n",
       "      <td>0.591306</td>\n",
       "      <td>1.000000</td>\n",
       "    </tr>\n",
       "    <tr>\n",
       "      <th>1</th>\n",
       "      <td>Factoid question: What is the purpose of RDC 2...</td>\n",
       "      <td>[RDC 24/2010 – Dispõe sobre a oferta, propagan...</td>\n",
       "      <td>The purpose of RDC 24/2010 is to regulate the ...</td>\n",
       "      <td>It regulates the offer, advertising, publicity...</td>\n",
       "      <td>1.0</td>\n",
       "      <td>0.5</td>\n",
       "      <td>0.643730</td>\n",
       "      <td>0.000000</td>\n",
       "    </tr>\n",
       "    <tr>\n",
       "      <th>2</th>\n",
       "      <td>Factoid question: What regulatory item address...</td>\n",
       "      <td>[Tema Regulatório 3.20 da Agenda Regulatória 2...</td>\n",
       "      <td>The regulatory item that addresses the review ...</td>\n",
       "      <td>Tema Regulatório 3.20 da Agenda Regulatória 20...</td>\n",
       "      <td>1.0</td>\n",
       "      <td>NaN</td>\n",
       "      <td>0.773108</td>\n",
       "      <td>0.750000</td>\n",
       "    </tr>\n",
       "    <tr>\n",
       "      <th>3</th>\n",
       "      <td>Factoid question: What is the purpose of RDC 8...</td>\n",
       "      <td>[RDC 839/2023  - Comprovação de segurança e au...</td>\n",
       "      <td>The purpose of RDC 839/2023 is to ensure the s...</td>\n",
       "      <td>Comprovação de segurança e autorização de uso ...</td>\n",
       "      <td>1.0</td>\n",
       "      <td>1.0</td>\n",
       "      <td>0.677022</td>\n",
       "      <td>1.000000</td>\n",
       "    </tr>\n",
       "    <tr>\n",
       "      <th>4</th>\n",
       "      <td>Factoid question: What substances are mandated...</td>\n",
       "      <td>[RDC 604/2022 - Enriquecimento obrigatório do ...</td>\n",
       "      <td>Iodo (iodine) is mandated to be added to salt ...</td>\n",
       "      <td>Iodo</td>\n",
       "      <td>1.0</td>\n",
       "      <td>1.0</td>\n",
       "      <td>0.669123</td>\n",
       "      <td>1.000000</td>\n",
       "    </tr>\n",
       "    <tr>\n",
       "      <th>5</th>\n",
       "      <td>Factoid question: What is the purpose of IN 16...</td>\n",
       "      <td>[Ato relacionado: \\nIN 162/2022 - Ingestão diá...</td>\n",
       "      <td>The purpose of IN 162/2022 is to establish the...</td>\n",
       "      <td>To establish the acceptable daily intake (IDA)...</td>\n",
       "      <td>1.0</td>\n",
       "      <td>1.0</td>\n",
       "      <td>0.591300</td>\n",
       "      <td>1.000000</td>\n",
       "    </tr>\n",
       "    <tr>\n",
       "      <th>6</th>\n",
       "      <td>Factoid question: What is the purpose of Lei 1...</td>\n",
       "      <td>[3.5. Regularização da doação de alimentos com...</td>\n",
       "      <td>The purpose of Lei 14.016/2020 is to combat fo...</td>\n",
       "      <td>To combat food waste and donate surplus food f...</td>\n",
       "      <td>1.0</td>\n",
       "      <td>1.0</td>\n",
       "      <td>0.730867</td>\n",
       "      <td>1.000000</td>\n",
       "    </tr>\n",
       "    <tr>\n",
       "      <th>7</th>\n",
       "      <td>Factoid question: What regulation updates the ...</td>\n",
       "      <td>[Alterada por: \\nRDC 429/2020 - Rotulagem nutr...</td>\n",
       "      <td>The regulation that updates the requirements f...</td>\n",
       "      <td>RDC 429/2020</td>\n",
       "      <td>1.0</td>\n",
       "      <td>1.0</td>\n",
       "      <td>0.793940</td>\n",
       "      <td>1.000000</td>\n",
       "    </tr>\n",
       "    <tr>\n",
       "      <th>8</th>\n",
       "      <td>Factoid question: What law defines the Nationa...</td>\n",
       "      <td>[1. Regularização, avaliação de risco e padrõe...</td>\n",
       "      <td>The law that defines the National System of Sa...</td>\n",
       "      <td>Lei 9.782/1999</td>\n",
       "      <td>1.0</td>\n",
       "      <td>1.0</td>\n",
       "      <td>0.834102</td>\n",
       "      <td>0.833333</td>\n",
       "    </tr>\n",
       "    <tr>\n",
       "      <th>9</th>\n",
       "      <td>Factoid question: What law requires food produ...</td>\n",
       "      <td>[de 2003. \\n \\nLei 10.674/2003  – Obriga a que...</td>\n",
       "      <td>The law that requires food products to inform ...</td>\n",
       "      <td>Lei 10.674/2003</td>\n",
       "      <td>1.0</td>\n",
       "      <td>1.0</td>\n",
       "      <td>0.755992</td>\n",
       "      <td>1.000000</td>\n",
       "    </tr>\n",
       "    <tr>\n",
       "      <th>10</th>\n",
       "      <td>Factoid question: What RDC number is associate...</td>\n",
       "      <td>[RDC 729/2022 - Melhora da técnica legislativa...</td>\n",
       "      <td>The RDC number associated with the improvement...</td>\n",
       "      <td>RDC 729/2022</td>\n",
       "      <td>1.0</td>\n",
       "      <td>1.0</td>\n",
       "      <td>0.897408</td>\n",
       "      <td>1.000000</td>\n",
       "    </tr>\n",
       "    <tr>\n",
       "      <th>11</th>\n",
       "      <td>Factoid question: What is the update date of t...</td>\n",
       "      <td>[BIBLIOTECA DE \\nALIMENTOS \\nAtualizada em 06....</td>\n",
       "      <td>The update date of the food library document i...</td>\n",
       "      <td>06.11.2024</td>\n",
       "      <td>1.0</td>\n",
       "      <td>1.0</td>\n",
       "      <td>0.857189</td>\n",
       "      <td>1.000000</td>\n",
       "    </tr>\n",
       "    <tr>\n",
       "      <th>12</th>\n",
       "      <td>Factoid question: What chapter discusses the i...</td>\n",
       "      <td>[1.4. Irradiação de alimentos ...................</td>\n",
       "      <td>Chapter 1.4 discusses the irradiation of foods.</td>\n",
       "      <td>1.4</td>\n",
       "      <td>1.0</td>\n",
       "      <td>1.0</td>\n",
       "      <td>0.506400</td>\n",
       "      <td>1.000000</td>\n",
       "    </tr>\n",
       "    <tr>\n",
       "      <th>13</th>\n",
       "      <td>Factoid question: What document updates the mi...</td>\n",
       "      <td>[IN 161/2022 - Padrões microbiológicos dos ali...</td>\n",
       "      <td>The document that updates the microbiological ...</td>\n",
       "      <td>IN 161/2022</td>\n",
       "      <td>1.0</td>\n",
       "      <td>0.5</td>\n",
       "      <td>0.853070</td>\n",
       "      <td>0.916667</td>\n",
       "    </tr>\n",
       "    <tr>\n",
       "      <th>14</th>\n",
       "      <td>Factoid question: What is the purpose of IN 21...</td>\n",
       "      <td>[os coadjuvantes de tecnologia autorizados par...</td>\n",
       "      <td>IN 211/2023 defines the technological function...</td>\n",
       "      <td>IN 211/2023 defines the technological function...</td>\n",
       "      <td>1.0</td>\n",
       "      <td>0.0</td>\n",
       "      <td>0.660312</td>\n",
       "      <td>0.833333</td>\n",
       "    </tr>\n",
       "  </tbody>\n",
       "</table>\n",
       "</div>"
      ],
      "text/plain": [
       "                                           user_input  \\\n",
       "0   Factoid question: What is the purpose of RDC 6...   \n",
       "1   Factoid question: What is the purpose of RDC 2...   \n",
       "2   Factoid question: What regulatory item address...   \n",
       "3   Factoid question: What is the purpose of RDC 8...   \n",
       "4   Factoid question: What substances are mandated...   \n",
       "5   Factoid question: What is the purpose of IN 16...   \n",
       "6   Factoid question: What is the purpose of Lei 1...   \n",
       "7   Factoid question: What regulation updates the ...   \n",
       "8   Factoid question: What law defines the Nationa...   \n",
       "9   Factoid question: What law requires food produ...   \n",
       "10  Factoid question: What RDC number is associate...   \n",
       "11  Factoid question: What is the update date of t...   \n",
       "12  Factoid question: What chapter discusses the i...   \n",
       "13  Factoid question: What document updates the mi...   \n",
       "14  Factoid question: What is the purpose of IN 21...   \n",
       "\n",
       "                                   retrieved_contexts  \\\n",
       "0   [RDC 604/2022 - Enriquecimento obrigatório do ...   \n",
       "1   [RDC 24/2010 – Dispõe sobre a oferta, propagan...   \n",
       "2   [Tema Regulatório 3.20 da Agenda Regulatória 2...   \n",
       "3   [RDC 839/2023  - Comprovação de segurança e au...   \n",
       "4   [RDC 604/2022 - Enriquecimento obrigatório do ...   \n",
       "5   [Ato relacionado: \\nIN 162/2022 - Ingestão diá...   \n",
       "6   [3.5. Regularização da doação de alimentos com...   \n",
       "7   [Alterada por: \\nRDC 429/2020 - Rotulagem nutr...   \n",
       "8   [1. Regularização, avaliação de risco e padrõe...   \n",
       "9   [de 2003. \\n \\nLei 10.674/2003  – Obriga a que...   \n",
       "10  [RDC 729/2022 - Melhora da técnica legislativa...   \n",
       "11  [BIBLIOTECA DE \\nALIMENTOS \\nAtualizada em 06....   \n",
       "12  [1.4. Irradiação de alimentos ...................   \n",
       "13  [IN 161/2022 - Padrões microbiológicos dos ali...   \n",
       "14  [os coadjuvantes de tecnologia autorizados par...   \n",
       "\n",
       "                                             response  \\\n",
       "0   The purpose of RDC 604/2022 regulation is to m...   \n",
       "1   The purpose of RDC 24/2010 is to regulate the ...   \n",
       "2   The regulatory item that addresses the review ...   \n",
       "3   The purpose of RDC 839/2023 is to ensure the s...   \n",
       "4   Iodo (iodine) is mandated to be added to salt ...   \n",
       "5   The purpose of IN 162/2022 is to establish the...   \n",
       "6   The purpose of Lei 14.016/2020 is to combat fo...   \n",
       "7   The regulation that updates the requirements f...   \n",
       "8   The law that defines the National System of Sa...   \n",
       "9   The law that requires food products to inform ...   \n",
       "10  The RDC number associated with the improvement...   \n",
       "11  The update date of the food library document i...   \n",
       "12    Chapter 1.4 discusses the irradiation of foods.   \n",
       "13  The document that updates the microbiological ...   \n",
       "14  IN 211/2023 defines the technological function...   \n",
       "\n",
       "                                            reference  context_recall  \\\n",
       "0   Enriquecimento obrigatório do sal com iodo e d...             1.0   \n",
       "1   It regulates the offer, advertising, publicity...             1.0   \n",
       "2   Tema Regulatório 3.20 da Agenda Regulatória 20...             1.0   \n",
       "3   Comprovação de segurança e autorização de uso ...             1.0   \n",
       "4                                                Iodo             1.0   \n",
       "5   To establish the acceptable daily intake (IDA)...             1.0   \n",
       "6   To combat food waste and donate surplus food f...             1.0   \n",
       "7                                        RDC 429/2020             1.0   \n",
       "8                                      Lei 9.782/1999             1.0   \n",
       "9                                     Lei 10.674/2003             1.0   \n",
       "10                                       RDC 729/2022             1.0   \n",
       "11                                         06.11.2024             1.0   \n",
       "12                                                1.4             1.0   \n",
       "13                                        IN 161/2022             1.0   \n",
       "14  IN 211/2023 defines the technological function...             1.0   \n",
       "\n",
       "    faithfulness  answer_relevancy  context_precision  \n",
       "0            0.5          0.591306           1.000000  \n",
       "1            0.5          0.643730           0.000000  \n",
       "2            NaN          0.773108           0.750000  \n",
       "3            1.0          0.677022           1.000000  \n",
       "4            1.0          0.669123           1.000000  \n",
       "5            1.0          0.591300           1.000000  \n",
       "6            1.0          0.730867           1.000000  \n",
       "7            1.0          0.793940           1.000000  \n",
       "8            1.0          0.834102           0.833333  \n",
       "9            1.0          0.755992           1.000000  \n",
       "10           1.0          0.897408           1.000000  \n",
       "11           1.0          0.857189           1.000000  \n",
       "12           1.0          0.506400           1.000000  \n",
       "13           0.5          0.853070           0.916667  \n",
       "14           0.0          0.660312           0.833333  "
      ]
     },
     "execution_count": 57,
     "metadata": {},
     "output_type": "execute_result"
    }
   ],
   "source": [
    "result = evaluate(\n",
    "    dataset = dataset,\n",
    "    llm=llm,\n",
    "    embeddings=embeddings,\n",
    "    metrics=[\n",
    "        context_recall,\n",
    "        faithfulness,\n",
    "        answer_relevancy,\n",
    "        context_precision,\n",
    "    ],)\n",
    "\n",
    "df = result.to_pandas()\n",
    "df"
   ]
  },
  {
   "cell_type": "markdown",
   "metadata": {},
   "source": [
    "Generación de Archivo CSV con resultados"
   ]
  },
  {
   "cell_type": "code",
   "execution_count": 58,
   "metadata": {},
   "outputs": [],
   "source": [
    "df.to_csv(\"baseline_ragas_results.csv\", index=False)"
   ]
  },
  {
   "cell_type": "markdown",
   "metadata": {},
   "source": [
    "Promedio de Métricas"
   ]
  },
  {
   "cell_type": "code",
   "execution_count": 59,
   "metadata": {},
   "outputs": [
    {
     "name": "stdout",
     "output_type": "stream",
     "text": [
      "Mean Faithfulness:  0.8214\n",
      "Mean Answer relevancy:  0.7223\n",
      "Mean Context recall:  1.0\n",
      "Mean Context precision:  0.8889\n"
     ]
    }
   ],
   "source": [
    "# get mean of the metrics column by column\n",
    "print(\"Mean Faithfulness: \", round(df[\"faithfulness\"].mean(), 4))\n",
    "print(\"Mean Answer relevancy: \", round(df[\"answer_relevancy\"].mean(), 4))\n",
    "print(\"Mean Context recall: \", round(df[\"context_recall\"].mean(), 4))\n",
    "print(\"Mean Context precision: \", round(df[\"context_precision\"].mean(), 4))\n"
   ]
  },
  {
   "cell_type": "markdown",
   "metadata": {},
   "source": [
    "### 4. Agregando un paso de 'Rerankeo'"
   ]
  },
  {
   "cell_type": "markdown",
   "metadata": {},
   "source": [
    "Esto permite reordenar los documentos de acuerdo a su relevancia semantica"
   ]
  },
  {
   "cell_type": "code",
   "execution_count": 61,
   "metadata": {},
   "outputs": [],
   "source": [
    "query = \"What is the purpose of the regulation?\"\n",
    "\n",
    "retrieved_docs = retriever.get_relevant_documents(query, kwargs={\"k\": 10})"
   ]
  },
  {
   "cell_type": "code",
   "execution_count": 19,
   "metadata": {},
   "outputs": [
    {
     "data": {
      "text/plain": [
       "[Document(metadata={'source': '../practicos-rag/data/benchmark_data/Reglamento 1333 2008.pdf', 'page': 3, '_id': '009810801d8a4da28d42c752624e9e3e', '_collection_name': 'my_documents'}, page_content='Regulation and to adopt appropriate transitional measures. Since those measures are\\nof general scope and are designed to amend non-essential elements of this Regulation,'),\n",
       " Document(metadata={'source': '../practicos-rag/data/benchmark_data/Reglamento 1333 2008.pdf', 'page': 5, '_id': '8abb64a3aa7f4e768e993b256ed47a3d', '_collection_name': 'my_documents'}, page_content='HAVE ADOPTED THIS REGULATION:\\nCHAPTER I\\nSUBJECT MATTER, SCOPE AND DEFINITIONS\\nArticle 1\\nSubject matter\\nThis Regulation lays down rules on food additives used in foods with a view to ensuring'),\n",
       " Document(metadata={'source': '../practicos-rag/data/benchmark_data/Reglamento 1333 2008.pdf', 'page': 6, '_id': '12467865f29c4033b63bcca25e844817', '_collection_name': 'my_documents'}, page_content='Regulation (EC) No 1333/2008 of the European Parliament and of the Council of...\\nCHAPTER I\\nDocument Generated: 2023-12-07\\n7\\nChanges to legislation: There are outstanding changes not yet made to Regulation (EC) No 1333/2008 of the'),\n",
       " Document(metadata={'source': '../practicos-rag/data/benchmark_data/Reglamento 1333 2008.pdf', 'page': 86, '_id': 'a58d817c68384c56adfcd839ca30c68a', '_collection_name': 'my_documents'}, page_content='Regulation (EC) No 1333/2008 of the European Parliament and of the Council of...\\nDocument Generated: 2023-12-07\\n87\\nChanges to legislation: \\nThere are outstanding changes not yet made to Regulation (EC) No 1333/2008 of the European')]"
      ]
     },
     "execution_count": 19,
     "metadata": {},
     "output_type": "execute_result"
    }
   ],
   "source": [
    "retrieved_docs"
   ]
  },
  {
   "cell_type": "markdown",
   "metadata": {},
   "source": [
    "Mediante Cohere (no utilizado)"
   ]
  },
  {
   "cell_type": "code",
   "execution_count": 99,
   "metadata": {},
   "outputs": [],
   "source": [
    "# import cohere as co\n",
    "# cohere_client = co.Client(os.getenv(\"COHERE_API_KEY\"))\n",
    "# def rerank_docs(query, retrieved_docs):\n",
    "#     reranked_docs = cohere_client.rerank(\n",
    "#         model=\"rerank-english-v3.0\",\n",
    "#         query=query,\n",
    "#         documents=retrieved_docs,\n",
    "#         rank_fields=[\"page_content\"],\n",
    "#         return_documents=True\n",
    "#     )\n",
    "#     return reranked_docs\n"
   ]
  },
  {
   "cell_type": "markdown",
   "metadata": {},
   "source": [
    "Mediante Rerankers"
   ]
  },
  {
   "cell_type": "code",
   "execution_count": null,
   "metadata": {},
   "outputs": [],
   "source": [
    "\n",
    "from rerankers import Reranker\n",
    "\n",
    "def open_source_reranker(query, retrieved_docs):\n",
    "    #reranker = Reranker('cross-encoder', verbose=0,model_type='cross-encoder')\n",
    "    reranker = Reranker(\"colbert\") # colber model used for reranking\n",
    "    retrieved_docs = [doc.page_content for doc in retrieved_docs]\n",
    "    reranked_docs = reranker.rank(query, retrieved_docs)\n",
    "    return reranked_docs\n"
   ]
  },
  {
   "cell_type": "code",
   "execution_count": 100,
   "metadata": {},
   "outputs": [
    {
     "name": "stdout",
     "output_type": "stream",
     "text": [
      "Loading default colbert model for language en\n",
      "Default Model: colbert-ir/colbertv2.0\n",
      "Loading ColBERTRanker model colbert-ir/colbertv2.0 (this message can be suppressed by setting verbose=0)\n",
      "No device set\n",
      "Using device mps\n",
      "No dtype set\n",
      "Using dtype torch.float32\n",
      "Loading model colbert-ir/colbertv2.0, this might take a while...\n",
      "Linear Dim set to: 128 for downcasting\n"
     ]
    }
   ],
   "source": [
    "reranked_docs = open_source_reranker(query, retrieved_docs)"
   ]
  },
  {
   "cell_type": "code",
   "execution_count": 101,
   "metadata": {},
   "outputs": [
    {
     "data": {
      "text/plain": [
       "[Result(document=Document(document_type='text', text='E 170 Calcium carbonate\\nE 260 Acetic acid\\n[F64E 261 Potassium acetates]\\nE 262 Sodium acetates\\nE 263 Calcium acetate\\nE 270 Lactic acid', base64=None, image_path=None, doc_id=2, metadata={}), score=0.8182083368301392, rank=1),\n",
       " Result(document=Document(document_type='text', text='E 968 Erythritol\\n[F60E 969 Advantame]\\n3. Additives other than colours and sweeteners\\nE-number Name\\nE 170 Calcium carbonate\\n[F45E 172 Iron oxides and hydroxides]\\nE 200 Sorbic acid\\nE 202 Potassium sorbate\\nF62\\nE 210 Benzoic acid \\na', base64=None, image_path=None, doc_id=3, metadata={}), score=0.8180067539215088, rank=2),\n",
       " Result(document=Document(document_type='text', text='E 529 Calcium oxide\\nE 530 Magnesium oxide\\n[F70E 534 Iron tartrate]\\nE 535 Sodium ferrocyanide\\nE 536 Potassium ferrocyanide\\nE 538 Calcium ferrocyanide\\nE 541 Sodium aluminium phosphate acidic\\nE 551 Silicon dioxide\\nE 552 Calcium silicate', base64=None, image_path=None, doc_id=1, metadata={}), score=0.6549476385116577, rank=3),\n",
       " Result(document=Document(document_type='text', text='1 000 mg/l from all sources.E number of the food additiveName of the food\\nadditiveMaximum levelNutrient to which the food additive may be addedCan be\\nused as a carrier?E 170Calcium carbonatequantum satisAll nutrientsYesE 260Acetic', base64=None, image_path=None, doc_id=0, metadata={}), score=0.6536102294921875, rank=4)]"
      ]
     },
     "execution_count": 101,
     "metadata": {},
     "output_type": "execute_result"
    }
   ],
   "source": [
    "reranked_docs.results"
   ]
  },
  {
   "cell_type": "code",
   "execution_count": 102,
   "metadata": {},
   "outputs": [
    {
     "name": "stdout",
     "output_type": "stream",
     "text": [
      "Loading default colbert model for language en\n",
      "Default Model: colbert-ir/colbertv2.0\n",
      "Loading ColBERTRanker model colbert-ir/colbertv2.0 (this message can be suppressed by setting verbose=0)\n",
      "No device set\n",
      "Using device mps\n",
      "No dtype set\n",
      "Using dtype torch.float32\n",
      "Loading model colbert-ir/colbertv2.0, this might take a while...\n",
      "Linear Dim set to: 128 for downcasting\n",
      "Loading default colbert model for language en\n",
      "Default Model: colbert-ir/colbertv2.0\n",
      "Loading ColBERTRanker model colbert-ir/colbertv2.0 (this message can be suppressed by setting verbose=0)\n",
      "No device set\n",
      "Using device mps\n",
      "No dtype set\n",
      "Using dtype torch.float32\n",
      "Loading model colbert-ir/colbertv2.0, this might take a while...\n",
      "Linear Dim set to: 128 for downcasting\n",
      "Loading default colbert model for language en\n",
      "Default Model: colbert-ir/colbertv2.0\n",
      "Loading ColBERTRanker model colbert-ir/colbertv2.0 (this message can be suppressed by setting verbose=0)\n",
      "No device set\n",
      "Using device mps\n",
      "No dtype set\n",
      "Using dtype torch.float32\n",
      "Loading model colbert-ir/colbertv2.0, this might take a while...\n",
      "Linear Dim set to: 128 for downcasting\n",
      "Loading default colbert model for language en\n",
      "Default Model: colbert-ir/colbertv2.0\n",
      "Loading ColBERTRanker model colbert-ir/colbertv2.0 (this message can be suppressed by setting verbose=0)\n",
      "No device set\n",
      "Using device mps\n",
      "No dtype set\n",
      "Using dtype torch.float32\n",
      "Loading model colbert-ir/colbertv2.0, this might take a while...\n",
      "Linear Dim set to: 128 for downcasting\n",
      "Loading default colbert model for language en\n",
      "Default Model: colbert-ir/colbertv2.0\n",
      "Loading ColBERTRanker model colbert-ir/colbertv2.0 (this message can be suppressed by setting verbose=0)\n",
      "No device set\n",
      "Using device mps\n",
      "No dtype set\n",
      "Using dtype torch.float32\n",
      "Loading model colbert-ir/colbertv2.0, this might take a while...\n",
      "Linear Dim set to: 128 for downcasting\n",
      "Loading default colbert model for language en\n",
      "Default Model: colbert-ir/colbertv2.0\n",
      "Loading ColBERTRanker model colbert-ir/colbertv2.0 (this message can be suppressed by setting verbose=0)\n",
      "No device set\n",
      "Using device mps\n",
      "No dtype set\n",
      "Using dtype torch.float32\n",
      "Loading model colbert-ir/colbertv2.0, this might take a while...\n",
      "Linear Dim set to: 128 for downcasting\n",
      "Loading default colbert model for language en\n",
      "Default Model: colbert-ir/colbertv2.0\n",
      "Loading ColBERTRanker model colbert-ir/colbertv2.0 (this message can be suppressed by setting verbose=0)\n",
      "No device set\n",
      "Using device mps\n",
      "No dtype set\n",
      "Using dtype torch.float32\n",
      "Loading model colbert-ir/colbertv2.0, this might take a while...\n",
      "Linear Dim set to: 128 for downcasting\n",
      "Loading default colbert model for language en\n",
      "Default Model: colbert-ir/colbertv2.0\n",
      "Loading ColBERTRanker model colbert-ir/colbertv2.0 (this message can be suppressed by setting verbose=0)\n",
      "No device set\n",
      "Using device mps\n",
      "No dtype set\n",
      "Using dtype torch.float32\n",
      "Loading model colbert-ir/colbertv2.0, this might take a while...\n",
      "Linear Dim set to: 128 for downcasting\n",
      "Loading default colbert model for language en\n",
      "Default Model: colbert-ir/colbertv2.0\n",
      "Loading ColBERTRanker model colbert-ir/colbertv2.0 (this message can be suppressed by setting verbose=0)\n",
      "No device set\n",
      "Using device mps\n",
      "No dtype set\n",
      "Using dtype torch.float32\n",
      "Loading model colbert-ir/colbertv2.0, this might take a while...\n",
      "Linear Dim set to: 128 for downcasting\n",
      "Loading default colbert model for language en\n",
      "Default Model: colbert-ir/colbertv2.0\n",
      "Loading ColBERTRanker model colbert-ir/colbertv2.0 (this message can be suppressed by setting verbose=0)\n",
      "No device set\n",
      "Using device mps\n",
      "No dtype set\n",
      "Using dtype torch.float32\n",
      "Loading model colbert-ir/colbertv2.0, this might take a while...\n",
      "Linear Dim set to: 128 for downcasting\n",
      "Loading default colbert model for language en\n",
      "Default Model: colbert-ir/colbertv2.0\n",
      "Loading ColBERTRanker model colbert-ir/colbertv2.0 (this message can be suppressed by setting verbose=0)\n",
      "No device set\n",
      "Using device mps\n",
      "No dtype set\n",
      "Using dtype torch.float32\n",
      "Loading model colbert-ir/colbertv2.0, this might take a while...\n",
      "Linear Dim set to: 128 for downcasting\n",
      "Loading default colbert model for language en\n",
      "Default Model: colbert-ir/colbertv2.0\n",
      "Loading ColBERTRanker model colbert-ir/colbertv2.0 (this message can be suppressed by setting verbose=0)\n",
      "No device set\n",
      "Using device mps\n",
      "No dtype set\n",
      "Using dtype torch.float32\n",
      "Loading model colbert-ir/colbertv2.0, this might take a while...\n",
      "Linear Dim set to: 128 for downcasting\n",
      "Loading default colbert model for language en\n",
      "Default Model: colbert-ir/colbertv2.0\n",
      "Loading ColBERTRanker model colbert-ir/colbertv2.0 (this message can be suppressed by setting verbose=0)\n",
      "No device set\n",
      "Using device mps\n",
      "No dtype set\n",
      "Using dtype torch.float32\n",
      "Loading model colbert-ir/colbertv2.0, this might take a while...\n",
      "Linear Dim set to: 128 for downcasting\n",
      "Loading default colbert model for language en\n",
      "Default Model: colbert-ir/colbertv2.0\n",
      "Loading ColBERTRanker model colbert-ir/colbertv2.0 (this message can be suppressed by setting verbose=0)\n",
      "No device set\n",
      "Using device mps\n",
      "No dtype set\n",
      "Using dtype torch.float32\n",
      "Loading model colbert-ir/colbertv2.0, this might take a while...\n",
      "Linear Dim set to: 128 for downcasting\n",
      "Loading default colbert model for language en\n",
      "Default Model: colbert-ir/colbertv2.0\n",
      "Loading ColBERTRanker model colbert-ir/colbertv2.0 (this message can be suppressed by setting verbose=0)\n",
      "No device set\n",
      "Using device mps\n",
      "No dtype set\n",
      "Using dtype torch.float32\n",
      "Loading model colbert-ir/colbertv2.0, this might take a while...\n",
      "Linear Dim set to: 128 for downcasting\n"
     ]
    }
   ],
   "source": [
    "contexts = []\n",
    "answers = []\n",
    "# Inference\n",
    "for query in questions:\n",
    "    answers.append(rag_chain.invoke(query))\n",
    "    retrieved_docs = retriever.get_relevant_documents(query)\n",
    "    reranked_docs = open_source_reranker(query, retrieved_docs)\n",
    "    if reranked_docs.results:  # Check if there are any results\n",
    "        contexts.append([reranked_docs.results[0].document.text])\n",
    "\n",
    "data = {\n",
    "    \"question\": questions,\n",
    "    \"answer\": answers,\n",
    "    \"reference\": ground_truth,\n",
    "    \"retrieved_contexts\": contexts\n",
    "}"
   ]
  },
  {
   "cell_type": "code",
   "execution_count": 103,
   "metadata": {},
   "outputs": [
    {
     "data": {
      "application/vnd.jupyter.widget-view+json": {
       "model_id": "3249058d25aa4d3d844c9e2f9bc22739",
       "version_major": 2,
       "version_minor": 0
      },
      "text/plain": [
       "Evaluating:   0%|          | 0/60 [00:00<?, ?it/s]"
      ]
     },
     "metadata": {},
     "output_type": "display_data"
    }
   ],
   "source": [
    "reranked_dataset = Dataset.from_dict(data)\n",
    "result = evaluate(\n",
    "    dataset = reranked_dataset,\n",
    "    llm=llm,\n",
    "    embeddings=embeddings,\n",
    "    metrics=[\n",
    "        context_recall,\n",
    "        faithfulness,\n",
    "        answer_relevancy,\n",
    "        context_precision,\n",
    "    ],)\n",
    "reranked_df = result.to_pandas()\n",
    "reranked_df.to_csv(\"reranked_ragas_results.csv\", index=False)\n"
   ]
  },
  {
   "cell_type": "code",
   "execution_count": 104,
   "metadata": {},
   "outputs": [
    {
     "name": "stdout",
     "output_type": "stream",
     "text": [
      "Mean Faithfulness:  0.75\n",
      "Mean Answer relevancy:  0.8118\n",
      "Mean Context recall:  0.9333\n",
      "Mean Context precision:  1.0\n"
     ]
    }
   ],
   "source": [
    "# get mean of the metrics column by column\n",
    "print(\"Mean Faithfulness: \", round(reranked_df[\"faithfulness\"].mean(), 4))\n",
    "print(\"Mean Answer relevancy: \", round(reranked_df[\"answer_relevancy\"].mean(), 4))\n",
    "print(\"Mean Context recall: \", round(reranked_df[\"context_recall\"].mean(), 4))\n",
    "print(\"Mean Context precision: \", round(reranked_df[\"context_precision\"].mean(), 4))"
   ]
  },
  {
   "cell_type": "code",
   "execution_count": null,
   "metadata": {},
   "outputs": [],
   "source": []
  }
 ],
 "metadata": {
  "kernelspec": {
   "display_name": "Python 3",
   "language": "python",
   "name": "python3"
  },
  "language_info": {
   "codemirror_mode": {
    "name": "ipython",
    "version": 3
   },
   "file_extension": ".py",
   "mimetype": "text/x-python",
   "name": "python",
   "nbconvert_exporter": "python",
   "pygments_lexer": "ipython3",
   "version": "3.12.3"
  }
 },
 "nbformat": 4,
 "nbformat_minor": 2
}
